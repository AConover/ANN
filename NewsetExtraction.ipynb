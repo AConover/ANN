{
 "cells": [
  {
   "cell_type": "markdown",
   "metadata": {},
   "source": [
    "# Setup"
   ]
  },
  {
   "cell_type": "code",
   "execution_count": 23,
   "metadata": {},
   "outputs": [],
   "source": [
    "import numpy as np\n",
    "import pandas as pd\n",
    "import scipy.optimize as optimization\n",
    "import matplotlib.pyplot as plt"
   ]
  },
  {
   "cell_type": "code",
   "execution_count": 5,
   "metadata": {},
   "outputs": [
    {
     "name": "stdout",
     "output_type": "stream",
     "text": [
      "Welcome to JupyROOT 6.22/00\n"
     ]
    }
   ],
   "source": [
    "from ROOT import gROOT\n",
    "\n",
    "gROOT.LoadMacro('F.C')\n",
    "from ROOT import F\n",
    "f = F()"
   ]
  },
  {
   "cell_type": "markdown",
   "metadata": {},
   "source": [
    "### Utility functions"
   ]
  },
  {
   "cell_type": "code",
   "execution_count": 56,
   "metadata": {},
   "outputs": [],
   "source": [
    "def TotalUUXS_curve_fit(fixed, ReH, ReE, ReHtilde):\n",
    "    phi, k, QQ, xB, t, F1, F2, dvcs = tuple(map(list, fixed))\n",
    "    fs = np.zeros(len(phi))\n",
    "    for i in range(len(fs)):\n",
    "        fs[i] = f.TotalUUXS(phi[i], k[i], QQ[i], xB[i], t[i], F1[i], F2[i], ReH, ReE, ReHtilde, dvcs[i])\n",
    "    return fs"
   ]
  },
  {
   "cell_type": "code",
   "execution_count": 7,
   "metadata": {},
   "outputs": [],
   "source": [
    "def red_chi2(y, yhat, sigma, ndf):\n",
    "    \"\"\"\n",
    "    y is the observed values, yhat is the estimated values, sigma is errf, and ndf is the number of\n",
    "    observations minus the number of free parameters.  All should be 1d-arrays except ndf, which is scalar.\n",
    "    \"\"\"\n",
    "    assert len(y) == len(yhat) == len(sigma)\n",
    "    return np.sum(np.square(y-yhat)/np.square(sigma))/ndf"
   ]
  },
  {
   "cell_type": "markdown",
   "metadata": {},
   "source": [
    "# Fit all sets"
   ]
  },
  {
   "cell_type": "code",
   "execution_count": 8,
   "metadata": {},
   "outputs": [],
   "source": [
    "df = pd.read_csv(\"dvcs_xs_newsets.csv\")"
   ]
  },
  {
   "cell_type": "code",
   "execution_count": 70,
   "metadata": {},
   "outputs": [],
   "source": [
    "i=3"
   ]
  },
  {
   "cell_type": "code",
   "execution_count": 71,
   "metadata": {},
   "outputs": [
    {
     "name": "stdout",
     "output_type": "stream",
     "text": [
      "1.1037156685901617\n"
     ]
    },
    {
     "data": {
      "text/html": [
       "<div>\n",
       "<style scoped>\n",
       "    .dataframe tbody tr th:only-of-type {\n",
       "        vertical-align: middle;\n",
       "    }\n",
       "\n",
       "    .dataframe tbody tr th {\n",
       "        vertical-align: top;\n",
       "    }\n",
       "\n",
       "    .dataframe thead th {\n",
       "        text-align: right;\n",
       "    }\n",
       "</style>\n",
       "<table border=\"1\" class=\"dataframe\">\n",
       "  <thead>\n",
       "    <tr style=\"text-align: right;\">\n",
       "      <th></th>\n",
       "      <th>Fitted</th>\n",
       "      <th>EstError</th>\n",
       "    </tr>\n",
       "  </thead>\n",
       "  <tbody>\n",
       "    <tr>\n",
       "      <th>ReH</th>\n",
       "      <td>8.982135</td>\n",
       "      <td>2.945940</td>\n",
       "    </tr>\n",
       "    <tr>\n",
       "      <th>ReE</th>\n",
       "      <td>-54.485782</td>\n",
       "      <td>14.852145</td>\n",
       "    </tr>\n",
       "    <tr>\n",
       "      <th>ReHTilde</th>\n",
       "      <td>4.516039</td>\n",
       "      <td>1.118831</td>\n",
       "    </tr>\n",
       "  </tbody>\n",
       "</table>\n",
       "</div>"
      ],
      "text/plain": [
       "             Fitted   EstError\n",
       "ReH        8.982135   2.945940\n",
       "ReE      -54.485782  14.852145\n",
       "ReHTilde   4.516039   1.118831"
      ]
     },
     "execution_count": 71,
     "metadata": {},
     "output_type": "execute_result"
    }
   ],
   "source": [
    "X = (df.loc[i*36:(i+1)*36-1, 'phi_x'], df.loc[i*36:(i+1)*36-1, 'k'], df.loc[i*36:(i+1)*36-1, 'QQ'], df.loc[i*36:(i+1)*36-1, 'x_b'], df.loc[i*36:(i+1)*36-1, 't'],\n",
    "         df.loc[i*36:(i+1)*36-1, 'F1'], df.loc[i*36:(i+1)*36-1, 'F2'], df.loc[i*36:(i+1)*36-1, 'dvcs'])\n",
    "\n",
    "y = df.loc[i*36:(i+1)*36-1, 'F']\n",
    "sigma = df.loc[i*36:(i+1)*36-1, 'errF']\n",
    "pars0 = np.array([1, 1, 1]) # initial guesses for cffs\n",
    "\n",
    "cff, cffcov = optimization.curve_fit(TotalUUXS_curve_fit, X, y, pars0, sigma, method='lm')\n",
    "perr = np.sqrt(np.diag(cffcov))\n",
    "\n",
    "print(red_chi2(df.loc[i*36:(i+1)*36-1, 'F'], TotalUUXS_curve_fit(X, *cff), df.loc[i*36:(i+1)*36-1, 'errF'], 33))\n",
    "\n",
    "pd.DataFrame({'Fitted': cff,\n",
    "              'EstError': perr},\n",
    "             ['ReH', 'ReE', 'ReHTilde'])"
   ]
  },
  {
   "cell_type": "code",
   "execution_count": 73,
   "metadata": {
    "scrolled": false
   },
   "outputs": [
    {
     "name": "stdout",
     "output_type": "stream",
     "text": [
      "0\n",
      "Reduced Chi2: 1.0045288482467714\n",
      "\n",
      "\n",
      "             Fitted     Error\n",
      "ReH       13.878755  1.116576\n",
      "ReE      -57.383343  5.740966\n",
      "ReHTilde   6.799729  0.630739\n",
      "\n",
      "\n",
      "1\n",
      "Reduced Chi2: 0.9544931466340011\n",
      "\n",
      "\n",
      "             Fitted      Error\n",
      "ReH       11.719817   2.559194\n",
      "ReE      -47.746209  13.450243\n",
      "ReHTilde   7.488039   1.250604\n",
      "\n",
      "\n",
      "2\n",
      "Reduced Chi2: 0.5965021594421849\n",
      "\n",
      "\n",
      "             Fitted      Error\n",
      "ReH        6.540862   2.028538\n",
      "ReE      -43.195876  11.627438\n",
      "ReHTilde   4.484700   0.742568\n",
      "\n",
      "\n",
      "3\n",
      "Reduced Chi2: 1.1037156685901617\n",
      "\n",
      "\n",
      "             Fitted      Error\n",
      "ReH        8.982135   2.945940\n",
      "ReE      -54.485782  14.852145\n",
      "ReHTilde   4.516039   1.118831\n",
      "\n",
      "\n",
      "4\n",
      "Reduced Chi2: 0.9493673159237621\n",
      "\n",
      "\n",
      "             Fitted     Error\n",
      "ReH       11.693827  1.211438\n",
      "ReE      -47.947156  6.219190\n",
      "ReHTilde   7.354355  0.676689\n",
      "\n",
      "\n",
      "5\n",
      "Reduced Chi2: 0.5963363615296935\n",
      "\n",
      "\n",
      "             Fitted     Error\n",
      "ReH        6.719193  1.419693\n",
      "ReE      -44.275317  8.062980\n",
      "ReHTilde   4.268059  0.486565\n",
      "\n",
      "\n",
      "6\n",
      "Reduced Chi2: 0.973718880917646\n",
      "\n",
      "\n",
      "             Fitted      Error\n",
      "ReH       10.171167   3.233800\n",
      "ReE      -42.854521  18.385221\n",
      "ReHTilde   6.951665   1.550622\n",
      "\n",
      "\n",
      "7\n",
      "Reduced Chi2: 1.1026875419767896\n",
      "\n",
      "\n",
      "             Fitted      Error\n",
      "ReH        8.872783   2.489644\n",
      "ReE      -53.917385  12.542550\n",
      "ReHTilde   4.881407   1.702062\n",
      "\n",
      "\n",
      "8\n",
      "Reduced Chi2: 0.9412498487079116\n",
      "\n",
      "\n",
      "             Fitted     Error\n",
      "ReH       11.758800  0.742077\n",
      "ReE      -48.342613  3.826029\n",
      "ReHTilde   7.245830  0.775337\n",
      "\n",
      "\n",
      "9\n",
      "Reduced Chi2: 0.725716215754969\n",
      "\n",
      "\n",
      "             Fitted     Error\n",
      "ReH        8.099759  0.978644\n",
      "ReE      -53.588436  6.026498\n",
      "ReHTilde   3.157422  0.439592\n",
      "\n",
      "\n",
      "10\n",
      "Reduced Chi2: 0.5965464452073852\n",
      "\n",
      "\n",
      "             Fitted     Error\n",
      "ReH        6.787341  1.257024\n",
      "ReE      -44.670218  7.136178\n",
      "ReHTilde   4.209940  0.620303\n",
      "\n",
      "\n",
      "11\n",
      "Reduced Chi2: 0.9722325431920952\n",
      "\n",
      "\n",
      "             Fitted      Error\n",
      "ReH       10.609554   2.095339\n",
      "ReE      -45.477080  11.700650\n",
      "ReHTilde   6.527541   0.947834\n",
      "\n",
      "\n",
      "12\n",
      "Reduced Chi2: 0.7265921531870805\n",
      "\n",
      "\n",
      "             Fitted     Error\n",
      "ReH        8.016455  0.949557\n",
      "ReE      -53.110773  5.858383\n",
      "ReHTilde   3.215409  0.514110\n",
      "\n",
      "\n",
      "13\n",
      "Reduced Chi2: 0.5968214117522225\n",
      "\n",
      "\n",
      "             Fitted     Error\n",
      "ReH        6.809949  1.247311\n",
      "ReE      -44.792840  7.090771\n",
      "ReHTilde   4.211061  0.777981\n",
      "\n",
      "\n",
      "14\n",
      "Reduced Chi2: 0.9704514211699409\n",
      "\n",
      "\n",
      "             Fitted     Error\n",
      "ReH       10.773485  1.637597\n",
      "ReE      -46.415510  9.126394\n",
      "ReHTilde   6.309638  0.950473\n",
      "\n",
      "\n"
     ]
    }
   ],
   "source": [
    "cffs = []\n",
    "errs = []\n",
    "\n",
    "for i in range(df[\"#Set\"].max()+1):   # loop through all sets of kinematics\n",
    "    X = (df.loc[i*36:(i+1)*36-1, 'phi_x'], df.loc[i*36:(i+1)*36-1, 'k'], df.loc[i*36:(i+1)*36-1, 'QQ'],\n",
    "         df.loc[i*36:(i+1)*36-1, 'x_b'], df.loc[i*36:(i+1)*36-1, 't'], df.loc[i*36:(i+1)*36-1, 'F1'],\n",
    "         df.loc[i*36:(i+1)*36-1, 'F2'], df.loc[i*36:(i+1)*36-1, 'dvcs'])\n",
    "\n",
    "    y = df.loc[i*36:(i+1)*36-1, 'F']\n",
    "    sigma = df.loc[i*36:(i+1)*36-1, 'errF']\n",
    "    pars0 = np.array([1, 1, 1]) # initial guesses for cffs\n",
    "\n",
    "    cff, cffcov = optimization.curve_fit(TotalUUXS_curve_fit, X, y, pars0, sigma, method='lm')\n",
    "\n",
    "    perr = np.sqrt(np.diag(cffcov))\n",
    "    \n",
    "    cffs.append(tuple(cff))\n",
    "    errs.append(tuple(perr))\n",
    "    \n",
    "    print(i)\n",
    "    print(\"Reduced Chi2: \" + str(red_chi2(df.loc[i*36:(i+1)*36-1, 'F'], TotalUUXS_curve_fit(X, *cff), df.loc[i*36:(i+1)*36-1, 'errF'], 33)))\n",
    "    print(\"\\n\")\n",
    "    print(pd.DataFrame({'Fitted': cff,\n",
    "                  'Error': perr},\n",
    "                 ['ReH', 'ReE', 'ReHTilde']))\n",
    "    print(\"\\n\")"
   ]
  },
  {
   "cell_type": "markdown",
   "metadata": {},
   "source": [
    "# Analysis"
   ]
  },
  {
   "cell_type": "code",
   "execution_count": 74,
   "metadata": {},
   "outputs": [],
   "source": [
    "compare = pd.read_csv(\"dvcs_xs_newsets_genCFFs.csv\")"
   ]
  },
  {
   "cell_type": "markdown",
   "metadata": {},
   "source": [
    "### Pct Error"
   ]
  },
  {
   "cell_type": "code",
   "execution_count": 84,
   "metadata": {},
   "outputs": [
    {
     "data": {
      "text/html": [
       "<div>\n",
       "<style scoped>\n",
       "    .dataframe tbody tr th:only-of-type {\n",
       "        vertical-align: middle;\n",
       "    }\n",
       "\n",
       "    .dataframe tbody tr th {\n",
       "        vertical-align: top;\n",
       "    }\n",
       "\n",
       "    .dataframe thead th {\n",
       "        text-align: right;\n",
       "    }\n",
       "</style>\n",
       "<table border=\"1\" class=\"dataframe\">\n",
       "  <thead>\n",
       "    <tr style=\"text-align: right;\">\n",
       "      <th></th>\n",
       "      <th>ReH</th>\n",
       "      <th>ReE</th>\n",
       "      <th>ReHtilde</th>\n",
       "    </tr>\n",
       "  </thead>\n",
       "  <tbody>\n",
       "    <tr>\n",
       "      <th>0</th>\n",
       "      <td>-5.932485</td>\n",
       "      <td>-7.542159</td>\n",
       "      <td>6.666313</td>\n",
       "    </tr>\n",
       "    <tr>\n",
       "      <th>1</th>\n",
       "      <td>7.125392</td>\n",
       "      <td>10.071356</td>\n",
       "      <td>-6.852250</td>\n",
       "    </tr>\n",
       "    <tr>\n",
       "      <th>2</th>\n",
       "      <td>10.447821</td>\n",
       "      <td>9.325715</td>\n",
       "      <td>-10.507504</td>\n",
       "    </tr>\n",
       "    <tr>\n",
       "      <th>3</th>\n",
       "      <td>-14.800656</td>\n",
       "      <td>-12.541037</td>\n",
       "      <td>-5.857552</td>\n",
       "    </tr>\n",
       "    <tr>\n",
       "      <th>4</th>\n",
       "      <td>7.363486</td>\n",
       "      <td>9.610047</td>\n",
       "      <td>-5.159053</td>\n",
       "    </tr>\n",
       "    <tr>\n",
       "      <th>5</th>\n",
       "      <td>7.516481</td>\n",
       "      <td>6.660332</td>\n",
       "      <td>-5.964990</td>\n",
       "    </tr>\n",
       "    <tr>\n",
       "      <th>6</th>\n",
       "      <td>15.435134</td>\n",
       "      <td>20.736618</td>\n",
       "      <td>-6.168808</td>\n",
       "    </tr>\n",
       "    <tr>\n",
       "      <th>7</th>\n",
       "      <td>-13.750627</td>\n",
       "      <td>-11.619044</td>\n",
       "      <td>-12.904011</td>\n",
       "    </tr>\n",
       "    <tr>\n",
       "      <th>8</th>\n",
       "      <td>6.770247</td>\n",
       "      <td>8.713403</td>\n",
       "      <td>-3.738564</td>\n",
       "    </tr>\n",
       "    <tr>\n",
       "      <th>9</th>\n",
       "      <td>-13.699405</td>\n",
       "      <td>-12.312984</td>\n",
       "      <td>22.993045</td>\n",
       "    </tr>\n",
       "    <tr>\n",
       "      <th>10</th>\n",
       "      <td>6.436966</td>\n",
       "      <td>5.717416</td>\n",
       "      <td>-4.666822</td>\n",
       "    </tr>\n",
       "    <tr>\n",
       "      <th>11</th>\n",
       "      <td>10.665347</td>\n",
       "      <td>13.774016</td>\n",
       "      <td>-0.072172</td>\n",
       "    </tr>\n",
       "    <tr>\n",
       "      <th>12</th>\n",
       "      <td>-12.802604</td>\n",
       "      <td>-11.524353</td>\n",
       "      <td>20.774998</td>\n",
       "    </tr>\n",
       "    <tr>\n",
       "      <th>13</th>\n",
       "      <td>6.083615</td>\n",
       "      <td>5.428010</td>\n",
       "      <td>-4.692181</td>\n",
       "    </tr>\n",
       "    <tr>\n",
       "      <th>14</th>\n",
       "      <td>8.981447</td>\n",
       "      <td>11.473730</td>\n",
       "      <td>3.378824</td>\n",
       "    </tr>\n",
       "  </tbody>\n",
       "</table>\n",
       "</div>"
      ],
      "text/plain": [
       "          ReH        ReE   ReHtilde\n",
       "0   -5.932485  -7.542159   6.666313\n",
       "1    7.125392  10.071356  -6.852250\n",
       "2   10.447821   9.325715 -10.507504\n",
       "3  -14.800656 -12.541037  -5.857552\n",
       "4    7.363486   9.610047  -5.159053\n",
       "5    7.516481   6.660332  -5.964990\n",
       "6   15.435134  20.736618  -6.168808\n",
       "7  -13.750627 -11.619044 -12.904011\n",
       "8    6.770247   8.713403  -3.738564\n",
       "9  -13.699405 -12.312984  22.993045\n",
       "10   6.436966   5.717416  -4.666822\n",
       "11  10.665347  13.774016  -0.072172\n",
       "12 -12.802604 -11.524353  20.774998\n",
       "13   6.083615   5.428010  -4.692181\n",
       "14   8.981447  11.473730   3.378824"
      ]
     },
     "execution_count": 84,
     "metadata": {},
     "output_type": "execute_result"
    }
   ],
   "source": [
    "def pcterr(obs, exp):\n",
    "    return 100*(obs-exp)/exp\n",
    "\n",
    "pcterrs = pd.DataFrame({\n",
    "  \"ReH\": np.zeros(15),\n",
    "  \"ReE\": np.zeros(15),\n",
    "  \"ReHtilde\": np.zeros(15)\n",
    "})\n",
    "\n",
    "for i in range(compare[\"#Set\"].max()+1):\n",
    "    pcterrs.loc[i, \"ReH\"] = pcterr(compare.loc[i*36, \"ReH\"], cffs[i][0])\n",
    "    pcterrs.loc[i, \"ReE\"] = pcterr(compare.loc[i*36, \"ReE\"], cffs[i][1])\n",
    "    pcterrs.loc[i, \"ReHtilde\"] = pcterr(compare.loc[i*36, \"ReHtilde\"], cffs[i][2])\n",
    "\n",
    "pcterrs"
   ]
  },
  {
   "cell_type": "markdown",
   "metadata": {},
   "source": [
    "### Mean Pct Errors"
   ]
  },
  {
   "cell_type": "code",
   "execution_count": 86,
   "metadata": {},
   "outputs": [
    {
     "name": "stdout",
     "output_type": "stream",
     "text": [
      "ReH: 9.854114201245272\n",
      "ReE: 10.470014645277974\n",
      "ReHtilde: 8.026472507756187\n"
     ]
    }
   ],
   "source": [
    "print(\"ReH: \" + str(np.mean(np.abs(pcterrs[\"ReH\"]))))\n",
    "print(\"ReE: \" + str(np.mean(np.abs(pcterrs[\"ReE\"]))))\n",
    "print(\"ReHtilde: \" + str(np.mean(np.abs(pcterrs[\"ReHtilde\"]))))"
   ]
  },
  {
   "cell_type": "markdown",
   "metadata": {},
   "source": [
    "## Graphs"
   ]
  },
  {
   "cell_type": "code",
   "execution_count": 106,
   "metadata": {},
   "outputs": [
    {
     "data": {
      "text/plain": [
       "array([  0,  36,  72, 108, 144, 180, 216, 252, 288, 324, 360, 396, 432,\n",
       "       468, 504])"
      ]
     },
     "execution_count": 106,
     "metadata": {},
     "output_type": "execute_result"
    }
   ],
   "source": [
    "np.array((range(len(ReHs))))*36"
   ]
  },
  {
   "cell_type": "code",
   "execution_count": 115,
   "metadata": {},
   "outputs": [
    {
     "data": {
      "image/png": "[encoded data removed]",
      "text/plain": [
       "<Figure size 432x288 with 1 Axes>"
      ]
     },
     "metadata": {
      "needs_background": "light"
     },
     "output_type": "display_data"
    }
   ],
   "source": [
    "ReHs = list(map(lambda x: x[0], cffs))\n",
    "ReHerrs = list(map(lambda x: x[0], errs))\n",
    "\n",
    "fig, ax = plt.subplots()\n",
    "ax.errorbar(list(range(len(ReHs))), ReHs, fmt='bo', yerr=ReHerrs, label=\"Estimated ReH\")\n",
    "ax.plot(list(range(len(ReHs))), compare.loc[np.array((range(len(ReHs))))*36, 'ReH'], 'ro', label=\"Actual ReH\")\n",
    "ax.set_xlabel(\"Set#\")\n",
    "ax.set_ylabel(\"ReH\")\n",
    "ax.set_title(\"ReH\")\n",
    "ax.legend()\n",
    "\n",
    "plt.show()"
   ]
  },
  {
   "cell_type": "code",
   "execution_count": 116,
   "metadata": {},
   "outputs": [
    {
     "data": {
      "image/png": "[encoded data removed]",
      "text/plain": [
       "<Figure size 432x288 with 1 Axes>"
      ]
     },
     "metadata": {
      "needs_background": "light"
     },
     "output_type": "display_data"
    }
   ],
   "source": [
    "ReEs = list(map(lambda x: x[1], cffs))\n",
    "ReEerrs = list(map(lambda x: x[1], errs))\n",
    "\n",
    "fig, ax = plt.subplots()\n",
    "ax.errorbar(list(range(len(ReEs))), ReEs, fmt='bo', yerr=ReEerrs, label=\"Estimated ReE\")\n",
    "ax.plot(list(range(len(ReEs))), compare.loc[np.array((range(len(ReEs))))*36, 'ReE'], 'ro', label=\"Actual ReE\")\n",
    "ax.set_xlabel(\"Set#\")\n",
    "ax.set_ylabel(\"ReE\")\n",
    "ax.set_title(\"ReE\")\n",
    "ax.legend()\n",
    "\n",
    "plt.show()"
   ]
  },
  {
   "cell_type": "code",
   "execution_count": 117,
   "metadata": {},
   "outputs": [
    {
     "data": {
      "image/png": "[encoded data removed]",
      "text/plain": [
       "<Figure size 432x288 with 1 Axes>"
      ]
     },
     "metadata": {
      "needs_background": "light"
     },
     "output_type": "display_data"
    }
   ],
   "source": [
    "ReHtildes = list(map(lambda x: x[2], cffs))\n",
    "ReHtildeerrs = list(map(lambda x: x[2], errs))\n",
    "\n",
    "fig, ax = plt.subplots()\n",
    "ax.errorbar(list(range(len(ReHtildes))), ReHtildes, fmt='bo', yerr=ReHtildeerrs, label=\"Estimated ReHtilde\")\n",
    "ax.plot(list(range(len(ReHtildes))), compare.loc[np.array((range(len(ReHtildes))))*36, 'ReHtilde'], 'ro', label=\"Actual ReHtilde\")\n",
    "ax.set_xlabel(\"Set#\")\n",
    "ax.set_ylabel(\"ReHtilde\")\n",
    "ax.set_title(\"ReHtilde\")\n",
    "ax.legend()\n",
    "\n",
    "plt.show()"
   ]
  }
 ],
 "metadata": {
  "kernelspec": {
   "display_name": "Py38Root",
   "language": "python",
   "name": "python3"
  },
  "language_info": {
   "codemirror_mode": {
    "name": "ipython",
    "version": 3
   },
   "file_extension": ".py",
   "mimetype": "text/x-python",
   "name": "python",
   "nbconvert_exporter": "python",
   "pygments_lexer": "ipython3",
   "version": "3.8.3"
  }
 },
 "nbformat": 4,
 "nbformat_minor": 2
}
