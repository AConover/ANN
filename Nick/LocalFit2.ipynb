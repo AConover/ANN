{
 "cells": [
  {
   "cell_type": "markdown",
   "metadata": {},
   "source": [
    "# Prof. Keller's new proposed method"
   ]
  },
  {
   "cell_type": "code",
   "execution_count": 1,
   "metadata": {},
   "outputs": [],
   "source": [
    "import tensorflow as tf\n",
    "import pandas as pd\n",
    "import numpy as np\n",
    "import matplotlib.pyplot as plt\n",
    "from tqdm.notebook import tqdm\n",
    "from sklearn.preprocessing import MinMaxScaler"
   ]
  },
  {
   "cell_type": "code",
   "execution_count": 2,
   "metadata": {},
   "outputs": [],
   "source": [
    "%load_ext autoreload\n",
    "%autoreload 2"
   ]
  },
  {
   "cell_type": "code",
   "execution_count": 3,
   "metadata": {},
   "outputs": [],
   "source": [
    "from BHDVCStf import BHDVCS #modified bhdvcs file\n",
    "bhdvcs = BHDVCS()"
   ]
  },
  {
   "cell_type": "code",
   "execution_count": 154,
   "metadata": {},
   "outputs": [],
   "source": [
    "class DvcsData(object):\n",
    "    def __init__(self, df):\n",
    "        self.df = df\n",
    "        self.X = df.loc[:, ['phi_x', 'k', 'QQ', 'x_b', 't', 'F1', 'F2', 'ReH', 'ReE', 'ReHtilde', 'dvcs']]\n",
    "        self.XnoCFF = df.loc[:, ['phi_x', 'k', 'QQ', 'x_b', 't', 'F1', 'F2', 'dvcs']]\n",
    "        self.y = df.loc[:, 'F']\n",
    "        self.Kinematics = df.loc[:, ['k', 'QQ', 'x_b', 't']]\n",
    "        self.erry = df.loc[:, 'errF']\n",
    "        \n",
    "    def __len__(self):\n",
    "        return len(self.X)\n",
    "    \n",
    "    def getSet(self, setNum, itemsInSet=36):\n",
    "        pd.options.mode.chained_assignment = None\n",
    "        subX = self.X.loc[setNum*itemsInSet:(setNum+1)*itemsInSet-1, :]\n",
    "        subX['F'] = self.y.loc[setNum*itemsInSet:(setNum+1)*itemsInSet-1]\n",
    "        subX['errF'] = self.erry.loc[setNum*itemsInSet:(setNum+1)*itemsInSet-1]\n",
    "        pd.options.mode.chained_assignment = 'warn'\n",
    "        return DvcsData(subX)\n",
    "    \n",
    "    def sampleY(self):\n",
    "        return np.random.normal(self.y, self.erry)\n",
    "    \n",
    "    def sampleWeights(self):\n",
    "        return 1/self.erry\n",
    "    \n",
    "    def getAllKins(self, itemsInSets=36):\n",
    "        return self.Kinematics.iloc[np.array(range(len(df)//itemsInSets))*itemsInSets, :]"
   ]
  },
  {
   "cell_type": "code",
   "execution_count": 155,
   "metadata": {},
   "outputs": [],
   "source": [
    "df = pd.read_csv(\"dvcs_xs_newsets_genCFFs.csv\")\n",
    "data = DvcsData(df)"
   ]
  },
  {
   "cell_type": "code",
   "execution_count": 6,
   "metadata": {},
   "outputs": [],
   "source": [
    "class TotalUUXS(tf.keras.layers.Layer):\n",
    "    def __init__(self):\n",
    "        super(TotalUUXS, self).__init__(dtype='float64')\n",
    "        self.F = BHDVCS()\n",
    "    def call(self, inputs):\n",
    "        return self.F.TotalUUXS(inputs[:, :8], inputs[:, 8], inputs[:, 9], inputs[:, 10])"
   ]
  },
  {
   "cell_type": "code",
   "execution_count": 7,
   "metadata": {},
   "outputs": [],
   "source": [
    "numReplicas = 100\n",
    "numSets = 15"
   ]
  },
  {
   "cell_type": "code",
   "execution_count": 8,
   "metadata": {},
   "outputs": [],
   "source": [
    "replicas = np.fromfile('GlobalFit2Replicas.txt')\n",
    "replicas = replicas.reshape(numSets, numReplicas, 3)"
   ]
  },
  {
   "cell_type": "code",
   "execution_count": 21,
   "metadata": {},
   "outputs": [],
   "source": [
    "class f1_f2(object):\n",
    "    def __init__(self):\n",
    "        # this could be refactored to include the constants that are written explicitly below\n",
    "        pass\n",
    "    \n",
    "    @staticmethod\n",
    "    def ffGE(t):\n",
    "        GE = 1.0 / ( 1.0 + ( -t / 0.710649 ) ) / ( 1.0 + ( -t / 0.710649 ) )\n",
    "        return GE\n",
    "\n",
    "    @staticmethod\n",
    "    def ffGM(t):\n",
    "        shape = f1_f2.ffGE(t)\n",
    "        GM0 = 2.792847337\n",
    "        return GM0*shape\n",
    "    \n",
    "    @staticmethod\n",
    "    def ffF2(t):\n",
    "        f2 = (f1_f2.ffGM(t) - f1_f2.ffGE(t)) / (1. - t / (4.*.938272*.938272));\n",
    "        return f2\n",
    "    \n",
    "    @staticmethod\n",
    "    def ffF1(t):\n",
    "        f1 = f1_f2.ffGM(t) - f1_f2.ffF2(t)\n",
    "        return f1\n",
    "    \n",
    "    @staticmethod\n",
    "    def ffGA(t):\n",
    "        ga = 1.2695\n",
    "        ma = 1.026\n",
    "        part = t/(ma*ma);\n",
    "        dif = (1-part)*(1-part);\n",
    "        GA = ga/dif\n",
    "        return GA"
   ]
  },
  {
   "cell_type": "code",
   "execution_count": 361,
   "metadata": {},
   "outputs": [],
   "source": [
    "class step3sim(object):\n",
    "    def __init__(self, X, replicas, whichSet, numSamples=10000):\n",
    "        # sample range of 10,000, with replicas repeated and appended to fill\n",
    "        \n",
    "        self.X = X\n",
    "        self.cffs = replicas[whichSet, :, :]\n",
    "        self.whichSet = whichSet\n",
    "        if int(numSamples**.25)**4 != numSamples:\n",
    "            numSamples = int(numSamples**.25)**4\n",
    "            print('numSamples must be perfect power of 4, using ' + str(numSamples) + ' instead!')\n",
    "        \n",
    "        self.numSamples = numSamples\n",
    "        \n",
    "        self.kins = X.loc[whichSet*36, ['k', 'QQ', 'x_b', 't']]\n",
    "        self.dvcs = X.loc[whichSet*36, 'dvcs']\n",
    "            \n",
    "    \n",
    "    def _getKinRange(self, whichKin):\n",
    "        \n",
    "        krange = np.unique(self.X[whichKin].sort_values())\n",
    "        idx = np.where(krange == self.kins[whichKin])[0][0]\n",
    "        num = int(self.numSamples**.25)\n",
    "        \n",
    "        #return krange, idx, num\n",
    "        if idx == 0:\n",
    "            to_ret = np.linspace(self.kins[whichKin]*2 - krange[idx + 1], krange[idx + 1], num=num)\n",
    "        elif idx == (len(krange) - 1):\n",
    "            to_ret = np.linspace(krange[idx - 1], 2*self.kins[whichKin] - krange[idx - 1], num=num)\n",
    "        else:\n",
    "            to_ret = np.linspace(krange[idx - 1], krange[idx + 1], num=num)\n",
    "        return to_ret\n",
    "\n",
    "    \n",
    "    def addFs(self, sd):\n",
    "        bhdvcs = BHDVCS()\n",
    "        sd['F'] = bhdvcs.TotalUUXS(np.array(sd[['phi_x', 'k', 'QQ', 'x_b', 't', 'F1', 'F2', 'dvcs']]),\n",
    "                                  np.array(sd['ReH']), np.array(sd['ReE']), np.array(sd['ReHtilde']))\n",
    "        return sd    \n",
    "\n",
    "    \n",
    "    def getSimData(self):\n",
    "        kins = [self._getKinRange(kin) for kin in ['k', 'QQ', 'x_b', 't']]\n",
    "        kins = np.array(np.meshgrid(*kins)).T.reshape(-1,4)\n",
    "        to_ret = {key: [] for key in self.X.columns}\n",
    "        to_ret['k'] = kins[:, 0]\n",
    "        to_ret['QQ'] = kins[:, 1]\n",
    "        to_ret['x_b'] = kins[:, 2]\n",
    "        to_ret['t'] = kins[:, 3]\n",
    "        \n",
    "        to_ret['F1'] = f1_f2.ffF1(to_ret['t'])\n",
    "        to_ret['F2'] = f1_f2.ffF1(to_ret['t'])\n",
    "        \n",
    "        cffs = np.repeat(self.cffs, 100, axis=0) #needs to be changed to accomodate numSamples\n",
    "        np.random.shuffle(cffs)\n",
    "        \n",
    "        to_ret['ReH'] = cffs[:, 0]\n",
    "        to_ret['ReE'] = cffs[:, 1]\n",
    "        to_ret['ReHtilde'] = cffs[:, 2]\n",
    "        \n",
    "        to_ret['dvcs'] = np.repeat(self.dvcs, self.numSamples)\n",
    "        \n",
    "        phis = np.repeat(np.linspace(0, 350, 36), self.numSamples//36 + 1)\n",
    "        to_ret['phi_x'] = phis[:self.numSamples]\n",
    "        \n",
    "        sd = pd.DataFrame(to_ret)\n",
    "        sd = self.addFs(sd)\n",
    "        return sd\n",
    "    "
   ]
  },
  {
   "cell_type": "code",
   "execution_count": 362,
   "metadata": {},
   "outputs": [],
   "source": [
    "def fit_pred_kinSet(whichSet, data, replicas):\n",
    "    \n",
    "    s3 = step3sim(data.X, replicas, whichSet)\n",
    "    locData = s3.getSimData()\n",
    "    \n",
    "    locData = locData.dropna()\n",
    "    print(len(locData))\n",
    "    \n",
    "    rescaler = MinMaxScaler()\n",
    "    rescaler = rescaler.fit(locData[['k', 'QQ', 'x_b', 't', 'F']])\n",
    "    X = rescaler.transform(locData[['k', 'QQ', 'x_b', 't', 'F']])\n",
    "    y = locData[['ReH', 'ReE', 'ReHtilde']]\n",
    "    \n",
    "    \n",
    "    model = tf.keras.models.Sequential([\n",
    "    #tf.keras.layers.Dropout(input_shape=(5,), rate=0.2),\n",
    "    tf.keras.layers.Dense(20, input_shape=(5,), activation=\"elu\", kernel_initializer=\"he_normal\"),\n",
    "    #tf.keras.layers.Dropout(rate=0.2),\n",
    "    tf.keras.layers.Dense(20, activation=\"elu\", kernel_initializer=\"he_normal\"),\n",
    "    tf.keras.layers.Dropout(rate=0.5),\n",
    "    tf.keras.layers.Dense(3)\n",
    "    ])\n",
    "    \n",
    "    model.compile(\n",
    "    optimizer = tf.keras.optimizers.Nadam(.01),\n",
    "    loss = tf.keras.losses.MeanSquaredError()\n",
    "    )\n",
    "    \n",
    "    model.fit(X, y, epochs=100, verbose=0)\n",
    "        \n",
    "    fs = np.concatenate([data.getSet(whichSet).sampleY() for _ in range(100)])\n",
    "\n",
    "    to_pred = np.tile(np.array(data.df.loc[whichSet*36 + 18, ['k', 'QQ', 'x_b', 't']]), (3600, 1))\n",
    "\n",
    "    to_pred = pd.DataFrame(to_pred)\n",
    "\n",
    "    to_pred[4] = fs\n",
    "\n",
    "    to_pred = rescaler.transform(to_pred)\n",
    "    \n",
    "    yhat = np.stack([model(to_pred, training=True) for sample in range(100)])\n",
    "    \n",
    "    return yhat"
   ]
  },
  {
   "cell_type": "code",
   "execution_count": 363,
   "metadata": {},
   "outputs": [],
   "source": [
    "def evaluate(y_yhat):\n",
    "    '''\n",
    "    Provides a few model evaluation statistics from an array of true values and predictions.\n",
    "    \n",
    "    :param y_yhat: numpy array with first column being true values and second being predicted values.\n",
    "    '''\n",
    "    pct_errs = ((y_yhat[:, 0] - y_yhat[:, 1])/y_yhat[:, 1])*100\n",
    "    print('Mean percent error: ', np.mean(np.abs(pct_errs)))\n",
    "\n",
    "    RS = np.square((y_yhat[:, 0] - y_yhat[:, 1]))\n",
    "    TS = np.square((y_yhat[:, 0] - y_yhat[:, 0].mean()))\n",
    "    rmse = np.sqrt(np.mean(RS))\n",
    "    rmtss = np.sqrt(np.mean(TS))\n",
    "    print('RMSE: ', rmse)\n",
    "    print('RMSE w yhat=mean: ', rmtss)\n",
    "    RSS = np.sum(RS)\n",
    "    TSS = np.sum(TS)\n",
    "    print('R-squared: ', (1 - RSS/TSS))\n",
    "    plt.hist(np.array(pct_errs))\n",
    "    plt.title('Histogram of Percent Errors')\n",
    "    plt.show()"
   ]
  },
  {
   "cell_type": "code",
   "execution_count": 364,
   "metadata": {},
   "outputs": [
    {
     "name": "stdout",
     "output_type": "stream",
     "text": [
      "10000\n",
      "9300\n",
      "9840\n",
      "10000\n",
      "10000\n",
      "10000\n",
      "9790\n",
      "10000\n",
      "10000\n",
      "10000\n",
      "10000\n",
      "10000\n",
      "10000\n",
      "10000\n",
      "10000\n"
     ]
    }
   ],
   "source": [
    "ReHy_yhat = []\n",
    "ReEy_yhat = []\n",
    "ReHtildey_yhat = []\n",
    "\n",
    "for whichSet in range(15):\n",
    "    yhats = fit_pred_kinSet(whichSet, data, replicas)\n",
    "    ReHy_yhat.append([data.getSet(whichSet).X.iloc[0, 7], yhats[:, :, 0].mean()])\n",
    "    ReEy_yhat.append([data.getSet(whichSet).X.iloc[0, 8], yhats[:, :, 1].mean()])\n",
    "    ReHtildey_yhat.append([data.getSet(whichSet).X.iloc[0, 9], yhats[:, :, 2].mean()])"
   ]
  },
  {
   "cell_type": "code",
   "execution_count": 365,
   "metadata": {
    "scrolled": true
   },
   "outputs": [
    {
     "name": "stdout",
     "output_type": "stream",
     "text": [
      "Mean percent error:  26.081011729409965\n",
      "RMSE:  1.7918917339039633\n",
      "RMSE w yhat=mean:  2.5254628436780107\n",
      "R-squared:  0.4965671327830059\n"
     ]
    },
    {
     "data": {
      "image/png": "[encoded data removed]",
      "text/plain": [
       "<Figure size 432x288 with 1 Axes>"
      ]
     },
     "metadata": {
      "needs_background": "light"
     },
     "output_type": "display_data"
    }
   ],
   "source": [
    "evaluate(np.array(ReHy_yhat))"
   ]
  },
  {
   "cell_type": "code",
   "execution_count": 366,
   "metadata": {},
   "outputs": [
    {
     "name": "stdout",
     "output_type": "stream",
     "text": [
      "Mean percent error:  23.8733414529087\n",
      "RMSE:  9.822996381820317\n",
      "RMSE w yhat=mean:  2.525480507907797\n",
      "R-squared:  -14.128641316531661\n"
     ]
    },
    {
     "data": {
      "image/png": "[encoded data removed]",
      "text/plain": [
       "<Figure size 432x288 with 1 Axes>"
      ]
     },
     "metadata": {
      "needs_background": "light"
     },
     "output_type": "display_data"
    }
   ],
   "source": [
    "evaluate(np.array(ReEy_yhat))"
   ]
  },
  {
   "cell_type": "code",
   "execution_count": 367,
   "metadata": {},
   "outputs": [
    {
     "name": "stdout",
     "output_type": "stream",
     "text": [
      "Mean percent error:  16.93143165464034\n",
      "RMSE:  0.7225231871338786\n",
      "RMSE w yhat=mean:  1.4030345621243816\n",
      "R-squared:  0.7348040795492108\n"
     ]
    },
    {
     "data": {
      "image/png": "[encoded data removed]",
      "text/plain": [
       "<Figure size 432x288 with 1 Axes>"
      ]
     },
     "metadata": {
      "needs_background": "light"
     },
     "output_type": "display_data"
    }
   ],
   "source": [
    "evaluate(np.array(ReHtildey_yhat))"
   ]
  },
  {
   "cell_type": "markdown",
   "metadata": {},
   "source": [
    "# Evaluate Replicas"
   ]
  },
  {
   "cell_type": "code",
   "execution_count": 374,
   "metadata": {},
   "outputs": [],
   "source": [
    "ReHy_yhat = []\n",
    "ReEy_yhat = []\n",
    "ReHtildey_yhat = []\n",
    "\n",
    "for whichSet in range(15):\n",
    "    ReHy_yhat.append([data.getSet(whichSet).X.iloc[0, 7], replicas[whichSet, :, 0].mean()])\n",
    "    ReEy_yhat.append([data.getSet(whichSet).X.iloc[0, 8], replicas[whichSet, :, 1].mean()])\n",
    "    ReHtildey_yhat.append([data.getSet(whichSet).X.iloc[0, 9], replicas[whichSet, :, 2].mean()])"
   ]
  },
  {
   "cell_type": "code",
   "execution_count": 375,
   "metadata": {
    "scrolled": true
   },
   "outputs": [
    {
     "name": "stdout",
     "output_type": "stream",
     "text": [
      "Mean percent error:  10.432250414644347\n",
      "RMSE:  1.016593117128301\n",
      "RMSE w yhat=mean:  2.5254628436780107\n",
      "R-squared:  0.8379636829673103\n"
     ]
    },
    {
     "data": {
      "image/png": "[encoded data removed]",
      "text/plain": [
       "<Figure size 432x288 with 1 Axes>"
      ]
     },
     "metadata": {
      "needs_background": "light"
     },
     "output_type": "display_data"
    }
   ],
   "source": [
    "evaluate(np.array(ReHy_yhat))"
   ]
  },
  {
   "cell_type": "code",
   "execution_count": 376,
   "metadata": {},
   "outputs": [
    {
     "name": "stdout",
     "output_type": "stream",
     "text": [
      "Mean percent error:  11.057921264644353\n",
      "RMSE:  5.675738319631367\n",
      "RMSE w yhat=mean:  2.525480507907797\n",
      "R-squared:  -4.050759464517492\n"
     ]
    },
    {
     "data": {
      "image/png": "[encoded data removed]",
      "text/plain": [
       "<Figure size 432x288 with 1 Axes>"
      ]
     },
     "metadata": {
      "needs_background": "light"
     },
     "output_type": "display_data"
    }
   ],
   "source": [
    "evaluate(np.array(ReEy_yhat))"
   ]
  },
  {
   "cell_type": "code",
   "execution_count": 377,
   "metadata": {},
   "outputs": [
    {
     "name": "stdout",
     "output_type": "stream",
     "text": [
      "Mean percent error:  7.992647189510513\n",
      "RMSE:  0.42766634278934085\n",
      "RMSE w yhat=mean:  1.4030345621243816\n",
      "R-squared:  0.9070876581634342\n"
     ]
    },
    {
     "data": {
      "image/png": "[encoded data removed]",
      "text/plain": [
       "<Figure size 432x288 with 1 Axes>"
      ]
     },
     "metadata": {
      "needs_background": "light"
     },
     "output_type": "display_data"
    }
   ],
   "source": [
    "evaluate(np.array(ReHtildey_yhat))"
   ]
  },
  {
   "cell_type": "code",
   "execution_count": null,
   "metadata": {},
   "outputs": [],
   "source": []
  }
 ],
 "metadata": {
  "kernelspec": {
   "display_name": "Py38Root",
   "language": "python",
   "name": "python3"
  },
  "language_info": {
   "codemirror_mode": {
    "name": "ipython",
    "version": 3
   },
   "file_extension": ".py",
   "mimetype": "text/x-python",
   "name": "python",
   "nbconvert_exporter": "python",
   "pygments_lexer": "ipython3",
   "version": "3.8.3"
  }
 },
 "nbformat": 4,
 "nbformat_minor": 2
}
