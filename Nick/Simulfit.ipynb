{
 "cells": [
  {
   "cell_type": "code",
   "execution_count": 1,
   "metadata": {},
   "outputs": [],
   "source": [
    "%load_ext autoreload\n",
    "%autoreload 2"
   ]
  },
  {
   "cell_type": "code",
   "execution_count": 2,
   "metadata": {},
   "outputs": [],
   "source": [
    "import pandas as pd\n",
    "import numpy as np\n",
    "import matplotlib.pyplot as plt\n",
    "import seaborn as sns\n",
    "from scipy import optimize"
   ]
  },
  {
   "cell_type": "code",
   "execution_count": 3,
   "metadata": {},
   "outputs": [],
   "source": [
    "from BHDVCStf import BHDVCS"
   ]
  },
  {
   "cell_type": "code",
   "execution_count": 4,
   "metadata": {},
   "outputs": [],
   "source": [
    "bhdvcs = BHDVCS()"
   ]
  },
  {
   "cell_type": "code",
   "execution_count": 168,
   "metadata": {},
   "outputs": [],
   "source": [
    "data = pd.read_csv('dvcs_psuedo.csv')"
   ]
  },
  {
   "cell_type": "markdown",
   "metadata": {},
   "source": [
    "# For Set 0"
   ]
  },
  {
   "cell_type": "code",
   "execution_count": 18,
   "metadata": {},
   "outputs": [],
   "source": [
    "data = data.loc[(data['#Set'] == 0) & (data['phi_x'] <= 180) & (data['phi_x'] != 90), :]"
   ]
  },
  {
   "cell_type": "code",
   "execution_count": 19,
   "metadata": {},
   "outputs": [],
   "source": [
    "def produceLHS(data, bhdvcs):\n",
    "    bhdvcs.SetKinematics(data['QQ'], data['x_b'], data['t'], data['k'])\n",
    "    bh = bhdvcs.GetBHUUxs(data['phi_x'], data['F1'], data['F2'])\n",
    "    interference = data['F'] - data['dvcs'] - bh\n",
    "    interference /= bhdvcs.Gamma\n",
    "    interference *= data['QQ']\n",
    "    interference *= np.abs(data['t'])\n",
    "    a, b = bhdvcs.ABcon(data['phi_x'], data['F1'], data['F2'])\n",
    "    interference /= b\n",
    "    return interference"
   ]
  },
  {
   "cell_type": "code",
   "execution_count": 161,
   "metadata": {},
   "outputs": [],
   "source": [
    "def produceLHSerr(data, bhdvcs):\n",
    "    bhdvcs.SetKinematics(data['QQ'], data['x_b'], data['t'], data['k'])\n",
    "    err = data['errF']\n",
    "    err /= bhdvcs.Gamma\n",
    "    err *= data['QQ']\n",
    "    err *= np.abs(data['t'])\n",
    "    a, b = bhdvcs.ABcon(data['phi_x'], data['F1'], data['F2'])\n",
    "    err /= b\n",
    "    return np.abs(err)"
   ]
  },
  {
   "cell_type": "code",
   "execution_count": 9,
   "metadata": {},
   "outputs": [],
   "source": [
    "def aoverb(data, bhdvcs):\n",
    "    bhdvcs.SetKinematics(data['QQ'], data['x_b'], data['t'], data['k'])\n",
    "    a, b = bhdvcs.ABcon(data['phi_x'], data['F1'], data['F2'])\n",
    "    return a/b"
   ]
  },
  {
   "cell_type": "code",
   "execution_count": 169,
   "metadata": {},
   "outputs": [
    {
     "data": {
      "text/plain": [
       "0      1.289893\n",
       "1      1.284265\n",
       "2      1.728553\n",
       "3      2.162472\n",
       "4      2.951399\n",
       "         ...   \n",
       "535    6.854177\n",
       "536    5.346418\n",
       "537    4.031707\n",
       "538    2.879922\n",
       "539    2.633917\n",
       "Name: errF, Length: 540, dtype: float64"
      ]
     },
     "execution_count": 169,
     "metadata": {},
     "output_type": "execute_result"
    }
   ],
   "source": [
    "produceLHSerr(data, bhdvcs)"
   ]
  },
  {
   "cell_type": "code",
   "execution_count": 10,
   "metadata": {
    "scrolled": true
   },
   "outputs": [
    {
     "data": {
      "image/png": "[encoded data removed]",
      "text/plain": [
       "<Figure size 432x288 with 1 Axes>"
      ]
     },
     "metadata": {
      "needs_background": "light"
     },
     "output_type": "display_data"
    }
   ],
   "source": [
    "sns.scatterplot(x=aoverb(data, bhdvcs), y=produceLHS(data, bhdvcs))\n",
    "plt.xlabel('$A_{uu}^I/B_{uu}^I$')\n",
    "plt.ylabel('$\\sigma_{uu}/B_{uu}^I$')\n",
    "plt.show()"
   ]
  },
  {
   "cell_type": "code",
   "execution_count": 11,
   "metadata": {},
   "outputs": [
    {
     "data": {
      "image/png": "[encoded data removed]",
      "text/plain": [
       "<Figure size 432x288 with 1 Axes>"
      ]
     },
     "metadata": {
      "needs_background": "light"
     },
     "output_type": "display_data"
    }
   ],
   "source": [
    "sns.scatterplot(x=data['phi_x'], y=produceLHS(data, bhdvcs))\n",
    "plt.xlabel('phi')\n",
    "plt.ylabel('$\\sigma_{uu}/B_{uu}^I$')\n",
    "plt.show()"
   ]
  },
  {
   "cell_type": "code",
   "execution_count": 12,
   "metadata": {},
   "outputs": [],
   "source": [
    "y = produceLHS(data, bhdvcs)\n",
    "\n",
    "X = np.array(data[['QQ', 'x_b', 't', 'k', 'phi_x', 'F1', 'F2']])\n",
    "err = produceLHSerr(data, bhdvcs)"
   ]
  },
  {
   "cell_type": "code",
   "execution_count": 13,
   "metadata": {},
   "outputs": [],
   "source": [
    "def linear_curve_fit(data, ReH, ReE):\n",
    "    bhdvcs.SetKinematics(data[:, 0], data[:, 1], data[:, 2], data[:, 3])\n",
    "    a, b = bhdvcs.ABcon(data[:, 4], data[:, 5], data[:, 6])\n",
    "    #tau = -data['t']/(4*bhdvcs.M2)\n",
    "    gm = data[:, 5] + data[:, 6]\n",
    "    return (a/b)*(data[:, 5]*ReH + bhdvcs.tau*data[:, 6]*ReE) + gm*(ReH + ReE)"
   ]
  },
  {
   "cell_type": "code",
   "execution_count": 20,
   "metadata": {},
   "outputs": [],
   "source": [
    "cffs, var = optimize.curve_fit(linear_curve_fit, X, y, sigma=err)"
   ]
  },
  {
   "cell_type": "markdown",
   "metadata": {},
   "source": [
    "### Fitted Compton Form Factors"
   ]
  },
  {
   "cell_type": "code",
   "execution_count": 21,
   "metadata": {
    "scrolled": true
   },
   "outputs": [
    {
     "data": {
      "text/plain": [
       "array([ 16.20321612, -70.95512652])"
      ]
     },
     "execution_count": 21,
     "metadata": {},
     "output_type": "execute_result"
    }
   ],
   "source": [
    "cffs"
   ]
  },
  {
   "cell_type": "code",
   "execution_count": 22,
   "metadata": {},
   "outputs": [
    {
     "data": {
      "text/plain": [
       "array([ 12.7743163 , 337.41543006])"
      ]
     },
     "execution_count": 22,
     "metadata": {},
     "output_type": "execute_result"
    }
   ],
   "source": [
    "np.diag(var)"
   ]
  },
  {
   "cell_type": "markdown",
   "metadata": {},
   "source": [
    "### True CFFs"
   ]
  },
  {
   "cell_type": "code",
   "execution_count": 23,
   "metadata": {
    "scrolled": true
   },
   "outputs": [
    {
     "data": {
      "text/plain": [
       "ReH    13.0554\n",
       "ReE   -53.0554\n",
       "Name: 0, dtype: float64"
      ]
     },
     "execution_count": 23,
     "metadata": {},
     "output_type": "execute_result"
    }
   ],
   "source": [
    "data.loc[0, ['ReH', 'ReE']]"
   ]
  },
  {
   "cell_type": "code",
   "execution_count": 24,
   "metadata": {},
   "outputs": [],
   "source": [
    "yhat = linear_curve_fit(X, *cffs)\n",
    "yhatupper = linear_curve_fit(X, *(cffs + np.diag(var)))\n",
    "yhatlower = linear_curve_fit(X, *(cffs - np.diag(var)))"
   ]
  },
  {
   "cell_type": "code",
   "execution_count": 25,
   "metadata": {},
   "outputs": [],
   "source": [
    "yhatwtrue = linear_curve_fit(X, 13.0554, -53.0554)"
   ]
  },
  {
   "cell_type": "markdown",
   "metadata": {},
   "source": [
    "### Central Values"
   ]
  },
  {
   "cell_type": "code",
   "execution_count": 26,
   "metadata": {},
   "outputs": [
    {
     "data": {
      "image/png": "[encoded data removed]",
      "text/plain": [
       "<Figure size 432x288 with 1 Axes>"
      ]
     },
     "metadata": {
      "needs_background": "light"
     },
     "output_type": "display_data"
    }
   ],
   "source": [
    "plt.plot(aoverb(data, bhdvcs), produceLHS(data, bhdvcs), 'go', label='y')\n",
    "plt.plot(aoverb(data, bhdvcs), yhat, label='yhat')\n",
    "plt.plot(aoverb(data, bhdvcs), yhatwtrue, label='yhatwtrue')\n",
    "plt.xlabel('$A_{uu}^I/B_{uu}^I$')\n",
    "plt.ylabel('$\\sigma_{uu}/B_{uu}^I$')\n",
    "plt.legend()\n",
    "plt.show()"
   ]
  },
  {
   "cell_type": "markdown",
   "metadata": {},
   "source": [
    "## Error from variance"
   ]
  },
  {
   "cell_type": "code",
   "execution_count": 27,
   "metadata": {
    "scrolled": true
   },
   "outputs": [
    {
     "data": {
      "image/png": "[encoded data removed]",
      "text/plain": [
       "<Figure size 432x288 with 1 Axes>"
      ]
     },
     "metadata": {
      "needs_background": "light"
     },
     "output_type": "display_data"
    }
   ],
   "source": [
    "plt.errorbar(aoverb(data, bhdvcs), produceLHS(data, bhdvcs), yerr=err, fmt='go', label='y')\n",
    "plt.plot(aoverb(data, bhdvcs), yhat, label='yhat')\n",
    "plt.plot(aoverb(data, bhdvcs), yhatlower, label='yhatlowerCI')\n",
    "plt.plot(aoverb(data, bhdvcs), yhatupper, label='yhatupperCI')\n",
    "plt.plot(aoverb(data, bhdvcs), yhatwtrue, label='yhatwtrue')\n",
    "plt.xlabel('$A_{uu}^I/B_{uu}^I$')\n",
    "plt.ylabel('$\\sigma_{uu}/B_{uu}^I$')\n",
    "plt.legend()\n",
    "plt.show()"
   ]
  },
  {
   "cell_type": "markdown",
   "metadata": {},
   "source": [
    "## Limits"
   ]
  },
  {
   "cell_type": "code",
   "execution_count": 140,
   "metadata": {},
   "outputs": [],
   "source": [
    "high = data.copy()\n",
    "high['F'] = data['F'] + data['errF']\n",
    "low = data.copy()\n",
    "low['F'] = data['F'] - data['errF']"
   ]
  },
  {
   "cell_type": "code",
   "execution_count": 141,
   "metadata": {},
   "outputs": [
    {
     "data": {
      "text/html": [
       "<div>\n",
       "<style scoped>\n",
       "    .dataframe tbody tr th:only-of-type {\n",
       "        vertical-align: middle;\n",
       "    }\n",
       "\n",
       "    .dataframe tbody tr th {\n",
       "        vertical-align: top;\n",
       "    }\n",
       "\n",
       "    .dataframe thead th {\n",
       "        text-align: right;\n",
       "    }\n",
       "</style>\n",
       "<table border=\"1\" class=\"dataframe\">\n",
       "  <thead>\n",
       "    <tr style=\"text-align: right;\">\n",
       "      <th></th>\n",
       "      <th>#Set</th>\n",
       "      <th>index</th>\n",
       "      <th>errF</th>\n",
       "      <th>F</th>\n",
       "      <th>phi_x</th>\n",
       "      <th>QQ</th>\n",
       "      <th>x_b</th>\n",
       "      <th>t</th>\n",
       "      <th>k</th>\n",
       "      <th>F1</th>\n",
       "      <th>F2</th>\n",
       "      <th>dvcs</th>\n",
       "      <th>ReH</th>\n",
       "      <th>ReE</th>\n",
       "      <th>ReHtilde</th>\n",
       "    </tr>\n",
       "  </thead>\n",
       "  <tbody>\n",
       "    <tr>\n",
       "      <th>0</th>\n",
       "      <td>0</td>\n",
       "      <td>0</td>\n",
       "      <td>25081.524489</td>\n",
       "      <td>25138.168588</td>\n",
       "      <td>0</td>\n",
       "      <td>1.74013</td>\n",
       "      <td>0.435095</td>\n",
       "      <td>-0.380868</td>\n",
       "      <td>3.75</td>\n",
       "      <td>0.498060</td>\n",
       "      <td>0.68579</td>\n",
       "      <td>0.012288</td>\n",
       "      <td>13.0554</td>\n",
       "      <td>-53.0554</td>\n",
       "      <td>7.25302</td>\n",
       "    </tr>\n",
       "    <tr>\n",
       "      <th>1</th>\n",
       "      <td>0</td>\n",
       "      <td>1</td>\n",
       "      <td>26351.191492</td>\n",
       "      <td>26408.281825</td>\n",
       "      <td>10</td>\n",
       "      <td>1.74013</td>\n",
       "      <td>0.435095</td>\n",
       "      <td>-0.380868</td>\n",
       "      <td>3.75</td>\n",
       "      <td>0.498060</td>\n",
       "      <td>0.68579</td>\n",
       "      <td>0.012288</td>\n",
       "      <td>13.0554</td>\n",
       "      <td>-53.0554</td>\n",
       "      <td>7.25302</td>\n",
       "    </tr>\n",
       "    <tr>\n",
       "      <th>2</th>\n",
       "      <td>0</td>\n",
       "      <td>2</td>\n",
       "      <td>25735.520380</td>\n",
       "      <td>25784.978030</td>\n",
       "      <td>20</td>\n",
       "      <td>1.74013</td>\n",
       "      <td>0.435095</td>\n",
       "      <td>-0.380868</td>\n",
       "      <td>3.75</td>\n",
       "      <td>0.498060</td>\n",
       "      <td>0.68579</td>\n",
       "      <td>0.012288</td>\n",
       "      <td>13.0554</td>\n",
       "      <td>-53.0554</td>\n",
       "      <td>7.25302</td>\n",
       "    </tr>\n",
       "    <tr>\n",
       "      <th>3</th>\n",
       "      <td>0</td>\n",
       "      <td>3</td>\n",
       "      <td>27506.073129</td>\n",
       "      <td>27549.801901</td>\n",
       "      <td>30</td>\n",
       "      <td>1.74013</td>\n",
       "      <td>0.435095</td>\n",
       "      <td>-0.380868</td>\n",
       "      <td>3.75</td>\n",
       "      <td>0.498060</td>\n",
       "      <td>0.68579</td>\n",
       "      <td>0.012288</td>\n",
       "      <td>13.0554</td>\n",
       "      <td>-53.0554</td>\n",
       "      <td>7.25302</td>\n",
       "    </tr>\n",
       "    <tr>\n",
       "      <th>4</th>\n",
       "      <td>0</td>\n",
       "      <td>4</td>\n",
       "      <td>27565.719183</td>\n",
       "      <td>27599.769229</td>\n",
       "      <td>40</td>\n",
       "      <td>1.74013</td>\n",
       "      <td>0.435095</td>\n",
       "      <td>-0.380868</td>\n",
       "      <td>3.75</td>\n",
       "      <td>0.498060</td>\n",
       "      <td>0.68579</td>\n",
       "      <td>0.012288</td>\n",
       "      <td>13.0554</td>\n",
       "      <td>-53.0554</td>\n",
       "      <td>7.25302</td>\n",
       "    </tr>\n",
       "    <tr>\n",
       "      <th>...</th>\n",
       "      <td>...</td>\n",
       "      <td>...</td>\n",
       "      <td>...</td>\n",
       "      <td>...</td>\n",
       "      <td>...</td>\n",
       "      <td>...</td>\n",
       "      <td>...</td>\n",
       "      <td>...</td>\n",
       "      <td>...</td>\n",
       "      <td>...</td>\n",
       "      <td>...</td>\n",
       "      <td>...</td>\n",
       "      <td>...</td>\n",
       "      <td>...</td>\n",
       "      <td>...</td>\n",
       "    </tr>\n",
       "    <tr>\n",
       "      <th>535</th>\n",
       "      <td>14</td>\n",
       "      <td>31</td>\n",
       "      <td>205922.720357</td>\n",
       "      <td>205958.766365</td>\n",
       "      <td>310</td>\n",
       "      <td>2.63258</td>\n",
       "      <td>0.345012</td>\n",
       "      <td>-0.361188</td>\n",
       "      <td>7.75</td>\n",
       "      <td>0.512913</td>\n",
       "      <td>0.71481</td>\n",
       "      <td>0.012288</td>\n",
       "      <td>11.7411</td>\n",
       "      <td>-51.7411</td>\n",
       "      <td>6.52283</td>\n",
       "    </tr>\n",
       "    <tr>\n",
       "      <th>536</th>\n",
       "      <td>14</td>\n",
       "      <td>32</td>\n",
       "      <td>163100.166302</td>\n",
       "      <td>163138.850578</td>\n",
       "      <td>320</td>\n",
       "      <td>2.63258</td>\n",
       "      <td>0.345012</td>\n",
       "      <td>-0.361188</td>\n",
       "      <td>7.75</td>\n",
       "      <td>0.512913</td>\n",
       "      <td>0.71481</td>\n",
       "      <td>0.012288</td>\n",
       "      <td>11.7411</td>\n",
       "      <td>-51.7411</td>\n",
       "      <td>6.52283</td>\n",
       "    </tr>\n",
       "    <tr>\n",
       "      <th>537</th>\n",
       "      <td>14</td>\n",
       "      <td>33</td>\n",
       "      <td>166251.770829</td>\n",
       "      <td>166301.670076</td>\n",
       "      <td>330</td>\n",
       "      <td>2.63258</td>\n",
       "      <td>0.345012</td>\n",
       "      <td>-0.361188</td>\n",
       "      <td>7.75</td>\n",
       "      <td>0.512913</td>\n",
       "      <td>0.71481</td>\n",
       "      <td>0.012288</td>\n",
       "      <td>11.7411</td>\n",
       "      <td>-51.7411</td>\n",
       "      <td>6.52283</td>\n",
       "    </tr>\n",
       "    <tr>\n",
       "      <th>538</th>\n",
       "      <td>14</td>\n",
       "      <td>34</td>\n",
       "      <td>181674.765242</td>\n",
       "      <td>181739.540946</td>\n",
       "      <td>340</td>\n",
       "      <td>2.63258</td>\n",
       "      <td>0.345012</td>\n",
       "      <td>-0.361188</td>\n",
       "      <td>7.75</td>\n",
       "      <td>0.512913</td>\n",
       "      <td>0.71481</td>\n",
       "      <td>0.012288</td>\n",
       "      <td>11.7411</td>\n",
       "      <td>-51.7411</td>\n",
       "      <td>6.52283</td>\n",
       "    </tr>\n",
       "    <tr>\n",
       "      <th>539</th>\n",
       "      <td>14</td>\n",
       "      <td>35</td>\n",
       "      <td>165637.484194</td>\n",
       "      <td>165703.191995</td>\n",
       "      <td>350</td>\n",
       "      <td>2.63258</td>\n",
       "      <td>0.345012</td>\n",
       "      <td>-0.361188</td>\n",
       "      <td>7.75</td>\n",
       "      <td>0.512913</td>\n",
       "      <td>0.71481</td>\n",
       "      <td>0.012288</td>\n",
       "      <td>11.7411</td>\n",
       "      <td>-51.7411</td>\n",
       "      <td>6.52283</td>\n",
       "    </tr>\n",
       "  </tbody>\n",
       "</table>\n",
       "<p>540 rows × 15 columns</p>\n",
       "</div>"
      ],
      "text/plain": [
       "     #Set  index           errF              F  phi_x       QQ       x_b  \\\n",
       "0       0      0   25081.524489   25138.168588      0  1.74013  0.435095   \n",
       "1       0      1   26351.191492   26408.281825     10  1.74013  0.435095   \n",
       "2       0      2   25735.520380   25784.978030     20  1.74013  0.435095   \n",
       "3       0      3   27506.073129   27549.801901     30  1.74013  0.435095   \n",
       "4       0      4   27565.719183   27599.769229     40  1.74013  0.435095   \n",
       "..    ...    ...            ...            ...    ...      ...       ...   \n",
       "535    14     31  205922.720357  205958.766365    310  2.63258  0.345012   \n",
       "536    14     32  163100.166302  163138.850578    320  2.63258  0.345012   \n",
       "537    14     33  166251.770829  166301.670076    330  2.63258  0.345012   \n",
       "538    14     34  181674.765242  181739.540946    340  2.63258  0.345012   \n",
       "539    14     35  165637.484194  165703.191995    350  2.63258  0.345012   \n",
       "\n",
       "            t     k        F1       F2      dvcs      ReH      ReE  ReHtilde  \n",
       "0   -0.380868  3.75  0.498060  0.68579  0.012288  13.0554 -53.0554   7.25302  \n",
       "1   -0.380868  3.75  0.498060  0.68579  0.012288  13.0554 -53.0554   7.25302  \n",
       "2   -0.380868  3.75  0.498060  0.68579  0.012288  13.0554 -53.0554   7.25302  \n",
       "3   -0.380868  3.75  0.498060  0.68579  0.012288  13.0554 -53.0554   7.25302  \n",
       "4   -0.380868  3.75  0.498060  0.68579  0.012288  13.0554 -53.0554   7.25302  \n",
       "..        ...   ...       ...      ...       ...      ...      ...       ...  \n",
       "535 -0.361188  7.75  0.512913  0.71481  0.012288  11.7411 -51.7411   6.52283  \n",
       "536 -0.361188  7.75  0.512913  0.71481  0.012288  11.7411 -51.7411   6.52283  \n",
       "537 -0.361188  7.75  0.512913  0.71481  0.012288  11.7411 -51.7411   6.52283  \n",
       "538 -0.361188  7.75  0.512913  0.71481  0.012288  11.7411 -51.7411   6.52283  \n",
       "539 -0.361188  7.75  0.512913  0.71481  0.012288  11.7411 -51.7411   6.52283  \n",
       "\n",
       "[540 rows x 15 columns]"
      ]
     },
     "execution_count": 141,
     "metadata": {},
     "output_type": "execute_result"
    }
   ],
   "source": [
    "high"
   ]
  },
  {
   "cell_type": "code",
   "execution_count": 25,
   "metadata": {
    "scrolled": false
   },
   "outputs": [
    {
     "data": {
      "image/png": "[encoded data removed]",
      "text/plain": [
       "<Figure size 432x288 with 1 Axes>"
      ]
     },
     "metadata": {
      "needs_background": "light"
     },
     "output_type": "display_data"
    }
   ],
   "source": [
    "plt.scatter(x=aoverb(high, bhdvcs), y=produceLHS(high, bhdvcs), label='high')\n",
    "plt.scatter(x=aoverb(data, bhdvcs), y=produceLHS(data, bhdvcs), label='center')\n",
    "plt.scatter(x=aoverb(low, bhdvcs), y=produceLHS(low, bhdvcs), label='low')\n",
    "plt.xlabel('$A_{uu}^I/B_{uu}^I$')\n",
    "plt.ylabel('$\\sigma_{uu}/B_{uu}^I$')\n",
    "plt.legend()\n",
    "plt.show()"
   ]
  },
  {
   "cell_type": "markdown",
   "metadata": {},
   "source": [
    "## Error from limits"
   ]
  },
  {
   "cell_type": "code",
   "execution_count": 37,
   "metadata": {},
   "outputs": [
    {
     "data": {
      "image/png": "[encoded data removed]",
      "text/plain": [
       "<Figure size 432x288 with 1 Axes>"
      ]
     },
     "metadata": {
      "needs_background": "light"
     },
     "output_type": "display_data"
    }
   ],
   "source": [
    "#plt.errorbar(aoverb(data, bhdvcs), produceLHS(data, bhdvcs), yerr=err, fmt='go', label='y')\n",
    "plt.plot(aoverb(data, bhdvcs), yhat, label='yhat')\n",
    "plt.plot(aoverb(low, bhdvcs), produceLHS(low, bhdvcs), 'o', label='yhatlowerCI')\n",
    "plt.plot(aoverb(high, bhdvcs), produceLHS(high, bhdvcs), 'o', label='yhatupperCI')\n",
    "plt.plot(aoverb(data, bhdvcs), yhatwtrue, label='yhatwtrue')\n",
    "plt.xlabel('$A_{uu}^I/B_{uu}^I$')\n",
    "plt.ylabel('$\\sigma_{uu}/B_{uu}^I$')\n",
    "plt.legend()\n",
    "plt.show()"
   ]
  },
  {
   "cell_type": "markdown",
   "metadata": {},
   "source": [
    "## A/B vs phi"
   ]
  },
  {
   "cell_type": "code",
   "execution_count": 23,
   "metadata": {
    "scrolled": true
   },
   "outputs": [
    {
     "data": {
      "image/png": "[encoded data removed]",
      "text/plain": [
       "<Figure size 432x288 with 1 Axes>"
      ]
     },
     "metadata": {
      "needs_background": "light"
     },
     "output_type": "display_data"
    }
   ],
   "source": [
    "plt.scatter(aoverb(data, bhdvcs), data['phi_x'])\n",
    "plt.xlabel('$A_{uu}^I/B_{uu}^I$')\n",
    "plt.ylabel('Phi')\n",
    "plt.show()"
   ]
  },
  {
   "cell_type": "markdown",
   "metadata": {},
   "source": [
    "# New Error"
   ]
  },
  {
   "cell_type": "code",
   "execution_count": 149,
   "metadata": {},
   "outputs": [],
   "source": [
    "y = produceLHS(data, bhdvcs)\n",
    "\n",
    "X = np.array(data[['QQ', 'x_b', 't', 'k', 'phi_x', 'F1', 'F2']])\n",
    "high = data.copy()\n",
    "high['F'] = data['F'] + data['errF']\n",
    "err = np.abs(produceLHS(high, bhdvcs) - y)"
   ]
  },
  {
   "cell_type": "code",
   "execution_count": 152,
   "metadata": {},
   "outputs": [],
   "source": [
    "err = produceLHSerr(data, bhdvcs)"
   ]
  },
  {
   "cell_type": "code",
   "execution_count": 153,
   "metadata": {},
   "outputs": [
    {
     "data": {
      "text/plain": [
       "0     -1.111674e+07\n",
       "1     -1.217419e+07\n",
       "2     -1.340869e+07\n",
       "3     -1.732759e+07\n",
       "4     -2.236163e+07\n",
       "           ...     \n",
       "535   -1.177134e+09\n",
       "536   -6.880892e+08\n",
       "537   -5.541644e+08\n",
       "538   -5.096921e+08\n",
       "539   -4.176683e+08\n",
       "Name: errF, Length: 540, dtype: float64"
      ]
     },
     "execution_count": 153,
     "metadata": {},
     "output_type": "execute_result"
    }
   ],
   "source": [
    "err"
   ]
  },
  {
   "cell_type": "code",
   "execution_count": 150,
   "metadata": {},
   "outputs": [
    {
     "data": {
      "text/plain": [
       "0      1.111674e+07\n",
       "1      1.217419e+07\n",
       "2      1.340869e+07\n",
       "3      1.732759e+07\n",
       "4      2.236163e+07\n",
       "           ...     \n",
       "535    1.177134e+09\n",
       "536    6.880892e+08\n",
       "537    5.541644e+08\n",
       "538    5.096921e+08\n",
       "539    4.176683e+08\n",
       "Length: 540, dtype: float64"
      ]
     },
     "execution_count": 150,
     "metadata": {},
     "output_type": "execute_result"
    }
   ],
   "source": [
    "err"
   ]
  },
  {
   "cell_type": "code",
   "execution_count": 60,
   "metadata": {},
   "outputs": [],
   "source": [
    "cffs, var = optimize.curve_fit(linear_curve_fit, X, y, sigma=err)"
   ]
  },
  {
   "cell_type": "code",
   "execution_count": 61,
   "metadata": {},
   "outputs": [
    {
     "data": {
      "text/plain": [
       "array([-4.14998417, 30.11224422])"
      ]
     },
     "execution_count": 61,
     "metadata": {},
     "output_type": "execute_result"
    }
   ],
   "source": [
    "cffs"
   ]
  },
  {
   "cell_type": "markdown",
   "metadata": {},
   "source": [
    "$$\\frac{g_1(b)}{1−G_1(b)} > \\frac{g_2(b)}{1−G_2(b)}$$"
   ]
  },
  {
   "cell_type": "code",
   "execution_count": null,
   "metadata": {},
   "outputs": [],
   "source": [
    "plt.plot(aoverb(data, bhdvcs), produceLHS(data, bhdvcs), 'go', label='y')\n",
    "plt.plot(aoverb(data, bhdvcs), yhat, label='yhat')\n",
    "plt.plot(aoverb(data, bhdvcs), yhatwtrue, label='yhatwtrue')\n",
    "plt.xlabel('$A_{uu}^I/B_{uu}^I$')\n",
    "plt.ylabel('$\\sigma_{uu}/B_{uu}^I$')\n",
    "plt.legend()\n",
    "plt.show()"
   ]
  },
  {
   "cell_type": "markdown",
   "metadata": {},
   "source": [
    "# Simultaneous"
   ]
  },
  {
   "cell_type": "code",
   "execution_count": 38,
   "metadata": {},
   "outputs": [],
   "source": [
    "import BHDVCStf"
   ]
  },
  {
   "cell_type": "code",
   "execution_count": 39,
   "metadata": {},
   "outputs": [],
   "source": [
    "import utilities"
   ]
  },
  {
   "cell_type": "code",
   "execution_count": 103,
   "metadata": {},
   "outputs": [],
   "source": [
    "def combined_function(data, ReH, ReE, ReHtilde):\n",
    "    dftu = data.copy()\n",
    "    dftu['F'] = bhdvcs.TotalUUXS(np.array(data[['phi_x', 'k', 'QQ', 'x_b', 't', 'F1', 'F2', 'dvcs']]), ReH, ReE, ReHtilde)\n",
    "    y1 = produceLHS(dftu, bhdvcs)\n",
    "    X = np.array(data[['QQ', 'x_b', 't', 'k', 'phi_x', 'F1', 'F2']])\n",
    "    y2 = linear_curve_fit(X, ReH, ReE)\n",
    "    return np.array((y1 + y2)/2)"
   ]
  },
  {
   "cell_type": "code",
   "execution_count": 163,
   "metadata": {},
   "outputs": [],
   "source": [
    "data = pd.read_csv('dvcs_psuedo.csv')"
   ]
  },
  {
   "cell_type": "code",
   "execution_count": 164,
   "metadata": {},
   "outputs": [],
   "source": [
    "data['F'] = produceLHS(data, bhdvcs)"
   ]
  },
  {
   "cell_type": "code",
   "execution_count": 124,
   "metadata": {},
   "outputs": [],
   "source": [
    "#data = data.loc[(data['#Set'] == 0) &(data['phi_x'] <= 180) & (data['phi_x'] != 90), :]"
   ]
  },
  {
   "cell_type": "code",
   "execution_count": 165,
   "metadata": {},
   "outputs": [],
   "source": [
    "high = data.copy()\n",
    "high['F'] = high['F'] + high['errF']\n",
    "data['errF'] = np.abs(produceLHS(high, bhdvcs) - data['F'])"
   ]
  },
  {
   "cell_type": "code",
   "execution_count": 167,
   "metadata": {},
   "outputs": [
    {
     "data": {
      "text/plain": [
       "count    5.400000e+02\n",
       "mean     1.771357e+23\n",
       "std      1.110558e+24\n",
       "min      2.478243e+01\n",
       "25%      5.754376e+04\n",
       "50%      1.466405e+05\n",
       "75%      5.665330e+05\n",
       "max      1.004347e+25\n",
       "Name: errF, dtype: float64"
      ]
     },
     "execution_count": 167,
     "metadata": {},
     "output_type": "execute_result"
    }
   ],
   "source": [
    "data['errF'].describe()"
   ]
  },
  {
   "cell_type": "code",
   "execution_count": 108,
   "metadata": {},
   "outputs": [
    {
     "data": {
      "text/plain": [
       "array([ 14.27053015,  14.18726434,  13.97456414,  13.7323913 ,\n",
       "        13.59776836,  13.72086449,  14.25384534,  15.35368962,\n",
       "        17.19516441,  24.01063197,  29.61165748,  37.24188467,\n",
       "        47.40651283,  60.49420681,  76.30235026,  93.13221648,\n",
       "       106.95007874, 112.4407308 ])"
      ]
     },
     "execution_count": 108,
     "metadata": {},
     "output_type": "execute_result"
    }
   ],
   "source": [
    "combined_function(data, 1., 1., 20.)"
   ]
  },
  {
   "cell_type": "code",
   "execution_count": 109,
   "metadata": {},
   "outputs": [],
   "source": [
    "from tqdm import tqdm"
   ]
  },
  {
   "cell_type": "code",
   "execution_count": 125,
   "metadata": {},
   "outputs": [
    {
     "data": {
      "text/plain": [
       "0      False\n",
       "1      False\n",
       "2      False\n",
       "3      False\n",
       "4      False\n",
       "       ...  \n",
       "535    False\n",
       "536    False\n",
       "537    False\n",
       "538    False\n",
       "539    False\n",
       "Name: #Set, Length: 540, dtype: bool"
      ]
     },
     "execution_count": 125,
     "metadata": {},
     "output_type": "execute_result"
    }
   ],
   "source": [
    "data['#Set'] == 1"
   ]
  },
  {
   "cell_type": "code",
   "execution_count": 126,
   "metadata": {},
   "outputs": [],
   "source": [
    "def produceResults(data, numSets, numReplicas):\n",
    "    '''\n",
    "    :param data: data of class DvcsData (which can be found in utilities.py)\n",
    "    :param numSets: number of different kinematic sets contained in data\n",
    "    :param numReplicas: number of replicas you would like to produce\n",
    "    \n",
    "    :returns: numpy array with shape (numSets, numReplicas, numCFFs)\n",
    "    '''\n",
    "    results = []\n",
    "    for i in tqdm(range(numSets)):\n",
    "        seti = data.loc[(data['#Set'] == i) & (data['phi_x'] <= 180) & (data['phi_x'] != 90), :]\n",
    "        replicas = []\n",
    "        #X = np.array(seti.XnoCFF) # the kinematics and all variables necessary to compute \n",
    "        #sigma = seti.erry \n",
    "        pars = np.array([1, 1, 1])\n",
    "        for i in range(numReplicas):\n",
    "            #y = seti.sampleY()\n",
    "            cff, cffcov = optimize.curve_fit(combined_function, seti, seti['F'], pars, method='lm')\n",
    "            replicas.append(cff)\n",
    "        results.append(replicas)\n",
    "    return np.array(results)"
   ]
  },
  {
   "cell_type": "code",
   "execution_count": 127,
   "metadata": {},
   "outputs": [
    {
     "name": "stderr",
     "output_type": "stream",
     "text": [
      "100%|██████████| 15/15 [00:16<00:00,  1.10s/it]\n"
     ]
    }
   ],
   "source": [
    "results = produceResults(data, 15, 1)"
   ]
  },
  {
   "cell_type": "code",
   "execution_count": 130,
   "metadata": {},
   "outputs": [],
   "source": [
    "import utilities as uts"
   ]
  },
  {
   "cell_type": "code",
   "execution_count": 128,
   "metadata": {},
   "outputs": [
    {
     "data": {
      "text/plain": [
       "array([[[ 16.30423061, -69.41427772,  14.53272129]],\n",
       "\n",
       "       [[ 10.87657055, -42.81350307,  17.44531023]],\n",
       "\n",
       "       [[ 14.82059675, -90.98633502,   6.74455017]],\n",
       "\n",
       "       [[  7.83834603, -48.76886673,  11.82091091]],\n",
       "\n",
       "       [[ 11.1320966 , -44.77613848,  16.69952691]],\n",
       "\n",
       "       [[ 12.50846623, -77.41568167,  11.47291749]],\n",
       "\n",
       "       [[  7.74234075, -29.42764557,  12.30594132]],\n",
       "\n",
       "       [[  7.64809465, -47.80104637,  11.84592268]],\n",
       "\n",
       "       [[ 11.13608109, -44.92137225,  16.45161324]],\n",
       "\n",
       "       [[  4.78332034, -33.01181371,   5.1336337 ]],\n",
       "\n",
       "       [[ 11.87682657, -73.76801399,  13.55402647]],\n",
       "\n",
       "       [[  9.42369547, -39.16396523,   9.65793736]],\n",
       "\n",
       "       [[  4.76475462, -32.93374781,   4.58326562]],\n",
       "\n",
       "       [[ 11.84720904, -73.58708731,  15.12716811]],\n",
       "\n",
       "       [[  9.99299852, -42.35472259,   8.38951505]]])"
      ]
     },
     "execution_count": 128,
     "metadata": {},
     "output_type": "execute_result"
    }
   ],
   "source": [
    "results"
   ]
  },
  {
   "cell_type": "code",
   "execution_count": 142,
   "metadata": {},
   "outputs": [
    {
     "data": {
      "text/html": [
       "<div>\n",
       "<style scoped>\n",
       "    .dataframe tbody tr th:only-of-type {\n",
       "        vertical-align: middle;\n",
       "    }\n",
       "\n",
       "    .dataframe tbody tr th {\n",
       "        vertical-align: top;\n",
       "    }\n",
       "\n",
       "    .dataframe thead th {\n",
       "        text-align: right;\n",
       "    }\n",
       "</style>\n",
       "<table border=\"1\" class=\"dataframe\">\n",
       "  <thead>\n",
       "    <tr style=\"text-align: right;\">\n",
       "      <th></th>\n",
       "      <th>#Set</th>\n",
       "      <th>index</th>\n",
       "      <th>errF</th>\n",
       "      <th>F</th>\n",
       "      <th>phi_x</th>\n",
       "      <th>QQ</th>\n",
       "      <th>x_b</th>\n",
       "      <th>t</th>\n",
       "      <th>k</th>\n",
       "      <th>F1</th>\n",
       "      <th>F2</th>\n",
       "      <th>dvcs</th>\n",
       "      <th>ReH</th>\n",
       "      <th>ReE</th>\n",
       "      <th>ReHtilde</th>\n",
       "    </tr>\n",
       "  </thead>\n",
       "  <tbody>\n",
       "    <tr>\n",
       "      <th>0</th>\n",
       "      <td>0</td>\n",
       "      <td>0</td>\n",
       "      <td>25081.524489</td>\n",
       "      <td>56.644099</td>\n",
       "      <td>0</td>\n",
       "      <td>1.74013</td>\n",
       "      <td>0.435095</td>\n",
       "      <td>-0.380868</td>\n",
       "      <td>3.75</td>\n",
       "      <td>0.498060</td>\n",
       "      <td>0.68579</td>\n",
       "      <td>0.012288</td>\n",
       "      <td>13.0554</td>\n",
       "      <td>-53.0554</td>\n",
       "      <td>7.25302</td>\n",
       "    </tr>\n",
       "    <tr>\n",
       "      <th>1</th>\n",
       "      <td>0</td>\n",
       "      <td>1</td>\n",
       "      <td>26351.191492</td>\n",
       "      <td>57.090333</td>\n",
       "      <td>10</td>\n",
       "      <td>1.74013</td>\n",
       "      <td>0.435095</td>\n",
       "      <td>-0.380868</td>\n",
       "      <td>3.75</td>\n",
       "      <td>0.498060</td>\n",
       "      <td>0.68579</td>\n",
       "      <td>0.012288</td>\n",
       "      <td>13.0554</td>\n",
       "      <td>-53.0554</td>\n",
       "      <td>7.25302</td>\n",
       "    </tr>\n",
       "    <tr>\n",
       "      <th>2</th>\n",
       "      <td>0</td>\n",
       "      <td>2</td>\n",
       "      <td>25735.520380</td>\n",
       "      <td>49.457650</td>\n",
       "      <td>20</td>\n",
       "      <td>1.74013</td>\n",
       "      <td>0.435095</td>\n",
       "      <td>-0.380868</td>\n",
       "      <td>3.75</td>\n",
       "      <td>0.498060</td>\n",
       "      <td>0.68579</td>\n",
       "      <td>0.012288</td>\n",
       "      <td>13.0554</td>\n",
       "      <td>-53.0554</td>\n",
       "      <td>7.25302</td>\n",
       "    </tr>\n",
       "    <tr>\n",
       "      <th>3</th>\n",
       "      <td>0</td>\n",
       "      <td>3</td>\n",
       "      <td>27506.073129</td>\n",
       "      <td>43.728771</td>\n",
       "      <td>30</td>\n",
       "      <td>1.74013</td>\n",
       "      <td>0.435095</td>\n",
       "      <td>-0.380868</td>\n",
       "      <td>3.75</td>\n",
       "      <td>0.498060</td>\n",
       "      <td>0.68579</td>\n",
       "      <td>0.012288</td>\n",
       "      <td>13.0554</td>\n",
       "      <td>-53.0554</td>\n",
       "      <td>7.25302</td>\n",
       "    </tr>\n",
       "    <tr>\n",
       "      <th>4</th>\n",
       "      <td>0</td>\n",
       "      <td>4</td>\n",
       "      <td>27565.719183</td>\n",
       "      <td>34.050046</td>\n",
       "      <td>40</td>\n",
       "      <td>1.74013</td>\n",
       "      <td>0.435095</td>\n",
       "      <td>-0.380868</td>\n",
       "      <td>3.75</td>\n",
       "      <td>0.498060</td>\n",
       "      <td>0.68579</td>\n",
       "      <td>0.012288</td>\n",
       "      <td>13.0554</td>\n",
       "      <td>-53.0554</td>\n",
       "      <td>7.25302</td>\n",
       "    </tr>\n",
       "    <tr>\n",
       "      <th>...</th>\n",
       "      <td>...</td>\n",
       "      <td>...</td>\n",
       "      <td>...</td>\n",
       "      <td>...</td>\n",
       "      <td>...</td>\n",
       "      <td>...</td>\n",
       "      <td>...</td>\n",
       "      <td>...</td>\n",
       "      <td>...</td>\n",
       "      <td>...</td>\n",
       "      <td>...</td>\n",
       "      <td>...</td>\n",
       "      <td>...</td>\n",
       "      <td>...</td>\n",
       "      <td>...</td>\n",
       "    </tr>\n",
       "    <tr>\n",
       "      <th>535</th>\n",
       "      <td>14</td>\n",
       "      <td>31</td>\n",
       "      <td>205922.720357</td>\n",
       "      <td>36.046007</td>\n",
       "      <td>310</td>\n",
       "      <td>2.63258</td>\n",
       "      <td>0.345012</td>\n",
       "      <td>-0.361188</td>\n",
       "      <td>7.75</td>\n",
       "      <td>0.512913</td>\n",
       "      <td>0.71481</td>\n",
       "      <td>0.012288</td>\n",
       "      <td>11.7411</td>\n",
       "      <td>-51.7411</td>\n",
       "      <td>6.52283</td>\n",
       "    </tr>\n",
       "    <tr>\n",
       "      <th>536</th>\n",
       "      <td>14</td>\n",
       "      <td>32</td>\n",
       "      <td>163100.166302</td>\n",
       "      <td>38.684276</td>\n",
       "      <td>320</td>\n",
       "      <td>2.63258</td>\n",
       "      <td>0.345012</td>\n",
       "      <td>-0.361188</td>\n",
       "      <td>7.75</td>\n",
       "      <td>0.512913</td>\n",
       "      <td>0.71481</td>\n",
       "      <td>0.012288</td>\n",
       "      <td>11.7411</td>\n",
       "      <td>-51.7411</td>\n",
       "      <td>6.52283</td>\n",
       "    </tr>\n",
       "    <tr>\n",
       "      <th>537</th>\n",
       "      <td>14</td>\n",
       "      <td>33</td>\n",
       "      <td>166251.770829</td>\n",
       "      <td>49.899246</td>\n",
       "      <td>330</td>\n",
       "      <td>2.63258</td>\n",
       "      <td>0.345012</td>\n",
       "      <td>-0.361188</td>\n",
       "      <td>7.75</td>\n",
       "      <td>0.512913</td>\n",
       "      <td>0.71481</td>\n",
       "      <td>0.012288</td>\n",
       "      <td>11.7411</td>\n",
       "      <td>-51.7411</td>\n",
       "      <td>6.52283</td>\n",
       "    </tr>\n",
       "    <tr>\n",
       "      <th>538</th>\n",
       "      <td>14</td>\n",
       "      <td>34</td>\n",
       "      <td>181674.765242</td>\n",
       "      <td>64.775703</td>\n",
       "      <td>340</td>\n",
       "      <td>2.63258</td>\n",
       "      <td>0.345012</td>\n",
       "      <td>-0.361188</td>\n",
       "      <td>7.75</td>\n",
       "      <td>0.512913</td>\n",
       "      <td>0.71481</td>\n",
       "      <td>0.012288</td>\n",
       "      <td>11.7411</td>\n",
       "      <td>-51.7411</td>\n",
       "      <td>6.52283</td>\n",
       "    </tr>\n",
       "    <tr>\n",
       "      <th>539</th>\n",
       "      <td>14</td>\n",
       "      <td>35</td>\n",
       "      <td>165637.484194</td>\n",
       "      <td>65.707801</td>\n",
       "      <td>350</td>\n",
       "      <td>2.63258</td>\n",
       "      <td>0.345012</td>\n",
       "      <td>-0.361188</td>\n",
       "      <td>7.75</td>\n",
       "      <td>0.512913</td>\n",
       "      <td>0.71481</td>\n",
       "      <td>0.012288</td>\n",
       "      <td>11.7411</td>\n",
       "      <td>-51.7411</td>\n",
       "      <td>6.52283</td>\n",
       "    </tr>\n",
       "  </tbody>\n",
       "</table>\n",
       "<p>540 rows × 15 columns</p>\n",
       "</div>"
      ],
      "text/plain": [
       "     #Set  index           errF          F  phi_x       QQ       x_b  \\\n",
       "0       0      0   25081.524489  56.644099      0  1.74013  0.435095   \n",
       "1       0      1   26351.191492  57.090333     10  1.74013  0.435095   \n",
       "2       0      2   25735.520380  49.457650     20  1.74013  0.435095   \n",
       "3       0      3   27506.073129  43.728771     30  1.74013  0.435095   \n",
       "4       0      4   27565.719183  34.050046     40  1.74013  0.435095   \n",
       "..    ...    ...            ...        ...    ...      ...       ...   \n",
       "535    14     31  205922.720357  36.046007    310  2.63258  0.345012   \n",
       "536    14     32  163100.166302  38.684276    320  2.63258  0.345012   \n",
       "537    14     33  166251.770829  49.899246    330  2.63258  0.345012   \n",
       "538    14     34  181674.765242  64.775703    340  2.63258  0.345012   \n",
       "539    14     35  165637.484194  65.707801    350  2.63258  0.345012   \n",
       "\n",
       "            t     k        F1       F2      dvcs      ReH      ReE  ReHtilde  \n",
       "0   -0.380868  3.75  0.498060  0.68579  0.012288  13.0554 -53.0554   7.25302  \n",
       "1   -0.380868  3.75  0.498060  0.68579  0.012288  13.0554 -53.0554   7.25302  \n",
       "2   -0.380868  3.75  0.498060  0.68579  0.012288  13.0554 -53.0554   7.25302  \n",
       "3   -0.380868  3.75  0.498060  0.68579  0.012288  13.0554 -53.0554   7.25302  \n",
       "4   -0.380868  3.75  0.498060  0.68579  0.012288  13.0554 -53.0554   7.25302  \n",
       "..        ...   ...       ...      ...       ...      ...      ...       ...  \n",
       "535 -0.361188  7.75  0.512913  0.71481  0.012288  11.7411 -51.7411   6.52283  \n",
       "536 -0.361188  7.75  0.512913  0.71481  0.012288  11.7411 -51.7411   6.52283  \n",
       "537 -0.361188  7.75  0.512913  0.71481  0.012288  11.7411 -51.7411   6.52283  \n",
       "538 -0.361188  7.75  0.512913  0.71481  0.012288  11.7411 -51.7411   6.52283  \n",
       "539 -0.361188  7.75  0.512913  0.71481  0.012288  11.7411 -51.7411   6.52283  \n",
       "\n",
       "[540 rows x 15 columns]"
      ]
     },
     "execution_count": 142,
     "metadata": {},
     "output_type": "execute_result"
    }
   ],
   "source": [
    "data"
   ]
  },
  {
   "cell_type": "code",
   "execution_count": 133,
   "metadata": {},
   "outputs": [],
   "source": [
    "y_yhat, err = uts.y_yhat_errCFFs(uts.DvcsData(data), results, 0)"
   ]
  },
  {
   "cell_type": "code",
   "execution_count": 135,
   "metadata": {},
   "outputs": [
    {
     "name": "stdout",
     "output_type": "stream",
     "text": [
      "Mean percent error:  28.10510889888377\n",
      "RMSE:  3.467259854776928\n",
      "RMSE w yhat=mean:  2.5254628436780107\n",
      "R-squared:  -0.884910856650496\n"
     ]
    },
    {
     "data": {
      "image/png": "[encoded data removed]",
      "text/plain": [
       "<Figure size 432x288 with 1 Axes>"
      ]
     },
     "metadata": {
      "needs_background": "light"
     },
     "output_type": "display_data"
    }
   ],
   "source": [
    "uts.evaluate(y_yhat)"
   ]
  },
  {
   "cell_type": "code",
   "execution_count": 136,
   "metadata": {},
   "outputs": [],
   "source": [
    "y_yhat, err = uts.y_yhat_errCFFs(uts.DvcsData(data), results, 1)"
   ]
  },
  {
   "cell_type": "code",
   "execution_count": 137,
   "metadata": {},
   "outputs": [
    {
     "name": "stdout",
     "output_type": "stream",
     "text": [
      "Mean percent error:  30.48759203241225\n",
      "RMSE:  19.741552613266293\n",
      "RMSE w yhat=mean:  2.525480507907797\n",
      "R-squared:  -60.104693417140794\n"
     ]
    },
    {
     "data": {
      "image/png": "[encoded data removed]",
      "text/plain": [
       "<Figure size 432x288 with 1 Axes>"
      ]
     },
     "metadata": {
      "needs_background": "light"
     },
     "output_type": "display_data"
    }
   ],
   "source": [
    "uts.evaluate(y_yhat)"
   ]
  },
  {
   "cell_type": "code",
   "execution_count": 138,
   "metadata": {},
   "outputs": [],
   "source": [
    "y_yhat, err = uts.y_yhat_errCFFs(uts.DvcsData(data), results, 2)"
   ]
  },
  {
   "cell_type": "code",
   "execution_count": 139,
   "metadata": {},
   "outputs": [
    {
     "name": "stdout",
     "output_type": "stream",
     "text": [
      "Mean percent error:  49.65253896508765\n",
      "RMSE:  7.249909738406301\n",
      "RMSE w yhat=mean:  1.4030345621243816\n",
      "R-squared:  -25.701057391692828\n"
     ]
    },
    {
     "data": {
      "image/png": "[encoded data removed]",
      "text/plain": [
       "<Figure size 432x288 with 1 Axes>"
      ]
     },
     "metadata": {
      "needs_background": "light"
     },
     "output_type": "display_data"
    }
   ],
   "source": [
    "uts.evaluate(y_yhat)"
   ]
  }
 ],
 "metadata": {
  "kernelspec": {
   "display_name": "Py38Root",
   "language": "python",
   "name": "python3"
  },
  "language_info": {
   "codemirror_mode": {
    "name": "ipython",
    "version": 3
   },
   "file_extension": ".py",
   "mimetype": "text/x-python",
   "name": "python",
   "nbconvert_exporter": "python",
   "pygments_lexer": "ipython3",
   "version": "3.8.3"
  }
 },
 "nbformat": 4,
 "nbformat_minor": 2
}
