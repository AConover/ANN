{
 "cells": [
  {
   "cell_type": "code",
   "execution_count": 27,
   "metadata": {},
   "outputs": [
    {
     "name": "stdout",
     "output_type": "stream",
     "text": [
      "The autoreload extension is already loaded. To reload it, use:\n",
      "  %reload_ext autoreload\n"
     ]
    }
   ],
   "source": [
    "%load_ext autoreload\n",
    "%autoreload 2"
   ]
  },
  {
   "cell_type": "code",
   "execution_count": 28,
   "metadata": {},
   "outputs": [],
   "source": [
    "import pandas as pd\n",
    "import numpy as np\n",
    "import matplotlib.pyplot as plt\n",
    "import seaborn as sns\n",
    "from scipy import optimize"
   ]
  },
  {
   "cell_type": "code",
   "execution_count": 29,
   "metadata": {},
   "outputs": [],
   "source": [
    "from BHDVCStf import BHDVCS"
   ]
  },
  {
   "cell_type": "code",
   "execution_count": 30,
   "metadata": {},
   "outputs": [],
   "source": [
    "bhdvcs = BHDVCS()"
   ]
  },
  {
   "cell_type": "code",
   "execution_count": 53,
   "metadata": {},
   "outputs": [],
   "source": [
    "data = pd.read_csv('dvcs_psuedo.csv')"
   ]
  },
  {
   "cell_type": "markdown",
   "metadata": {},
   "source": [
    "# For Set 0"
   ]
  },
  {
   "cell_type": "code",
   "execution_count": 42,
   "metadata": {},
   "outputs": [],
   "source": [
    "data = data.loc[(data['#Set'] == 0) & (data['phi_x'] <= 180) & (data['phi_x'] != 90), :]"
   ]
  },
  {
   "cell_type": "code",
   "execution_count": 43,
   "metadata": {},
   "outputs": [],
   "source": [
    "def produceLHS(data, bhdvcs):\n",
    "    bhdvcs.SetKinematics(data['QQ'], data['x_b'], data['t'], data['k'])\n",
    "    bh = bhdvcs.GetBHUUxs(data['phi_x'], data['F1'], data['F2'])\n",
    "    interference = data['F'] - data['dvcs'] - bh\n",
    "    interference /= bhdvcs.Gamma\n",
    "    interference *= data['QQ']\n",
    "    interference *= np.abs(data['t'])\n",
    "    a, b = bhdvcs.ABcon(data['phi_x'], data['F1'], data['F2'])\n",
    "    interference /= b\n",
    "    return interference"
   ]
  },
  {
   "cell_type": "code",
   "execution_count": 44,
   "metadata": {},
   "outputs": [],
   "source": [
    "def produceLHSerr(data, bhdvcs):\n",
    "    bhdvcs.SetKinematics(data['QQ'], data['x_b'], data['t'], data['k'])\n",
    "    err = data['errF']\n",
    "    err /= bhdvcs.Gamma\n",
    "    err *= data['QQ']\n",
    "    err *= np.abs(data['t'])\n",
    "    a, b = bhdvcs.ABcon(data['phi_x'], data['F1'], data['F2'])\n",
    "    err /= b\n",
    "    return err"
   ]
  },
  {
   "cell_type": "code",
   "execution_count": 45,
   "metadata": {},
   "outputs": [],
   "source": [
    "def aoverb(data, bhdvcs):\n",
    "    bhdvcs.SetKinematics(data['QQ'], data['x_b'], data['t'], data['k'])\n",
    "    a, b = bhdvcs.ABcon(data['phi_x'], data['F1'], data['F2'])\n",
    "    return a/b"
   ]
  },
  {
   "cell_type": "code",
   "execution_count": 46,
   "metadata": {
    "scrolled": true
   },
   "outputs": [
    {
     "data": {
      "image/png": "[encoded data removed]",
      "text/plain": [
       "<Figure size 432x288 with 1 Axes>"
      ]
     },
     "metadata": {
      "needs_background": "light"
     },
     "output_type": "display_data"
    }
   ],
   "source": [
    "sns.scatterplot(x=aoverb(data, bhdvcs), y=produceLHS(data, bhdvcs))\n",
    "plt.xlabel('$A_{uu}^I/B_{uu}^I$')\n",
    "plt.ylabel('$\\sigma_{uu}/B_{uu}^I$')\n",
    "plt.show()"
   ]
  },
  {
   "cell_type": "code",
   "execution_count": 48,
   "metadata": {},
   "outputs": [
    {
     "data": {
      "image/png": "[encoded data removed]",
      "text/plain": [
       "<Figure size 432x288 with 1 Axes>"
      ]
     },
     "metadata": {
      "needs_background": "light"
     },
     "output_type": "display_data"
    }
   ],
   "source": [
    "sns.scatterplot(x=data['phi_x'], y=produceLHS(data, bhdvcs))\n",
    "plt.xlabel('phi')\n",
    "plt.ylabel('$\\sigma_{uu}/B_{uu}^I$')\n",
    "plt.show()"
   ]
  },
  {
   "cell_type": "code",
   "execution_count": 49,
   "metadata": {},
   "outputs": [],
   "source": [
    "y = produceLHS(data, bhdvcs)\n",
    "\n",
    "X = np.array(data[['QQ', 'x_b', 't', 'k', 'phi_x', 'F1', 'F2']])\n",
    "err = produceLHSerr(data, bhdvcs)"
   ]
  },
  {
   "cell_type": "code",
   "execution_count": 50,
   "metadata": {},
   "outputs": [],
   "source": [
    "def linear_curve_fit(data, ReH, ReE):\n",
    "    bhdvcs.SetKinematics(data[:, 0], data[:, 1], data[:, 2], data[:, 3])\n",
    "    a, b = bhdvcs.ABcon(data[:, 4], data[:, 5], data[:, 6])\n",
    "    #tau = -data['t']/(4*bhdvcs.M2)\n",
    "    gm = data[:, 5] + data[:, 6]\n",
    "    return (a/b)*(data[:, 5]*ReH + bhdvcs.tau*data[:, 6]*ReE) + gm*(ReH + ReE)"
   ]
  },
  {
   "cell_type": "code",
   "execution_count": 51,
   "metadata": {},
   "outputs": [],
   "source": [
    "cffs, var = optimize.curve_fit(linear_curve_fit, X, y, sigma=err)"
   ]
  },
  {
   "cell_type": "markdown",
   "metadata": {},
   "source": [
    "### Fitted Compton Form Factors"
   ]
  },
  {
   "cell_type": "code",
   "execution_count": 15,
   "metadata": {
    "scrolled": true
   },
   "outputs": [
    {
     "data": {
      "text/plain": [
       "array([ 16.20321612, -70.95512652])"
      ]
     },
     "execution_count": 15,
     "metadata": {},
     "output_type": "execute_result"
    }
   ],
   "source": [
    "cffs"
   ]
  },
  {
   "cell_type": "code",
   "execution_count": 16,
   "metadata": {},
   "outputs": [
    {
     "data": {
      "text/plain": [
       "array([ 12.7743163 , 337.41543006])"
      ]
     },
     "execution_count": 16,
     "metadata": {},
     "output_type": "execute_result"
    }
   ],
   "source": [
    "np.diag(var)"
   ]
  },
  {
   "cell_type": "markdown",
   "metadata": {},
   "source": [
    "### True CFFs"
   ]
  },
  {
   "cell_type": "code",
   "execution_count": 17,
   "metadata": {
    "scrolled": true
   },
   "outputs": [
    {
     "data": {
      "text/plain": [
       "ReH    13.0554\n",
       "ReE   -53.0554\n",
       "Name: 0, dtype: float64"
      ]
     },
     "execution_count": 17,
     "metadata": {},
     "output_type": "execute_result"
    }
   ],
   "source": [
    "data.loc[0, ['ReH', 'ReE']]"
   ]
  },
  {
   "cell_type": "code",
   "execution_count": 18,
   "metadata": {},
   "outputs": [],
   "source": [
    "yhat = linear_curve_fit(X, *cffs)\n",
    "yhatupper = linear_curve_fit(X, *(cffs + np.diag(var)))\n",
    "yhatlower = linear_curve_fit(X, *(cffs - np.diag(var)))"
   ]
  },
  {
   "cell_type": "code",
   "execution_count": 19,
   "metadata": {},
   "outputs": [],
   "source": [
    "yhatwtrue = linear_curve_fit(X, 13.0554, -53.0554)"
   ]
  },
  {
   "cell_type": "markdown",
   "metadata": {},
   "source": [
    "### Central Values"
   ]
  },
  {
   "cell_type": "code",
   "execution_count": 20,
   "metadata": {},
   "outputs": [
    {
     "data": {
      "image/png": "[encoded data removed]",
      "text/plain": [
       "<Figure size 432x288 with 1 Axes>"
      ]
     },
     "metadata": {
      "needs_background": "light"
     },
     "output_type": "display_data"
    }
   ],
   "source": [
    "plt.plot(aoverb(data, bhdvcs), produceLHS(data, bhdvcs), 'go', label='y')\n",
    "plt.plot(aoverb(data, bhdvcs), yhat, label='yhat')\n",
    "plt.plot(aoverb(data, bhdvcs), yhatwtrue, label='yhatwtrue')\n",
    "plt.xlabel('$A_{uu}^I/B_{uu}^I$')\n",
    "plt.ylabel('$\\sigma_{uu}/B_{uu}^I$')\n",
    "plt.legend()\n",
    "plt.show()"
   ]
  },
  {
   "cell_type": "markdown",
   "metadata": {},
   "source": [
    "## Error"
   ]
  },
  {
   "cell_type": "code",
   "execution_count": 21,
   "metadata": {
    "scrolled": true
   },
   "outputs": [
    {
     "data": {
      "image/png": "[encoded data removed]",
      "text/plain": [
       "<Figure size 432x288 with 1 Axes>"
      ]
     },
     "metadata": {
      "needs_background": "light"
     },
     "output_type": "display_data"
    }
   ],
   "source": [
    "plt.errorbar(aoverb(data, bhdvcs), produceLHS(data, bhdvcs), yerr=err, fmt='go', label='y')\n",
    "plt.plot(aoverb(data, bhdvcs), yhat, label='yhat')\n",
    "plt.plot(aoverb(data, bhdvcs), yhatlower, label='yhatlowerCI')\n",
    "plt.plot(aoverb(data, bhdvcs), yhatupper, label='yhatupperCI')\n",
    "plt.plot(aoverb(data, bhdvcs), yhatwtrue, label='yhatwtrue')\n",
    "plt.xlabel('$A_{uu}^I/B_{uu}^I$')\n",
    "plt.ylabel('$\\sigma_{uu}/B_{uu}^I$')\n",
    "plt.legend()\n",
    "plt.show()"
   ]
  },
  {
   "cell_type": "markdown",
   "metadata": {},
   "source": [
    "## Limits"
   ]
  },
  {
   "cell_type": "code",
   "execution_count": 22,
   "metadata": {},
   "outputs": [],
   "source": [
    "high = data.copy()\n",
    "high['F'] = data['F'] + data['errF']\n",
    "low = data.copy()\n",
    "low['F'] = data['F'] - data['errF']"
   ]
  },
  {
   "cell_type": "code",
   "execution_count": 25,
   "metadata": {},
   "outputs": [
    {
     "data": {
      "image/png": "[encoded data removed]",
      "text/plain": [
       "<Figure size 432x288 with 1 Axes>"
      ]
     },
     "metadata": {
      "needs_background": "light"
     },
     "output_type": "display_data"
    }
   ],
   "source": [
    "plt.scatter(x=aoverb(high, bhdvcs), y=produceLHS(high, bhdvcs), label='high')\n",
    "plt.scatter(x=aoverb(data, bhdvcs), y=produceLHS(data, bhdvcs), label='center')\n",
    "plt.scatter(x=aoverb(low, bhdvcs), y=produceLHS(low, bhdvcs), label='low')\n",
    "plt.xlabel('$A_{uu}^I/B_{uu}^I$')\n",
    "plt.ylabel('$\\sigma_{uu}/B_{uu}^I$')\n",
    "plt.legend()\n",
    "plt.show()"
   ]
  },
  {
   "cell_type": "markdown",
   "metadata": {},
   "source": [
    "## A/B vs phi"
   ]
  },
  {
   "cell_type": "code",
   "execution_count": 23,
   "metadata": {
    "scrolled": true
   },
   "outputs": [
    {
     "data": {
      "image/png": "[encoded data removed]",
      "text/plain": [
       "<Figure size 432x288 with 1 Axes>"
      ]
     },
     "metadata": {
      "needs_background": "light"
     },
     "output_type": "display_data"
    }
   ],
   "source": [
    "plt.scatter(aoverb(data, bhdvcs), data['phi_x'])\n",
    "plt.xlabel('$A_{uu}^I/B_{uu}^I$')\n",
    "plt.ylabel('Phi')\n",
    "plt.show()"
   ]
  },
  {
   "cell_type": "markdown",
   "metadata": {},
   "source": [
    "# New Error"
   ]
  },
  {
   "cell_type": "code",
   "execution_count": 59,
   "metadata": {},
   "outputs": [],
   "source": [
    "y = produceLHS(data, bhdvcs)\n",
    "\n",
    "X = np.array(data[['QQ', 'x_b', 't', 'k', 'phi_x', 'F1', 'F2']])\n",
    "high = data.copy()\n",
    "high['F'] = data['F'] + data['errF']\n",
    "err = np.abs(produceLHS(high, bhdvcs) - y)"
   ]
  },
  {
   "cell_type": "code",
   "execution_count": 60,
   "metadata": {},
   "outputs": [],
   "source": [
    "cffs, var = optimize.curve_fit(linear_curve_fit, X, y, sigma=err)"
   ]
  },
  {
   "cell_type": "code",
   "execution_count": 61,
   "metadata": {},
   "outputs": [
    {
     "data": {
      "text/plain": [
       "array([-4.14998417, 30.11224422])"
      ]
     },
     "execution_count": 61,
     "metadata": {},
     "output_type": "execute_result"
    }
   ],
   "source": [
    "cffs"
   ]
  },
  {
   "cell_type": "markdown",
   "metadata": {},
   "source": [
    "$$\\frac{g_1(b)}{1−G_1(b)} > \\frac{g_2(b)}{1−G_2(b)}$$"
   ]
  },
  {
   "cell_type": "code",
   "execution_count": null,
   "metadata": {},
   "outputs": [],
   "source": [
    "plt.plot(aoverb(data, bhdvcs), produceLHS(data, bhdvcs), 'go', label='y')\n",
    "plt.plot(aoverb(data, bhdvcs), yhat, label='yhat')\n",
    "plt.plot(aoverb(data, bhdvcs), yhatwtrue, label='yhatwtrue')\n",
    "plt.xlabel('$A_{uu}^I/B_{uu}^I$')\n",
    "plt.ylabel('$\\sigma_{uu}/B_{uu}^I$')\n",
    "plt.legend()\n",
    "plt.show()"
   ]
  },
  {
   "cell_type": "markdown",
   "metadata": {},
   "source": [
    "# Simultaneous"
   ]
  },
  {
   "cell_type": "code",
   "execution_count": 38,
   "metadata": {},
   "outputs": [],
   "source": [
    "import BHDVCStf"
   ]
  },
  {
   "cell_type": "code",
   "execution_count": 59,
   "metadata": {},
   "outputs": [],
   "source": [
    "import utilities"
   ]
  },
  {
   "cell_type": "code",
   "execution_count": null,
   "metadata": {},
   "outputs": [],
   "source": [
    "def combined_function(data, ReH, ReE, ReHtilde)"
   ]
  },
  {
   "cell_type": "code",
   "execution_count": 78,
   "metadata": {},
   "outputs": [],
   "source": [
    "data = pd.read_csv('dvcs_psuedo.csv')"
   ]
  },
  {
   "cell_type": "code",
   "execution_count": 79,
   "metadata": {},
   "outputs": [],
   "source": [
    "data['F'] = produceLHS(data, bhdvcs)\n",
    "data['errF'] = np.abs(produceLHSerr(data, bhdvcs))"
   ]
  },
  {
   "cell_type": "code",
   "execution_count": 80,
   "metadata": {},
   "outputs": [],
   "source": [
    "data = utilities.DvcsData(data)"
   ]
  },
  {
   "cell_type": "code",
   "execution_count": 81,
   "metadata": {},
   "outputs": [],
   "source": [
    "from tqdm import tqdm"
   ]
  },
  {
   "cell_type": "code",
   "execution_count": 85,
   "metadata": {},
   "outputs": [],
   "source": [
    "def produceResults(data, numSets, numReplicas):\n",
    "    '''\n",
    "    :param data: data of class DvcsData (which can be found in utilities.py)\n",
    "    :param numSets: number of different kinematic sets contained in data\n",
    "    :param numReplicas: number of replicas you would like to produce\n",
    "    \n",
    "    :returns: numpy array with shape (numSets, numReplicas, numCFFs)\n",
    "    '''\n",
    "    results = []\n",
    "    for i in tqdm(range(numSets)):\n",
    "        replicas = []\n",
    "        seti = data.getSet(i) # DvcsData object of kinematic set i\n",
    "        X = np.array(seti.XnoCFF) # the kinematics and all variables necessary to compute \n",
    "        sigma = seti.erry \n",
    "        pars = np.array([1, 1])\n",
    "        for i in range(numReplicas):\n",
    "            y = seti.sampleY()\n",
    "            cff, cffcov = optimize.curve_fit(linear_curve_fit, X, y, pars, sigma, method='lm')\n",
    "            replicas.append(cff)\n",
    "        results.append(replicas)\n",
    "    return np.array(results)"
   ]
  },
  {
   "cell_type": "code",
   "execution_count": 86,
   "metadata": {},
   "outputs": [
    {
     "name": "stderr",
     "output_type": "stream",
     "text": [
      "  0%|          | 0/15 [00:00<?, ?it/s]/Users/nick/Documents/ANN/Nick/BHDVCStf.py:67: RuntimeWarning: divide by zero encountered in true_divide\n",
      "  self.xi = 1. * self.x * ( ( 1. + self.t / ( 2. * self.QQ ) ) / ( 2. - self.x + self.x * self.t / self.QQ ) ) # skewness parameter eq. (12b) dnote: there is a minus sign on the write up that shouldn't be there\n",
      "/Users/nick/Documents/ANN/Nick/BHDVCStf.py:67: RuntimeWarning: invalid value encountered in true_divide\n",
      "  self.xi = 1. * self.x * ( ( 1. + self.t / ( 2. * self.QQ ) ) / ( 2. - self.x + self.x * self.t / self.QQ ) ) # skewness parameter eq. (12b) dnote: there is a minus sign on the write up that shouldn't be there\n",
      "/Users/nick/Documents/ANN/Nick/BHDVCStf.py:78: RuntimeWarning: divide by zero encountered in true_divide\n",
      "  self.cth = -1. / tf.sqrt( 1. + self.gg ) * ( 1. + self.gg / 2. * ( 1. + self.t / self.QQ ) / ( 1. + self.x * self.t / self.QQ ) ) # This is tf.cos(theta) eq. (26)\n",
      "/usr/local/lib/python3.8/site-packages/scipy/optimize/minpack.py:807: OptimizeWarning: Covariance of the parameters could not be estimated\n",
      "  warnings.warn('Covariance of the parameters could not be estimated',\n",
      "100%|██████████| 15/15 [00:55<00:00,  3.71s/it]\n"
     ]
    }
   ],
   "source": [
    "results = produceResults(data, 15, 100)"
   ]
  },
  {
   "cell_type": "code",
   "execution_count": 87,
   "metadata": {},
   "outputs": [
    {
     "data": {
      "text/plain": [
       "array([[[1., 1.],\n",
       "        [1., 1.],\n",
       "        [1., 1.],\n",
       "        ...,\n",
       "        [1., 1.],\n",
       "        [1., 1.],\n",
       "        [1., 1.]],\n",
       "\n",
       "       [[1., 1.],\n",
       "        [1., 1.],\n",
       "        [1., 1.],\n",
       "        ...,\n",
       "        [1., 1.],\n",
       "        [1., 1.],\n",
       "        [1., 1.]],\n",
       "\n",
       "       [[1., 1.],\n",
       "        [1., 1.],\n",
       "        [1., 1.],\n",
       "        ...,\n",
       "        [1., 1.],\n",
       "        [1., 1.],\n",
       "        [1., 1.]],\n",
       "\n",
       "       ...,\n",
       "\n",
       "       [[1., 1.],\n",
       "        [1., 1.],\n",
       "        [1., 1.],\n",
       "        ...,\n",
       "        [1., 1.],\n",
       "        [1., 1.],\n",
       "        [1., 1.]],\n",
       "\n",
       "       [[1., 1.],\n",
       "        [1., 1.],\n",
       "        [1., 1.],\n",
       "        ...,\n",
       "        [1., 1.],\n",
       "        [1., 1.],\n",
       "        [1., 1.]],\n",
       "\n",
       "       [[1., 1.],\n",
       "        [1., 1.],\n",
       "        [1., 1.],\n",
       "        ...,\n",
       "        [1., 1.],\n",
       "        [1., 1.],\n",
       "        [1., 1.]]])"
      ]
     },
     "execution_count": 87,
     "metadata": {},
     "output_type": "execute_result"
    }
   ],
   "source": [
    "results"
   ]
  },
  {
   "cell_type": "code",
   "execution_count": null,
   "metadata": {},
   "outputs": [],
   "source": []
  }
 ],
 "metadata": {
  "kernelspec": {
   "display_name": "Py38Root",
   "language": "python",
   "name": "python3"
  },
  "language_info": {
   "codemirror_mode": {
    "name": "ipython",
    "version": 3
   },
   "file_extension": ".py",
   "mimetype": "text/x-python",
   "name": "python",
   "nbconvert_exporter": "python",
   "pygments_lexer": "ipython3",
   "version": "3.8.3"
  }
 },
 "nbformat": 4,
 "nbformat_minor": 2
}
