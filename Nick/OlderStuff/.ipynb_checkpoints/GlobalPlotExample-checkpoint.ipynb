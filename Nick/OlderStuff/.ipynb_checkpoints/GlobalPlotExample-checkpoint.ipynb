{
 "cells": [
  {
   "cell_type": "code",
   "execution_count": 4,
   "metadata": {},
   "outputs": [],
   "source": [
    "%load_ext autoreload\n",
    "%autoreload 2"
   ]
  },
  {
   "cell_type": "code",
   "execution_count": 5,
   "metadata": {},
   "outputs": [],
   "source": [
    "import tensorflow as tf\n",
    "import pandas as pd\n",
    "import numpy as np\n",
    "import matplotlib.pyplot as plt\n",
    "from tqdm.notebook import tqdm\n",
    "from sklearn.preprocessing import MinMaxScaler"
   ]
  },
  {
   "cell_type": "code",
   "execution_count": 6,
   "metadata": {},
   "outputs": [],
   "source": [
    "import scipy.optimize as optimization\n",
    "\n",
    "import utilities as uts\n",
    "from BHDVCStf import BHDVCS #modified bhdvcs file\n",
    "bhdvcs = BHDVCS()"
   ]
  },
  {
   "cell_type": "code",
   "execution_count": 10,
   "metadata": {},
   "outputs": [],
   "source": [
    "df = pd.read_csv(\"dvcs_psuedo.csv\")\n",
    "data = uts.DvcsData(df)"
   ]
  },
  {
   "cell_type": "code",
   "execution_count": 46,
   "metadata": {},
   "outputs": [],
   "source": [
    "numReplicas = 500\n",
    "results = np.fromfile('Methods/replicas500.txt').reshape(15, 500, 3)"
   ]
  },
  {
   "cell_type": "markdown",
   "metadata": {},
   "source": [
    "## Model"
   ]
  },
  {
   "cell_type": "code",
   "execution_count": 39,
   "metadata": {},
   "outputs": [],
   "source": [
    "def produceEstimates(replica_models, valid_x):\n",
    "    cffGuesses = []\n",
    "    for model in replica_models:\n",
    "        cffGuesses.append(model.predict(valid_x)[0][0])\n",
    "    return np.array(cffGuesses)"
   ]
  },
  {
   "cell_type": "code",
   "execution_count": 40,
   "metadata": {},
   "outputs": [],
   "source": [
    "kinematics = tf.keras.Input(shape=(4))\n",
    "x = tf.keras.layers.Dense(20, activation=\"relu\")(kinematics)\n",
    "outputs = tf.keras.layers.Dense(1)(x)\n",
    "\n",
    "globalModel = tf.keras.Model(inputs=kinematics, outputs=outputs, name=\"GlobalModel\")"
   ]
  },
  {
   "cell_type": "code",
   "execution_count": 41,
   "metadata": {},
   "outputs": [],
   "source": [
    "whichCFF = 0 # ReH\n",
    "numSets = 15\n",
    "\n",
    "X = df.loc[np.array(range(numSets))*36, ['k', 'QQ', 'x_b', 't']].reset_index(drop=True)\n",
    "\n",
    "y = df.loc[np.array(range(numSets))*36, 'ReH'].reset_index(drop=True)\n",
    "\n",
    "rescaler = MinMaxScaler()\n",
    "\n",
    "rescaler = rescaler.fit(X)\n",
    "\n",
    "X_rescaled = rescaler.transform(X)\n",
    "\n",
    "globalModel.compile(optimizer=tf.keras.optimizers.Adam(.3), loss=tf.keras.losses.MeanSquaredError())\n",
    "\n",
    "orig_weights = globalModel.get_weights()"
   ]
  },
  {
   "cell_type": "code",
   "execution_count": 42,
   "metadata": {},
   "outputs": [],
   "source": [
    "def gen_to_pred(data, resolution=100):\n",
    "    km = np.repeat([data.Kinematics['k'].median()], resolution)\n",
    "    QQm = np.repeat([data.Kinematics['QQ'].median()], resolution)\n",
    "    x_bm = np.repeat([data.Kinematics['x_b'].median()], resolution)\n",
    "    tm = np.repeat([data.Kinematics['t'].median()], resolution)\n",
    "\n",
    "    k = np.linspace(data.Kinematics['k'].min(), data.Kinematics['k'].max(), num=resolution)\n",
    "    QQ = np.linspace(data.Kinematics['QQ'].min(), data.Kinematics['QQ'].max(), num=resolution)\n",
    "    x_b = np.linspace(data.Kinematics['x_b'].min(), data.Kinematics['x_b'].max(), num=resolution)\n",
    "    t = np.linspace(data.Kinematics['t'].min(), data.Kinematics['t'].max(), num=resolution)\n",
    "    \n",
    "    to_pred = np.column_stack([k, QQm, x_bm, tm])\n",
    "    to_pred = np.vstack([to_pred, np.column_stack([km, QQ, x_bm, tm])])\n",
    "    to_pred = np.vstack([to_pred, np.column_stack([km, QQm, x_b, tm])])\n",
    "    to_pred = np.vstack([to_pred, np.column_stack([km, QQm, x_bm, t])])\n",
    "    \n",
    "    return to_pred, k, QQ, x_b, t"
   ]
  },
  {
   "cell_type": "code",
   "execution_count": 43,
   "metadata": {},
   "outputs": [],
   "source": [
    "to_pred, k, QQ, x_b, t = gen_to_pred(data)"
   ]
  },
  {
   "cell_type": "code",
   "execution_count": 44,
   "metadata": {},
   "outputs": [],
   "source": [
    "def predictwReplicas(model, X, to_pred, results, orig_weights, numReplicas, whichCFF):\n",
    "    #valid_y = np.array(y[i])\n",
    "\n",
    "    preds = []\n",
    "    for rep in tqdm(range(numReplicas)):\n",
    "        \n",
    "        train_y = results[:, rep, whichCFF]\n",
    "\n",
    "        model.set_weights(orig_weights)\n",
    "        model.fit(X, train_y, epochs = 150, verbose=0)\n",
    "        preds.append(model.predict(to_pred))\n",
    "        \n",
    "    return np.column_stack(preds)"
   ]
  },
  {
   "cell_type": "code",
   "execution_count": 47,
   "metadata": {},
   "outputs": [
    {
     "data": {
      "application/vnd.jupyter.widget-view+json": {
       "model_id": "b3a1bef125c04881818453668c2821a7",
       "version_major": 2,
       "version_minor": 0
      },
      "text/plain": [
       "HBox(children=(FloatProgress(value=0.0, max=500.0), HTML(value='')))"
      ]
     },
     "metadata": {},
     "output_type": "display_data"
    },
    {
     "name": "stdout",
     "output_type": "stream",
     "text": [
      "\n"
     ]
    }
   ],
   "source": [
    "preds = predictwReplicas(globalModel, X_rescaled, to_pred, results, orig_weights, numReplicas, whichCFF)"
   ]
  },
  {
   "cell_type": "code",
   "execution_count": 48,
   "metadata": {},
   "outputs": [],
   "source": [
    "def c_int_plot(preds, x, which_kin, kin_range, cffname):\n",
    "    '''\n",
    "    :param preds: numpy array of predictions\n",
    "    :param x: an array of the values of which_kin that were used in generating predictions\n",
    "    :param which_kin: string name of kinematic to plot\n",
    "    :param kin_range: a tuple of lower and upper indices of predictions\n",
    "    :param cffname: the name of the compton form factor we're predicting\n",
    "    '''\n",
    "    y_hat = preds[kin_range[0]:kin_range[1], :].mean(axis=1)\n",
    "    upper_y_hat = y_hat + preds[kin_range[0]:kin_range[1], :].std(axis=1)\n",
    "    lower_y_hat = y_hat - preds[kin_range[0]:kin_range[1], :].std(axis=1)\n",
    "    \n",
    "    plt.plot(x, lower_y_hat)\n",
    "    plt.plot(x, y_hat, color='black')\n",
    "    plt.plot(x, upper_y_hat, color='red')\n",
    "    plt.title('68% confidence interval with point predictions')\n",
    "    plt.ylabel(cffname)\n",
    "    plt.xlabel(which_kin)\n",
    "    plt.show()\n",
    "        "
   ]
  },
  {
   "cell_type": "code",
   "execution_count": 55,
   "metadata": {},
   "outputs": [
    {
     "data": {
      "image/png": "[encoded data removed]",
      "text/plain": [
       "<Figure size 432x288 with 1 Axes>"
      ]
     },
     "metadata": {
      "needs_background": "light"
     },
     "output_type": "display_data"
    }
   ],
   "source": [
    "c_int_plot(preds, QQ, 'QQ', (100, 200), 'ReH')"
   ]
  }
 ],
 "metadata": {
  "kernelspec": {
   "display_name": "Py38Root",
   "language": "python",
   "name": "python3"
  },
  "language_info": {
   "codemirror_mode": {
    "name": "ipython",
    "version": 3
   },
   "file_extension": ".py",
   "mimetype": "text/x-python",
   "name": "python",
   "nbconvert_exporter": "python",
   "pygments_lexer": "ipython3",
   "version": "3.8.3"
  }
 },
 "nbformat": 4,
 "nbformat_minor": 2
}
