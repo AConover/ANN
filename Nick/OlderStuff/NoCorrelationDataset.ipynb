{
 "cells": [
  {
   "cell_type": "code",
   "execution_count": 31,
   "metadata": {},
   "outputs": [],
   "source": [
    "import pandas as pd\n",
    "import numpy as np\n",
    "from tqdm.notebook import tqdm\n",
    "import scipy.optimize as optimization\n",
    "import matplotlib.pyplot as plt\n",
    "\n",
    "from BHDVCStf import BHDVCS #modified bhdvcs file\n",
    "import utilities as uts"
   ]
  },
  {
   "cell_type": "code",
   "execution_count": 5,
   "metadata": {},
   "outputs": [],
   "source": [
    "bhdvcs = BHDVCS()\n",
    "\n",
    "df = pd.read_csv('dvcs_psuedo.csv')\n",
    "\n",
    "numSets = 15\n",
    "numReplicas = 500"
   ]
  },
  {
   "cell_type": "code",
   "execution_count": 13,
   "metadata": {},
   "outputs": [],
   "source": [
    "t_range = (df['t'].min(), df['t'].max())\n",
    "QQ_range = (df['QQ'].min(), df['QQ'].max())\n",
    "k_range = (df['k'].min(), df['k'].max())\n",
    "x_b_range = (df['x_b'].min(), df['x_b'].max())"
   ]
  },
  {
   "cell_type": "code",
   "execution_count": 19,
   "metadata": {},
   "outputs": [
    {
     "data": {
      "text/plain": [
       "-0.34332621723393253"
      ]
     },
     "execution_count": 19,
     "metadata": {},
     "output_type": "execute_result"
    }
   ],
   "source": [
    "np.random.uniform(t_range[0], t_range[1])"
   ]
  },
  {
   "cell_type": "code",
   "execution_count": 22,
   "metadata": {},
   "outputs": [
    {
     "data": {
      "text/plain": [
       "36"
      ]
     },
     "execution_count": 22,
     "metadata": {},
     "output_type": "execute_result"
    }
   ],
   "source": [
    "len(np.array(range(36)))"
   ]
  },
  {
   "cell_type": "markdown",
   "metadata": {},
   "source": [
    "## Kinematic Ranges"
   ]
  },
  {
   "cell_type": "markdown",
   "metadata": {},
   "source": [
    "x_b : .1 , .7\n",
    "\n",
    "t : -.1 , -.4\n",
    "\n",
    "QQ : 1 , 10\n",
    "\n",
    "k : < 10"
   ]
  },
  {
   "cell_type": "markdown",
   "metadata": {},
   "source": [
    "-t/QQ < .5"
   ]
  },
  {
   "cell_type": "code",
   "execution_count": 44,
   "metadata": {},
   "outputs": [],
   "source": [
    "for i in range(numSets):\n",
    "    kset = pd.DataFrame({'#Set': np.repeat(i, 36),\n",
    "                         'index': np.array(range(36)),\n",
    "                         'phi_x': np.array(range(36))*10,\n",
    "                         'QQ': np.repeat(np.random.uniform(QQ_range[0], QQ_range[1]), 36),\n",
    "                         'x_b': np.repeat(np.random.uniform(x_b_range[0], x_b_range[1]), 36),\n",
    "                         't': np.repeat(np.random.uniform(t_range[0], t_range[1]), 36),\n",
    "                         'k': np.repeat(np.random.uniform(k_range[0], k_range[1]), 36),\n",
    "                         'dvcs': np.repeat(0.012288, 36)})\n",
    "    kset['F1'] = uts.f1_f2.ffF1(kset['t'])\n",
    "    kset['F2'] = uts.f1_f2.ffF2(kset['t'])\n",
    "    \n",
    "    kset['ReH'] = 90*kset['t']**2\n",
    "    kset['ReHtilde'] = 90*kset['t']**2 + 5\n",
    "    kset['ReE'] = -50*kset['t']**2 - 40\n",
    "    \n",
    "    kset['F'] = bhdvcs.TotalUUXS(np.array(kset[['phi_x', 'k', 'QQ', 'x_b', 't', 'F1', 'F2', 'dvcs']]),\n",
    "                                 kset['ReH'][0], kset['ReE'][0], kset['ReHtilde'][0])\n",
    "    kset['errF'] = kset['F']*.05\n",
    "    if i==0:\n",
    "        data = kset.copy()\n",
    "    else:\n",
    "        data = pd.concat([data, kset])\n",
    "    \n",
    "data = data.reset_index(drop=True)\n",
    "data = uts.DvcsData(data)"
   ]
  },
  {
   "cell_type": "code",
   "execution_count": 45,
   "metadata": {},
   "outputs": [],
   "source": [
    "to_plot = data.df.loc[data.df['index'] == 0, ['QQ', 'x_b', 't', 'k']]"
   ]
  },
  {
   "cell_type": "code",
   "execution_count": 46,
   "metadata": {},
   "outputs": [
    {
     "data": {
      "image/png": "[encoded data removed]",
      "text/plain": [
       "<Figure size 288x288 with 1 Axes>"
      ]
     },
     "metadata": {
      "needs_background": "light"
     },
     "output_type": "display_data"
    }
   ],
   "source": [
    "plt.matshow(to_plot.corr())\n",
    "plt.show()"
   ]
  },
  {
   "cell_type": "code",
   "execution_count": 47,
   "metadata": {},
   "outputs": [
    {
     "data": {
      "text/html": [
       "<div>\n",
       "<style scoped>\n",
       "    .dataframe tbody tr th:only-of-type {\n",
       "        vertical-align: middle;\n",
       "    }\n",
       "\n",
       "    .dataframe tbody tr th {\n",
       "        vertical-align: top;\n",
       "    }\n",
       "\n",
       "    .dataframe thead th {\n",
       "        text-align: right;\n",
       "    }\n",
       "</style>\n",
       "<table border=\"1\" class=\"dataframe\">\n",
       "  <thead>\n",
       "    <tr style=\"text-align: right;\">\n",
       "      <th></th>\n",
       "      <th>QQ</th>\n",
       "      <th>x_b</th>\n",
       "      <th>t</th>\n",
       "      <th>k</th>\n",
       "    </tr>\n",
       "  </thead>\n",
       "  <tbody>\n",
       "    <tr>\n",
       "      <th>QQ</th>\n",
       "      <td>1.000000</td>\n",
       "      <td>0.209782</td>\n",
       "      <td>-0.106038</td>\n",
       "      <td>-0.103283</td>\n",
       "    </tr>\n",
       "    <tr>\n",
       "      <th>x_b</th>\n",
       "      <td>0.209782</td>\n",
       "      <td>1.000000</td>\n",
       "      <td>-0.010536</td>\n",
       "      <td>0.380935</td>\n",
       "    </tr>\n",
       "    <tr>\n",
       "      <th>t</th>\n",
       "      <td>-0.106038</td>\n",
       "      <td>-0.010536</td>\n",
       "      <td>1.000000</td>\n",
       "      <td>0.319810</td>\n",
       "    </tr>\n",
       "    <tr>\n",
       "      <th>k</th>\n",
       "      <td>-0.103283</td>\n",
       "      <td>0.380935</td>\n",
       "      <td>0.319810</td>\n",
       "      <td>1.000000</td>\n",
       "    </tr>\n",
       "  </tbody>\n",
       "</table>\n",
       "</div>"
      ],
      "text/plain": [
       "           QQ       x_b         t         k\n",
       "QQ   1.000000  0.209782 -0.106038 -0.103283\n",
       "x_b  0.209782  1.000000 -0.010536  0.380935\n",
       "t   -0.106038 -0.010536  1.000000  0.319810\n",
       "k   -0.103283  0.380935  0.319810  1.000000"
      ]
     },
     "execution_count": 47,
     "metadata": {},
     "output_type": "execute_result"
    }
   ],
   "source": [
    "to_plot.corr()"
   ]
  },
  {
   "cell_type": "code",
   "execution_count": 48,
   "metadata": {},
   "outputs": [
    {
     "data": {
      "text/html": [
       "<div>\n",
       "<style scoped>\n",
       "    .dataframe tbody tr th:only-of-type {\n",
       "        vertical-align: middle;\n",
       "    }\n",
       "\n",
       "    .dataframe tbody tr th {\n",
       "        vertical-align: top;\n",
       "    }\n",
       "\n",
       "    .dataframe thead th {\n",
       "        text-align: right;\n",
       "    }\n",
       "</style>\n",
       "<table border=\"1\" class=\"dataframe\">\n",
       "  <thead>\n",
       "    <tr style=\"text-align: right;\">\n",
       "      <th></th>\n",
       "      <th>QQ</th>\n",
       "      <th>x_b</th>\n",
       "      <th>t</th>\n",
       "      <th>k</th>\n",
       "    </tr>\n",
       "  </thead>\n",
       "  <tbody>\n",
       "    <tr>\n",
       "      <th>QQ</th>\n",
       "      <td>1.000000</td>\n",
       "      <td>-0.695501</td>\n",
       "      <td>-0.192487</td>\n",
       "      <td>0.416995</td>\n",
       "    </tr>\n",
       "    <tr>\n",
       "      <th>x_b</th>\n",
       "      <td>-0.695501</td>\n",
       "      <td>1.000000</td>\n",
       "      <td>-0.078569</td>\n",
       "      <td>-0.689310</td>\n",
       "    </tr>\n",
       "    <tr>\n",
       "      <th>t</th>\n",
       "      <td>-0.192487</td>\n",
       "      <td>-0.078569</td>\n",
       "      <td>1.000000</td>\n",
       "      <td>0.398267</td>\n",
       "    </tr>\n",
       "    <tr>\n",
       "      <th>k</th>\n",
       "      <td>0.416995</td>\n",
       "      <td>-0.689310</td>\n",
       "      <td>0.398267</td>\n",
       "      <td>1.000000</td>\n",
       "    </tr>\n",
       "  </tbody>\n",
       "</table>\n",
       "</div>"
      ],
      "text/plain": [
       "           QQ       x_b         t         k\n",
       "QQ   1.000000 -0.695501 -0.192487  0.416995\n",
       "x_b -0.695501  1.000000 -0.078569 -0.689310\n",
       "t   -0.192487 -0.078569  1.000000  0.398267\n",
       "k    0.416995 -0.689310  0.398267  1.000000"
      ]
     },
     "execution_count": 48,
     "metadata": {},
     "output_type": "execute_result"
    }
   ],
   "source": [
    "df.loc[data.df['index'] == 0, ['QQ', 'x_b', 't', 'k']].corr()"
   ]
  },
  {
   "cell_type": "code",
   "execution_count": null,
   "metadata": {},
   "outputs": [],
   "source": []
  }
 ],
 "metadata": {
  "kernelspec": {
   "display_name": "Py38Root",
   "language": "python",
   "name": "python3"
  },
  "language_info": {
   "codemirror_mode": {
    "name": "ipython",
    "version": 3
   },
   "file_extension": ".py",
   "mimetype": "text/x-python",
   "name": "python",
   "nbconvert_exporter": "python",
   "pygments_lexer": "ipython3",
   "version": "3.8.3"
  }
 },
 "nbformat": 4,
 "nbformat_minor": 2
}
