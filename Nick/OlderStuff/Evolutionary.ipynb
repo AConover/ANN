{
 "cells": [
  {
   "cell_type": "markdown",
   "metadata": {},
   "source": [
    "# Evolutionary Algorithm fit of network"
   ]
  },
  {
   "cell_type": "code",
   "execution_count": 1,
   "metadata": {},
   "outputs": [],
   "source": [
    "# whenever changes are made to any imported files this will reload them automatically\n",
    "%load_ext autoreload\n",
    "%autoreload 2"
   ]
  },
  {
   "cell_type": "code",
   "execution_count": 2,
   "metadata": {},
   "outputs": [
    {
     "name": "stdout",
     "output_type": "stream",
     "text": [
      "2.2.0\n"
     ]
    }
   ],
   "source": [
    "import tensorflow as tf\n",
    "import numpy as np\n",
    "import pandas as pd\n",
    "import matplotlib.pyplot as plt\n",
    "from tqdm import tqdm\n",
    "import tensorflow_probability as tfp\n",
    "\n",
    "print(tf.__version__)"
   ]
  },
  {
   "cell_type": "code",
   "execution_count": 439,
   "metadata": {},
   "outputs": [],
   "source": [
    "from BHDVCStf import BHDVCS #modified bhdvcs file"
   ]
  },
  {
   "cell_type": "code",
   "execution_count": 3,
   "metadata": {},
   "outputs": [],
   "source": [
    "class DvcsData(object):\n",
    "    def __init__(self, df):\n",
    "        self.X = df.loc[:, ['phi_x', 'k', 'QQ', 'x_b', 't', 'F1', 'F2', 'ReH', 'ReE', 'ReHtilde', 'dvcs']]\n",
    "        self.XnoCFF = df.loc[:, ['phi_x', 'k', 'QQ', 'x_b', 't', 'F1', 'F2', 'dvcs']]\n",
    "        self.y = df.loc[:, 'F']\n",
    "        self.Kinematics = df.loc[:, ['k', 'QQ', 'x_b', 't']]\n",
    "        self.erry = df.loc[:, 'errF']\n",
    "        self.for_bhdvcs = (df.loc[:, 'phi_x'], df.loc[:, 'k'], df.loc[:, 'QQ'], df.loc[:, 'x_b'], df.loc[:, 't'],\n",
    "         df.loc[:, 'F1'], df.loc[:, 'F2'], df.loc[:, 'dvcs'])\n",
    "        \n",
    "    def __len__(self):\n",
    "        return len(self.X)\n",
    "    \n",
    "    def getSet(self, setNum, itemsInSet=36):\n",
    "        pd.options.mode.chained_assignment = None\n",
    "        subX = self.X.loc[setNum*itemsInSet:(setNum+1)*itemsInSet-1, :]\n",
    "        subX['F'] = self.y.loc[setNum*itemsInSet:(setNum+1)*itemsInSet-1]\n",
    "        subX['errF'] = self.erry.loc[setNum*itemsInSet:(setNum+1)*itemsInSet-1]\n",
    "        pd.options.mode.chained_assignment = 'warn'\n",
    "        return DvcsData(subX)\n",
    "    \n",
    "    def sampleY(self):\n",
    "        return np.random.normal(self.y, self.erry)\n",
    "    \n",
    "    def sampleWeights(self):\n",
    "        return 1/self.erry\n",
    "    \n",
    "    def for_bhdvcs(self):\n",
    "        return "
   ]
  },
  {
   "cell_type": "code",
   "execution_count": 4,
   "metadata": {},
   "outputs": [],
   "source": [
    "df = pd.read_csv('dvcs_xs_newsets_genCFFs.csv')"
   ]
  },
  {
   "cell_type": "code",
   "execution_count": 5,
   "metadata": {},
   "outputs": [],
   "source": [
    "data = DvcsData(df)\n",
    "set0 = data.getSet(0)"
   ]
  },
  {
   "cell_type": "code",
   "execution_count": 317,
   "metadata": {},
   "outputs": [
    {
     "data": {
      "text/html": [
       "<div>\n",
       "<style scoped>\n",
       "    .dataframe tbody tr th:only-of-type {\n",
       "        vertical-align: middle;\n",
       "    }\n",
       "\n",
       "    .dataframe tbody tr th {\n",
       "        vertical-align: top;\n",
       "    }\n",
       "\n",
       "    .dataframe thead th {\n",
       "        text-align: right;\n",
       "    }\n",
       "</style>\n",
       "<table border=\"1\" class=\"dataframe\">\n",
       "  <thead>\n",
       "    <tr style=\"text-align: right;\">\n",
       "      <th></th>\n",
       "      <th>#Set</th>\n",
       "      <th>index</th>\n",
       "      <th>k</th>\n",
       "      <th>QQ</th>\n",
       "      <th>x_b</th>\n",
       "      <th>t</th>\n",
       "      <th>phi_x</th>\n",
       "      <th>F</th>\n",
       "      <th>errF</th>\n",
       "      <th>F1</th>\n",
       "      <th>F2</th>\n",
       "      <th>dvcs</th>\n",
       "      <th>ReH</th>\n",
       "      <th>ReE</th>\n",
       "      <th>ReHtilde</th>\n",
       "    </tr>\n",
       "  </thead>\n",
       "  <tbody>\n",
       "    <tr>\n",
       "      <th>0</th>\n",
       "      <td>0</td>\n",
       "      <td>0</td>\n",
       "      <td>3.75</td>\n",
       "      <td>1.74013</td>\n",
       "      <td>0.435095</td>\n",
       "      <td>-0.380868</td>\n",
       "      <td>0</td>\n",
       "      <td>0.058205</td>\n",
       "      <td>0.002910</td>\n",
       "      <td>0.498060</td>\n",
       "      <td>0.68579</td>\n",
       "      <td>0.012288</td>\n",
       "      <td>13.0554</td>\n",
       "      <td>-53.0554</td>\n",
       "      <td>7.25302</td>\n",
       "    </tr>\n",
       "    <tr>\n",
       "      <th>1</th>\n",
       "      <td>0</td>\n",
       "      <td>1</td>\n",
       "      <td>3.75</td>\n",
       "      <td>1.74013</td>\n",
       "      <td>0.435095</td>\n",
       "      <td>-0.380868</td>\n",
       "      <td>10</td>\n",
       "      <td>0.055596</td>\n",
       "      <td>0.002780</td>\n",
       "      <td>0.498060</td>\n",
       "      <td>0.68579</td>\n",
       "      <td>0.012288</td>\n",
       "      <td>13.0554</td>\n",
       "      <td>-53.0554</td>\n",
       "      <td>7.25302</td>\n",
       "    </tr>\n",
       "    <tr>\n",
       "      <th>2</th>\n",
       "      <td>0</td>\n",
       "      <td>2</td>\n",
       "      <td>3.75</td>\n",
       "      <td>1.74013</td>\n",
       "      <td>0.435095</td>\n",
       "      <td>-0.380868</td>\n",
       "      <td>20</td>\n",
       "      <td>0.066353</td>\n",
       "      <td>0.003318</td>\n",
       "      <td>0.498060</td>\n",
       "      <td>0.68579</td>\n",
       "      <td>0.012288</td>\n",
       "      <td>13.0554</td>\n",
       "      <td>-53.0554</td>\n",
       "      <td>7.25302</td>\n",
       "    </tr>\n",
       "    <tr>\n",
       "      <th>3</th>\n",
       "      <td>0</td>\n",
       "      <td>3</td>\n",
       "      <td>3.75</td>\n",
       "      <td>1.74013</td>\n",
       "      <td>0.435095</td>\n",
       "      <td>-0.380868</td>\n",
       "      <td>30</td>\n",
       "      <td>0.068655</td>\n",
       "      <td>0.003433</td>\n",
       "      <td>0.498060</td>\n",
       "      <td>0.68579</td>\n",
       "      <td>0.012288</td>\n",
       "      <td>13.0554</td>\n",
       "      <td>-53.0554</td>\n",
       "      <td>7.25302</td>\n",
       "    </tr>\n",
       "    <tr>\n",
       "      <th>4</th>\n",
       "      <td>0</td>\n",
       "      <td>4</td>\n",
       "      <td>3.75</td>\n",
       "      <td>1.74013</td>\n",
       "      <td>0.435095</td>\n",
       "      <td>-0.380868</td>\n",
       "      <td>40</td>\n",
       "      <td>0.072765</td>\n",
       "      <td>0.003638</td>\n",
       "      <td>0.498060</td>\n",
       "      <td>0.68579</td>\n",
       "      <td>0.012288</td>\n",
       "      <td>13.0554</td>\n",
       "      <td>-53.0554</td>\n",
       "      <td>7.25302</td>\n",
       "    </tr>\n",
       "    <tr>\n",
       "      <th>...</th>\n",
       "      <td>...</td>\n",
       "      <td>...</td>\n",
       "      <td>...</td>\n",
       "      <td>...</td>\n",
       "      <td>...</td>\n",
       "      <td>...</td>\n",
       "      <td>...</td>\n",
       "      <td>...</td>\n",
       "      <td>...</td>\n",
       "      <td>...</td>\n",
       "      <td>...</td>\n",
       "      <td>...</td>\n",
       "      <td>...</td>\n",
       "      <td>...</td>\n",
       "      <td>...</td>\n",
       "    </tr>\n",
       "    <tr>\n",
       "      <th>535</th>\n",
       "      <td>14</td>\n",
       "      <td>31</td>\n",
       "      <td>7.75</td>\n",
       "      <td>2.63258</td>\n",
       "      <td>0.345012</td>\n",
       "      <td>-0.361188</td>\n",
       "      <td>310</td>\n",
       "      <td>0.023981</td>\n",
       "      <td>0.001199</td>\n",
       "      <td>0.512913</td>\n",
       "      <td>0.71481</td>\n",
       "      <td>0.012288</td>\n",
       "      <td>11.7411</td>\n",
       "      <td>-51.7411</td>\n",
       "      <td>6.52283</td>\n",
       "    </tr>\n",
       "    <tr>\n",
       "      <th>536</th>\n",
       "      <td>14</td>\n",
       "      <td>32</td>\n",
       "      <td>7.75</td>\n",
       "      <td>2.63258</td>\n",
       "      <td>0.345012</td>\n",
       "      <td>-0.361188</td>\n",
       "      <td>320</td>\n",
       "      <td>0.025345</td>\n",
       "      <td>0.001267</td>\n",
       "      <td>0.512913</td>\n",
       "      <td>0.71481</td>\n",
       "      <td>0.012288</td>\n",
       "      <td>11.7411</td>\n",
       "      <td>-51.7411</td>\n",
       "      <td>6.52283</td>\n",
       "    </tr>\n",
       "    <tr>\n",
       "      <th>537</th>\n",
       "      <td>14</td>\n",
       "      <td>33</td>\n",
       "      <td>7.75</td>\n",
       "      <td>2.63258</td>\n",
       "      <td>0.345012</td>\n",
       "      <td>-0.361188</td>\n",
       "      <td>330</td>\n",
       "      <td>0.024191</td>\n",
       "      <td>0.001210</td>\n",
       "      <td>0.512913</td>\n",
       "      <td>0.71481</td>\n",
       "      <td>0.012288</td>\n",
       "      <td>11.7411</td>\n",
       "      <td>-51.7411</td>\n",
       "      <td>6.52283</td>\n",
       "    </tr>\n",
       "    <tr>\n",
       "      <th>538</th>\n",
       "      <td>14</td>\n",
       "      <td>34</td>\n",
       "      <td>7.75</td>\n",
       "      <td>2.63258</td>\n",
       "      <td>0.345012</td>\n",
       "      <td>-0.361188</td>\n",
       "      <td>340</td>\n",
       "      <td>0.020530</td>\n",
       "      <td>0.001027</td>\n",
       "      <td>0.512913</td>\n",
       "      <td>0.71481</td>\n",
       "      <td>0.012288</td>\n",
       "      <td>11.7411</td>\n",
       "      <td>-51.7411</td>\n",
       "      <td>6.52283</td>\n",
       "    </tr>\n",
       "    <tr>\n",
       "      <th>539</th>\n",
       "      <td>14</td>\n",
       "      <td>35</td>\n",
       "      <td>7.75</td>\n",
       "      <td>2.63258</td>\n",
       "      <td>0.345012</td>\n",
       "      <td>-0.361188</td>\n",
       "      <td>350</td>\n",
       "      <td>0.020891</td>\n",
       "      <td>0.001045</td>\n",
       "      <td>0.512913</td>\n",
       "      <td>0.71481</td>\n",
       "      <td>0.012288</td>\n",
       "      <td>11.7411</td>\n",
       "      <td>-51.7411</td>\n",
       "      <td>6.52283</td>\n",
       "    </tr>\n",
       "  </tbody>\n",
       "</table>\n",
       "<p>540 rows × 15 columns</p>\n",
       "</div>"
      ],
      "text/plain": [
       "     #Set  index     k       QQ       x_b         t  phi_x         F  \\\n",
       "0       0      0  3.75  1.74013  0.435095 -0.380868      0  0.058205   \n",
       "1       0      1  3.75  1.74013  0.435095 -0.380868     10  0.055596   \n",
       "2       0      2  3.75  1.74013  0.435095 -0.380868     20  0.066353   \n",
       "3       0      3  3.75  1.74013  0.435095 -0.380868     30  0.068655   \n",
       "4       0      4  3.75  1.74013  0.435095 -0.380868     40  0.072765   \n",
       "..    ...    ...   ...      ...       ...       ...    ...       ...   \n",
       "535    14     31  7.75  2.63258  0.345012 -0.361188    310  0.023981   \n",
       "536    14     32  7.75  2.63258  0.345012 -0.361188    320  0.025345   \n",
       "537    14     33  7.75  2.63258  0.345012 -0.361188    330  0.024191   \n",
       "538    14     34  7.75  2.63258  0.345012 -0.361188    340  0.020530   \n",
       "539    14     35  7.75  2.63258  0.345012 -0.361188    350  0.020891   \n",
       "\n",
       "         errF        F1       F2      dvcs      ReH      ReE  ReHtilde  \n",
       "0    0.002910  0.498060  0.68579  0.012288  13.0554 -53.0554   7.25302  \n",
       "1    0.002780  0.498060  0.68579  0.012288  13.0554 -53.0554   7.25302  \n",
       "2    0.003318  0.498060  0.68579  0.012288  13.0554 -53.0554   7.25302  \n",
       "3    0.003433  0.498060  0.68579  0.012288  13.0554 -53.0554   7.25302  \n",
       "4    0.003638  0.498060  0.68579  0.012288  13.0554 -53.0554   7.25302  \n",
       "..        ...       ...      ...       ...      ...      ...       ...  \n",
       "535  0.001199  0.512913  0.71481  0.012288  11.7411 -51.7411   6.52283  \n",
       "536  0.001267  0.512913  0.71481  0.012288  11.7411 -51.7411   6.52283  \n",
       "537  0.001210  0.512913  0.71481  0.012288  11.7411 -51.7411   6.52283  \n",
       "538  0.001027  0.512913  0.71481  0.012288  11.7411 -51.7411   6.52283  \n",
       "539  0.001045  0.512913  0.71481  0.012288  11.7411 -51.7411   6.52283  \n",
       "\n",
       "[540 rows x 15 columns]"
      ]
     },
     "execution_count": 317,
     "metadata": {},
     "output_type": "execute_result"
    }
   ],
   "source": [
    "df"
   ]
  },
  {
   "cell_type": "markdown",
   "metadata": {},
   "source": [
    "## define genetic algorithm function"
   ]
  },
  {
   "cell_type": "code",
   "execution_count": 443,
   "metadata": {},
   "outputs": [],
   "source": [
    "class TotalUUXS(tf.keras.layers.Layer):\n",
    "    def __init__(self, **kwargs):\n",
    "        super(TotalUUXS, self).__init__(**kwargs)\n",
    "        self.F = BHDVCS()\n",
    "        \n",
    "    def call(self, inputs):\n",
    "        return self.F.TotalUUXS(inputs[:, :8], inputs[:, 8], inputs[:, 9], inputs[:, 10])\n",
    "    \n",
    "    def get_config(self):\n",
    "        config = super(TotalUUXS, self).get_config()\n",
    "        return config"
   ]
  },
  {
   "cell_type": "code",
   "execution_count": 444,
   "metadata": {},
   "outputs": [],
   "source": [
    "kinematics = tf.keras.Input(shape=(4))\n",
    "x = tf.keras.layers.Dense(20, activation=\"tanh\")(kinematics)\n",
    "outputs = tf.keras.layers.Dense(3)(x) #three output nodes for ReH, ReE, ReHtilde\n",
    "noncffInputs = tf.keras.Input(shape=(8))\n",
    "totalUUXSInputs = tf.keras.layers.concatenate([noncffInputs, outputs])\n",
    "F = TotalUUXS(dtype='float32')(totalUUXSInputs)\n",
    "\n",
    "globalModel = tf.keras.Model(inputs=[kinematics, noncffInputs], outputs=F)"
   ]
  },
  {
   "cell_type": "code",
   "execution_count": 445,
   "metadata": {},
   "outputs": [],
   "source": [
    "custom_objects = {\"TotalUUXS\": TotalUUXS}\n",
    "with tf.keras.utils.custom_object_scope(custom_objects):\n",
    "    t = tf.keras.models.clone_model(globalModel)"
   ]
  },
  {
   "cell_type": "code",
   "execution_count": 461,
   "metadata": {},
   "outputs": [],
   "source": [
    "models = []\n",
    "population = []\n",
    "for i in range(4):\n",
    "    with tf.keras.utils.custom_object_scope(custom_objects):\n",
    "        models.append(tf.keras.models.clone_model(globalModel))\n",
    "    population.append(models[i].get_weights())"
   ]
  },
  {
   "cell_type": "code",
   "execution_count": 447,
   "metadata": {},
   "outputs": [],
   "source": [
    "def pad(member):\n",
    "    member = [member[0], np.expand_dims(member[1], 1), member[2], np.expand_dims(member[3], 1)]\n",
    "    max_d1 = -1\n",
    "    max_d2 = -1\n",
    "    for layer in member:\n",
    "        if layer.shape[0] > max_d1:\n",
    "            max_d1 = layer.shape[0]\n",
    "        if layer.shape[1] > max_d2:\n",
    "            max_d2 = layer.shape[1]\n",
    "    rect = []\n",
    "    for layer in member:\n",
    "        to_pad_d1 = max_d1 - layer.shape[0]\n",
    "        to_pad_d2 = max_d2 - layer.shape[1]\n",
    "        rect.append(np.pad(layer, ((0, to_pad_d1), (0, to_pad_d2))))\n",
    "    return tf.convert_to_tensor(rect)"
   ]
  },
  {
   "cell_type": "code",
   "execution_count": 448,
   "metadata": {},
   "outputs": [],
   "source": [
    "def unpad(member):\n",
    "    return [member[0][:4, :], member[1][:, 0], member[2][:, :3], member[3][:3, 0]]"
   ]
  },
  {
   "cell_type": "code",
   "execution_count": 462,
   "metadata": {},
   "outputs": [],
   "source": [
    "population = list(map(pad, population))"
   ]
  },
  {
   "cell_type": "code",
   "execution_count": 450,
   "metadata": {},
   "outputs": [],
   "source": [
    "def loss(model, inputs, targets, sample_weight):\n",
    "    error = model(inputs) - targets\n",
    "    return tf.reduce_mean(tf.square(error) * sample_weight)"
   ]
  },
  {
   "cell_type": "code",
   "execution_count": 451,
   "metadata": {},
   "outputs": [],
   "source": [
    "def objective(*weights):\n",
    "    losses = []\n",
    "    for i in range(len(weights)):\n",
    "        model = models[i]\n",
    "        model.set_weights(unpad(weights[i]))\n",
    "        losses.append(loss(model, [set0.Kinematics, set0.XnoCFF], set0.y, set0.sampleWeights()**2))\n",
    "    print(tf.convert_to_tensor(losses))\n",
    "    return tf.convert_to_tensor(losses)"
   ]
  },
  {
   "cell_type": "code",
   "execution_count": 245,
   "metadata": {},
   "outputs": [],
   "source": [
    "globalModel.compile(\n",
    "    optimizer = tf.keras.optimizers.Adam(1),\n",
    "    loss = tf.keras.losses.MeanSquaredError(),\n",
    ")"
   ]
  },
  {
   "cell_type": "code",
   "execution_count": 452,
   "metadata": {},
   "outputs": [
    {
     "name": "stdout",
     "output_type": "stream",
     "text": [
      "tf.Tensor([164.48836  45.88693 161.6081   86.50659], shape=(4,), dtype=float32)\n",
      "tf.Tensor([260.7067   93.26495 183.70557 328.22498], shape=(4,), dtype=float32)\n",
      "tf.Tensor([233.84193 271.3201  203.75159 209.89178], shape=(4,), dtype=float32)\n",
      "tf.Tensor([264.69037  178.17491   91.971504 345.46597 ], shape=(4,), dtype=float32)\n",
      "tf.Tensor([185.10509 213.93428 242.58675 160.5495 ], shape=(4,), dtype=float32)\n",
      "tf.Tensor([125.42735 219.35355 268.95233 155.5299 ], shape=(4,), dtype=float32)\n",
      "tf.Tensor([266.0715  272.8297  282.23697 279.18924], shape=(4,), dtype=float32)\n",
      "tf.Tensor([253.9783  273.26645 264.60287 242.38167], shape=(4,), dtype=float32)\n",
      "tf.Tensor([195.48462 177.3103  268.29556 211.10023], shape=(4,), dtype=float32)\n",
      "tf.Tensor([279.04227 283.39838 241.09003 271.1476 ], shape=(4,), dtype=float32)\n",
      "tf.Tensor([231.91612 215.77185 209.98195 239.95749], shape=(4,), dtype=float32)\n",
      "tf.Tensor([250.50226 273.41296 280.69785 232.7276 ], shape=(4,), dtype=float32)\n",
      "tf.Tensor([288.5887  291.48468 270.38797 281.20364], shape=(4,), dtype=float32)\n",
      "tf.Tensor([275.86447 258.15588 264.35843 260.03366], shape=(4,), dtype=float32)\n",
      "tf.Tensor([273.75516 196.88469 277.6435  253.28787], shape=(4,), dtype=float32)\n",
      "tf.Tensor([257.09225 193.72157 219.95212 227.71506], shape=(4,), dtype=float32)\n",
      "tf.Tensor([268.68338 268.6582  259.28067 261.26318], shape=(4,), dtype=float32)\n",
      "tf.Tensor([218.84506 185.41074 254.11409 202.18378], shape=(4,), dtype=float32)\n",
      "tf.Tensor([171.59796 160.80759 276.75134 223.68063], shape=(4,), dtype=float32)\n",
      "tf.Tensor([173.01767 159.8183  252.14317 201.93909], shape=(4,), dtype=float32)\n",
      "tf.Tensor([219.38338 126.35924 304.97717 204.59538], shape=(4,), dtype=float32)\n",
      "tf.Tensor([240.12787 242.04327 236.01703 267.5809 ], shape=(4,), dtype=float32)\n",
      "tf.Tensor([269.61865 255.05817 262.27118 220.86412], shape=(4,), dtype=float32)\n",
      "tf.Tensor([258.15625 254.81114 232.29535 238.62381], shape=(4,), dtype=float32)\n",
      "tf.Tensor([210.03537 230.7761  248.48079 290.3729 ], shape=(4,), dtype=float32)\n",
      "tf.Tensor([241.05157 248.94395 301.03973 297.71423], shape=(4,), dtype=float32)\n",
      "tf.Tensor([272.5459  215.656   268.00864 209.68219], shape=(4,), dtype=float32)\n",
      "tf.Tensor([180.33942 162.99742 242.3072  202.06326], shape=(4,), dtype=float32)\n",
      "tf.Tensor([244.58643 255.53108 227.4997  277.94028], shape=(4,), dtype=float32)\n",
      "tf.Tensor([199.54924 182.66235 307.65915 227.69803], shape=(4,), dtype=float32)\n",
      "tf.Tensor([227.00189 214.18567 266.66006 241.31696], shape=(4,), dtype=float32)\n",
      "tf.Tensor([217.28532 203.47647 238.92084 205.4094 ], shape=(4,), dtype=float32)\n",
      "tf.Tensor([268.75607 257.06888 279.727   275.5484 ], shape=(4,), dtype=float32)\n",
      "tf.Tensor([244.63728 145.33838 255.67456 224.9671 ], shape=(4,), dtype=float32)\n",
      "tf.Tensor([211.20654 234.68517 288.05212 303.74408], shape=(4,), dtype=float32)\n",
      "tf.Tensor([276.51865 267.4045  258.44403 246.14806], shape=(4,), dtype=float32)\n",
      "tf.Tensor([274.16754 280.696   274.12067 261.75146], shape=(4,), dtype=float32)\n",
      "tf.Tensor([250.84532 145.62364 241.39728 155.79022], shape=(4,), dtype=float32)\n",
      "tf.Tensor([226.91998 252.05821 224.03102 254.399  ], shape=(4,), dtype=float32)\n",
      "tf.Tensor([276.86597 295.6018  277.43146 253.874  ], shape=(4,), dtype=float32)\n",
      "tf.Tensor([266.77747 237.67448 273.6602  290.25134], shape=(4,), dtype=float32)\n",
      "tf.Tensor([193.29436 191.77406 279.26602 192.5229 ], shape=(4,), dtype=float32)\n",
      "tf.Tensor([284.1174  270.0702  269.59525 251.84685], shape=(4,), dtype=float32)\n",
      "tf.Tensor([248.17122 221.20337 221.60313 230.44319], shape=(4,), dtype=float32)\n",
      "tf.Tensor([253.4301  251.26688 286.36462 290.94006], shape=(4,), dtype=float32)\n",
      "tf.Tensor([276.65894 181.49966 257.04422 187.08252], shape=(4,), dtype=float32)\n",
      "tf.Tensor([277.20538 291.5072  221.95291 253.55556], shape=(4,), dtype=float32)\n",
      "tf.Tensor([182.06279 137.01959 256.21198 199.6664 ], shape=(4,), dtype=float32)\n",
      "tf.Tensor([220.92577 216.68031 239.48785 242.38176], shape=(4,), dtype=float32)\n",
      "tf.Tensor([283.1626  263.7267  251.66412 229.19563], shape=(4,), dtype=float32)\n",
      "tf.Tensor([215.96599 248.93562 263.4547  288.90924], shape=(4,), dtype=float32)\n",
      "tf.Tensor([244.44171 253.65688 242.27884 254.90338], shape=(4,), dtype=float32)\n",
      "tf.Tensor([269.1292  310.99026 251.77545 237.0376 ], shape=(4,), dtype=float32)\n",
      "tf.Tensor([280.02295 275.3477  261.5817  277.06183], shape=(4,), dtype=float32)\n",
      "tf.Tensor([187.17532 187.00789 274.31787 239.94461], shape=(4,), dtype=float32)\n",
      "tf.Tensor([196.14323 193.71893 219.85884 187.31165], shape=(4,), dtype=float32)\n",
      "tf.Tensor([243.16975 214.52295 286.1942  224.9671 ], shape=(4,), dtype=float32)\n",
      "tf.Tensor([189.39526 189.63464 279.82065 247.98926], shape=(4,), dtype=float32)\n",
      "tf.Tensor([281.31772 222.23207 265.9925  251.16803], shape=(4,), dtype=float32)\n",
      "tf.Tensor([193.97043 151.45125 295.97098 200.89091], shape=(4,), dtype=float32)\n",
      "tf.Tensor([277.84973 275.71838 263.55078 266.28955], shape=(4,), dtype=float32)\n",
      "tf.Tensor([268.40286 270.89825 236.30316 291.21445], shape=(4,), dtype=float32)\n",
      "tf.Tensor([219.58746 209.90503 238.43279 279.57425], shape=(4,), dtype=float32)\n",
      "tf.Tensor([280.67734 250.0989  243.60023 205.9082 ], shape=(4,), dtype=float32)\n",
      "tf.Tensor([269.98334 278.37335 249.28624 277.06183], shape=(4,), dtype=float32)\n",
      "tf.Tensor([233.03418 224.91466 281.7123  248.11844], shape=(4,), dtype=float32)\n",
      "tf.Tensor([242.75597 248.5338  274.48618 263.8141 ], shape=(4,), dtype=float32)\n",
      "tf.Tensor([239.2182  260.46695 237.3404  257.83603], shape=(4,), dtype=float32)\n",
      "tf.Tensor([285.28534 266.0701  246.84842 258.3706 ], shape=(4,), dtype=float32)\n",
      "tf.Tensor([264.36462 259.73816 258.9439  264.04123], shape=(4,), dtype=float32)\n",
      "tf.Tensor([219.65631 196.54153 308.70972 189.7041 ], shape=(4,), dtype=float32)\n",
      "tf.Tensor([246.0707  215.71283 241.19315 224.25389], shape=(4,), dtype=float32)\n",
      "tf.Tensor([248.4751  261.17502 258.59824 294.81015], shape=(4,), dtype=float32)\n",
      "tf.Tensor([245.4892  264.863   285.14847 312.40002], shape=(4,), dtype=float32)\n",
      "tf.Tensor([232.8017  197.13943 269.461   263.1733 ], shape=(4,), dtype=float32)\n",
      "tf.Tensor([272.385   268.6582  257.68555 260.19455], shape=(4,), dtype=float32)\n",
      "tf.Tensor([243.10822 185.42128 263.4105  178.12193], shape=(4,), dtype=float32)\n",
      "tf.Tensor([252.8393  273.26648 221.61322 246.9984 ], shape=(4,), dtype=float32)\n",
      "tf.Tensor([256.83014 280.9888  243.77089 247.36795], shape=(4,), dtype=float32)\n",
      "tf.Tensor([214.8255  207.44998 298.2526  179.93134], shape=(4,), dtype=float32)\n",
      "tf.Tensor([243.18907 252.49026 285.8922  310.7274 ], shape=(4,), dtype=float32)\n",
      "tf.Tensor([260.01065 257.35303 256.94662 244.7327 ], shape=(4,), dtype=float32)\n",
      "tf.Tensor([216.59991 190.78041 301.48798 206.13684], shape=(4,), dtype=float32)\n",
      "tf.Tensor([261.1527  253.13962 273.4089  266.2205 ], shape=(4,), dtype=float32)\n",
      "tf.Tensor([267.0867  221.7686  278.67825 260.34076], shape=(4,), dtype=float32)\n",
      "tf.Tensor([241.29276 251.12299 274.14365 313.6146 ], shape=(4,), dtype=float32)\n",
      "tf.Tensor([234.12234 207.72615 281.12732 312.97543], shape=(4,), dtype=float32)\n",
      "tf.Tensor([274.94513 261.4886  274.23865 214.57043], shape=(4,), dtype=float32)\n",
      "tf.Tensor([284.70615 273.29156 260.82516 270.62268], shape=(4,), dtype=float32)\n",
      "tf.Tensor([252.9739  223.56946 252.70947 195.6983 ], shape=(4,), dtype=float32)\n",
      "tf.Tensor([260.86194 259.40292 252.08238 252.60194], shape=(4,), dtype=float32)\n",
      "tf.Tensor([258.0092  293.0313  279.25272 241.82585], shape=(4,), dtype=float32)\n",
      "tf.Tensor([209.2875  213.99515 251.55267 263.95123], shape=(4,), dtype=float32)\n",
      "tf.Tensor([273.66983 243.9579  312.9845  235.84093], shape=(4,), dtype=float32)\n",
      "tf.Tensor([290.7689  279.4301  257.66534 265.9381 ], shape=(4,), dtype=float32)\n",
      "tf.Tensor([277.05118 275.26718 279.4608  267.77167], shape=(4,), dtype=float32)\n",
      "tf.Tensor([286.47314 220.99728 316.01462 257.18518], shape=(4,), dtype=float32)\n",
      "tf.Tensor([211.42595 188.72247 290.9786  205.62077], shape=(4,), dtype=float32)\n",
      "tf.Tensor([245.39195 244.5535  267.0858  234.463  ], shape=(4,), dtype=float32)\n",
      "tf.Tensor([309.1359  181.11404 205.17401 216.4433 ], shape=(4,), dtype=float32)\n",
      "tf.Tensor([206.90564 191.01175 241.48758 270.71533], shape=(4,), dtype=float32)\n",
      "tf.Tensor([272.3478  272.27496 237.88379 263.92084], shape=(4,), dtype=float32)\n",
      "tf.Tensor([225.97879 256.33313 248.31432 257.4305 ], shape=(4,), dtype=float32)\n",
      "tf.Tensor([240.56305 160.91434 285.27515 225.91235], shape=(4,), dtype=float32)\n",
      "tf.Tensor([262.19968 232.23438 278.65884 246.11252], shape=(4,), dtype=float32)\n"
     ]
    },
    {
     "name": "stdout",
     "output_type": "stream",
     "text": [
      "tf.Tensor([231.86642 211.54951 288.27866 225.39378], shape=(4,), dtype=float32)\n",
      "tf.Tensor([246.53055 243.64972 284.94598 241.15472], shape=(4,), dtype=float32)\n",
      "tf.Tensor([246.31665 186.67622 249.3118  258.71262], shape=(4,), dtype=float32)\n"
     ]
    },
    {
     "ename": "KeyboardInterrupt",
     "evalue": "",
     "output_type": "error",
     "traceback": [
      "\u001b[0;31m---------------------------------------------------------------------------\u001b[0m",
      "\u001b[0;31mKeyboardInterrupt\u001b[0m                         Traceback (most recent call last)",
      "\u001b[0;32m<ipython-input-452-dbf2a1a7b9e2>\u001b[0m in \u001b[0;36m<module>\u001b[0;34m\u001b[0m\n\u001b[0;32m----> 1\u001b[0;31m \u001b[0mres\u001b[0m \u001b[0;34m=\u001b[0m \u001b[0mtfp\u001b[0m\u001b[0;34m.\u001b[0m\u001b[0moptimizer\u001b[0m\u001b[0;34m.\u001b[0m\u001b[0mdifferential_evolution_minimize\u001b[0m\u001b[0;34m(\u001b[0m\u001b[0mobjective\u001b[0m\u001b[0;34m,\u001b[0m \u001b[0mpopulation\u001b[0m\u001b[0;34m,\u001b[0m\u001b[0mmax_iterations\u001b[0m\u001b[0;34m=\u001b[0m\u001b[0;36m2000\u001b[0m\u001b[0;34m,\u001b[0m \u001b[0mfunc_tolerance\u001b[0m\u001b[0;34m=\u001b[0m\u001b[0;36m10.\u001b[0m\u001b[0;34m)\u001b[0m\u001b[0;34m\u001b[0m\u001b[0;34m\u001b[0m\u001b[0m\n\u001b[0m",
      "\u001b[0;32m/usr/local/lib/python3.8/site-packages/tensorflow_probability/python/optimizer/differential_evolution.py\u001b[0m in \u001b[0;36mminimize\u001b[0;34m(objective_function, initial_population, initial_position, population_size, population_stddev, max_iterations, func_tolerance, position_tolerance, differential_weight, crossover_prob, seed, name)\u001b[0m\n\u001b[1;32m    430\u001b[0m         \u001b[0mpopulation\u001b[0m\u001b[0;34m=\u001b[0m\u001b[0mpopulation\u001b[0m\u001b[0;34m,\u001b[0m\u001b[0;34m\u001b[0m\u001b[0;34m\u001b[0m\u001b[0m\n\u001b[1;32m    431\u001b[0m         population_values=population_values)\n\u001b[0;32m--> 432\u001b[0;31m     final_state = tf.while_loop(\n\u001b[0m\u001b[1;32m    433\u001b[0m         cond=evolve_cond, body=evolve_body, loop_vars=(initial_vars,))[0]\n\u001b[1;32m    434\u001b[0m     best_position, best_values = _find_best_in_population(\n",
      "\u001b[0;32m/usr/local/lib/python3.8/site-packages/tensorflow/python/util/deprecation.py\u001b[0m in \u001b[0;36mnew_func\u001b[0;34m(*args, **kwargs)\u001b[0m\n\u001b[1;32m    572\u001b[0m                   \u001b[0mfunc\u001b[0m\u001b[0;34m.\u001b[0m\u001b[0m__module__\u001b[0m\u001b[0;34m,\u001b[0m \u001b[0marg_name\u001b[0m\u001b[0;34m,\u001b[0m \u001b[0marg_value\u001b[0m\u001b[0;34m,\u001b[0m \u001b[0;34m'in a future version'\u001b[0m\u001b[0;34m\u001b[0m\u001b[0;34m\u001b[0m\u001b[0m\n\u001b[1;32m    573\u001b[0m                   if date is None else ('after %s' % date), instructions)\n\u001b[0;32m--> 574\u001b[0;31m       \u001b[0;32mreturn\u001b[0m \u001b[0mfunc\u001b[0m\u001b[0;34m(\u001b[0m\u001b[0;34m*\u001b[0m\u001b[0margs\u001b[0m\u001b[0;34m,\u001b[0m \u001b[0;34m**\u001b[0m\u001b[0mkwargs\u001b[0m\u001b[0;34m)\u001b[0m\u001b[0;34m\u001b[0m\u001b[0;34m\u001b[0m\u001b[0m\n\u001b[0m\u001b[1;32m    575\u001b[0m \u001b[0;34m\u001b[0m\u001b[0m\n\u001b[1;32m    576\u001b[0m     doc = _add_deprecated_arg_value_notice_to_docstring(\n",
      "\u001b[0;32m/usr/local/lib/python3.8/site-packages/tensorflow/python/ops/control_flow_ops.py\u001b[0m in \u001b[0;36mwhile_loop_v2\u001b[0;34m(cond, body, loop_vars, shape_invariants, parallel_iterations, back_prop, swap_memory, maximum_iterations, name)\u001b[0m\n\u001b[1;32m   2479\u001b[0m \u001b[0;34m\u001b[0m\u001b[0m\n\u001b[1;32m   2480\u001b[0m   \"\"\"\n\u001b[0;32m-> 2481\u001b[0;31m   return while_loop(\n\u001b[0m\u001b[1;32m   2482\u001b[0m       \u001b[0mcond\u001b[0m\u001b[0;34m=\u001b[0m\u001b[0mcond\u001b[0m\u001b[0;34m,\u001b[0m\u001b[0;34m\u001b[0m\u001b[0;34m\u001b[0m\u001b[0m\n\u001b[1;32m   2483\u001b[0m       \u001b[0mbody\u001b[0m\u001b[0;34m=\u001b[0m\u001b[0mbody\u001b[0m\u001b[0;34m,\u001b[0m\u001b[0;34m\u001b[0m\u001b[0;34m\u001b[0m\u001b[0m\n",
      "\u001b[0;32m/usr/local/lib/python3.8/site-packages/tensorflow/python/ops/control_flow_ops.py\u001b[0m in \u001b[0;36mwhile_loop\u001b[0;34m(cond, body, loop_vars, shape_invariants, parallel_iterations, back_prop, swap_memory, name, maximum_iterations, return_same_structure)\u001b[0m\n\u001b[1;32m   2725\u001b[0m                                               list(loop_vars))\n\u001b[1;32m   2726\u001b[0m       \u001b[0;32mwhile\u001b[0m \u001b[0mcond\u001b[0m\u001b[0;34m(\u001b[0m\u001b[0;34m*\u001b[0m\u001b[0mloop_vars\u001b[0m\u001b[0;34m)\u001b[0m\u001b[0;34m:\u001b[0m\u001b[0;34m\u001b[0m\u001b[0;34m\u001b[0m\u001b[0m\n\u001b[0;32m-> 2727\u001b[0;31m         \u001b[0mloop_vars\u001b[0m \u001b[0;34m=\u001b[0m \u001b[0mbody\u001b[0m\u001b[0;34m(\u001b[0m\u001b[0;34m*\u001b[0m\u001b[0mloop_vars\u001b[0m\u001b[0;34m)\u001b[0m\u001b[0;34m\u001b[0m\u001b[0;34m\u001b[0m\u001b[0m\n\u001b[0m\u001b[1;32m   2728\u001b[0m         \u001b[0;32mif\u001b[0m \u001b[0mtry_to_pack\u001b[0m \u001b[0;32mand\u001b[0m \u001b[0;32mnot\u001b[0m \u001b[0misinstance\u001b[0m\u001b[0;34m(\u001b[0m\u001b[0mloop_vars\u001b[0m\u001b[0;34m,\u001b[0m \u001b[0;34m(\u001b[0m\u001b[0mlist\u001b[0m\u001b[0;34m,\u001b[0m \u001b[0m_basetuple\u001b[0m\u001b[0;34m)\u001b[0m\u001b[0;34m)\u001b[0m\u001b[0;34m:\u001b[0m\u001b[0;34m\u001b[0m\u001b[0;34m\u001b[0m\u001b[0m\n\u001b[1;32m   2729\u001b[0m           \u001b[0mpacked\u001b[0m \u001b[0;34m=\u001b[0m \u001b[0;32mTrue\u001b[0m\u001b[0;34m\u001b[0m\u001b[0;34m\u001b[0m\u001b[0m\n",
      "\u001b[0;32m/usr/local/lib/python3.8/site-packages/tensorflow_probability/python/optimizer/differential_evolution.py\u001b[0m in \u001b[0;36mevolve_body\u001b[0;34m(loop_vars)\u001b[0m\n\u001b[1;32m    395\u001b[0m     \u001b[0;32mdef\u001b[0m \u001b[0mevolve_body\u001b[0m\u001b[0;34m(\u001b[0m\u001b[0mloop_vars\u001b[0m\u001b[0;34m)\u001b[0m\u001b[0;34m:\u001b[0m\u001b[0;34m\u001b[0m\u001b[0;34m\u001b[0m\u001b[0m\n\u001b[1;32m    396\u001b[0m       \u001b[0;34m\"\"\"Performs one step of the evolution.\"\"\"\u001b[0m\u001b[0;34m\u001b[0m\u001b[0;34m\u001b[0m\u001b[0m\n\u001b[0;32m--> 397\u001b[0;31m       next_population, next_population_values = one_step(\n\u001b[0m\u001b[1;32m    398\u001b[0m           \u001b[0mobjective_function\u001b[0m\u001b[0;34m,\u001b[0m\u001b[0;34m\u001b[0m\u001b[0;34m\u001b[0m\u001b[0m\n\u001b[1;32m    399\u001b[0m           \u001b[0mloop_vars\u001b[0m\u001b[0;34m.\u001b[0m\u001b[0mpopulation\u001b[0m\u001b[0;34m,\u001b[0m\u001b[0;34m\u001b[0m\u001b[0;34m\u001b[0m\u001b[0m\n",
      "\u001b[0;32m/usr/local/lib/python3.8/site-packages/tensorflow_probability/python/optimizer/differential_evolution.py\u001b[0m in \u001b[0;36mone_step\u001b[0;34m(objective_function, population, population_values, differential_weight, crossover_prob, seed, name)\u001b[0m\n\u001b[1;32m    195\u001b[0m                                    \u001b[0mcrossover_prob\u001b[0m\u001b[0;34m,\u001b[0m\u001b[0;34m\u001b[0m\u001b[0;34m\u001b[0m\u001b[0m\n\u001b[1;32m    196\u001b[0m                                    seed=seed_stream())\n\u001b[0;32m--> 197\u001b[0;31m     \u001b[0mcandidate_values\u001b[0m \u001b[0;34m=\u001b[0m \u001b[0mobjective_function\u001b[0m\u001b[0;34m(\u001b[0m\u001b[0;34m*\u001b[0m\u001b[0mcandidates\u001b[0m\u001b[0;34m)\u001b[0m\u001b[0;34m\u001b[0m\u001b[0;34m\u001b[0m\u001b[0m\n\u001b[0m\u001b[1;32m    198\u001b[0m     \u001b[0;32mif\u001b[0m \u001b[0mpopulation_values\u001b[0m \u001b[0;32mis\u001b[0m \u001b[0;32mNone\u001b[0m\u001b[0;34m:\u001b[0m\u001b[0;34m\u001b[0m\u001b[0;34m\u001b[0m\u001b[0m\n\u001b[1;32m    199\u001b[0m       \u001b[0mpopulation_values\u001b[0m \u001b[0;34m=\u001b[0m \u001b[0mobjective_function\u001b[0m\u001b[0;34m(\u001b[0m\u001b[0;34m*\u001b[0m\u001b[0mpopulation\u001b[0m\u001b[0;34m)\u001b[0m\u001b[0;34m\u001b[0m\u001b[0;34m\u001b[0m\u001b[0m\n",
      "\u001b[0;32m<ipython-input-451-ebe8c4ebcce0>\u001b[0m in \u001b[0;36mobjective\u001b[0;34m(*weights)\u001b[0m\n\u001b[1;32m      4\u001b[0m         \u001b[0mmodel\u001b[0m \u001b[0;34m=\u001b[0m \u001b[0mmodels\u001b[0m\u001b[0;34m[\u001b[0m\u001b[0mi\u001b[0m\u001b[0;34m]\u001b[0m\u001b[0;34m\u001b[0m\u001b[0;34m\u001b[0m\u001b[0m\n\u001b[1;32m      5\u001b[0m         \u001b[0mmodel\u001b[0m\u001b[0;34m.\u001b[0m\u001b[0mset_weights\u001b[0m\u001b[0;34m(\u001b[0m\u001b[0munpad\u001b[0m\u001b[0;34m(\u001b[0m\u001b[0mweights\u001b[0m\u001b[0;34m[\u001b[0m\u001b[0mi\u001b[0m\u001b[0;34m]\u001b[0m\u001b[0;34m)\u001b[0m\u001b[0;34m)\u001b[0m\u001b[0;34m\u001b[0m\u001b[0;34m\u001b[0m\u001b[0m\n\u001b[0;32m----> 6\u001b[0;31m         \u001b[0mlosses\u001b[0m\u001b[0;34m.\u001b[0m\u001b[0mappend\u001b[0m\u001b[0;34m(\u001b[0m\u001b[0mloss\u001b[0m\u001b[0;34m(\u001b[0m\u001b[0mmodel\u001b[0m\u001b[0;34m,\u001b[0m \u001b[0;34m[\u001b[0m\u001b[0mset0\u001b[0m\u001b[0;34m.\u001b[0m\u001b[0mKinematics\u001b[0m\u001b[0;34m,\u001b[0m \u001b[0mset0\u001b[0m\u001b[0;34m.\u001b[0m\u001b[0mXnoCFF\u001b[0m\u001b[0;34m]\u001b[0m\u001b[0;34m,\u001b[0m \u001b[0mset0\u001b[0m\u001b[0;34m.\u001b[0m\u001b[0my\u001b[0m\u001b[0;34m,\u001b[0m \u001b[0mset0\u001b[0m\u001b[0;34m.\u001b[0m\u001b[0msampleWeights\u001b[0m\u001b[0;34m(\u001b[0m\u001b[0;34m)\u001b[0m\u001b[0;34m**\u001b[0m\u001b[0;36m2\u001b[0m\u001b[0;34m)\u001b[0m\u001b[0;34m)\u001b[0m\u001b[0;34m\u001b[0m\u001b[0;34m\u001b[0m\u001b[0m\n\u001b[0m\u001b[1;32m      7\u001b[0m     \u001b[0mprint\u001b[0m\u001b[0;34m(\u001b[0m\u001b[0mtf\u001b[0m\u001b[0;34m.\u001b[0m\u001b[0mconvert_to_tensor\u001b[0m\u001b[0;34m(\u001b[0m\u001b[0mlosses\u001b[0m\u001b[0;34m)\u001b[0m\u001b[0;34m)\u001b[0m\u001b[0;34m\u001b[0m\u001b[0;34m\u001b[0m\u001b[0m\n\u001b[1;32m      8\u001b[0m     \u001b[0;32mreturn\u001b[0m \u001b[0mtf\u001b[0m\u001b[0;34m.\u001b[0m\u001b[0mconvert_to_tensor\u001b[0m\u001b[0;34m(\u001b[0m\u001b[0mlosses\u001b[0m\u001b[0;34m)\u001b[0m\u001b[0;34m\u001b[0m\u001b[0;34m\u001b[0m\u001b[0m\n",
      "\u001b[0;32m<ipython-input-450-5931a03d2abb>\u001b[0m in \u001b[0;36mloss\u001b[0;34m(model, inputs, targets, sample_weight)\u001b[0m\n\u001b[1;32m      1\u001b[0m \u001b[0;32mdef\u001b[0m \u001b[0mloss\u001b[0m\u001b[0;34m(\u001b[0m\u001b[0mmodel\u001b[0m\u001b[0;34m,\u001b[0m \u001b[0minputs\u001b[0m\u001b[0;34m,\u001b[0m \u001b[0mtargets\u001b[0m\u001b[0;34m,\u001b[0m \u001b[0msample_weight\u001b[0m\u001b[0;34m)\u001b[0m\u001b[0;34m:\u001b[0m\u001b[0;34m\u001b[0m\u001b[0;34m\u001b[0m\u001b[0m\n\u001b[0;32m----> 2\u001b[0;31m     \u001b[0merror\u001b[0m \u001b[0;34m=\u001b[0m \u001b[0mmodel\u001b[0m\u001b[0;34m(\u001b[0m\u001b[0minputs\u001b[0m\u001b[0;34m)\u001b[0m \u001b[0;34m-\u001b[0m \u001b[0mtargets\u001b[0m\u001b[0;34m\u001b[0m\u001b[0;34m\u001b[0m\u001b[0m\n\u001b[0m\u001b[1;32m      3\u001b[0m     \u001b[0;32mreturn\u001b[0m \u001b[0mtf\u001b[0m\u001b[0;34m.\u001b[0m\u001b[0mreduce_mean\u001b[0m\u001b[0;34m(\u001b[0m\u001b[0mtf\u001b[0m\u001b[0;34m.\u001b[0m\u001b[0msquare\u001b[0m\u001b[0;34m(\u001b[0m\u001b[0merror\u001b[0m\u001b[0;34m)\u001b[0m \u001b[0;34m*\u001b[0m \u001b[0msample_weight\u001b[0m\u001b[0;34m)\u001b[0m\u001b[0;34m\u001b[0m\u001b[0;34m\u001b[0m\u001b[0m\n",
      "\u001b[0;32m/usr/local/lib/python3.8/site-packages/tensorflow/python/keras/engine/base_layer.py\u001b[0m in \u001b[0;36m__call__\u001b[0;34m(self, *args, **kwargs)\u001b[0m\n\u001b[1;32m    966\u001b[0m           with base_layer_utils.autocast_context_manager(\n\u001b[1;32m    967\u001b[0m               self._compute_dtype):\n\u001b[0;32m--> 968\u001b[0;31m             \u001b[0moutputs\u001b[0m \u001b[0;34m=\u001b[0m \u001b[0mself\u001b[0m\u001b[0;34m.\u001b[0m\u001b[0mcall\u001b[0m\u001b[0;34m(\u001b[0m\u001b[0mcast_inputs\u001b[0m\u001b[0;34m,\u001b[0m \u001b[0;34m*\u001b[0m\u001b[0margs\u001b[0m\u001b[0;34m,\u001b[0m \u001b[0;34m**\u001b[0m\u001b[0mkwargs\u001b[0m\u001b[0;34m)\u001b[0m\u001b[0;34m\u001b[0m\u001b[0;34m\u001b[0m\u001b[0m\n\u001b[0m\u001b[1;32m    969\u001b[0m           \u001b[0mself\u001b[0m\u001b[0;34m.\u001b[0m\u001b[0m_handle_activity_regularization\u001b[0m\u001b[0;34m(\u001b[0m\u001b[0minputs\u001b[0m\u001b[0;34m,\u001b[0m \u001b[0moutputs\u001b[0m\u001b[0;34m)\u001b[0m\u001b[0;34m\u001b[0m\u001b[0;34m\u001b[0m\u001b[0m\n\u001b[1;32m    970\u001b[0m           \u001b[0mself\u001b[0m\u001b[0;34m.\u001b[0m\u001b[0m_set_mask_metadata\u001b[0m\u001b[0;34m(\u001b[0m\u001b[0minputs\u001b[0m\u001b[0;34m,\u001b[0m \u001b[0moutputs\u001b[0m\u001b[0;34m,\u001b[0m \u001b[0minput_masks\u001b[0m\u001b[0;34m)\u001b[0m\u001b[0;34m\u001b[0m\u001b[0;34m\u001b[0m\u001b[0m\n",
      "\u001b[0;32m/usr/local/lib/python3.8/site-packages/tensorflow/python/keras/engine/network.py\u001b[0m in \u001b[0;36mcall\u001b[0;34m(self, inputs, training, mask)\u001b[0m\n\u001b[1;32m    715\u001b[0m                                 ' implement a `call` method.')\n\u001b[1;32m    716\u001b[0m \u001b[0;34m\u001b[0m\u001b[0m\n\u001b[0;32m--> 717\u001b[0;31m     return self._run_internal_graph(\n\u001b[0m\u001b[1;32m    718\u001b[0m         \u001b[0minputs\u001b[0m\u001b[0;34m,\u001b[0m \u001b[0mtraining\u001b[0m\u001b[0;34m=\u001b[0m\u001b[0mtraining\u001b[0m\u001b[0;34m,\u001b[0m \u001b[0mmask\u001b[0m\u001b[0;34m=\u001b[0m\u001b[0mmask\u001b[0m\u001b[0;34m,\u001b[0m\u001b[0;34m\u001b[0m\u001b[0;34m\u001b[0m\u001b[0m\n\u001b[1;32m    719\u001b[0m         convert_kwargs_to_constants=base_layer_utils.call_context().saving)\n",
      "\u001b[0;32m/usr/local/lib/python3.8/site-packages/tensorflow/python/keras/engine/network.py\u001b[0m in \u001b[0;36m_run_internal_graph\u001b[0;34m(self, inputs, training, mask, convert_kwargs_to_constants)\u001b[0m\n\u001b[1;32m    886\u001b[0m \u001b[0;34m\u001b[0m\u001b[0m\n\u001b[1;32m    887\u001b[0m           \u001b[0;31m# Compute outputs.\u001b[0m\u001b[0;34m\u001b[0m\u001b[0;34m\u001b[0m\u001b[0;34m\u001b[0m\u001b[0m\n\u001b[0;32m--> 888\u001b[0;31m           \u001b[0moutput_tensors\u001b[0m \u001b[0;34m=\u001b[0m \u001b[0mlayer\u001b[0m\u001b[0;34m(\u001b[0m\u001b[0mcomputed_tensors\u001b[0m\u001b[0;34m,\u001b[0m \u001b[0;34m**\u001b[0m\u001b[0mkwargs\u001b[0m\u001b[0;34m)\u001b[0m\u001b[0;34m\u001b[0m\u001b[0;34m\u001b[0m\u001b[0m\n\u001b[0m\u001b[1;32m    889\u001b[0m \u001b[0;34m\u001b[0m\u001b[0m\n\u001b[1;32m    890\u001b[0m           \u001b[0;31m# Update tensor_dict.\u001b[0m\u001b[0;34m\u001b[0m\u001b[0;34m\u001b[0m\u001b[0;34m\u001b[0m\u001b[0m\n",
      "\u001b[0;32m/usr/local/lib/python3.8/site-packages/tensorflow/python/keras/engine/base_layer.py\u001b[0m in \u001b[0;36m__call__\u001b[0;34m(self, *args, **kwargs)\u001b[0m\n\u001b[1;32m    966\u001b[0m           with base_layer_utils.autocast_context_manager(\n\u001b[1;32m    967\u001b[0m               self._compute_dtype):\n\u001b[0;32m--> 968\u001b[0;31m             \u001b[0moutputs\u001b[0m \u001b[0;34m=\u001b[0m \u001b[0mself\u001b[0m\u001b[0;34m.\u001b[0m\u001b[0mcall\u001b[0m\u001b[0;34m(\u001b[0m\u001b[0mcast_inputs\u001b[0m\u001b[0;34m,\u001b[0m \u001b[0;34m*\u001b[0m\u001b[0margs\u001b[0m\u001b[0;34m,\u001b[0m \u001b[0;34m**\u001b[0m\u001b[0mkwargs\u001b[0m\u001b[0;34m)\u001b[0m\u001b[0;34m\u001b[0m\u001b[0;34m\u001b[0m\u001b[0m\n\u001b[0m\u001b[1;32m    969\u001b[0m           \u001b[0mself\u001b[0m\u001b[0;34m.\u001b[0m\u001b[0m_handle_activity_regularization\u001b[0m\u001b[0;34m(\u001b[0m\u001b[0minputs\u001b[0m\u001b[0;34m,\u001b[0m \u001b[0moutputs\u001b[0m\u001b[0;34m)\u001b[0m\u001b[0;34m\u001b[0m\u001b[0;34m\u001b[0m\u001b[0m\n\u001b[1;32m    970\u001b[0m           \u001b[0mself\u001b[0m\u001b[0;34m.\u001b[0m\u001b[0m_set_mask_metadata\u001b[0m\u001b[0;34m(\u001b[0m\u001b[0minputs\u001b[0m\u001b[0;34m,\u001b[0m \u001b[0moutputs\u001b[0m\u001b[0;34m,\u001b[0m \u001b[0minput_masks\u001b[0m\u001b[0;34m)\u001b[0m\u001b[0;34m\u001b[0m\u001b[0;34m\u001b[0m\u001b[0m\n",
      "\u001b[0;32m<ipython-input-443-f763780f27b3>\u001b[0m in \u001b[0;36mcall\u001b[0;34m(self, inputs)\u001b[0m\n\u001b[1;32m      5\u001b[0m \u001b[0;34m\u001b[0m\u001b[0m\n\u001b[1;32m      6\u001b[0m     \u001b[0;32mdef\u001b[0m \u001b[0mcall\u001b[0m\u001b[0;34m(\u001b[0m\u001b[0mself\u001b[0m\u001b[0;34m,\u001b[0m \u001b[0minputs\u001b[0m\u001b[0;34m)\u001b[0m\u001b[0;34m:\u001b[0m\u001b[0;34m\u001b[0m\u001b[0;34m\u001b[0m\u001b[0m\n\u001b[0;32m----> 7\u001b[0;31m         \u001b[0;32mreturn\u001b[0m \u001b[0mself\u001b[0m\u001b[0;34m.\u001b[0m\u001b[0mF\u001b[0m\u001b[0;34m.\u001b[0m\u001b[0mTotalUUXS\u001b[0m\u001b[0;34m(\u001b[0m\u001b[0minputs\u001b[0m\u001b[0;34m[\u001b[0m\u001b[0;34m:\u001b[0m\u001b[0;34m,\u001b[0m \u001b[0;34m:\u001b[0m\u001b[0;36m8\u001b[0m\u001b[0;34m]\u001b[0m\u001b[0;34m,\u001b[0m \u001b[0minputs\u001b[0m\u001b[0;34m[\u001b[0m\u001b[0;34m:\u001b[0m\u001b[0;34m,\u001b[0m \u001b[0;36m8\u001b[0m\u001b[0;34m]\u001b[0m\u001b[0;34m,\u001b[0m \u001b[0minputs\u001b[0m\u001b[0;34m[\u001b[0m\u001b[0;34m:\u001b[0m\u001b[0;34m,\u001b[0m \u001b[0;36m9\u001b[0m\u001b[0;34m]\u001b[0m\u001b[0;34m,\u001b[0m \u001b[0minputs\u001b[0m\u001b[0;34m[\u001b[0m\u001b[0;34m:\u001b[0m\u001b[0;34m,\u001b[0m \u001b[0;36m10\u001b[0m\u001b[0;34m]\u001b[0m\u001b[0;34m)\u001b[0m\u001b[0;34m\u001b[0m\u001b[0;34m\u001b[0m\u001b[0m\n\u001b[0m\u001b[1;32m      8\u001b[0m \u001b[0;34m\u001b[0m\u001b[0m\n\u001b[1;32m      9\u001b[0m     \u001b[0;32mdef\u001b[0m \u001b[0mget_config\u001b[0m\u001b[0;34m(\u001b[0m\u001b[0mself\u001b[0m\u001b[0;34m)\u001b[0m\u001b[0;34m:\u001b[0m\u001b[0;34m\u001b[0m\u001b[0;34m\u001b[0m\u001b[0m\n",
      "\u001b[0;32m~/Documents/ptgroupneuralnet/BHDVCStf.py\u001b[0m in \u001b[0;36mTotalUUXS\u001b[0;34m(self, x, ReH, ReE, ReHtilde)\u001b[0m\n\u001b[1;32m    251\u001b[0m \u001b[0;34m\u001b[0m\u001b[0m\n\u001b[1;32m    252\u001b[0m         \u001b[0mxsbhuu\u001b[0m   \u001b[0;34m=\u001b[0m \u001b[0mself\u001b[0m\u001b[0;34m.\u001b[0m\u001b[0mGetBHUUxs\u001b[0m\u001b[0;34m(\u001b[0m\u001b[0mphi\u001b[0m\u001b[0;34m,\u001b[0m \u001b[0mF1\u001b[0m\u001b[0;34m,\u001b[0m \u001b[0mF2\u001b[0m\u001b[0;34m)\u001b[0m\u001b[0;34m\u001b[0m\u001b[0;34m\u001b[0m\u001b[0m\n\u001b[0;32m--> 253\u001b[0;31m         \u001b[0mxsiuu\u001b[0m    \u001b[0;34m=\u001b[0m \u001b[0mself\u001b[0m\u001b[0;34m.\u001b[0m\u001b[0mGetIUUxs\u001b[0m\u001b[0;34m(\u001b[0m\u001b[0mphi\u001b[0m\u001b[0;34m,\u001b[0m \u001b[0mF1\u001b[0m\u001b[0;34m,\u001b[0m \u001b[0mF2\u001b[0m\u001b[0;34m,\u001b[0m \u001b[0mReH\u001b[0m\u001b[0;34m,\u001b[0m \u001b[0mReE\u001b[0m\u001b[0;34m,\u001b[0m \u001b[0mReHtilde\u001b[0m\u001b[0;34m)\u001b[0m\u001b[0;34m\u001b[0m\u001b[0;34m\u001b[0m\u001b[0m\n\u001b[0m\u001b[1;32m    254\u001b[0m \u001b[0;34m\u001b[0m\u001b[0m\n\u001b[1;32m    255\u001b[0m \u001b[0;34m\u001b[0m\u001b[0m\n",
      "\u001b[0;32m~/Documents/ptgroupneuralnet/BHDVCStf.py\u001b[0m in \u001b[0;36mGetIUUxs\u001b[0;34m(self, phi, F1, F2, ReH, ReE, ReHtilde)\u001b[0m\n\u001b[1;32m    179\u001b[0m     \u001b[0;32mdef\u001b[0m \u001b[0mGetIUUxs\u001b[0m\u001b[0;34m(\u001b[0m\u001b[0mself\u001b[0m\u001b[0;34m,\u001b[0m \u001b[0mphi\u001b[0m\u001b[0;34m,\u001b[0m \u001b[0mF1\u001b[0m\u001b[0;34m,\u001b[0m \u001b[0mF2\u001b[0m\u001b[0;34m,\u001b[0m \u001b[0mReH\u001b[0m\u001b[0;34m,\u001b[0m \u001b[0mReE\u001b[0m\u001b[0;34m,\u001b[0m \u001b[0mReHtilde\u001b[0m\u001b[0;34m)\u001b[0m \u001b[0;34m:\u001b[0m\u001b[0;34m\u001b[0m\u001b[0;34m\u001b[0m\u001b[0m\n\u001b[1;32m    180\u001b[0m \u001b[0;34m\u001b[0m\u001b[0m\n\u001b[0;32m--> 181\u001b[0;31m         \u001b[0mself\u001b[0m\u001b[0;34m.\u001b[0m\u001b[0mSet4VectorsPhiDep\u001b[0m\u001b[0;34m(\u001b[0m\u001b[0mphi\u001b[0m\u001b[0;34m)\u001b[0m\u001b[0;34m\u001b[0m\u001b[0;34m\u001b[0m\u001b[0m\n\u001b[0m\u001b[1;32m    182\u001b[0m         \u001b[0mself\u001b[0m\u001b[0;34m.\u001b[0m\u001b[0mSet4VectorProducts\u001b[0m\u001b[0;34m(\u001b[0m\u001b[0mphi\u001b[0m\u001b[0;34m)\u001b[0m\u001b[0;34m\u001b[0m\u001b[0;34m\u001b[0m\u001b[0m\n\u001b[1;32m    183\u001b[0m \u001b[0;34m\u001b[0m\u001b[0m\n",
      "\u001b[0;32m~/Documents/ptgroupneuralnet/BHDVCStf.py\u001b[0m in \u001b[0;36mSet4VectorsPhiDep\u001b[0;34m(self, phi)\u001b[0m\n\u001b[1;32m    111\u001b[0m         \u001b[0;31m#print(self.D, \"\\n\", self.Q, \"\\n\", self.QP)\u001b[0m\u001b[0;34m\u001b[0m\u001b[0;34m\u001b[0m\u001b[0;34m\u001b[0m\u001b[0m\n\u001b[1;32m    112\u001b[0m         \u001b[0mself\u001b[0m\u001b[0;34m.\u001b[0m\u001b[0mpp\u001b[0m \u001b[0;34m=\u001b[0m \u001b[0mself\u001b[0m\u001b[0;34m.\u001b[0m\u001b[0mp\u001b[0m \u001b[0;34m+\u001b[0m \u001b[0mself\u001b[0m\u001b[0;34m.\u001b[0m\u001b[0mD\u001b[0m \u001b[0;31m# p' from eq. (21)\u001b[0m\u001b[0;34m\u001b[0m\u001b[0;34m\u001b[0m\u001b[0m\n\u001b[0;32m--> 113\u001b[0;31m         \u001b[0mself\u001b[0m\u001b[0;34m.\u001b[0m\u001b[0mP\u001b[0m \u001b[0;34m=\u001b[0m \u001b[0mself\u001b[0m\u001b[0;34m.\u001b[0m\u001b[0mp\u001b[0m \u001b[0;34m+\u001b[0m \u001b[0mself\u001b[0m\u001b[0;34m.\u001b[0m\u001b[0mpp\u001b[0m\u001b[0;34m\u001b[0m\u001b[0;34m\u001b[0m\u001b[0m\n\u001b[0m\u001b[1;32m    114\u001b[0m         \u001b[0mself\u001b[0m\u001b[0;34m.\u001b[0m\u001b[0mP\u001b[0m\u001b[0;34m.\u001b[0m\u001b[0mSetPxPyPzE\u001b[0m\u001b[0;34m(\u001b[0m\u001b[0;36m.5\u001b[0m\u001b[0;34m*\u001b[0m\u001b[0mself\u001b[0m\u001b[0;34m.\u001b[0m\u001b[0mP\u001b[0m\u001b[0;34m.\u001b[0m\u001b[0mPx\u001b[0m\u001b[0;34m(\u001b[0m\u001b[0;34m)\u001b[0m\u001b[0;34m,\u001b[0m \u001b[0;36m.5\u001b[0m\u001b[0;34m*\u001b[0m\u001b[0mself\u001b[0m\u001b[0;34m.\u001b[0m\u001b[0mP\u001b[0m\u001b[0;34m.\u001b[0m\u001b[0mPy\u001b[0m\u001b[0;34m(\u001b[0m\u001b[0;34m)\u001b[0m\u001b[0;34m,\u001b[0m \u001b[0;36m.5\u001b[0m\u001b[0;34m*\u001b[0m\u001b[0mself\u001b[0m\u001b[0;34m.\u001b[0m\u001b[0mP\u001b[0m\u001b[0;34m.\u001b[0m\u001b[0mPz\u001b[0m\u001b[0;34m(\u001b[0m\u001b[0;34m)\u001b[0m\u001b[0;34m,\u001b[0m \u001b[0;36m.5\u001b[0m\u001b[0;34m*\u001b[0m\u001b[0mself\u001b[0m\u001b[0;34m.\u001b[0m\u001b[0mP\u001b[0m\u001b[0;34m.\u001b[0m\u001b[0mPt\u001b[0m\u001b[0;34m(\u001b[0m\u001b[0;34m)\u001b[0m\u001b[0;34m)\u001b[0m\u001b[0;34m\u001b[0m\u001b[0;34m\u001b[0m\u001b[0m\n\u001b[1;32m    115\u001b[0m \u001b[0;34m\u001b[0m\u001b[0m\n",
      "\u001b[0;32m~/Documents/ptgroupneuralnet/Lorentz_Vector.py\u001b[0m in \u001b[0;36m__add__\u001b[0;34m(self, other)\u001b[0m\n\u001b[1;32m     23\u001b[0m \u001b[0;34m\u001b[0m\u001b[0m\n\u001b[1;32m     24\u001b[0m     \u001b[0;32mdef\u001b[0m \u001b[0m__add__\u001b[0m\u001b[0;34m(\u001b[0m\u001b[0mself\u001b[0m\u001b[0;34m,\u001b[0m \u001b[0mother\u001b[0m\u001b[0;34m)\u001b[0m\u001b[0;34m:\u001b[0m\u001b[0;34m\u001b[0m\u001b[0;34m\u001b[0m\u001b[0m\n\u001b[0;32m---> 25\u001b[0;31m         \u001b[0;32mreturn\u001b[0m \u001b[0mLorentzVector\u001b[0m\u001b[0;34m(\u001b[0m\u001b[0mx_\u001b[0m\u001b[0;34m=\u001b[0m\u001b[0mself\u001b[0m\u001b[0;34m.\u001b[0m\u001b[0mx\u001b[0m\u001b[0;34m+\u001b[0m\u001b[0mother\u001b[0m\u001b[0;34m.\u001b[0m\u001b[0mPx\u001b[0m\u001b[0;34m(\u001b[0m\u001b[0;34m)\u001b[0m\u001b[0;34m,\u001b[0m \u001b[0my_\u001b[0m\u001b[0;34m=\u001b[0m\u001b[0mself\u001b[0m\u001b[0;34m.\u001b[0m\u001b[0my\u001b[0m\u001b[0;34m+\u001b[0m\u001b[0mother\u001b[0m\u001b[0;34m.\u001b[0m\u001b[0mPy\u001b[0m\u001b[0;34m(\u001b[0m\u001b[0;34m)\u001b[0m\u001b[0;34m,\u001b[0m \u001b[0mz_\u001b[0m\u001b[0;34m=\u001b[0m\u001b[0mself\u001b[0m\u001b[0;34m.\u001b[0m\u001b[0mz\u001b[0m\u001b[0;34m+\u001b[0m\u001b[0mother\u001b[0m\u001b[0;34m.\u001b[0m\u001b[0mPz\u001b[0m\u001b[0;34m(\u001b[0m\u001b[0;34m)\u001b[0m\u001b[0;34m,\u001b[0m \u001b[0mt_\u001b[0m\u001b[0;34m=\u001b[0m\u001b[0mself\u001b[0m\u001b[0;34m.\u001b[0m\u001b[0mt\u001b[0m\u001b[0;34m+\u001b[0m\u001b[0mother\u001b[0m\u001b[0;34m.\u001b[0m\u001b[0mPt\u001b[0m\u001b[0;34m(\u001b[0m\u001b[0;34m)\u001b[0m\u001b[0;34m)\u001b[0m\u001b[0;34m\u001b[0m\u001b[0;34m\u001b[0m\u001b[0m\n\u001b[0m\u001b[1;32m     26\u001b[0m \u001b[0;34m\u001b[0m\u001b[0m\n\u001b[1;32m     27\u001b[0m     \u001b[0;32mdef\u001b[0m \u001b[0m__sub__\u001b[0m\u001b[0;34m(\u001b[0m\u001b[0mself\u001b[0m\u001b[0;34m,\u001b[0m \u001b[0mother\u001b[0m\u001b[0;34m)\u001b[0m\u001b[0;34m:\u001b[0m\u001b[0;34m\u001b[0m\u001b[0;34m\u001b[0m\u001b[0m\n",
      "\u001b[0;32m/usr/local/lib/python3.8/site-packages/tensorflow/python/ops/math_ops.py\u001b[0m in \u001b[0;36mr_binary_op_wrapper\u001b[0;34m(y, x)\u001b[0m\n\u001b[1;32m   1006\u001b[0m \u001b[0;34m\u001b[0m\u001b[0m\n\u001b[1;32m   1007\u001b[0m   \u001b[0;32mdef\u001b[0m \u001b[0mr_binary_op_wrapper\u001b[0m\u001b[0;34m(\u001b[0m\u001b[0my\u001b[0m\u001b[0;34m,\u001b[0m \u001b[0mx\u001b[0m\u001b[0;34m)\u001b[0m\u001b[0;34m:\u001b[0m\u001b[0;34m\u001b[0m\u001b[0;34m\u001b[0m\u001b[0m\n\u001b[0;32m-> 1008\u001b[0;31m     \u001b[0;32mwith\u001b[0m \u001b[0mops\u001b[0m\u001b[0;34m.\u001b[0m\u001b[0mname_scope\u001b[0m\u001b[0;34m(\u001b[0m\u001b[0;32mNone\u001b[0m\u001b[0;34m,\u001b[0m \u001b[0mop_name\u001b[0m\u001b[0;34m,\u001b[0m \u001b[0;34m[\u001b[0m\u001b[0mx\u001b[0m\u001b[0;34m,\u001b[0m \u001b[0my\u001b[0m\u001b[0;34m]\u001b[0m\u001b[0;34m)\u001b[0m \u001b[0;32mas\u001b[0m \u001b[0mname\u001b[0m\u001b[0;34m:\u001b[0m\u001b[0;34m\u001b[0m\u001b[0;34m\u001b[0m\u001b[0m\n\u001b[0m\u001b[1;32m   1009\u001b[0m       \u001b[0mx\u001b[0m \u001b[0;34m=\u001b[0m \u001b[0mops\u001b[0m\u001b[0;34m.\u001b[0m\u001b[0mconvert_to_tensor\u001b[0m\u001b[0;34m(\u001b[0m\u001b[0mx\u001b[0m\u001b[0;34m,\u001b[0m \u001b[0mdtype\u001b[0m\u001b[0;34m=\u001b[0m\u001b[0my\u001b[0m\u001b[0;34m.\u001b[0m\u001b[0mdtype\u001b[0m\u001b[0;34m.\u001b[0m\u001b[0mbase_dtype\u001b[0m\u001b[0;34m,\u001b[0m \u001b[0mname\u001b[0m\u001b[0;34m=\u001b[0m\u001b[0;34m\"x\"\u001b[0m\u001b[0;34m)\u001b[0m\u001b[0;34m\u001b[0m\u001b[0;34m\u001b[0m\u001b[0m\n\u001b[1;32m   1010\u001b[0m       \u001b[0;32mreturn\u001b[0m \u001b[0mfunc\u001b[0m\u001b[0;34m(\u001b[0m\u001b[0mx\u001b[0m\u001b[0;34m,\u001b[0m \u001b[0my\u001b[0m\u001b[0;34m,\u001b[0m \u001b[0mname\u001b[0m\u001b[0;34m=\u001b[0m\u001b[0mname\u001b[0m\u001b[0;34m)\u001b[0m\u001b[0;34m\u001b[0m\u001b[0;34m\u001b[0m\u001b[0m\n",
      "\u001b[0;32m/usr/local/lib/python3.8/site-packages/tensorflow/python/framework/ops.py\u001b[0m in \u001b[0;36mname_scope\u001b[0;34m(name, default_name, values, skip_on_eager)\u001b[0m\n\u001b[1;32m   6218\u001b[0m \u001b[0;34m\u001b[0m\u001b[0m\n\u001b[1;32m   6219\u001b[0m   \u001b[0;32mif\u001b[0m \u001b[0mskip_on_eager\u001b[0m\u001b[0;34m:\u001b[0m\u001b[0;34m\u001b[0m\u001b[0;34m\u001b[0m\u001b[0m\n\u001b[0;32m-> 6220\u001b[0;31m     \u001b[0;32mreturn\u001b[0m \u001b[0mNullContextmanager\u001b[0m\u001b[0;34m(\u001b[0m\u001b[0;34m)\u001b[0m\u001b[0;34m\u001b[0m\u001b[0;34m\u001b[0m\u001b[0m\n\u001b[0m\u001b[1;32m   6221\u001b[0m \u001b[0;34m\u001b[0m\u001b[0m\n\u001b[1;32m   6222\u001b[0m   \u001b[0mname\u001b[0m \u001b[0;34m=\u001b[0m \u001b[0mdefault_name\u001b[0m \u001b[0;32mif\u001b[0m \u001b[0mname\u001b[0m \u001b[0;32mis\u001b[0m \u001b[0;32mNone\u001b[0m \u001b[0;32melse\u001b[0m \u001b[0mname\u001b[0m\u001b[0;34m\u001b[0m\u001b[0;34m\u001b[0m\u001b[0m\n",
      "\u001b[0;32m/usr/local/lib/python3.8/site-packages/tensorflow/python/framework/ops.py\u001b[0m in \u001b[0;36m__init__\u001b[0;34m(self, *args, **kwargs)\u001b[0m\n\u001b[1;32m    154\u001b[0m \u001b[0;32mclass\u001b[0m \u001b[0mNullContextmanager\u001b[0m\u001b[0;34m(\u001b[0m\u001b[0mobject\u001b[0m\u001b[0;34m)\u001b[0m\u001b[0;34m:\u001b[0m\u001b[0;34m\u001b[0m\u001b[0;34m\u001b[0m\u001b[0m\n\u001b[1;32m    155\u001b[0m \u001b[0;34m\u001b[0m\u001b[0m\n\u001b[0;32m--> 156\u001b[0;31m   \u001b[0;32mdef\u001b[0m \u001b[0m__init__\u001b[0m\u001b[0;34m(\u001b[0m\u001b[0mself\u001b[0m\u001b[0;34m,\u001b[0m \u001b[0;34m*\u001b[0m\u001b[0margs\u001b[0m\u001b[0;34m,\u001b[0m \u001b[0;34m**\u001b[0m\u001b[0mkwargs\u001b[0m\u001b[0;34m)\u001b[0m\u001b[0;34m:\u001b[0m\u001b[0;34m\u001b[0m\u001b[0;34m\u001b[0m\u001b[0m\n\u001b[0m\u001b[1;32m    157\u001b[0m     \u001b[0;32mpass\u001b[0m\u001b[0;34m\u001b[0m\u001b[0;34m\u001b[0m\u001b[0m\n\u001b[1;32m    158\u001b[0m \u001b[0;34m\u001b[0m\u001b[0m\n",
      "\u001b[0;31mKeyboardInterrupt\u001b[0m: "
     ]
    }
   ],
   "source": [
    "res = tfp.optimizer.differential_evolution_minimize(objective, population,max_iterations=2000, func_tolerance=10.)"
   ]
  },
  {
   "cell_type": "code",
   "execution_count": 254,
   "metadata": {},
   "outputs": [],
   "source": [
    "best = res[2]"
   ]
  },
  {
   "cell_type": "code",
   "execution_count": 256,
   "metadata": {},
   "outputs": [],
   "source": [
    "globalModel.set_weights(unpad(best))"
   ]
  },
  {
   "cell_type": "code",
   "execution_count": 257,
   "metadata": {},
   "outputs": [],
   "source": [
    "def cffs_from_globalModel(model):\n",
    "    subModel = tf.keras.backend.function(model.layers[0].input, model.layers[3].output)\n",
    "    return subModel(np.asarray(set0.Kinematics)[None, 0])[0]"
   ]
  },
  {
   "cell_type": "code",
   "execution_count": 258,
   "metadata": {},
   "outputs": [
    {
     "data": {
      "text/plain": [
       "array([ 0.29813153, -0.01019754,  0.92896974], dtype=float32)"
      ]
     },
     "execution_count": 258,
     "metadata": {},
     "output_type": "execute_result"
    }
   ],
   "source": [
    "cffs_from_globalModel(globalModel)"
   ]
  },
  {
   "cell_type": "markdown",
   "metadata": {},
   "source": [
    "# Direct fit of compton form factors with differential evolution"
   ]
  },
  {
   "cell_type": "code",
   "execution_count": 6,
   "metadata": {},
   "outputs": [
    {
     "name": "stdout",
     "output_type": "stream",
     "text": [
      "Welcome to JupyROOT 6.22/00\n"
     ]
    }
   ],
   "source": [
    "from ROOT import gROOT\n",
    "\n",
    "gROOT.LoadMacro('F.C')\n",
    "from ROOT import F\n",
    "f = F()"
   ]
  },
  {
   "cell_type": "code",
   "execution_count": 7,
   "metadata": {},
   "outputs": [],
   "source": [
    "def TotalUUXS_curve_fit(fixed, ReH, ReE, ReHtilde):\n",
    "    phi, k, QQ, xB, t, F1, F2, dvcs = tuple(map(list, fixed))\n",
    "    fs = np.zeros(len(phi))\n",
    "    for i in range(len(fs)):\n",
    "        fs[i] = f.TotalUUXS(phi[i], k[i], QQ[i], xB[i], t[i], F1[i], F2[i], ReH, ReE, ReHtilde, dvcs[i])\n",
    "    return fs"
   ]
  },
  {
   "cell_type": "code",
   "execution_count": 11,
   "metadata": {},
   "outputs": [],
   "source": [
    "df = pd.read_csv(\"dvcs_xs_newsets_genCFFs.csv\")\n",
    "data = DvcsData(df)\n",
    "setI = data.getSet(0)"
   ]
  },
  {
   "cell_type": "code",
   "execution_count": 12,
   "metadata": {},
   "outputs": [],
   "source": [
    "population = [tf.convert_to_tensor([np.random.uniform(-100, 100) for i in range(3)]) for i in range(8)]"
   ]
  },
  {
   "cell_type": "code",
   "execution_count": 13,
   "metadata": {},
   "outputs": [
    {
     "data": {
      "text/plain": [
       "[<tf.Tensor: shape=(3,), dtype=float32, numpy=array([28.75297 , 23.30636 , 46.000076], dtype=float32)>,\n",
       " <tf.Tensor: shape=(3,), dtype=float32, numpy=array([ 63.242134, -15.610227, -79.790375], dtype=float32)>,\n",
       " <tf.Tensor: shape=(3,), dtype=float32, numpy=array([-20.857727,  43.334515, -64.81432 ], dtype=float32)>,\n",
       " <tf.Tensor: shape=(3,), dtype=float32, numpy=array([ 94.02247, -99.63276, -95.81258], dtype=float32)>,\n",
       " <tf.Tensor: shape=(3,), dtype=float32, numpy=array([-4.1308866, 82.913185 , 92.122856 ], dtype=float32)>,\n",
       " <tf.Tensor: shape=(3,), dtype=float32, numpy=array([ 51.566856, -89.943054, -54.267056], dtype=float32)>,\n",
       " <tf.Tensor: shape=(3,), dtype=float32, numpy=array([ 56.383347, -88.86382 ,  89.83965 ], dtype=float32)>,\n",
       " <tf.Tensor: shape=(3,), dtype=float32, numpy=array([  1.7033573,  19.28127  , -55.664505 ], dtype=float32)>]"
      ]
     },
     "execution_count": 13,
     "metadata": {},
     "output_type": "execute_result"
    }
   ],
   "source": [
    "population"
   ]
  },
  {
   "cell_type": "code",
   "execution_count": 14,
   "metadata": {},
   "outputs": [],
   "source": [
    "setI = data.getSet(0)"
   ]
  },
  {
   "cell_type": "code",
   "execution_count": 63,
   "metadata": {},
   "outputs": [],
   "source": [
    "def objective(*cffs):\n",
    "    losses = []\n",
    "    cffs = cffs[0]\n",
    "    for cff in cffs:\n",
    "        losses.append(np.mean(np.square((TotalUUXS_curve_fit(setI.for_bhdvcs, cff[0], cff[1], cff[2]) - setI.y))\n",
    "                   * np.square(setI.sampleWeights())))\n",
    "    return tf.convert_to_tensor(losses)"
   ]
  },
  {
   "cell_type": "code",
   "execution_count": 64,
   "metadata": {},
   "outputs": [],
   "source": [
    "population_size = 10\n",
    "population = (tf.random.uniform([population_size, 3], -100, 100),)"
   ]
  },
  {
   "cell_type": "code",
   "execution_count": 134,
   "metadata": {},
   "outputs": [],
   "source": [
    "res = tfp.optimizer.differential_evolution_minimize(objective, initial_population = population,\n",
    "                                                    max_iterations=500, crossover_prob = .8)"
   ]
  },
  {
   "cell_type": "code",
   "execution_count": 135,
   "metadata": {},
   "outputs": [
    {
     "data": {
      "text/plain": [
       "[<tf.Tensor: shape=(3,), dtype=float32, numpy=array([ 11.950319, -48.957527,   7.393045], dtype=float32)>]"
      ]
     },
     "execution_count": 135,
     "metadata": {},
     "output_type": "execute_result"
    }
   ],
   "source": [
    "res.position"
   ]
  },
  {
   "cell_type": "code",
   "execution_count": 136,
   "metadata": {},
   "outputs": [
    {
     "data": {
      "text/plain": [
       "<tf.Tensor: shape=(), dtype=float64, numpy=0.8751671681347467>"
      ]
     },
     "execution_count": 136,
     "metadata": {},
     "output_type": "execute_result"
    }
   ],
   "source": [
    "res.objective_value"
   ]
  },
  {
   "cell_type": "markdown",
   "metadata": {},
   "source": [
    "## Evaluate"
   ]
  },
  {
   "cell_type": "code",
   "execution_count": 137,
   "metadata": {},
   "outputs": [
    {
     "name": "stderr",
     "output_type": "stream",
     "text": [
      "  7%|▋         | 1/15 [14:23<3:21:35, 864.00s/it]"
     ]
    },
    {
     "name": "stdout",
     "output_type": "stream",
     "text": [
      "\n",
      "Set 0:\n",
      "Avg Loss: tf.Tensor(1.4496975246772856, shape=(), dtype=float64)\n",
      "             Fitted      Error      True\n",
      "ReH       12.746454   4.791278  13.05540\n",
      "ReE      -51.592255  24.698525 -53.05540\n",
      "ReHTilde   6.741661   0.612975   7.25302\n"
     ]
    },
    {
     "name": "stderr",
     "output_type": "stream",
     "text": [
      "\r",
      " 13%|█▎        | 2/15 [29:03<3:08:12, 868.62s/it]"
     ]
    },
    {
     "name": "stdout",
     "output_type": "stream",
     "text": [
      "\n",
      "Set 1:\n",
      "Avg Loss: tf.Tensor(1.0778639924088909, shape=(), dtype=float64)\n",
      "             Fitted      Error      True\n",
      "ReH        8.929993   6.048974  12.55490\n",
      "ReE      -33.039746  31.899378 -52.55490\n",
      "ReHTilde   8.882531   3.081388   6.97494\n"
     ]
    },
    {
     "name": "stderr",
     "output_type": "stream",
     "text": [
      "\r",
      " 20%|██        | 3/15 [43:35<2:53:57, 869.81s/it]"
     ]
    },
    {
     "name": "stdout",
     "output_type": "stream",
     "text": [
      "\n",
      "Set 2:\n",
      "Avg Loss: tf.Tensor(0.5934062748740441, shape=(), dtype=float64)\n",
      "             Fitted      Error      True\n",
      "ReH        5.491918   3.240278   7.22424\n",
      "ReE      -37.195635  18.586285 -47.22420\n",
      "ReHTilde   4.802799   0.845877   4.01347\n"
     ]
    },
    {
     "name": "stderr",
     "output_type": "stream",
     "text": [
      "\r",
      " 27%|██▋       | 4/15 [56:46<2:35:06, 846.08s/it]"
     ]
    },
    {
     "name": "stdout",
     "output_type": "stream",
     "text": [
      "\n",
      "Set 3:\n",
      "Avg Loss: tf.Tensor(1.9783689406431293, shape=(), dtype=float64)\n",
      "             Fitted      Error      True\n",
      "ReH        2.431477  10.533215   7.65272\n",
      "ReE      -21.206750  53.700319 -47.65270\n",
      "ReHTilde   1.890285   5.397142   4.25151\n"
     ]
    },
    {
     "name": "stderr",
     "output_type": "stream",
     "text": [
      "\r",
      " 33%|███▎      | 5/15 [1:10:40<2:20:24, 842.41s/it]"
     ]
    },
    {
     "name": "stdout",
     "output_type": "stream",
     "text": [
      "\n",
      "Set 4:\n",
      "Avg Loss: tf.Tensor(2.3498147614180116, shape=(), dtype=float64)\n",
      "             Fitted      Error      True\n",
      "ReH        8.331600   8.576187  12.55490\n",
      "ReE      -30.661571  44.065299 -52.55490\n",
      "ReHTilde   7.516736   0.619021   6.97494\n"
     ]
    },
    {
     "name": "stderr",
     "output_type": "stream",
     "text": [
      "\r",
      " 40%|████      | 6/15 [1:25:15<2:07:49, 852.21s/it]"
     ]
    },
    {
     "name": "stdout",
     "output_type": "stream",
     "text": [
      "\n",
      "Set 5:\n",
      "Avg Loss: tf.Tensor(0.9707454605160819, shape=(), dtype=float64)\n",
      "             Fitted      Error      True\n",
      "ReH        2.869795   6.197867   7.22424\n",
      "ReE      -22.406631  35.171995 -47.22420\n",
      "ReHTilde   3.918218   0.432372   4.01347\n"
     ]
    },
    {
     "name": "stderr",
     "output_type": "stream",
     "text": [
      "\r",
      " 47%|████▋     | 7/15 [1:39:40<1:54:08, 856.12s/it]"
     ]
    },
    {
     "name": "stdout",
     "output_type": "stream",
     "text": [
      "\n",
      "Set 6:\n",
      "Avg Loss: tf.Tensor(1.0641780203379443, shape=(), dtype=float64)\n",
      "             Fitted      Error      True\n",
      "ReH       10.122604   8.127179  11.74110\n",
      "ReE      -42.601302  46.272141 -51.74110\n",
      "ReHTilde   6.874429   3.714348   6.52283\n"
     ]
    },
    {
     "name": "stderr",
     "output_type": "stream",
     "text": [
      "\r",
      " 53%|█████▎    | 8/15 [1:53:32<1:39:01, 848.77s/it]"
     ]
    },
    {
     "name": "stdout",
     "output_type": "stream",
     "text": [
      "\n",
      "Set 7:\n",
      "Avg Loss: tf.Tensor(1.2667662071659958, shape=(), dtype=float64)\n",
      "             Fitted      Error      True\n",
      "ReH        5.314217   6.100737   7.65272\n",
      "ReE      -35.934925  30.786187 -47.65270\n",
      "ReHTilde   2.528644   3.876636   4.25151\n"
     ]
    },
    {
     "name": "stderr",
     "output_type": "stream",
     "text": [
      "\r",
      " 60%|██████    | 9/15 [2:10:01<1:29:04, 890.82s/it]"
     ]
    },
    {
     "name": "stdout",
     "output_type": "stream",
     "text": [
      "\n",
      "Set 8:\n",
      "Avg Loss: tf.Tensor(2.3865642100183324, shape=(), dtype=float64)\n",
      "             Fitted      Error      True\n",
      "ReH       11.294300   5.095203  12.55490\n",
      "ReE      -45.780224  26.036015 -52.55490\n",
      "ReHTilde   7.997254   3.472078   6.97494\n"
     ]
    },
    {
     "name": "stderr",
     "output_type": "stream",
     "text": [
      "\r",
      " 67%|██████▋   | 10/15 [2:25:59<1:15:54, 910.86s/it]"
     ]
    },
    {
     "name": "stdout",
     "output_type": "stream",
     "text": [
      "\n",
      "Set 9:\n",
      "Avg Loss: tf.Tensor(1.0372291713419797, shape=(), dtype=float64)\n",
      "             Fitted      Error      True\n",
      "ReH        5.767915   3.568120   6.99014\n",
      "ReE      -39.226480  21.972785 -46.99010\n",
      "ReHTilde   2.725402   0.666224   3.88341\n"
     ]
    },
    {
     "name": "stderr",
     "output_type": "stream",
     "text": [
      "\r",
      " 73%|███████▎  | 11/15 [2:40:57<1:00:28, 907.21s/it]"
     ]
    },
    {
     "name": "stdout",
     "output_type": "stream",
     "text": [
      "\n",
      "Set 10:\n",
      "Avg Loss: tf.Tensor(1.565348020539596, shape=(), dtype=float64)\n",
      "             Fitted      Error      True\n",
      "ReH        3.402635   9.347091   7.22424\n",
      "ReE      -25.423685  53.092687 -47.22420\n",
      "ReHTilde   3.007269   3.007115   4.01347\n"
     ]
    },
    {
     "name": "stderr",
     "output_type": "stream",
     "text": [
      "\r",
      " 80%|████████  | 12/15 [3:05:24<53:45, 1075.22s/it] "
     ]
    },
    {
     "name": "stdout",
     "output_type": "stream",
     "text": [
      "\n",
      "Set 11:\n",
      "Avg Loss: tf.Tensor(1.3928315251196017, shape=(), dtype=float64)\n",
      "             Fitted      Error      True\n",
      "ReH        7.923153   8.676142  11.74110\n",
      "ReE      -30.424141  48.489633 -51.74110\n",
      "ReHTilde   7.265404   1.973091   6.52283\n"
     ]
    },
    {
     "name": "stderr",
     "output_type": "stream",
     "text": [
      "\r",
      " 87%|████████▋ | 13/15 [3:19:18<33:25, 1002.63s/it]"
     ]
    },
    {
     "name": "stdout",
     "output_type": "stream",
     "text": [
      "\n",
      "Set 12:\n",
      "Avg Loss: tf.Tensor(1.499385197309883, shape=(), dtype=float64)\n",
      "             Fitted      Error      True\n",
      "ReH        5.786214   5.427584   6.99014\n",
      "ReE      -39.351003  33.485238 -46.99010\n",
      "ReHTilde   2.420396   2.130612   3.88341\n"
     ]
    },
    {
     "name": "stderr",
     "output_type": "stream",
     "text": [
      "\r",
      " 93%|█████████▎| 14/15 [3:35:10<16:27, 987.41s/it] "
     ]
    },
    {
     "name": "stdout",
     "output_type": "stream",
     "text": [
      "\n",
      "Set 13:\n",
      "Avg Loss: tf.Tensor(3.4335167921138363, shape=(), dtype=float64)\n",
      "             Fitted      Error      True\n",
      "ReH        3.638039  10.130620   7.22424\n",
      "ReE      -26.659518  57.991056 -47.22420\n",
      "ReHTilde   1.478217   9.900955   4.01347\n"
     ]
    },
    {
     "name": "stderr",
     "output_type": "stream",
     "text": [
      "100%|██████████| 15/15 [3:51:09<00:00, 924.64s/it]"
     ]
    },
    {
     "name": "stdout",
     "output_type": "stream",
     "text": [
      "\n",
      "Set 14:\n",
      "Avg Loss: tf.Tensor(3.2136060787792706, shape=(), dtype=float64)\n",
      "            Fitted      Error      True\n",
      "ReH       3.205575  13.396316  11.74110\n",
      "ReE      -4.237342  74.654976 -51.74110\n",
      "ReHTilde  6.680806   1.244338   6.52283\n"
     ]
    },
    {
     "name": "stderr",
     "output_type": "stream",
     "text": [
      "\n"
     ]
    }
   ],
   "source": [
    "numSamples = 20\n",
    "population_size = 10\n",
    "\n",
    "for i in tqdm(range(max(df['#Set'])+1)):\n",
    "    setI = data.getSet(i)\n",
    "    \n",
    "    results = pd.DataFrame({\n",
    "      \"ReH\": np.zeros(numSamples),\n",
    "      \"ReE\": np.zeros(numSamples),\n",
    "      \"ReHtilde\": np.zeros(numSamples)\n",
    "    })\n",
    "    \n",
    "    losses = 0\n",
    "    \n",
    "    for sample in range(numSamples):\n",
    "        \n",
    "        population = (tf.random.uniform([population_size, 3], -100, 100),)\n",
    "        \n",
    "        res = tfp.optimizer.differential_evolution_minimize(objective, initial_population=population,\n",
    "                                                            max_iterations=2000)\n",
    "        \n",
    "        for num, cff in enumerate(['ReH', 'ReE', 'ReHtilde']):\n",
    "            results.loc[sample, cff] = float(res.position[0][num])\n",
    "        \n",
    "        losses += res.objective_value\n",
    "        \n",
    "    print(\"\\nSet \" + str(i) + \":\")\n",
    "    print(\"Avg Loss: \" + str(losses/numSamples))\n",
    "    print(pd.DataFrame({'Fitted': list(results.mean()),\n",
    "                'Error': list(results.std()),\n",
    "                'True': list(df.loc[36*i, ['ReH', 'ReE', 'ReHtilde']])},\n",
    "             ['ReH', 'ReE', 'ReHTilde']))"
   ]
  }
 ],
 "metadata": {
  "kernelspec": {
   "display_name": "Py38Root",
   "language": "python",
   "name": "python3"
  },
  "language_info": {
   "codemirror_mode": {
    "name": "ipython",
    "version": 3
   },
   "file_extension": ".py",
   "mimetype": "text/x-python",
   "name": "python",
   "nbconvert_exporter": "python",
   "pygments_lexer": "ipython3",
   "version": "3.8.3"
  }
 },
 "nbformat": 4,
 "nbformat_minor": 2
}
