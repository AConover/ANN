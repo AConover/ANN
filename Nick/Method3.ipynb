{
 "cells": [
  {
   "cell_type": "markdown",
   "metadata": {},
   "source": [
    "# Prof. Keller's Method Fit"
   ]
  },
  {
   "attachments": {},
   "cell_type": "markdown",
   "metadata": {},
   "source": [
    "- Produce replicas by varying F within errF from data (set 0)\n",
    "- Perform fits to all replicas and obtain a distribution of CFFs\n",
    "- Determine the mean and sigma of CFFs\n",
    "- Using the mean, sigma of CFFs and varying kinematics, produce F values using the function(Note: the range of kinematics shouldn't exceed the values of next data set)\n",
    "- Build a new ANN model with the data generated in (4) -- Inputs: Kinematics & F / Outputs: CFFs\n",
    "- Produce samples of F varying within errF from the initial data and combine with initial kinematics\n",
    "- Feed the samples (from 6) to the ANN model built in (5) -- Output: a distribution of CFFs\n"
   ]
  },
  {
   "cell_type": "code",
   "execution_count": 3,
   "metadata": {},
   "outputs": [],
   "source": [
    "%load_ext autoreload\n",
    "%autoreload 2"
   ]
  },
  {
   "cell_type": "code",
   "execution_count": 15,
   "metadata": {},
   "outputs": [],
   "source": [
    "import tensorflow as tf\n",
    "import pandas as pd\n",
    "import numpy as np\n",
    "import matplotlib.pyplot as plt\n",
    "from tqdm.notebook import tqdm\n",
    "from sklearn.preprocessing import MinMaxScaler\n",
    "\n",
    "from BHDVCStf import BHDVCS #modified bhdvcs file\n",
    "import utilities as uts"
   ]
  },
  {
   "cell_type": "markdown",
   "metadata": {},
   "source": [
    "## Setup"
   ]
  },
  {
   "cell_type": "code",
   "execution_count": 5,
   "metadata": {},
   "outputs": [],
   "source": [
    "numSets = 15\n",
    "numReplicas = 500\n",
    "\n",
    "df = pd.read_csv(\"dvcs_xs_newsets_genCFFs.csv\")\n",
    "data = uts.DvcsData(df)"
   ]
  },
  {
   "cell_type": "code",
   "execution_count": 20,
   "metadata": {},
   "outputs": [],
   "source": [
    "localFits = np.fromfile('replicas500.txt')\n",
    "localFits = replicas.reshape(numSets, numReplicas, 3)"
   ]
  },
  {
   "cell_type": "markdown",
   "metadata": {},
   "source": [
    "## Generate Pseudo-Data"
   ]
  },
  {
   "cell_type": "code",
   "execution_count": 12,
   "metadata": {},
   "outputs": [],
   "source": [
    "class step3sim(object):\n",
    "    def __init__(self, X, replicas, whichSet, numSamples=10000):\n",
    "        # sample range of 10,000, with replicas repeated and appended to fill\n",
    "        \n",
    "        self.X = X\n",
    "        self.cffs = replicas[whichSet, :, :]\n",
    "        self.whichSet = whichSet\n",
    "        if int(numSamples**.25)**4 != numSamples:\n",
    "            numSamples = int(numSamples**.25)**4\n",
    "            print('numSamples must be perfect power of 4, using ' + str(numSamples) + ' instead!')\n",
    "        \n",
    "        self.numSamples = numSamples\n",
    "        \n",
    "        self.kins = X.loc[whichSet*36, ['k', 'QQ', 'x_b', 't']]\n",
    "        self.dvcs = X.loc[whichSet*36, 'dvcs']\n",
    "            \n",
    "    \n",
    "    def _getKinRange(self, whichKin):\n",
    "        \n",
    "        krange = np.unique(self.X[whichKin].sort_values())\n",
    "        idx = np.where(krange == self.kins[whichKin])[0][0]\n",
    "        num = int(self.numSamples**.25)\n",
    "        \n",
    "        #return krange, idx, num\n",
    "        if idx == 0:\n",
    "            to_ret = np.linspace(self.kins[whichKin]*2 - krange[idx + 1], krange[idx + 1], num=num)\n",
    "        elif idx == (len(krange) - 1):\n",
    "            to_ret = np.linspace(krange[idx - 1], 2*self.kins[whichKin] - krange[idx - 1], num=num)\n",
    "        else:\n",
    "            to_ret = np.linspace(krange[idx - 1], krange[idx + 1], num=num)\n",
    "        return to_ret\n",
    "\n",
    "    \n",
    "    def addFs(self, sd):\n",
    "        bhdvcs = BHDVCS()\n",
    "        sd['F'] = bhdvcs.TotalUUXS(np.array(sd[['phi_x', 'k', 'QQ', 'x_b', 't', 'F1', 'F2', 'dvcs']]),\n",
    "                                  np.array(sd['ReH']), np.array(sd['ReE']), np.array(sd['ReHtilde']))\n",
    "        return sd    \n",
    "\n",
    "    \n",
    "    def getSimData(self):\n",
    "        kins = [self._getKinRange(kin) for kin in ['k', 'QQ', 'x_b', 't']]\n",
    "        kins = np.array(np.meshgrid(*kins)).T.reshape(-1,4)\n",
    "        to_ret = {key: [] for key in self.X.columns}\n",
    "        to_ret['k'] = kins[:, 0]\n",
    "        to_ret['QQ'] = kins[:, 1]\n",
    "        to_ret['x_b'] = kins[:, 2]\n",
    "        to_ret['t'] = kins[:, 3]\n",
    "        \n",
    "        to_ret['F1'] = uts.f1_f2.ffF1(to_ret['t'])\n",
    "        to_ret['F2'] = uts.f1_f2.ffF1(to_ret['t'])\n",
    "        \n",
    "        #cffs = np.repeat(self.cffs, 100, axis=0) #needs to be changed to accomodate numSamples\n",
    "        #np.random.shuffle(cffs)\n",
    "                \n",
    "        rees = self.cffs[:, 0]\n",
    "        rehs = self.cffs[:, 1]\n",
    "        rehtildes = self.cffs[:, 2]\n",
    "        \n",
    "        #can also be uniform\n",
    "        to_ret['ReH'] = np.random.normal(rees.mean(), rees.std(), size=self.numSamples)\n",
    "        to_ret['ReE'] = np.random.normal(rehs.mean(), rehtildes.std(), size=self.numSamples)\n",
    "        to_ret['ReHtilde'] = np.random.normal(rehtildes.mean(), rehtildes.std(), size=self.numSamples)\n",
    "        \n",
    "        to_ret['dvcs'] = np.repeat(self.dvcs, self.numSamples)\n",
    "        \n",
    "        phis = np.repeat(np.linspace(0, 350, 36), self.numSamples//36 + 1)\n",
    "        to_ret['phi_x'] = phis[:self.numSamples]\n",
    "        \n",
    "        sd = pd.DataFrame(to_ret)\n",
    "        sd = self.addFs(sd)\n",
    "        return sd\n",
    "    "
   ]
  },
  {
   "cell_type": "code",
   "execution_count": 40,
   "metadata": {},
   "outputs": [],
   "source": [
    "def fit_pred_kinSet(whichSet, data, localFits, numReplicas):\n",
    "    \n",
    "    s3 = step3sim(data.X, localFits, whichSet)\n",
    "    locData = s3.getSimData()\n",
    "    \n",
    "    locData = locData.dropna()\n",
    "    \n",
    "    rescaler = MinMaxScaler()\n",
    "    rescaler = rescaler.fit(locData[['k', 'QQ', 'x_b', 't', 'F']])\n",
    "    X = rescaler.transform(locData[['k', 'QQ', 'x_b', 't', 'F']])\n",
    "    y = locData[['ReH', 'ReE', 'ReHtilde']]\n",
    "    \n",
    "    \n",
    "    model = tf.keras.models.Sequential([\n",
    "    tf.keras.layers.Dense(20, input_shape=(5,), activation=\"elu\", kernel_initializer=\"he_normal\"),\n",
    "    tf.keras.layers.Dense(20, activation=\"elu\", kernel_initializer=\"he_normal\"),\n",
    "    tf.keras.layers.Dropout(rate=0.5),\n",
    "    tf.keras.layers.Dense(3)\n",
    "    ])\n",
    "    \n",
    "    model.compile(\n",
    "    optimizer = tf.keras.optimizers.Nadam(.01),\n",
    "    loss = tf.keras.losses.MeanSquaredError()\n",
    "    )\n",
    "    \n",
    "    model.fit(X, y, epochs=100, verbose=0)\n",
    "        \n",
    "\n",
    "    #to_pred = np.tile(np.array(data.Kinematics.loc[whichSet*36 + 18, :]), (100, 1)) \n",
    "\n",
    "    to_pred = pd.concat([data.Kinematics.loc[[whichSet*36 + 18], :] for _ in range(numReplicas)]) #phi=180\n",
    "    to_pred['F'] = [data.getSet(whichSet).sampleY()[18] for _ in range(numReplicas)] #phi=180\n",
    "    \n",
    "    to_pred = rescaler.transform(to_pred)\n",
    "    \n",
    "    #yhat = np.stack([model(to_pred, training=True) for sample in range(100)]).reshape()\n",
    "    \n",
    "    return model.predict(to_pred)"
   ]
  },
  {
   "cell_type": "code",
   "execution_count": 45,
   "metadata": {},
   "outputs": [],
   "source": [
    "def produceResults(data, localFits, numSets, numReplicas):\n",
    "    '''\n",
    "    data: a tensorflow neural network model\n",
    "    X: [standardized kins, xnocff]\n",
    "    orig_weights: the original weights from when the model was created (used to reset model after it has been trained)\n",
    "    numSets: the number of kinematic sets\n",
    "    numReplicas: the number of replicas\n",
    "    \n",
    "    returns: np array of cff predictions of shape (numSets, numReplicas, numCFFs)\n",
    "    '''\n",
    "    by_set = []\n",
    "    for i in tqdm(range(numSets)):\n",
    "        by_set.append(fit_pred_kinSet(i, data, localFits, numReplicas).tolist())\n",
    "\n",
    "    return np.array(by_set)"
   ]
  },
  {
   "cell_type": "code",
   "execution_count": 46,
   "metadata": {},
   "outputs": [
    {
     "data": {
      "application/vnd.jupyter.widget-view+json": {
       "model_id": "90921c048a774dcf895c2876981261b7",
       "version_major": 2,
       "version_minor": 0
      },
      "text/plain": [
       "HBox(children=(FloatProgress(value=0.0, max=15.0), HTML(value='')))"
      ]
     },
     "metadata": {},
     "output_type": "display_data"
    },
    {
     "name": "stdout",
     "output_type": "stream",
     "text": [
      "\n"
     ]
    }
   ],
   "source": [
    "results = produceResults(data, localFits, numSets, numReplicas)"
   ]
  },
  {
   "cell_type": "markdown",
   "metadata": {},
   "source": [
    "# ReH"
   ]
  },
  {
   "cell_type": "code",
   "execution_count": 49,
   "metadata": {},
   "outputs": [],
   "source": [
    "y_yhat, err = uts.y_yhat_errCFFs(data, results, 0)"
   ]
  },
  {
   "cell_type": "code",
   "execution_count": 50,
   "metadata": {},
   "outputs": [
    {
     "name": "stdout",
     "output_type": "stream",
     "text": [
      "Mean percent error:  12.863396196930605\n",
      "RMSE:  1.203155988751595\n",
      "RMSE w yhat=mean:  2.5254628436780107\n",
      "R-squared:  0.7730334230889361\n"
     ]
    },
    {
     "data": {
      "image/png": "[encoded data removed]",
      "text/plain": [
       "<Figure size 432x288 with 1 Axes>"
      ]
     },
     "metadata": {
      "needs_background": "light"
     },
     "output_type": "display_data"
    }
   ],
   "source": [
    "uts.evaluate(y_yhat)"
   ]
  },
  {
   "cell_type": "code",
   "execution_count": 51,
   "metadata": {
    "scrolled": false
   },
   "outputs": [
    {
     "data": {
      "image/png": "[encoded data removed]",
      "text/plain": [
       "<Figure size 432x288 with 1 Axes>"
      ]
     },
     "metadata": {
      "needs_background": "light"
     },
     "output_type": "display_data"
    }
   ],
   "source": [
    "uts.plotError(y_yhat, err, \"ReH\")"
   ]
  },
  {
   "cell_type": "markdown",
   "metadata": {},
   "source": [
    "# ReE"
   ]
  },
  {
   "cell_type": "code",
   "execution_count": 52,
   "metadata": {},
   "outputs": [
    {
     "name": "stdout",
     "output_type": "stream",
     "text": [
      "Mean percent error:  10.256630981052714\n",
      "RMSE:  5.34813696422541\n",
      "RMSE w yhat=mean:  2.525480507907797\n",
      "R-squared:  -3.4845306848792843\n"
     ]
    },
    {
     "data": {
      "image/png": "[encoded data removed]",
      "text/plain": [
       "<Figure size 432x288 with 1 Axes>"
      ]
     },
     "metadata": {
      "needs_background": "light"
     },
     "output_type": "display_data"
    }
   ],
   "source": [
    "y_yhat, err = uts.y_yhat_errCFFs(data, results, 1)\n",
    "uts.evaluate(y_yhat)"
   ]
  },
  {
   "cell_type": "code",
   "execution_count": 53,
   "metadata": {},
   "outputs": [
    {
     "data": {
      "image/png": "[encoded data removed]",
      "text/plain": [
       "<Figure size 432x288 with 1 Axes>"
      ]
     },
     "metadata": {
      "needs_background": "light"
     },
     "output_type": "display_data"
    }
   ],
   "source": [
    "uts.plotError(y_yhat, err, \"ReE\")"
   ]
  },
  {
   "cell_type": "markdown",
   "metadata": {},
   "source": [
    "# ReHtilde"
   ]
  },
  {
   "cell_type": "code",
   "execution_count": 54,
   "metadata": {
    "scrolled": true
   },
   "outputs": [
    {
     "name": "stdout",
     "output_type": "stream",
     "text": [
      "Mean percent error:  9.117071658150644\n",
      "RMSE:  0.48185272710842264\n",
      "RMSE w yhat=mean:  1.4030345621243816\n",
      "R-squared:  0.8820516408463649\n"
     ]
    },
    {
     "data": {
      "image/png": "[encoded data removed]",
      "text/plain": [
       "<Figure size 432x288 with 1 Axes>"
      ]
     },
     "metadata": {
      "needs_background": "light"
     },
     "output_type": "display_data"
    }
   ],
   "source": [
    "y_yhat, err = uts.y_yhat_errCFFs(data, results, 2)\n",
    "uts.evaluate(y_yhat)"
   ]
  },
  {
   "cell_type": "code",
   "execution_count": 55,
   "metadata": {
    "scrolled": true
   },
   "outputs": [
    {
     "data": {
      "image/png": "[encoded data removed]",
      "text/plain": [
       "<Figure size 432x288 with 1 Axes>"
      ]
     },
     "metadata": {
      "needs_background": "light"
     },
     "output_type": "display_data"
    }
   ],
   "source": [
    "uts.plotError(y_yhat, err, \"ReHtilde\")"
   ]
  },
  {
   "cell_type": "markdown",
   "metadata": {},
   "source": [
    "# Propagated Fs at 180"
   ]
  },
  {
   "cell_type": "markdown",
   "metadata": {},
   "source": [
    "Use the compton form factors as inputs to TotalUUXS to estimate the distribution of F, then compare it with the baseline."
   ]
  },
  {
   "cell_type": "code",
   "execution_count": 56,
   "metadata": {
    "scrolled": true
   },
   "outputs": [
    {
     "name": "stdout",
     "output_type": "stream",
     "text": [
      "Mean percent error:  9.894717657006995\n",
      "RMSE:  0.0029334155399000175\n",
      "RMSE w yhat=mean:  0.015855649879790133\n",
      "R-squared:  0.9657721923948477\n"
     ]
    },
    {
     "data": {
      "image/png": "[encoded data removed]",
      "text/plain": [
       "<Figure size 432x288 with 1 Axes>"
      ]
     },
     "metadata": {
      "needs_background": "light"
     },
     "output_type": "display_data"
    }
   ],
   "source": [
    "y_yhat, err = uts.y_yhat_errFs(results, data)\n",
    "uts.evaluate(y_yhat)"
   ]
  },
  {
   "cell_type": "code",
   "execution_count": 57,
   "metadata": {},
   "outputs": [
    {
     "data": {
      "image/png": "[encoded data removed]",
      "text/plain": [
       "<Figure size 432x288 with 1 Axes>"
      ]
     },
     "metadata": {
      "needs_background": "light"
     },
     "output_type": "display_data"
    }
   ],
   "source": [
    "uts.plotError(y_yhat, err, \"F\")"
   ]
  }
 ],
 "metadata": {
  "kernelspec": {
   "display_name": "Py38Root",
   "language": "python",
   "name": "python3"
  },
  "language_info": {
   "codemirror_mode": {
    "name": "ipython",
    "version": 3
   },
   "file_extension": ".py",
   "mimetype": "text/x-python",
   "name": "python",
   "nbconvert_exporter": "python",
   "pygments_lexer": "ipython3",
   "version": "3.8.3"
  }
 },
 "nbformat": 4,
 "nbformat_minor": 2
}
