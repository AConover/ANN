{
 "cells": [
  {
   "cell_type": "code",
   "execution_count": 1,
   "metadata": {},
   "outputs": [],
   "source": [
    "import pandas as pd\n",
    "import numpy as np\n",
    "import scipy.optimize as optimization\n",
    "from tqdm.notebook import tqdm\n",
    "import utilities as uts\n",
    "from BHDVCStf import BHDVCS\n",
    "import matplotlib.pyplot as plt"
   ]
  },
  {
   "cell_type": "code",
   "execution_count": 2,
   "metadata": {},
   "outputs": [],
   "source": [
    "bhdvcs = BHDVCS()\n",
    "df = pd.read_csv(\"dvcs_xs_newsets_genCFFs.csv\")\n",
    "data = uts.DvcsData(df)\n",
    "filename=\"dvcs_xs_newsets_genCFFs.csv\"\n",
    "\n",
    "numSets = 15\n",
    "numReplicas = 10"
   ]
  },
  {
   "cell_type": "code",
   "execution_count": 3,
   "metadata": {},
   "outputs": [
    {
     "name": "stdout",
     "output_type": "stream",
     "text": [
      "540\n",
      "[ 0.         3.75       1.74013    0.435095  -0.380868   0.49806\n",
      "  0.68579    0.0122881]\n"
     ]
    }
   ],
   "source": [
    "def SelectSet(setnum):\n",
    "    tempdf=pd.read_csv(filename)\n",
    "    full_data_size=len(tempdf[\"#Set\"])\n",
    "    temp_k=[]\n",
    "    temp_QQ=[]\n",
    "    temp_xb=[]\n",
    "    temp_t=[]\n",
    "    temp_phi=[]\n",
    "    temp_F=[]\n",
    "    temp_dF=[]\n",
    "    print(full_data_size)\n",
    "    for i in range(0,full_data_size):\n",
    "        if(tempdf[\"#Set\"][i]==setnum):\n",
    "            temp_k.append(tempdf[\"k\"][i])\n",
    "            temp_phi.append(tempdf[\"phi_x\"][i])\n",
    "    return temp_phi\n",
    "\n",
    "SelectSet(0)\n",
    "sampleSet=data.getSet(0)\n",
    "print(np.array(sampleSet.XnoCFF)[0])\n",
    "#print(sampleSet.sampleY())\n",
    "#print(np.array(sampleSet.erry))"
   ]
  },
  {
   "cell_type": "code",
   "execution_count": 7,
   "metadata": {},
   "outputs": [],
   "source": [
    "def produceResults(data, numSets, numReplicas):\n",
    "    results = []\n",
    "    for i in tqdm(range(numSets)):\n",
    "        replicas = []\n",
    "        seti = data.getSet(i) # DvcsData object of kinematic set i\n",
    "        X = np.array(seti.XnoCFF) # the kinematics and all variables necessary to compute \n",
    "        sigma = seti.erry # error in F\n",
    "        pars = np.array([1, 1, 1])\n",
    "        for i in range(numReplicas):\n",
    "            y = seti.sampleY()\n",
    "            cff, cffcov = optimization.curve_fit(bhdvcs.TotalUUXS, X, y, pars, sigma,method='lm')\n",
    "            replicas.append(cff)\n",
    "        results.append(replicas)\n",
    "    return np.array(results)\n",
    "\n",
    "#fit1=produceResults(data, numSets, numReplicas)\n",
    "# def Histo(setnum,cffnum):    "
   ]
  },
  {
   "cell_type": "code",
   "execution_count": 8,
   "metadata": {},
   "outputs": [],
   "source": [
    "def Histogram_Data(fitname,setnum,cffnum):\n",
    "    Cffdat=[]\n",
    "    LL=len(fitname[setnum])\n",
    "    for i in range(LL):\n",
    "        Cffdat.append(fitname[setnum][i][cffnum])\n",
    "    return np.array(Cffdat)\n",
    "#plt.hist(Histogram_Data(fit1,0,0))"
   ]
  },
  {
   "cell_type": "code",
   "execution_count": null,
   "metadata": {},
   "outputs": [],
   "source": [
    "test_fit=produceResults(data, numSets, 500)"
   ]
  },
  {
   "cell_type": "code",
   "execution_count": 7,
   "metadata": {},
   "outputs": [],
   "source": [
    "fit_open=np.fromfile(\"Methods/replicas500.txt\")\n",
    "reshaped_data=fit_open.reshape(15,500,3)"
   ]
  },
  {
   "cell_type": "code",
   "execution_count": 8,
   "metadata": {},
   "outputs": [
    {
     "data": {
      "text/plain": [
       "(array([  7.,  21.,  44., 100., 145., 108.,  50.,  20.,   3.,   2.]),\n",
       " array([-1.49235544,  0.26662297,  2.02560139,  3.78457981,  5.54355822,\n",
       "         7.30253664,  9.06151505, 10.82049347, 12.57947189, 14.3384503 ,\n",
       "        16.09742872]),\n",
       " <a list of 10 Patch objects>)"
      ]
     },
     "execution_count": 8,
     "metadata": {},
     "output_type": "execute_result"
    },
    {
     "data": {
      "image/png": "[encoded data removed]",
      "text/plain": [
       "<Figure size 432x288 with 1 Axes>"
      ]
     },
     "metadata": {
      "needs_background": "light"
     },
     "output_type": "display_data"
    }
   ],
   "source": [
    "plt.hist(Histogram_Data(reshaped_data,0,0))\n",
    "plt.hist(Histogram_Data(reshaped_data,1,0))\n",
    "plt.hist(Histogram_Data(reshaped_data,2,0))"
   ]
  },
  {
   "cell_type": "code",
   "execution_count": 9,
   "metadata": {},
   "outputs": [
    {
     "name": "stdout",
     "output_type": "stream",
     "text": [
      "(13.0554, -53.0554, 7.253019999999999)\n"
     ]
    }
   ],
   "source": [
    "def SelectOriginal(setnum):\n",
    "    tempdf=pd.read_csv(filename)\n",
    "    full_data_size=len(tempdf[\"#Set\"])\n",
    "    temp_ReH=[]\n",
    "    temp_ReE=[]\n",
    "    temp_ReHtilde=[]\n",
    "    for i in range(0,full_data_size):\n",
    "        if(tempdf[\"#Set\"][i]==setnum):\n",
    "            temp_ReH.append(tempdf[\"ReH\"][i])\n",
    "            temp_ReE.append(tempdf[\"ReE\"][i])\n",
    "            temp_ReHtilde.append(tempdf[\"ReHtilde\"][i])\n",
    "    return temp_ReH[0],temp_ReE[0],temp_ReHtilde[0]\n",
    "\n",
    "print(SelectOriginal(0))"
   ]
  },
  {
   "cell_type": "code",
   "execution_count": 10,
   "metadata": {},
   "outputs": [
    {
     "data": {
      "image/png": "[encoded data removed]",
      "text/plain": [
       "<Figure size 432x288 with 1 Axes>"
      ]
     },
     "metadata": {
      "needs_background": "light"
     },
     "output_type": "display_data"
    }
   ],
   "source": [
    "f1=plt.figure(1)\n",
    "plt.hist(Histogram_Data(reshaped_data,0,0),label='Set 0')\n",
    "plt.hist(Histogram_Data(reshaped_data,1,0),label='Set 1')\n",
    "plt.hist(Histogram_Data(reshaped_data,2,0),label='Set 2')\n",
    "plt.vlines(x = SelectOriginal(0)[0], ymin = 0, ymax = 120, colors = 'blue')\n",
    "plt.vlines(x = SelectOriginal(1)[0], ymin = 0, ymax = 120, colors = 'orange') \n",
    "plt.vlines(x = SelectOriginal(2)[0], ymin = 0, ymax = 120, colors = 'green') \n",
    "plt.title(\"ReH\")\n",
    "plt.legend()\n",
    "plt.savefig(\"ReH_for_3_sets.pdf\")"
   ]
  },
  {
   "cell_type": "code",
   "execution_count": 11,
   "metadata": {},
   "outputs": [
    {
     "data": {
      "image/png": "[encoded data removed]",
      "text/plain": [
       "<Figure size 432x288 with 1 Axes>"
      ]
     },
     "metadata": {
      "needs_background": "light"
     },
     "output_type": "display_data"
    }
   ],
   "source": [
    "f2=plt.figure(2)\n",
    "plt.hist(Histogram_Data(reshaped_data,0,1),label='Set 0')\n",
    "plt.hist(Histogram_Data(reshaped_data,1,1),label='Set 1')\n",
    "plt.hist(Histogram_Data(reshaped_data,2,1),label='Set 2')\n",
    "plt.vlines(x = SelectOriginal(0)[1], ymin = 0, ymax = 120, colors = 'blue')\n",
    "plt.vlines(x = SelectOriginal(1)[1], ymin = 0, ymax = 120, colors = 'orange') \n",
    "plt.vlines(x = SelectOriginal(2)[1], ymin = 0, ymax = 120, colors = 'green') \n",
    "plt.title(\"ReE\")\n",
    "plt.legend()\n",
    "plt.savefig(\"ReE_for_3_sets.pdf\")"
   ]
  },
  {
   "cell_type": "code",
   "execution_count": 12,
   "metadata": {},
   "outputs": [
    {
     "data": {
      "image/png": "[encoded data removed]",
      "text/plain": [
       "<Figure size 432x288 with 1 Axes>"
      ]
     },
     "metadata": {
      "needs_background": "light"
     },
     "output_type": "display_data"
    }
   ],
   "source": [
    "f3=plt.figure(3)\n",
    "plt.hist(Histogram_Data(reshaped_data,0,2),label='Set 0')\n",
    "plt.hist(Histogram_Data(reshaped_data,1,2),label='Set 1')\n",
    "plt.hist(Histogram_Data(reshaped_data,2,2),label='Set 2')\n",
    "plt.vlines(x = SelectOriginal(0)[2], ymin = 0, ymax = 120, colors = 'blue')\n",
    "plt.vlines(x = SelectOriginal(1)[2], ymin = 0, ymax = 120, colors = 'orange') \n",
    "plt.vlines(x = SelectOriginal(2)[2], ymin = 0, ymax = 120, colors = 'green') \n",
    "plt.title(\"ReHtilde\")\n",
    "plt.legend()\n",
    "plt.savefig(\"ReHtilde_for_3_sets.pdf\")"
   ]
  },
  {
   "cell_type": "code",
   "execution_count": 15,
   "metadata": {},
   "outputs": [
    {
     "name": "stdout",
     "output_type": "stream",
     "text": [
      "(13.817187264736308, 1.1210547016195158)\n"
     ]
    }
   ],
   "source": [
    "def CFF_Mean_Sigma(fitname,setnum,cffnum):\n",
    "    Cffdat=[]\n",
    "    LL=len(fitname[setnum])\n",
    "    for i in range(LL):\n",
    "        Cffdat.append(fitname[setnum][i][cffnum])\n",
    "    CFF_mean=np.mean(Cffdat)\n",
    "    CFF_sigma=np.std(Cffdat)\n",
    "    return CFF_mean,CFF_sigma\n",
    "\n",
    "print(CFF_Mean_Sigma(reshaped_data,0,0))    "
   ]
  },
  {
   "cell_type": "code",
   "execution_count": 16,
   "metadata": {},
   "outputs": [],
   "source": [
    "def Produce_CFF_replicas(fitname,setnum,cffnum,NRep):\n",
    "    Cffdat=[]\n",
    "    LL=len(fitname[setnum])\n",
    "    for i in range(LL):\n",
    "        Cffdat.append(fitname[setnum][i][cffnum])\n",
    "    CFF_mean=np.mean(Cffdat)\n",
    "    CFF_sigma=np.std(Cffdat)\n",
    "    temp_replica_CFF=np.random.normal(CFF_mean,CFF_sigma,NRep)\n",
    "    return np.array(temp_replica_CFF)\n",
    "\n",
    "#print(Produce_CFF_replicas(fit2,0,0,500))"
   ]
  },
  {
   "cell_type": "code",
   "execution_count": 17,
   "metadata": {},
   "outputs": [
    {
     "data": {
      "text/plain": [
       "35"
      ]
     },
     "execution_count": 17,
     "metadata": {},
     "output_type": "execute_result"
    }
   ],
   "source": [
    "#print(data.getSet(0).XnoCFF)\n",
    "#Produce_CFF_replicas(test_fit,0,0,500)\n",
    "len(data.getSet(0).XnoCFF)\n",
    "#Produce_CFF_replicas(test_fit,0,0,500)"
   ]
  },
  {
   "cell_type": "markdown",
   "metadata": {},
   "source": [
    "## Defining NN A"
   ]
  },
  {
   "cell_type": "code",
   "execution_count": 18,
   "metadata": {},
   "outputs": [],
   "source": [
    "CFF_replicas=reshaped_data[:, :36, :].reshape(15*36,3)"
   ]
  },
  {
   "cell_type": "markdown",
   "metadata": {},
   "source": [
    "## Data and Imports"
   ]
  },
  {
   "cell_type": "code",
   "execution_count": 1,
   "metadata": {},
   "outputs": [],
   "source": [
    "import pandas as pd\n",
    "import numpy as np\n",
    "import scipy.optimize as optimization\n",
    "from tqdm.notebook import tqdm\n",
    "import utilities as uts\n",
    "from BHDVCStf import BHDVCS\n",
    "import matplotlib.pyplot as plt"
   ]
  },
  {
   "cell_type": "code",
   "execution_count": 2,
   "metadata": {},
   "outputs": [],
   "source": [
    "import tensorflow as tf\n",
    "from tensorflow import keras\n",
    "from tensorflow.keras import layers\n",
    "from sklearn.preprocessing import MinMaxScaler"
   ]
  },
  {
   "cell_type": "code",
   "execution_count": 3,
   "metadata": {},
   "outputs": [],
   "source": [
    "bhdvcs = BHDVCS()\n",
    "df = pd.read_csv(\"dvcs_xs_newsets_genCFFs.csv\")\n",
    "data = uts.DvcsData(df)\n",
    "\n",
    "numSets = 15\n",
    "numReplicas = 10"
   ]
  },
  {
   "cell_type": "code",
   "execution_count": 4,
   "metadata": {},
   "outputs": [],
   "source": [
    "fit_open = np.fromfile(\"replicas500.txt\")\n",
    "localFits = fit_open.reshape(15,500,3)"
   ]
  },
  {
   "cell_type": "code",
   "execution_count": 5,
   "metadata": {},
   "outputs": [],
   "source": [
    "X1=data.Kinematics\n",
    "X2=data.XnoCFF\n",
    "\n",
    "y1=localFits\n",
    "y2=data.y"
   ]
  },
  {
   "cell_type": "code",
   "execution_count": 6,
   "metadata": {},
   "outputs": [],
   "source": [
    "rescaler = MinMaxScaler()\n",
    "\n",
    "rescaler = rescaler.fit(X1)\n",
    "X1 = rescaler.transform(X1)"
   ]
  },
  {
   "cell_type": "markdown",
   "metadata": {},
   "source": [
    "# Model definition"
   ]
  },
  {
   "cell_type": "code",
   "execution_count": 7,
   "metadata": {},
   "outputs": [],
   "source": [
    "kins = tf.keras.Input(shape=(4))\n",
    "x = tf.keras.layers.Dense(20, activation=\"relu\")(kins)\n",
    "x = tf.keras.layers.Dense(20, activation=\"relu\")(x)\n",
    "cffs = tf.keras.layers.Dense(3)(x) #three output nodes for ReH, ReE, ReHtilde\n",
    "noncffInputs = tf.keras.Input(shape=(8))\n",
    "totalUUXSInputs = tf.keras.layers.concatenate([noncffInputs, cffs])\n",
    "F = uts.TotalUUXSlayer()(totalUUXSInputs) # incorporate cross-sectional function\n",
    "\n",
    "globalModel = tf.keras.Model(inputs=[kins, noncffInputs], outputs=[cffs, F], name=\"GlobalModel\")"
   ]
  },
  {
   "cell_type": "code",
   "execution_count": 8,
   "metadata": {},
   "outputs": [],
   "source": [
    "orig_weights = globalModel.get_weights()"
   ]
  },
  {
   "cell_type": "code",
   "execution_count": 9,
   "metadata": {},
   "outputs": [
    {
     "data": {
      "image/png": "[encoded data removed]",
      "text/plain": [
       "<IPython.core.display.Image object>"
      ]
     },
     "execution_count": 9,
     "metadata": {},
     "output_type": "execute_result"
    }
   ],
   "source": [
    "tf.keras.utils.plot_model(globalModel, \"cffs.png\", show_shapes=True)"
   ]
  },
  {
   "cell_type": "code",
   "execution_count": 10,
   "metadata": {},
   "outputs": [],
   "source": [
    "globalModel.compile(\n",
    "    optimizer = tf.keras.optimizers.Adam(lr=0.005),\n",
    "    loss = [tf.keras.losses.MeanSquaredError(), tf.keras.losses.MeanSquaredError()],\n",
    ")"
   ]
  },
  {
   "cell_type": "code",
   "execution_count": 11,
   "metadata": {},
   "outputs": [
    {
     "data": {
      "text/plain": [
       "0      343.613092\n",
       "1      359.736817\n",
       "2      301.419081\n",
       "3      291.312479\n",
       "4      274.856662\n",
       "          ...    \n",
       "535    834.000534\n",
       "536    789.091598\n",
       "537    826.767422\n",
       "538    974.165140\n",
       "539    957.350055\n",
       "Name: errF, Length: 540, dtype: float64"
      ]
     },
     "execution_count": 11,
     "metadata": {},
     "output_type": "execute_result"
    }
   ],
   "source": [
    "1/data.erry"
   ]
  },
  {
   "cell_type": "code",
   "execution_count": 14,
   "metadata": {},
   "outputs": [],
   "source": [
    "def train_test(arr, obsinset, whichset):\n",
    "    train = np.delete(arr, slice((obsinset*whichset), (obsinset*(whichset+1))), axis=0)\n",
    "    test = arr[(obsinset*whichset):(obsinset*(whichset+1)), :]\n",
    "    return train, test"
   ]
  },
  {
   "cell_type": "code",
   "execution_count": 15,
   "metadata": {},
   "outputs": [],
   "source": [
    "def produceResults(model, data, localFits, orig_weights, numSets, numReplicas, epochs=100):\n",
    "    '''\n",
    "    Essentially LOO cross-val with y-values being generated from seperate local fit\n",
    "    \n",
    "    globalModel: a tensorflow neural network model\n",
    "    kins: rescaled kinematics\n",
    "    X: dvcsdata of whole set\n",
    "    localFits: the \n",
    "    orig_weights: the original weights from when the model was created (used to reset model after it has been trained)\n",
    "    numSets: the number of kinematic sets\n",
    "    numReplicas: the number of replicas\n",
    "    \n",
    "    returns: np array of cff predictions of shape (numSets, numReplicas, numCFFs)\n",
    "    '''\n",
    "    \n",
    "    X1=np.array(data.Kinematics)\n",
    "    X2=np.array(data.XnoCFF)\n",
    "    \n",
    "    rescaler = MinMaxScaler()\n",
    "\n",
    "    rescaler = rescaler.fit(X1)\n",
    "    X1 = rescaler.transform(X1)\n",
    "    \n",
    "    by_set = []\n",
    "    for i in tqdm(range(numSets)):\n",
    "        \n",
    "        train_X1, valid_X1 = train_test(X1, 36, i)\n",
    "        train_X2, valid_X2 = train_test(X2, 36, i)\n",
    "                \n",
    "        by_rep = []\n",
    "        for rep in range(numReplicas):\n",
    "            \n",
    "            idxs = np.random.choice(list(range(localFits.shape[1])), size=36, replace=False)\n",
    "            y1 = localFits[:, idxs, :].reshape(numSets*36, 3)\n",
    "            train_y1, test_y1 = train_test(y1, 36, i)\n",
    "            \n",
    "            train_weights, _ = train_test(1/np.array(data.erry).reshape(-1, 1), 36, i)\n",
    "            train_weightsCFF, _ \n",
    "            \n",
    "            y2 = np.array(data.sampleY()).reshape(-1, 1)\n",
    "            train_y2, test_y2 = train_test(y2, 36, i)\n",
    "            train_y2 = train_y2[:, 0]\n",
    "            \n",
    "            model.set_weights(orig_weights)\n",
    "            model.fit(x=[train_X1, train_X2], y=[train_y1, train_y2], sample_weight={'total_uux_slayer': train_weights,\n",
    "                                                                                    'dense_2': localFits.std()},\n",
    "                      epochs=epochs, verbose=0)\n",
    "\n",
    "            by_rep.append(list(model.predict([valid_X1, valid_X2])[0][0, :]))\n",
    "        \n",
    "        by_set.append(by_rep)\n",
    "    return np.array(by_set), rescaler"
   ]
  },
  {
   "cell_type": "code",
   "execution_count": 16,
   "metadata": {},
   "outputs": [
    {
     "data": {
      "application/vnd.jupyter.widget-view+json": {
       "model_id": "30099e08018d4cd48ea44bd617414194",
       "version_major": 2,
       "version_minor": 0
      },
      "text/plain": [
       "HBox(children=(FloatProgress(value=0.0, max=15.0), HTML(value='')))"
      ]
     },
     "metadata": {},
     "output_type": "display_data"
    },
    {
     "name": "stdout",
     "output_type": "stream",
     "text": [
      "\n"
     ]
    }
   ],
   "source": [
    "results, rescaler = produceResults(globalModel, data, localFits, orig_weights, 15, 10)"
   ]
  },
  {
   "cell_type": "code",
   "execution_count": 29,
   "metadata": {},
   "outputs": [
    {
     "data": {
      "text/plain": [
       "(array([3., 1., 1., 1., 0., 0., 0., 1., 0., 3.]),\n",
       " array([11.789075 , 11.989527 , 12.189979 , 12.39043  , 12.590882 ,\n",
       "        12.791334 , 12.991787 , 13.192239 , 13.392691 , 13.5931425,\n",
       "        13.793594 ], dtype=float32),\n",
       " <a list of 10 Patch objects>)"
      ]
     },
     "execution_count": 29,
     "metadata": {},
     "output_type": "execute_result"
    },
    {
     "data": {
      "image/png": "[encoded data removed]",
      "text/plain": [
       "<Figure size 432x288 with 1 Axes>"
      ]
     },
     "metadata": {
      "needs_background": "light"
     },
     "output_type": "display_data"
    }
   ],
   "source": [
    "plt.hist(results[0, :, 0])"
   ]
  },
  {
   "cell_type": "markdown",
   "metadata": {},
   "source": [
    "# ReH"
   ]
  },
  {
   "cell_type": "code",
   "execution_count": 17,
   "metadata": {},
   "outputs": [
    {
     "name": "stdout",
     "output_type": "stream",
     "text": [
      "Mean percent error:  9.28755928689657\n",
      "RMSE:  1.099256606266516\n",
      "RMSE w yhat=mean:  2.5254628436780107\n",
      "R-squared:  0.8105405805930421\n"
     ]
    },
    {
     "data": {
      "image/png": "[encoded data removed]",
      "text/plain": [
       "<Figure size 432x288 with 1 Axes>"
      ]
     },
     "metadata": {
      "needs_background": "light"
     },
     "output_type": "display_data"
    }
   ],
   "source": [
    "y_yhat, err = uts.y_yhat_errCFFs(data, results, 0)\n",
    "uts.evaluate(y_yhat)"
   ]
  },
  {
   "cell_type": "code",
   "execution_count": 18,
   "metadata": {},
   "outputs": [
    {
     "data": {
      "image/png": "[encoded data removed]",
      "text/plain": [
       "<Figure size 432x288 with 1 Axes>"
      ]
     },
     "metadata": {
      "needs_background": "light"
     },
     "output_type": "display_data"
    }
   ],
   "source": [
    "uts.plotError(y_yhat, err, \"ReH\")"
   ]
  },
  {
   "cell_type": "markdown",
   "metadata": {},
   "source": [
    "# ReE"
   ]
  },
  {
   "cell_type": "code",
   "execution_count": 19,
   "metadata": {},
   "outputs": [
    {
     "name": "stdout",
     "output_type": "stream",
     "text": [
      "Mean percent error:  9.264885723346273\n",
      "RMSE:  5.19040881702101\n",
      "RMSE w yhat=mean:  2.525480507907797\n",
      "R-squared:  -3.2239142218092365\n"
     ]
    },
    {
     "data": {
      "image/png": "[encoded data removed]",
      "text/plain": [
       "<Figure size 432x288 with 1 Axes>"
      ]
     },
     "metadata": {
      "needs_background": "light"
     },
     "output_type": "display_data"
    }
   ],
   "source": [
    "y_yhat, err = uts.y_yhat_errCFFs(data, results, 1)\n",
    "uts.evaluate(y_yhat)"
   ]
  },
  {
   "cell_type": "code",
   "execution_count": 20,
   "metadata": {},
   "outputs": [
    {
     "data": {
      "image/png": "[encoded data removed]",
      "text/plain": [
       "<Figure size 432x288 with 1 Axes>"
      ]
     },
     "metadata": {
      "needs_background": "light"
     },
     "output_type": "display_data"
    }
   ],
   "source": [
    "uts.plotError(y_yhat, err, \"ReE\")"
   ]
  },
  {
   "cell_type": "markdown",
   "metadata": {},
   "source": [
    "# ReHtilde"
   ]
  },
  {
   "cell_type": "code",
   "execution_count": 21,
   "metadata": {
    "scrolled": true
   },
   "outputs": [
    {
     "name": "stdout",
     "output_type": "stream",
     "text": [
      "Mean percent error:  5.754986729114403\n",
      "RMSE:  0.4206432344560228\n",
      "RMSE w yhat=mean:  1.4030345621243816\n",
      "R-squared:  0.9101142022095803\n"
     ]
    },
    {
     "data": {
      "image/png": "[encoded data removed]",
      "text/plain": [
       "<Figure size 432x288 with 1 Axes>"
      ]
     },
     "metadata": {
      "needs_background": "light"
     },
     "output_type": "display_data"
    }
   ],
   "source": [
    "y_yhat, err = uts.y_yhat_errCFFs(data, results, 2)\n",
    "uts.evaluate(y_yhat)"
   ]
  },
  {
   "cell_type": "code",
   "execution_count": 22,
   "metadata": {
    "scrolled": true
   },
   "outputs": [
    {
     "data": {
      "image/png": "[encoded data removed]",
      "text/plain": [
       "<Figure size 432x288 with 1 Axes>"
      ]
     },
     "metadata": {
      "needs_background": "light"
     },
     "output_type": "display_data"
    }
   ],
   "source": [
    "uts.plotError(y_yhat, err, \"ReHtilde\")"
   ]
  },
  {
   "cell_type": "markdown",
   "metadata": {},
   "source": [
    "# Propagated Fs at 180"
   ]
  },
  {
   "cell_type": "code",
   "execution_count": 23,
   "metadata": {
    "scrolled": true
   },
   "outputs": [
    {
     "name": "stdout",
     "output_type": "stream",
     "text": [
      "Mean percent error:  7.927855553509342\n",
      "RMSE:  0.0031818179905743\n",
      "RMSE w yhat=mean:  0.015855649879790133\n",
      "R-squared:  0.9597299126505957\n"
     ]
    },
    {
     "data": {
      "image/png": "[encoded data removed]",
      "text/plain": [
       "<Figure size 432x288 with 1 Axes>"
      ]
     },
     "metadata": {
      "needs_background": "light"
     },
     "output_type": "display_data"
    }
   ],
   "source": [
    "y_yhat, err = uts.y_yhat_errFs(results, data)\n",
    "uts.evaluate(y_yhat)"
   ]
  },
  {
   "cell_type": "code",
   "execution_count": 24,
   "metadata": {},
   "outputs": [
    {
     "data": {
      "image/png": "[encoded data removed]",
      "text/plain": [
       "<Figure size 432x288 with 1 Axes>"
      ]
     },
     "metadata": {
      "needs_background": "light"
     },
     "output_type": "display_data"
    }
   ],
   "source": [
    "uts.plotError(y_yhat, err, \"F\")"
   ]
  },
  {
   "attachments": {},
   "cell_type": "markdown",
   "metadata": {},
   "source": [
    "$$SC = \\frac{15360000}{x^2} + 60000x$$\n",
    "\n",
    "$$\\frac{dSC}{dx} = (15360000)(-2x^{-3}) + 60000 = 0$$\n",
    "\n",
    "$$30720000 x^{-3} = 60000$$\n",
    "\n",
    "$$x^{-3} = \\frac{60000}{30720000}$$\n",
    "\n",
    "$$x^3 = \\frac{30720000}{60000}$$\n",
    "\n",
    "$$x^3 = 512$$\n",
    "\n",
    "$$x = 8$$"
   ]
  },
  {
   "cell_type": "code",
   "execution_count": 3,
   "metadata": {},
   "outputs": [
    {
     "data": {
      "text/plain": [
       "512.0"
      ]
     },
     "execution_count": 3,
     "metadata": {},
     "output_type": "execute_result"
    }
   ],
   "source": [
    "30720000/60000"
   ]
  },
  {
   "cell_type": "code",
   "execution_count": 6,
   "metadata": {},
   "outputs": [
    {
     "data": {
      "text/plain": [
       "512"
      ]
     },
     "execution_count": 6,
     "metadata": {},
     "output_type": "execute_result"
    }
   ],
   "source": [
    "8*8*8"
   ]
  },
  {
   "cell_type": "code",
   "execution_count": 7,
   "metadata": {},
   "outputs": [
    {
     "data": {
      "text/plain": [
       "2.5"
      ]
     },
     "execution_count": 7,
     "metadata": {},
     "output_type": "execute_result"
    }
   ],
   "source": [
    ".0025*1000"
   ]
  },
  {
   "attachments": {},
   "cell_type": "markdown",
   "metadata": {},
   "source": [
    "$$U(b, w) = 10b^{\\frac{1}{2}}w^{\\frac{1}{2}}$$\n",
    "\n",
    "$$U(b, w) = 10(100 - 96)^{\\frac{1}{2}}(275625 - 25625)^{\\frac{1}{2}}$$\n",
    "\n",
    "$$U(b, w) = 10(4)^{\\frac{1}{2}}(250000)^{\\frac{1}{2}}$$\n",
    "\n",
    "$$U(b, w) = 10(2)(500)$$\n",
    "\n",
    "$$U(b, w) = 40000$$"
   ]
  },
  {
   "cell_type": "code",
   "execution_count": 17,
   "metadata": {},
   "outputs": [
    {
     "data": {
      "text/plain": [
       "40000"
      ]
     },
     "execution_count": 17,
     "metadata": {},
     "output_type": "execute_result"
    }
   ],
   "source": [
    "10*8*500"
   ]
  },
  {
   "cell_type": "code",
   "execution_count": 16,
   "metadata": {},
   "outputs": [
    {
     "data": {
      "text/plain": [
       "10000"
      ]
     },
     "execution_count": 16,
     "metadata": {},
     "output_type": "execute_result"
    }
   ],
   "source": [
    "10*2*500"
   ]
  },
  {
   "cell_type": "code",
   "execution_count": 12,
   "metadata": {},
   "outputs": [],
   "source": [
    "import numpy as np"
   ]
  },
  {
   "cell_type": "code",
   "execution_count": 14,
   "metadata": {},
   "outputs": [
    {
     "data": {
      "text/plain": [
       "26250.0"
      ]
     },
     "execution_count": 14,
     "metadata": {},
     "output_type": "execute_result"
    }
   ],
   "source": [
    "np.sqrt(275625)*50"
   ]
  },
  {
   "cell_type": "markdown",
   "metadata": {},
   "source": [
    "$$U'(b, w) = 10b^{\\frac{1}{2}}w^{\\frac{1}{2}} = 26250$$\n",
    "\n",
    "$$U'(b, w) = 10(100 - 96)^{\\frac{1}{2}}(250000 + x)^{\\frac{1}{2}} = 26250$$\n",
    "\n",
    "$$10(2)(250000 + x)^{\\frac{1}{2}} = 26250$$\n",
    "\n",
    "$$(250000 + x)^{\\frac{1}{2}} = \\frac{26250}{20}$$\n",
    "\n",
    "$$(250000 + x)^{\\frac{1}{2}} = 1312.5$$\n",
    "\n",
    "$$250000 + x = 1722656.25$$\n",
    "\n",
    "$$x = 1472656.25$$"
   ]
  },
  {
   "cell_type": "code",
   "execution_count": 19,
   "metadata": {},
   "outputs": [
    {
     "data": {
      "text/plain": [
       "3750000"
      ]
     },
     "execution_count": 19,
     "metadata": {},
     "output_type": "execute_result"
    }
   ],
   "source": [
    "2000**2 - 250000"
   ]
  },
  {
   "cell_type": "code",
   "execution_count": 20,
   "metadata": {},
   "outputs": [
    {
     "data": {
      "text/plain": [
       "1312.5"
      ]
     },
     "execution_count": 20,
     "metadata": {},
     "output_type": "execute_result"
    }
   ],
   "source": [
    "26250/20"
   ]
  },
  {
   "cell_type": "code",
   "execution_count": 24,
   "metadata": {},
   "outputs": [
    {
     "data": {
      "text/plain": [
       "1472656.25"
      ]
     },
     "execution_count": 24,
     "metadata": {},
     "output_type": "execute_result"
    }
   ],
   "source": [
    "1312.5*1312.5 - 250000"
   ]
  },
  {
   "cell_type": "code",
   "execution_count": null,
   "metadata": {},
   "outputs": [],
   "source": []
  }
 ],
 "metadata": {
  "kernelspec": {
   "display_name": "Py38Root",
   "language": "python",
   "name": "python3"
  },
  "language_info": {
   "codemirror_mode": {
    "name": "ipython",
    "version": 3
   },
   "file_extension": ".py",
   "mimetype": "text/x-python",
   "name": "python",
   "nbconvert_exporter": "python",
   "pygments_lexer": "ipython3",
   "version": "3.8.3"
  }
 },
 "nbformat": 4,
 "nbformat_minor": 4
}
