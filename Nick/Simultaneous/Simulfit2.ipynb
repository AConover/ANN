{
 "cells": [
  {
   "cell_type": "code",
   "execution_count": 1,
   "metadata": {
    "scrolled": true
   },
   "outputs": [],
   "source": [
    "%load_ext autoreload\n",
    "%autoreload 2"
   ]
  },
  {
   "cell_type": "code",
   "execution_count": 8,
   "metadata": {},
   "outputs": [],
   "source": [
    "import pandas as pd\n",
    "import numpy as np\n",
    "import matplotlib.pyplot as plt\n",
    "import seaborn as sns\n",
    "from scipy import optimize\n",
    "from tqdm import tqdm"
   ]
  },
  {
   "cell_type": "code",
   "execution_count": 5,
   "metadata": {},
   "outputs": [],
   "source": [
    "from BHDVCStf import BHDVCS\n",
    "import utilities as uts"
   ]
  },
  {
   "cell_type": "code",
   "execution_count": 6,
   "metadata": {},
   "outputs": [],
   "source": [
    "bhdvcs = BHDVCS()"
   ]
  },
  {
   "cell_type": "code",
   "execution_count": 7,
   "metadata": {},
   "outputs": [],
   "source": [
    "data = pd.read_csv('dvcs_psuedo.csv')"
   ]
  },
  {
   "cell_type": "code",
   "execution_count": 8,
   "metadata": {},
   "outputs": [],
   "source": [
    "def produceLHS(data, bhdvcs):\n",
    "    bhdvcs.SetKinematics(data['QQ'], data['x_b'], data['t'], data['k'])\n",
    "    bh = bhdvcs.GetBHUUxs(data['phi_x'], data['F1'], data['F2'])\n",
    "    interference = data['F'] - data['dvcs'] - bh\n",
    "    interference /= bhdvcs.Gamma\n",
    "    interference *= data['QQ']\n",
    "    interference *= np.abs(data['t'])\n",
    "    a, b = bhdvcs.ABcon(data['phi_x'], data['F1'], data['F2'])\n",
    "    interference /= b\n",
    "    return interference"
   ]
  },
  {
   "cell_type": "code",
   "execution_count": 9,
   "metadata": {},
   "outputs": [],
   "source": [
    "def produceLHSerr(data, bhdvcs):\n",
    "    bhdvcs.SetKinematics(data['QQ'], data['x_b'], data['t'], data['k'])\n",
    "    err = data['errF']\n",
    "    err /= bhdvcs.Gamma\n",
    "    err *= data['QQ']\n",
    "    err *= np.abs(data['t'])\n",
    "    a, b = bhdvcs.ABcon(data['phi_x'], data['F1'], data['F2'])\n",
    "    err /= b\n",
    "    return np.abs(err)"
   ]
  },
  {
   "cell_type": "code",
   "execution_count": 10,
   "metadata": {},
   "outputs": [],
   "source": [
    "def aoverb(data, bhdvcs):\n",
    "    bhdvcs.SetKinematics(data['QQ'], data['x_b'], data['t'], data['k'])\n",
    "    a, b = bhdvcs.ABcon(data['phi_x'], data['F1'], data['F2'])\n",
    "    return a/b"
   ]
  },
  {
   "cell_type": "code",
   "execution_count": 37,
   "metadata": {},
   "outputs": [],
   "source": [
    "def linear_curve_fit(data, ReH, ReE):\n",
    "    bhdvcs.SetKinematics(data[:, 0], data[:, 1], data[:, 2], data[:, 3])\n",
    "    a, b = bhdvcs.ABcon(data[:, 4], data[:, 5], data[:, 6])\n",
    "    #tau = -data['t']/(4*bhdvcs.M2)\n",
    "    gm = data[:, 5] + data[:, 6]\n",
    "    return (a/b)*(data[:, 5]*ReH + bhdvcs.tau*data[:, 6]*ReE) + gm*(ReH + ReE)"
   ]
  },
  {
   "cell_type": "code",
   "execution_count": 33,
   "metadata": {},
   "outputs": [],
   "source": [
    "def combined_function_chisq(cffs, data):\n",
    "    ReH, ReE, ReHtilde = cffs\n",
    "    dftu = data.copy()\n",
    "    dftu['F'] = bhdvcs.TotalUUXS(np.array(data[['phi_x', 'k', 'QQ', 'x_b', 't', 'F1', 'F2', 'dvcs']]), ReH, ReE, ReHtilde)\n",
    "    yhat1 = produceLHS(dftu, bhdvcs)\n",
    "    X = np.array(data[['QQ', 'x_b', 't', 'k', 'phi_x', 'F1', 'F2']])\n",
    "    yhat2 = linear_curve_fit(X, ReH, ReE)\n",
    "    chisq1 = np.sum(((yhat1 - data['F'])/data['errF'])**2)\n",
    "    chisq2 = np.sum(((yhat2 - data['F'])/data['errF'])**2)\n",
    "    return (chisq1 + chisq2)/2"
   ]
  },
  {
   "cell_type": "code",
   "execution_count": null,
   "metadata": {},
   "outputs": [],
   "source": [
    "def produceLHS(data, bhdvcs):\n",
    "    bhdvcs.SetKinematics(data['QQ'], data['x_b'], data['t'], data['k'])\n",
    "    bh = bhdvcs.GetBHUUxs(data['phi_x'], data['F1'], data['F2'])\n",
    "    interference = data['F'] - data['dvcs'] - bh\n",
    "    interference /= bhdvcs.Gamma\n",
    "    interference *= data['QQ']\n",
    "    interference *= np.abs(data['t'])\n",
    "    a, b = bhdvcs.ABcon(data['phi_x'], data['F1'], data['F2'])\n",
    "    interference /= b\n",
    "    return interference\n",
    "\n",
    "def produceLHSerr(data, bhdvcs):\n",
    "    bhdvcs.SetKinematics(data['QQ'], data['x_b'], data['t'], data['k'])\n",
    "    err = data['errF']\n",
    "    err /= bhdvcs.Gamma\n",
    "    err *= data['QQ']\n",
    "    err *= np.abs(data['t'])\n",
    "    a, b = bhdvcs.ABcon(data['phi_x'], data['F1'], data['F2'])\n",
    "    err /= b\n",
    "    return np.abs(err)\n",
    "\n",
    "def aoverb(data, bhdvcs):\n",
    "    bhdvcs.SetKinematics(data['QQ'], data['x_b'], data['t'], data['k'])\n",
    "    a, b = bhdvcs.ABcon(data['phi_x'], data['F1'], data['F2'])\n",
    "    return a/b\n",
    "\n",
    "def linear_curve_fit(data, ReH, ReE):\n",
    "    bhdvcs.SetKinematics(data[:, 0], data[:, 1], data[:, 2], data[:, 3])\n",
    "    a, b = bhdvcs.ABcon(data[:, 4], data[:, 5], data[:, 6])\n",
    "    #tau = -data['t']/(4*bhdvcs.M2)\n",
    "    gm = data[:, 5] + data[:, 6]\n",
    "    return (a/b)*(data[:, 5]*ReH + bhdvcs.tau*data[:, 6]*ReE) + gm*(ReH + ReE)\n",
    "\n",
    "def combined_function_chisq(cffs, data):\n",
    "    ReH, ReE, ReHtilde = cffs\n",
    "    dftu = data.copy()\n",
    "    dftu['F'] = bhdvcs.TotalUUXS(np.array(data[['phi_x', 'k', 'QQ', 'x_b', 't', 'F1', 'F2', 'dvcs']]), ReH, ReE, ReHtilde)\n",
    "    yhat1 = produceLHS(dftu, bhdvcs)\n",
    "    X = np.array(data[['QQ', 'x_b', 't', 'k', 'phi_x', 'F1', 'F2']])\n",
    "    yhat2 = linear_curve_fit(X, ReH, ReE)\n",
    "    chisq1 = np.sum(((yhat1 - data['F'])/data['errF'])**2)\n",
    "    chisq2 = np.sum(((yhat2 - data['F'])/data['errF'])**2)\n",
    "    return (chisq1 + chisq2)/2"
   ]
  }
 ],
 "metadata": {
  "kernelspec": {
   "display_name": "Py38Root",
   "language": "python",
   "name": "python3"
  },
  "language_info": {
   "codemirror_mode": {
    "name": "ipython",
    "version": 3
   },
   "file_extension": ".py",
   "mimetype": "text/x-python",
   "name": "python",
   "nbconvert_exporter": "python",
   "pygments_lexer": "ipython3",
   "version": "3.8.3"
  }
 },
 "nbformat": 4,
 "nbformat_minor": 2
}
