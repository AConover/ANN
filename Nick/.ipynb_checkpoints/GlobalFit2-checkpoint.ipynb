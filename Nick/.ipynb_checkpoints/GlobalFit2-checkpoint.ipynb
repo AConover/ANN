{
 "cells": [
  {
   "cell_type": "markdown",
   "metadata": {},
   "source": [
    "# Imports"
   ]
  },
  {
   "cell_type": "markdown",
   "metadata": {},
   "source": [
    "To try:\n",
    "\n",
    "Model on entire dataset, model uncertainty estimated by smearing entire dataset"
   ]
  },
  {
   "cell_type": "code",
   "execution_count": 186,
   "metadata": {},
   "outputs": [],
   "source": [
    "import tensorflow as tf\n",
    "import pandas as pd\n",
    "import numpy as np\n",
    "import matplotlib.pyplot as plt\n",
    "from tqdm.notebook import tqdm\n",
    "from sklearn.preprocessing import MinMaxScaler"
   ]
  },
  {
   "cell_type": "code",
   "execution_count": 2,
   "metadata": {},
   "outputs": [
    {
     "name": "stdout",
     "output_type": "stream",
     "text": [
      "2.2.0\n"
     ]
    }
   ],
   "source": [
    "print(tf.__version__)"
   ]
  },
  {
   "cell_type": "code",
   "execution_count": 3,
   "metadata": {},
   "outputs": [],
   "source": [
    "import scipy.optimize as optimization\n",
    "\n",
    "from BHDVCStf import BHDVCS #modified bhdvcs file\n",
    "bhdvcs = BHDVCS()"
   ]
  },
  {
   "cell_type": "markdown",
   "metadata": {},
   "source": [
    "# Data"
   ]
  },
  {
   "cell_type": "code",
   "execution_count": 4,
   "metadata": {},
   "outputs": [],
   "source": [
    "class DvcsData(object):\n",
    "    def __init__(self, df):\n",
    "        self.X = df.loc[:, ['phi_x', 'k', 'QQ', 'x_b', 't', 'F1', 'F2', 'ReH', 'ReE', 'ReHtilde', 'dvcs']]\n",
    "        self.XnoCFF = df.loc[:, ['phi_x', 'k', 'QQ', 'x_b', 't', 'F1', 'F2', 'dvcs']]\n",
    "        self.y = df.loc[:, 'F']\n",
    "        self.Kinematics = df.loc[:, ['k', 'QQ', 'x_b', 't']]\n",
    "        self.erry = df.loc[:, 'errF']\n",
    "        \n",
    "    def __len__(self):\n",
    "        return len(self.X)\n",
    "    \n",
    "    def getSet(self, setNum, itemsInSet=36):\n",
    "        pd.options.mode.chained_assignment = None\n",
    "        subX = self.X.loc[setNum*itemsInSet:(setNum+1)*itemsInSet-1, :]\n",
    "        subX['F'] = self.y.loc[setNum*itemsInSet:(setNum+1)*itemsInSet-1]\n",
    "        subX['errF'] = self.erry.loc[setNum*itemsInSet:(setNum+1)*itemsInSet-1]\n",
    "        pd.options.mode.chained_assignment = 'warn'\n",
    "        return DvcsData(subX)\n",
    "    \n",
    "    def sampleY(self):\n",
    "        return np.random.normal(self.y, self.erry)\n",
    "    \n",
    "    def sampleWeights(self):\n",
    "        return 1/self.erry\n",
    "    \n",
    "    def getAllKins(self, itemsInSets=36):\n",
    "        return self.Kinematics.iloc[np.array(range(len(df)//itemsInSets))*itemsInSets, :]"
   ]
  },
  {
   "cell_type": "code",
   "execution_count": 5,
   "metadata": {},
   "outputs": [],
   "source": [
    "df = pd.read_csv(\"dvcs_xs_newsets_genCFFs.csv\")\n",
    "data = DvcsData(df)"
   ]
  },
  {
   "cell_type": "code",
   "execution_count": 6,
   "metadata": {},
   "outputs": [],
   "source": [
    "numSets = df['#Set'].max()+1"
   ]
  },
  {
   "cell_type": "code",
   "execution_count": 7,
   "metadata": {},
   "outputs": [
    {
     "data": {
      "text/plain": [
       "15"
      ]
     },
     "execution_count": 7,
     "metadata": {},
     "output_type": "execute_result"
    }
   ],
   "source": [
    "numSets"
   ]
  },
  {
   "cell_type": "markdown",
   "metadata": {},
   "source": [
    "# Produce replicas"
   ]
  },
  {
   "cell_type": "markdown",
   "metadata": {},
   "source": [
    "I am using the baseline to fit replicas in this instance, but other methods can be easily substituted into the computeData function."
   ]
  },
  {
   "cell_type": "code",
   "execution_count": 14,
   "metadata": {},
   "outputs": [],
   "source": [
    "numReplicas = 100"
   ]
  },
  {
   "cell_type": "code",
   "execution_count": 16,
   "metadata": {},
   "outputs": [],
   "source": [
    "def computeData(data, numSets, numReplicas):\n",
    "    results = []\n",
    "    for i in tqdm(range(numSets)):\n",
    "        replicas = []\n",
    "        seti = data.getSet(i)\n",
    "        X = np.array(seti.XnoCFF)\n",
    "        sigma = seti.erry\n",
    "        pars = np.array([1, 1, 1])\n",
    "        for i in range(numReplicas):\n",
    "            y = seti.sampleY()\n",
    "            cff, cffcov = optimization.curve_fit(bhdvcs.TotalUUXS, X, y, pars, sigma, method='lm')\n",
    "            replicas.append(cff)\n",
    "        results.append(replicas)\n",
    "    return np.array(results)"
   ]
  },
  {
   "cell_type": "code",
   "execution_count": 17,
   "metadata": {
    "scrolled": true
   },
   "outputs": [
    {
     "data": {
      "application/vnd.jupyter.widget-view+json": {
       "model_id": "1860ec173b4a4e29ac9c2021d16f9f6d",
       "version_major": 2,
       "version_minor": 0
      },
      "text/plain": [
       "HBox(children=(FloatProgress(value=0.0, max=15.0), HTML(value='')))"
      ]
     },
     "metadata": {},
     "output_type": "display_data"
    },
    {
     "name": "stdout",
     "output_type": "stream",
     "text": [
      "\n"
     ]
    }
   ],
   "source": [
    "results = computeData(data, numSets, numReplicas)"
   ]
  },
  {
   "cell_type": "code",
   "execution_count": 18,
   "metadata": {},
   "outputs": [],
   "source": [
    "results.tofile('GlobalFit2Replicas.txt')"
   ]
  },
  {
   "cell_type": "code",
   "execution_count": 38,
   "metadata": {},
   "outputs": [],
   "source": [
    "# results = np.fromfile('GlobalFit2Replicas.txt')\n",
    "# results = results.reshape(numSets, numReplicas, 3)"
   ]
  },
  {
   "cell_type": "code",
   "execution_count": 19,
   "metadata": {
    "scrolled": true
   },
   "outputs": [
    {
     "data": {
      "text/plain": [
       "(15, 100, 3)"
      ]
     },
     "execution_count": 19,
     "metadata": {},
     "output_type": "execute_result"
    }
   ],
   "source": [
    "results.shape"
   ]
  },
  {
   "cell_type": "markdown",
   "metadata": {},
   "source": [
    "# Examine Replica accuracy"
   ]
  },
  {
   "cell_type": "code",
   "execution_count": 41,
   "metadata": {},
   "outputs": [],
   "source": [
    "def evaluate(y_yhat):\n",
    "    '''\n",
    "    Provides a few model evaluation statistics from an array of true values and predictions.\n",
    "    \n",
    "    :param y_yhat: numpy array with first column being true values and second being predicted values.\n",
    "    '''\n",
    "    pct_errs = ((y_yhat[:, 0] - y_yhat[:, 1])/y_yhat[:, 1])*100\n",
    "    print('Mean percent error: ', np.mean(np.abs(pct_errs)))\n",
    "\n",
    "    RS = np.square((y_yhat[:, 0] - y_yhat[:, 1]))\n",
    "    TS = np.square((y_yhat[:, 0] - y_yhat[:, 0].mean()))\n",
    "    rmse = np.sqrt(np.mean(RS))\n",
    "    rmtss = np.sqrt(np.mean(TS))\n",
    "    print('RMSE: ', rmse)\n",
    "    print('RMSE w yhat=mean: ', rmtss)\n",
    "    RSS = np.sum(RS)\n",
    "    TSS = np.sum(TS)\n",
    "    print('R-squared: ', (1 - RSS/TSS))\n",
    "    plt.hist(np.array(pct_errs))\n",
    "    plt.title('Histogram of Percent Errors')\n",
    "    plt.show()"
   ]
  },
  {
   "cell_type": "code",
   "execution_count": 53,
   "metadata": {},
   "outputs": [],
   "source": [
    "y = results[:, :, 0].mean(axis=1)\n",
    "yhat = df.loc[np.array(range(numSets))*36, 'ReH'].reset_index(drop=True)\n",
    "y_yhat = np.transpose(np.array([list(y), list(yhat)]))"
   ]
  },
  {
   "cell_type": "code",
   "execution_count": 54,
   "metadata": {},
   "outputs": [
    {
     "name": "stdout",
     "output_type": "stream",
     "text": [
      "Mean percent error:  10.39472277431491\n",
      "RMSE:  1.016593117128301\n",
      "RMSE w yhat=mean:  2.233012731118498\n",
      "R-squared:  0.7927416999621235\n"
     ]
    },
    {
     "data": {
      "image/png": "[encoded data removed]",
      "text/plain": [
       "<Figure size 432x288 with 1 Axes>"
      ]
     },
     "metadata": {
      "needs_background": "light"
     },
     "output_type": "display_data"
    }
   ],
   "source": [
    "evaluate(y_yhat)"
   ]
  },
  {
   "cell_type": "markdown",
   "metadata": {},
   "source": [
    "# ReH"
   ]
  },
  {
   "cell_type": "markdown",
   "metadata": {},
   "source": [
    "# Global Model"
   ]
  },
  {
   "cell_type": "markdown",
   "metadata": {},
   "source": [
    "Shape of results = (# of Kinematic Sets, # of Replicas, 3 CFFs)\n",
    "\n",
    "CFFs are in order of: ReH, ReE, ReHtilde"
   ]
  },
  {
   "cell_type": "code",
   "execution_count": 55,
   "metadata": {},
   "outputs": [
    {
     "data": {
      "text/plain": [
       "(15, 100, 3)"
      ]
     },
     "execution_count": 55,
     "metadata": {},
     "output_type": "execute_result"
    }
   ],
   "source": [
    "results.shape"
   ]
  },
  {
   "cell_type": "code",
   "execution_count": 260,
   "metadata": {},
   "outputs": [],
   "source": [
    "kinematics = tf.keras.Input(shape=(4))\n",
    "x = tf.keras.layers.Dense(20, activation=\"relu\")(kinematics)\n",
    "outputs = tf.keras.layers.Dense(1)(x)\n",
    "\n",
    "globalModel = tf.keras.Model(inputs=kinematics, outputs=outputs, name=\"GlobalModel\")"
   ]
  },
  {
   "cell_type": "code",
   "execution_count": 261,
   "metadata": {},
   "outputs": [
    {
     "data": {
      "image/png": "[encoded data removed]",
      "text/plain": [
       "<IPython.core.display.Image object>"
      ]
     },
     "execution_count": 261,
     "metadata": {},
     "output_type": "execute_result"
    }
   ],
   "source": [
    "tf.keras.utils.plot_model(globalModel, \"cffs.png\", show_shapes=True)"
   ]
  },
  {
   "cell_type": "markdown",
   "metadata": {},
   "source": [
    "## ReH model"
   ]
  },
  {
   "cell_type": "code",
   "execution_count": 58,
   "metadata": {},
   "outputs": [],
   "source": [
    "whichCFF = 0 # ReH"
   ]
  },
  {
   "cell_type": "code",
   "execution_count": 71,
   "metadata": {},
   "outputs": [],
   "source": [
    "X = df.loc[np.array(range(numSets))*36, ['k', 'QQ', 'x_b', 't']].reset_index(drop=True)\n",
    "\n",
    "y = df.loc[np.array(range(numSets))*36, 'ReH'].reset_index(drop=True)"
   ]
  },
  {
   "cell_type": "markdown",
   "metadata": {},
   "source": [
    "def produceEstimates(replica_models, valid_x):\n",
    "    cffGuesses = []\n",
    "    for model in replica_models:\n",
    "        cffGuesses.append(model.predict(valid_x)[0][0])\n",
    "    return np.array(cffGuesses)"
   ]
  },
  {
   "cell_type": "code",
   "execution_count": 131,
   "metadata": {},
   "outputs": [],
   "source": [
    "rescaler = MinMaxScaler()"
   ]
  },
  {
   "cell_type": "code",
   "execution_count": 136,
   "metadata": {},
   "outputs": [],
   "source": [
    "rescaler = rescaler.fit(X)"
   ]
  },
  {
   "cell_type": "code",
   "execution_count": 141,
   "metadata": {},
   "outputs": [],
   "source": [
    "X_rescaled = rescaler.transform(X)"
   ]
  },
  {
   "cell_type": "code",
   "execution_count": 265,
   "metadata": {},
   "outputs": [],
   "source": [
    "globalModel.compile(optimizer=tf.keras.optimizers.Adam(.3), loss=tf.keras.losses.MeanSquaredError())"
   ]
  },
  {
   "cell_type": "code",
   "execution_count": 266,
   "metadata": {},
   "outputs": [],
   "source": [
    "orig_weights = globalModel.get_weights()"
   ]
  },
  {
   "cell_type": "markdown",
   "metadata": {},
   "source": [
    "i = 4\n",
    "\n",
    "valid_x = X_rescaled[[i], :]\n",
    "train_x = np.delete(X_rescaled, i, axis=0)\n",
    "valid_y = np.array(y[i])\n",
    "train_y = np.delete(np.array(y), i, axis=0)\n",
    "\n",
    "globalModel.set_weights(orig_weights)\n",
    "\n",
    "globalModel.fit(train_x, train_y, epochs = 150, verbose=2)\n",
    "\n",
    "globalModel.predict(valid_x)"
   ]
  },
  {
   "cell_type": "markdown",
   "metadata": {},
   "source": [
    "# Assuming we know true values"
   ]
  },
  {
   "cell_type": "code",
   "execution_count": 79,
   "metadata": {},
   "outputs": [],
   "source": [
    "def testWithTrue(globalModel, X, y, orig_weights, numSets):\n",
    "    '''\n",
    "    Essentially LOO cross-val with y-values being true\n",
    "    \n",
    "    globalModel: a tensorflow neural network model\n",
    "    X: standardized kinematic variables\n",
    "    y: the true values of a CFF for each kinematic set\n",
    "    orig_weights: the original weights from when the model was created (used to reset model after it has been trained)\n",
    "    numSets: the number of kinematic sets\n",
    "    \n",
    "    returns: averag rmse, list of percent errors from each set\n",
    "    '''\n",
    "    y_yhat = []\n",
    "    for i in tqdm(range(numSets)):\n",
    "        valid_x = X[[i], :]\n",
    "        train_x = np.delete(X, i, axis=0)\n",
    "        valid_y = y[i]\n",
    "        train_y = np.delete(np.array(y), i, axis=0)\n",
    "        \n",
    "        if np.any(np.all(valid_x == train_x, axis=1)):\n",
    "            raise Exception\n",
    "        \n",
    "        globalModel.set_weights(orig_weights)\n",
    "        globalModel.fit(train_x, train_y, epochs = 150, verbose=0)\n",
    "        pred = globalModel.predict(valid_x)[0][0]\n",
    "        y_yhat.append([valid_y, pred])\n",
    "            \n",
    "    return np.array(y_yhat)"
   ]
  },
  {
   "cell_type": "code",
   "execution_count": 80,
   "metadata": {
    "scrolled": true
   },
   "outputs": [
    {
     "data": {
      "application/vnd.jupyter.widget-view+json": {
       "model_id": "7ef441c8fd5248a8ac10fbb6317785c4",
       "version_major": 2,
       "version_minor": 0
      },
      "text/plain": [
       "HBox(children=(FloatProgress(value=0.0, max=15.0), HTML(value='')))"
      ]
     },
     "metadata": {},
     "output_type": "display_data"
    },
    {
     "name": "stdout",
     "output_type": "stream",
     "text": [
      "\n"
     ]
    }
   ],
   "source": [
    "y_yhat = testWithTrue(globalModel, X_rescaled, y, orig_weights, numSets)"
   ]
  },
  {
   "cell_type": "code",
   "execution_count": 81,
   "metadata": {
    "scrolled": true
   },
   "outputs": [
    {
     "name": "stdout",
     "output_type": "stream",
     "text": [
      "Mean percent error:  1.5851343572306809\n",
      "RMSE:  0.18344692193093\n",
      "RMSE w yhat=mean:  2.5254628436780107\n",
      "R-squared:  0.9947235856637184\n"
     ]
    },
    {
     "data": {
      "image/png": "[encoded data removed]",
      "text/plain": [
       "<Figure size 432x288 with 1 Axes>"
      ]
     },
     "metadata": {
      "needs_background": "light"
     },
     "output_type": "display_data"
    }
   ],
   "source": [
    "evaluate(y_yhat)"
   ]
  },
  {
   "cell_type": "markdown",
   "metadata": {},
   "source": [
    "# With replicas"
   ]
  },
  {
   "cell_type": "code",
   "execution_count": 311,
   "metadata": {},
   "outputs": [],
   "source": [
    "def testWithReplicas(model, X, y, results, orig_weights, numSets, numReplicas, whichCFF, epochs=150):\n",
    "    '''\n",
    "    Essentially LOO cross-val with y-values being generated from seperate local fit\n",
    "    \n",
    "    globalModel: a tensorflow neural network model\n",
    "    X: standardized kinematic variables\n",
    "    y: the true values of a CFF for each kinematic set\n",
    "    orig_weights: the original weights from when the model was created (used to reset model after it has been trained)\n",
    "    numSets: the number of kinematic sets\n",
    "    numReplicas: the number of replicas\n",
    "    whichCFF: which compton form factor to use\n",
    "    \n",
    "    returns: average rmse, list of percent errors from each set\n",
    "    '''\n",
    "    y_yhat = []\n",
    "    for i in tqdm(range(numSets)):\n",
    "        valid_x = X[[i], :]\n",
    "        train_x = np.delete(X, i, axis=0)\n",
    "        valid_y = np.array(y[i])\n",
    "        \n",
    "        preds = []\n",
    "        for rep in range(numReplicas):\n",
    "            train_y = np.delete(results[:, rep, whichCFF], i)\n",
    "            \n",
    "            model.set_weights(orig_weights)\n",
    "            model.fit(train_x, train_y, epochs=epochs, verbose=0)\n",
    "            preds.append(model.predict(valid_x)[0][0])\n",
    "        \n",
    "        pred = np.array(preds).mean()\n",
    "        y_yhat.append([valid_y, pred])\n",
    "\n",
    "    \n",
    "    return np.array(y_yhat)"
   ]
  },
  {
   "cell_type": "code",
   "execution_count": 83,
   "metadata": {
    "scrolled": true
   },
   "outputs": [
    {
     "data": {
      "application/vnd.jupyter.widget-view+json": {
       "model_id": "939229925326411697651e2a3c5d7fdb",
       "version_major": 2,
       "version_minor": 0
      },
      "text/plain": [
       "HBox(children=(FloatProgress(value=0.0, max=15.0), HTML(value='')))"
      ]
     },
     "metadata": {},
     "output_type": "display_data"
    },
    {
     "name": "stdout",
     "output_type": "stream",
     "text": [
      "\n"
     ]
    }
   ],
   "source": [
    "y_yhat = testWithReplicas(globalModel, X_rescaled, y, results, orig_weights, numSets, numReplicas, whichCFF)"
   ]
  },
  {
   "cell_type": "code",
   "execution_count": 84,
   "metadata": {},
   "outputs": [
    {
     "name": "stdout",
     "output_type": "stream",
     "text": [
      "Mean percent error:  7.660544718196133\n",
      "RMSE:  0.9558417182287775\n",
      "RMSE w yhat=mean:  2.5254628436780107\n",
      "R-squared:  0.8567515284713871\n"
     ]
    },
    {
     "data": {
      "image/png": "[encoded data removed]",
      "text/plain": [
       "<Figure size 432x288 with 1 Axes>"
      ]
     },
     "metadata": {
      "needs_background": "light"
     },
     "output_type": "display_data"
    }
   ],
   "source": [
    "evaluate(y_yhat)"
   ]
  },
  {
   "cell_type": "code",
   "execution_count": 410,
   "metadata": {},
   "outputs": [
    {
     "data": {
      "text/plain": [
       "0.31606046817588396"
      ]
     },
     "execution_count": 410,
     "metadata": {},
     "output_type": "execute_result"
    }
   ],
   "source": [
    "np.corrcoef(np.abs(pct_errs), np.abs(pct_errs_locals))[1, 0]"
   ]
  },
  {
   "cell_type": "markdown",
   "metadata": {},
   "source": [
    "## Predict across kinematic ranges"
   ]
  },
  {
   "cell_type": "code",
   "execution_count": 88,
   "metadata": {},
   "outputs": [],
   "source": [
    "globalModel.set_weights(orig_weights)"
   ]
  },
  {
   "cell_type": "code",
   "execution_count": 94,
   "metadata": {},
   "outputs": [
    {
     "data": {
      "text/html": [
       "<div>\n",
       "<style scoped>\n",
       "    .dataframe tbody tr th:only-of-type {\n",
       "        vertical-align: middle;\n",
       "    }\n",
       "\n",
       "    .dataframe tbody tr th {\n",
       "        vertical-align: top;\n",
       "    }\n",
       "\n",
       "    .dataframe thead th {\n",
       "        text-align: right;\n",
       "    }\n",
       "</style>\n",
       "<table border=\"1\" class=\"dataframe\">\n",
       "  <thead>\n",
       "    <tr style=\"text-align: right;\">\n",
       "      <th></th>\n",
       "      <th>k</th>\n",
       "      <th>QQ</th>\n",
       "      <th>x_b</th>\n",
       "      <th>t</th>\n",
       "    </tr>\n",
       "  </thead>\n",
       "  <tbody>\n",
       "    <tr>\n",
       "      <th>count</th>\n",
       "      <td>15.000000</td>\n",
       "      <td>15.000000</td>\n",
       "      <td>15.000000</td>\n",
       "      <td>15.000000</td>\n",
       "    </tr>\n",
       "    <tr>\n",
       "      <th>mean</th>\n",
       "      <td>5.883333</td>\n",
       "      <td>2.167642</td>\n",
       "      <td>0.390311</td>\n",
       "      <td>-0.323918</td>\n",
       "    </tr>\n",
       "    <tr>\n",
       "      <th>std</th>\n",
       "      <td>1.355764</td>\n",
       "      <td>0.266613</td>\n",
       "      <td>0.034070</td>\n",
       "      <td>0.044367</td>\n",
       "    </tr>\n",
       "    <tr>\n",
       "      <th>min</th>\n",
       "      <td>3.750000</td>\n",
       "      <td>1.740130</td>\n",
       "      <td>0.345012</td>\n",
       "      <td>-0.380868</td>\n",
       "    </tr>\n",
       "    <tr>\n",
       "      <th>25%</th>\n",
       "      <td>4.750000</td>\n",
       "      <td>2.036460</td>\n",
       "      <td>0.360829</td>\n",
       "      <td>-0.367341</td>\n",
       "    </tr>\n",
       "    <tr>\n",
       "      <th>50%</th>\n",
       "      <td>5.750000</td>\n",
       "      <td>2.073870</td>\n",
       "      <td>0.385579</td>\n",
       "      <td>-0.291599</td>\n",
       "    </tr>\n",
       "    <tr>\n",
       "      <th>75%</th>\n",
       "      <td>6.750000</td>\n",
       "      <td>2.179550</td>\n",
       "      <td>0.415563</td>\n",
       "      <td>-0.283318</td>\n",
       "    </tr>\n",
       "    <tr>\n",
       "      <th>max</th>\n",
       "      <td>7.750000</td>\n",
       "      <td>2.632580</td>\n",
       "      <td>0.436939</td>\n",
       "      <td>-0.278690</td>\n",
       "    </tr>\n",
       "  </tbody>\n",
       "</table>\n",
       "</div>"
      ],
      "text/plain": [
       "               k         QQ        x_b          t\n",
       "count  15.000000  15.000000  15.000000  15.000000\n",
       "mean    5.883333   2.167642   0.390311  -0.323918\n",
       "std     1.355764   0.266613   0.034070   0.044367\n",
       "min     3.750000   1.740130   0.345012  -0.380868\n",
       "25%     4.750000   2.036460   0.360829  -0.367341\n",
       "50%     5.750000   2.073870   0.385579  -0.291599\n",
       "75%     6.750000   2.179550   0.415563  -0.283318\n",
       "max     7.750000   2.632580   0.436939  -0.278690"
      ]
     },
     "execution_count": 94,
     "metadata": {},
     "output_type": "execute_result"
    }
   ],
   "source": [
    "X.describe()"
   ]
  },
  {
   "cell_type": "code",
   "execution_count": 121,
   "metadata": {},
   "outputs": [],
   "source": [
    "km = np.repeat([5.88333], 100)\n",
    "QQm = np.repeat([2.167642], 100)\n",
    "x_bm = np.repeat([.390311], 100)\n",
    "tm = np.repeat([-.3239], 100)\n",
    "\n",
    "k = np.linspace(3.75, 7.75, num=100)\n",
    "QQ = np.linspace(1.74, 2.63, num=100)\n",
    "x_b = np.linspace(.34, .44, num=100)\n",
    "t = np.linspace(-.38, -.27, num=100)"
   ]
  },
  {
   "cell_type": "code",
   "execution_count": 127,
   "metadata": {},
   "outputs": [],
   "source": [
    "to_pred = np.column_stack([k, QQm, x_bm, tm])\n",
    "to_pred = np.vstack([to_pred, np.column_stack([km, QQ, x_bm, tm])])\n",
    "to_pred = np.vstack([to_pred, np.column_stack([km, QQm, x_b, tm])])\n",
    "to_pred = np.vstack([to_pred, np.column_stack([km, QQm, x_bm, t])])"
   ]
  },
  {
   "cell_type": "code",
   "execution_count": 146,
   "metadata": {},
   "outputs": [],
   "source": [
    "to_pred = rescaler.transform(to_pred)"
   ]
  },
  {
   "cell_type": "code",
   "execution_count": 161,
   "metadata": {},
   "outputs": [],
   "source": [
    "def predictwReplicas(model, X, to_pred, results, orig_weights, numReplicas, whichCFF):\n",
    "    #valid_y = np.array(y[i])\n",
    "\n",
    "    preds = []\n",
    "    for rep in tqdm(range(numReplicas)):\n",
    "        \n",
    "        train_y = results[:, rep, whichCFF]\n",
    "\n",
    "        model.set_weights(orig_weights)\n",
    "        model.fit(X, train_y, epochs = 150, verbose=0)\n",
    "        preds.append(model.predict(to_pred))\n",
    "        \n",
    "    return np.column_stack(preds)"
   ]
  },
  {
   "cell_type": "code",
   "execution_count": 179,
   "metadata": {
    "scrolled": true
   },
   "outputs": [
    {
     "data": {
      "application/vnd.jupyter.widget-view+json": {
       "model_id": "929d56a6239f4a95841907f4c4fa3d7f",
       "version_major": 2,
       "version_minor": 0
      },
      "text/plain": [
       "HBox(children=(FloatProgress(value=0.0), HTML(value='')))"
      ]
     },
     "metadata": {},
     "output_type": "display_data"
    },
    {
     "name": "stdout",
     "output_type": "stream",
     "text": [
      "\n"
     ]
    }
   ],
   "source": [
    "preds = predictwReplicas(globalModel, X_rescaled, to_pred, results, orig_weights, numReplicas, whichCFF)"
   ]
  },
  {
   "cell_type": "markdown",
   "metadata": {},
   "source": [
    "### plot of ReH as a function of k"
   ]
  },
  {
   "cell_type": "code",
   "execution_count": 180,
   "metadata": {},
   "outputs": [],
   "source": [
    "def c_int_plot(preds, x, which_kin, kin_range, cffname):\n",
    "    '''\n",
    "    :param preds: numpy array of predictions\n",
    "    :param x: an array of the values of which_kin that were used in generating predictions\n",
    "    :param which_kin: string name of kinematic to plot\n",
    "    :param kin_range: a tuple of lower and upper indices of predictions\n",
    "    :param cffname: the name of the compton form factor we're predicting\n",
    "    '''\n",
    "    y_hat = preds[kin_range[0]:kin_range[1], :].mean(axis=1)\n",
    "    upper_y_hat = y_hat + preds[kin_range[0]:kin_range[1], :].std(axis=1)\n",
    "    lower_y_hat = y_hat - preds[kin_range[0]:kin_range[1], :].std(axis=1)\n",
    "    \n",
    "    plt.plot(x, lower_y_hat)\n",
    "    plt.plot(x, y_hat, color='black')\n",
    "    plt.plot(x, upper_y_hat, color='red')\n",
    "    plt.title('68% confidence interval with point predictions')\n",
    "    plt.ylabel(cffname)\n",
    "    plt.xlabel(which_kin)\n",
    "    plt.show()\n",
    "        "
   ]
  },
  {
   "cell_type": "code",
   "execution_count": 181,
   "metadata": {},
   "outputs": [
    {
     "data": {
      "image/png": "[encoded data removed]",
      "text/plain": [
       "<Figure size 432x288 with 1 Axes>"
      ]
     },
     "metadata": {
      "needs_background": "light"
     },
     "output_type": "display_data"
    }
   ],
   "source": [
    "c_int_plot(preds, k, 'k', (0, 100), 'ReH')"
   ]
  },
  {
   "cell_type": "markdown",
   "metadata": {},
   "source": [
    "### plot of ReH as a function of QQ"
   ]
  },
  {
   "cell_type": "code",
   "execution_count": 182,
   "metadata": {},
   "outputs": [
    {
     "data": {
      "image/png": "[encoded data removed]",
      "text/plain": [
       "<Figure size 432x288 with 1 Axes>"
      ]
     },
     "metadata": {
      "needs_background": "light"
     },
     "output_type": "display_data"
    }
   ],
   "source": [
    "c_int_plot(preds, QQ, 'QQ', (100, 200), 'ReH')"
   ]
  },
  {
   "cell_type": "markdown",
   "metadata": {},
   "source": [
    "### plot of ReH as a function of x_b"
   ]
  },
  {
   "cell_type": "code",
   "execution_count": 183,
   "metadata": {
    "scrolled": true
   },
   "outputs": [
    {
     "data": {
      "image/png": "[encoded data removed]",
      "text/plain": [
       "<Figure size 432x288 with 1 Axes>"
      ]
     },
     "metadata": {
      "needs_background": "light"
     },
     "output_type": "display_data"
    }
   ],
   "source": [
    "c_int_plot(preds, x_b, 'x_b', (200, 300), 'ReH')"
   ]
  },
  {
   "cell_type": "markdown",
   "metadata": {},
   "source": [
    "## plot of ReH as a function of t"
   ]
  },
  {
   "cell_type": "code",
   "execution_count": 185,
   "metadata": {},
   "outputs": [
    {
     "data": {
      "image/png": "[encoded data removed]",
      "text/plain": [
       "<Figure size 432x288 with 1 Axes>"
      ]
     },
     "metadata": {
      "needs_background": "light"
     },
     "output_type": "display_data"
    }
   ],
   "source": [
    "c_int_plot(preds, t, 't', (300, 400), 'ReH')"
   ]
  },
  {
   "cell_type": "markdown",
   "metadata": {},
   "source": [
    "# ReE Model"
   ]
  },
  {
   "cell_type": "markdown",
   "metadata": {},
   "source": [
    "Evaluate fits"
   ]
  },
  {
   "cell_type": "code",
   "execution_count": 390,
   "metadata": {},
   "outputs": [],
   "source": [
    "whichCFF = 1 # ReE"
   ]
  },
  {
   "cell_type": "code",
   "execution_count": 370,
   "metadata": {},
   "outputs": [
    {
     "name": "stdout",
     "output_type": "stream",
     "text": [
      "Mean percent error:  11.057921264644353\n",
      "RMSE:  5.675738319631367\n",
      "RMSE w yhat=mean:  2.525480507907797\n",
      "R-squared:  -4.050759464517492\n"
     ]
    },
    {
     "data": {
      "image/png": "[encoded data removed]",
      "text/plain": [
       "<Figure size 432x288 with 1 Axes>"
      ]
     },
     "metadata": {
      "needs_background": "light"
     },
     "output_type": "display_data"
    }
   ],
   "source": [
    "yhat = results[:, :, whichCFF].mean(axis=1)\n",
    "y = df.loc[np.array(range(numSets))*36, 'ReE'].reset_index(drop=True)\n",
    "y_yhat = np.transpose(np.array([list(y), list(yhat)]))\n",
    "\n",
    "evaluate(y_yhat)"
   ]
  },
  {
   "cell_type": "markdown",
   "metadata": {},
   "source": [
    "Global model"
   ]
  },
  {
   "cell_type": "code",
   "execution_count": 439,
   "metadata": {},
   "outputs": [],
   "source": [
    "kinematics = tf.keras.Input(shape=(4))\n",
    "x = tf.keras.layers.Dense(20, activation=\"relu\")(kinematics)\n",
    "outputs = tf.keras.layers.Dense(1)(x)\n",
    "\n",
    "globalModel = tf.keras.Model(inputs=kinematics, outputs=outputs, name=\"GlobalModel\")"
   ]
  },
  {
   "cell_type": "code",
   "execution_count": 440,
   "metadata": {},
   "outputs": [],
   "source": [
    "orig_weights = globalModel.get_weights()"
   ]
  },
  {
   "cell_type": "code",
   "execution_count": 441,
   "metadata": {},
   "outputs": [],
   "source": [
    "globalModel.compile(optimizer=tf.keras.optimizers.Adam(1), loss=tf.keras.losses.MeanSquaredError())"
   ]
  },
  {
   "cell_type": "code",
   "execution_count": 442,
   "metadata": {},
   "outputs": [],
   "source": [
    "y = df.loc[np.array(range(numSets))*36, 'ReE'].reset_index(drop=True)"
   ]
  },
  {
   "cell_type": "markdown",
   "metadata": {},
   "source": [
    "Evaluate with trues"
   ]
  },
  {
   "cell_type": "code",
   "execution_count": 443,
   "metadata": {},
   "outputs": [
    {
     "data": {
      "application/vnd.jupyter.widget-view+json": {
       "model_id": "bc29f03b09c74cdb82642eb20601fd46",
       "version_major": 2,
       "version_minor": 0
      },
      "text/plain": [
       "HBox(children=(FloatProgress(value=0.0, max=15.0), HTML(value='')))"
      ]
     },
     "metadata": {},
     "output_type": "display_data"
    },
    {
     "name": "stdout",
     "output_type": "stream",
     "text": [
      "\n"
     ]
    }
   ],
   "source": [
    "y_yhat = testWithTrue(globalModel, X_rescaled, y, orig_weights, numSets)"
   ]
  },
  {
   "cell_type": "code",
   "execution_count": 444,
   "metadata": {},
   "outputs": [
    {
     "name": "stdout",
     "output_type": "stream",
     "text": [
      "Mean percent error:  0.6742199601519058\n",
      "RMSE:  0.962998960769753\n",
      "RMSE w yhat=mean:  2.525480507907797\n",
      "R-squared:  0.8546002716611565\n"
     ]
    },
    {
     "data": {
      "image/png": "[encoded data removed]",
      "text/plain": [
       "<Figure size 432x288 with 1 Axes>"
      ]
     },
     "metadata": {
      "needs_background": "light"
     },
     "output_type": "display_data"
    }
   ],
   "source": [
    "evaluate(y_yhat)"
   ]
  },
  {
   "cell_type": "markdown",
   "metadata": {},
   "source": [
    "Evaluate with replicas"
   ]
  },
  {
   "cell_type": "code",
   "execution_count": 446,
   "metadata": {
    "scrolled": true
   },
   "outputs": [
    {
     "data": {
      "application/vnd.jupyter.widget-view+json": {
       "model_id": "00317ff677014b4bb79445cdf17884b4",
       "version_major": 2,
       "version_minor": 0
      },
      "text/plain": [
       "HBox(children=(FloatProgress(value=0.0, max=15.0), HTML(value='')))"
      ]
     },
     "metadata": {},
     "output_type": "display_data"
    },
    {
     "name": "stdout",
     "output_type": "stream",
     "text": [
      "\n"
     ]
    }
   ],
   "source": [
    "y_yhat = testWithReplicas(globalModel, X_rescaled, y, results, orig_weights, numSets, 25, whichCFF)"
   ]
  },
  {
   "cell_type": "code",
   "execution_count": 448,
   "metadata": {},
   "outputs": [
    {
     "name": "stdout",
     "output_type": "stream",
     "text": [
      "Mean percent error:  7.833792630760046\n",
      "RMSE:  4.764762239000507\n",
      "RMSE w yhat=mean:  2.525480507907797\n",
      "R-squared:  -2.5595445005755675\n"
     ]
    },
    {
     "data": {
      "image/png": "[encoded data removed]",
      "text/plain": [
       "<Figure size 432x288 with 1 Axes>"
      ]
     },
     "metadata": {
      "needs_background": "light"
     },
     "output_type": "display_data"
    }
   ],
   "source": [
    "evaluate(y_yhat)"
   ]
  },
  {
   "cell_type": "markdown",
   "metadata": {},
   "source": [
    "# ReHtilde Model"
   ]
  },
  {
   "cell_type": "markdown",
   "metadata": {},
   "source": [
    "Evaluate fits"
   ]
  },
  {
   "cell_type": "code",
   "execution_count": 454,
   "metadata": {},
   "outputs": [],
   "source": [
    "whichCFF = 2 # ReE"
   ]
  },
  {
   "cell_type": "code",
   "execution_count": 455,
   "metadata": {},
   "outputs": [
    {
     "name": "stdout",
     "output_type": "stream",
     "text": [
      "Mean percent error:  7.992647189510513\n",
      "RMSE:  0.42766634278934085\n",
      "RMSE w yhat=mean:  1.4030345621243816\n",
      "R-squared:  0.9070876581634342\n"
     ]
    },
    {
     "data": {
      "image/png": "[encoded data removed]",
      "text/plain": [
       "<Figure size 432x288 with 1 Axes>"
      ]
     },
     "metadata": {
      "needs_background": "light"
     },
     "output_type": "display_data"
    }
   ],
   "source": [
    "yhat = results[:, :, whichCFF].mean(axis=1)\n",
    "y = df.loc[np.array(range(numSets))*36, 'ReHtilde'].reset_index(drop=True)\n",
    "y_yhat = np.transpose(np.array([list(y), list(yhat)]))\n",
    "\n",
    "evaluate(y_yhat)"
   ]
  },
  {
   "cell_type": "markdown",
   "metadata": {},
   "source": [
    "Global model"
   ]
  },
  {
   "cell_type": "code",
   "execution_count": 464,
   "metadata": {},
   "outputs": [],
   "source": [
    "kinematics = tf.keras.Input(shape=(4))\n",
    "x = tf.keras.layers.Dense(20, activation=\"tanh\")(kinematics)\n",
    "outputs = tf.keras.layers.Dense(1)(x)\n",
    "\n",
    "globalModel = tf.keras.Model(inputs=kinematics, outputs=outputs, name=\"GlobalModel\")"
   ]
  },
  {
   "cell_type": "code",
   "execution_count": 465,
   "metadata": {},
   "outputs": [],
   "source": [
    "orig_weights = globalModel.get_weights()"
   ]
  },
  {
   "cell_type": "code",
   "execution_count": 466,
   "metadata": {},
   "outputs": [],
   "source": [
    "globalModel.compile(optimizer=tf.keras.optimizers.Adam(.1), loss=tf.keras.losses.MeanSquaredError())"
   ]
  },
  {
   "cell_type": "code",
   "execution_count": 467,
   "metadata": {},
   "outputs": [],
   "source": [
    "y = df.loc[np.array(range(numSets))*36, 'ReHtilde'].reset_index(drop=True)"
   ]
  },
  {
   "cell_type": "markdown",
   "metadata": {},
   "source": [
    "Evaluate with trues"
   ]
  },
  {
   "cell_type": "code",
   "execution_count": 468,
   "metadata": {},
   "outputs": [
    {
     "data": {
      "application/vnd.jupyter.widget-view+json": {
       "model_id": "5e204daef71c4b0495b1b771ce4ebc7d",
       "version_major": 2,
       "version_minor": 0
      },
      "text/plain": [
       "HBox(children=(FloatProgress(value=0.0, max=15.0), HTML(value='')))"
      ]
     },
     "metadata": {},
     "output_type": "display_data"
    },
    {
     "name": "stdout",
     "output_type": "stream",
     "text": [
      "\n"
     ]
    }
   ],
   "source": [
    "y_yhat = testWithTrue(globalModel, X_rescaled, y, orig_weights, numSets)"
   ]
  },
  {
   "cell_type": "code",
   "execution_count": 469,
   "metadata": {},
   "outputs": [
    {
     "name": "stdout",
     "output_type": "stream",
     "text": [
      "Mean percent error:  0.46323659974615955\n",
      "RMSE:  0.03430369780342113\n",
      "RMSE w yhat=mean:  1.4030345621243816\n",
      "R-squared:  0.9994022148302112\n"
     ]
    },
    {
     "data": {
      "image/png": "[encoded data removed]",
      "text/plain": [
       "<Figure size 432x288 with 1 Axes>"
      ]
     },
     "metadata": {
      "needs_background": "light"
     },
     "output_type": "display_data"
    }
   ],
   "source": [
    "evaluate(y_yhat)"
   ]
  },
  {
   "cell_type": "markdown",
   "metadata": {},
   "source": [
    "Evaluate with replicas"
   ]
  },
  {
   "cell_type": "code",
   "execution_count": 470,
   "metadata": {
    "scrolled": true
   },
   "outputs": [
    {
     "data": {
      "application/vnd.jupyter.widget-view+json": {
       "model_id": "249257df057e4d10be45ae8cead275e9",
       "version_major": 2,
       "version_minor": 0
      },
      "text/plain": [
       "HBox(children=(FloatProgress(value=0.0, max=15.0), HTML(value='')))"
      ]
     },
     "metadata": {},
     "output_type": "display_data"
    },
    {
     "name": "stdout",
     "output_type": "stream",
     "text": [
      "\n"
     ]
    }
   ],
   "source": [
    "y_yhat = testWithReplicas(globalModel, X_rescaled, y, results, orig_weights, numSets, numReplicas, whichCFF)"
   ]
  },
  {
   "cell_type": "code",
   "execution_count": 471,
   "metadata": {},
   "outputs": [
    {
     "name": "stdout",
     "output_type": "stream",
     "text": [
      "Mean percent error:  6.3013921189053965\n",
      "RMSE:  0.37462442522102163\n",
      "RMSE w yhat=mean:  1.4030345621243816\n",
      "R-squared:  0.9287055964174232\n"
     ]
    },
    {
     "data": {
      "image/png": "[encoded data removed]",
      "text/plain": [
       "<Figure size 432x288 with 1 Axes>"
      ]
     },
     "metadata": {
      "needs_background": "light"
     },
     "output_type": "display_data"
    }
   ],
   "source": [
    "evaluate(y_yhat)"
   ]
  },
  {
   "cell_type": "markdown",
   "metadata": {},
   "source": [
    "## Predictions"
   ]
  },
  {
   "cell_type": "code",
   "execution_count": 474,
   "metadata": {},
   "outputs": [
    {
     "data": {
      "application/vnd.jupyter.widget-view+json": {
       "model_id": "ca99a55df1b64c6c9d76348714641c8d",
       "version_major": 2,
       "version_minor": 0
      },
      "text/plain": [
       "HBox(children=(FloatProgress(value=0.0), HTML(value='')))"
      ]
     },
     "metadata": {},
     "output_type": "display_data"
    },
    {
     "name": "stdout",
     "output_type": "stream",
     "text": [
      "\n"
     ]
    }
   ],
   "source": [
    "preds = predictwReplicas(globalModel, X_rescaled, to_pred, results, orig_weights, numReplicas, whichCFF)"
   ]
  },
  {
   "cell_type": "markdown",
   "metadata": {},
   "source": [
    "### plot of k as a function of k"
   ]
  },
  {
   "cell_type": "code",
   "execution_count": 475,
   "metadata": {},
   "outputs": [
    {
     "data": {
      "image/png": "[encoded data removed]",
      "text/plain": [
       "<Figure size 432x288 with 1 Axes>"
      ]
     },
     "metadata": {
      "needs_background": "light"
     },
     "output_type": "display_data"
    }
   ],
   "source": [
    "c_int_plot(preds, k, 'k', (0, 100), 'ReHtilde')"
   ]
  },
  {
   "cell_type": "markdown",
   "metadata": {},
   "source": [
    "### plot of ReH as a function of QQ"
   ]
  },
  {
   "cell_type": "code",
   "execution_count": 476,
   "metadata": {},
   "outputs": [
    {
     "data": {
      "image/png": "[encoded data removed]",
      "text/plain": [
       "<Figure size 432x288 with 1 Axes>"
      ]
     },
     "metadata": {
      "needs_background": "light"
     },
     "output_type": "display_data"
    }
   ],
   "source": [
    "c_int_plot(preds, QQ, 'QQ', (100, 200), 'ReHtilde')"
   ]
  },
  {
   "cell_type": "markdown",
   "metadata": {},
   "source": [
    "### plot of ReH as a function of x_b"
   ]
  },
  {
   "cell_type": "code",
   "execution_count": 477,
   "metadata": {
    "scrolled": true
   },
   "outputs": [
    {
     "data": {
      "image/png": "[encoded data removed]",
      "text/plain": [
       "<Figure size 432x288 with 1 Axes>"
      ]
     },
     "metadata": {
      "needs_background": "light"
     },
     "output_type": "display_data"
    }
   ],
   "source": [
    "c_int_plot(preds, x_b, 'x_b', (200, 300), 'ReHtilde')"
   ]
  },
  {
   "cell_type": "markdown",
   "metadata": {},
   "source": [
    "## plot of ReH as a function of t"
   ]
  },
  {
   "cell_type": "code",
   "execution_count": 478,
   "metadata": {},
   "outputs": [
    {
     "data": {
      "image/png": "[encoded data removed]",
      "text/plain": [
       "<Figure size 432x288 with 1 Axes>"
      ]
     },
     "metadata": {
      "needs_background": "light"
     },
     "output_type": "display_data"
    }
   ],
   "source": [
    "c_int_plot(preds, t, 't', (300, 400), 'ReHtilde')"
   ]
  }
 ],
 "metadata": {
  "kernelspec": {
   "display_name": "Py38Root",
   "language": "python",
   "name": "python3"
  },
  "language_info": {
   "codemirror_mode": {
    "name": "ipython",
    "version": 3
   },
   "file_extension": ".py",
   "mimetype": "text/x-python",
   "name": "python",
   "nbconvert_exporter": "python",
   "pygments_lexer": "ipython3",
   "version": "3.8.3"
  }
 },
 "nbformat": 4,
 "nbformat_minor": 2
}
