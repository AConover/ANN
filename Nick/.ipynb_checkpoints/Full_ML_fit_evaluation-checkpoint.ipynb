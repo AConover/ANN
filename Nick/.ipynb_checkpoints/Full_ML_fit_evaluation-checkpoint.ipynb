{
 "cells": [
  {
   "cell_type": "code",
   "execution_count": 1,
   "metadata": {
    "colab": {
     "base_uri": "https://localhost:8080/"
    },
    "id": "0xSJhOYTK5Ma",
    "outputId": "a2dc5774-4c04-427b-d9fd-80601913b8cb"
   },
   "outputs": [
    {
     "name": "stdout",
     "output_type": "stream",
     "text": [
      "2.3.0\n"
     ]
    }
   ],
   "source": [
    "import tensorflow as tf\n",
    "import numpy as np\n",
    "import pandas as pd\n",
    "import matplotlib.pyplot as plt\n",
    "from tqdm import tqdm\n",
    "import scipy.stats as stats\n",
    "\n",
    "print(tf.__version__)"
   ]
  },
  {
   "cell_type": "code",
   "execution_count": 2,
   "metadata": {
    "id": "Iy6tyLbRK5Mf"
   },
   "outputs": [],
   "source": [
    "from BHDVCStf import BHDVCS #modified bhdvcs file\n",
    "bhdvcs = BHDVCS()"
   ]
  },
  {
   "cell_type": "code",
   "execution_count": 3,
   "metadata": {
    "id": "UiOh6LMpK5Mi"
   },
   "outputs": [],
   "source": [
    "df = pd.read_csv('dvcs_pseudo.csv')"
   ]
  },
  {
   "cell_type": "markdown",
   "metadata": {
    "id": "aGvOidM4oKuF"
   },
   "source": [
    "## Utility class definition"
   ]
  },
  {
   "cell_type": "code",
   "execution_count": 4,
   "metadata": {
    "id": "Se5Te4PIK5Ml"
   },
   "outputs": [],
   "source": [
    "class DvcsData(object):\n",
    "    def __init__(self, df):\n",
    "        self.X = df.loc[:, ['phi_x', 'k', 'QQ', 'x_b', 't', 'F1', 'F2', 'ReH', 'ReE', 'ReHtilde', 'dvcs']]\n",
    "        self.XnoCFF = df.loc[:, ['phi_x', 'k', 'QQ', 'x_b', 't', 'F1', 'F2', 'dvcs']]\n",
    "        self.y = df.loc[:, 'F']\n",
    "        self.Kinematics = df.loc[:, ['k', 'QQ', 'x_b', 't']]\n",
    "        self.erry = df.loc[:, 'errF']\n",
    "        \n",
    "    def __len__(self):\n",
    "        return len(self.X)\n",
    "    \n",
    "    def getSet(self, setNum, itemsInSet=36):\n",
    "        pd.options.mode.chained_assignment = None\n",
    "        subX = self.X.loc[setNum*itemsInSet:(setNum+1)*itemsInSet-1, :]\n",
    "        subX['F'] = self.y.loc[setNum*itemsInSet:(setNum+1)*itemsInSet-1]\n",
    "        subX['errF'] = self.erry.loc[setNum*itemsInSet:(setNum+1)*itemsInSet-1]\n",
    "        pd.options.mode.chained_assignment = 'warn'\n",
    "        return DvcsData(subX)\n",
    "    \n",
    "    def sampleY(self):\n",
    "        return np.random.normal(self.y, self.erry)\n",
    "    \n",
    "    def sampleWeights(self):\n",
    "        return 1/self.erry"
   ]
  },
  {
   "cell_type": "code",
   "execution_count": 5,
   "metadata": {
    "id": "RNhnM4h7K5Mn"
   },
   "outputs": [],
   "source": [
    "data = DvcsData(df)"
   ]
  },
  {
   "cell_type": "markdown",
   "metadata": {
    "id": "qkt8W2deoT8h"
   },
   "source": [
    "## Define model"
   ]
  },
  {
   "cell_type": "code",
   "execution_count": 6,
   "metadata": {
    "id": "LH3FYnnaK5Mq"
   },
   "outputs": [],
   "source": [
    "class TotalUUXS(tf.keras.layers.Layer):\n",
    "    def __init__(self):\n",
    "        super(TotalUUXS, self).__init__(dtype='float64')\n",
    "        self.F = BHDVCS()\n",
    "    def call(self, inputs):\n",
    "        return self.F.TotalUUXS(inputs[:, :8], inputs[:, 8], inputs[:, 9], inputs[:, 10])"
   ]
  },
  {
   "cell_type": "code",
   "execution_count": 7,
   "metadata": {
    "id": "MN3dZIWHK5Mt"
   },
   "outputs": [],
   "source": [
    "kinematics = tf.keras.Input(shape=(4))\n",
    "x = tf.keras.layers.Dense(20, activation=\"tanh\")(kinematics)\n",
    "outputs = tf.keras.layers.Dense(3)(x) #three output nodes for ReH, ReE, ReHtilde\n",
    "noncffInputs = tf.keras.Input(shape=(8))\n",
    "totalUUXSInputs = tf.keras.layers.concatenate([noncffInputs, outputs])\n",
    "F = TotalUUXS()(totalUUXSInputs)\n",
    "\n",
    "globalModel = tf.keras.Model(inputs=[kinematics, noncffInputs], outputs=F, name=\"GlobalModel\")"
   ]
  },
  {
   "cell_type": "code",
   "execution_count": 8,
   "metadata": {
    "id": "Pyx9xbWpK5Mw"
   },
   "outputs": [],
   "source": [
    "globalModel.compile(\n",
    "    optimizer = tf.keras.optimizers.Adam(.02),\n",
    "    loss = tf.keras.losses.MeanSquaredError(),\n",
    ")"
   ]
  },
  {
   "cell_type": "code",
   "execution_count": 9,
   "metadata": {
    "id": "WfuIudS2K5M1"
   },
   "outputs": [],
   "source": [
    "def cffs_from_globalModel(model, kinematics):\n",
    "    subModel = tf.keras.backend.function(model.layers[0].input, model.layers[3].output)\n",
    "    return subModel(np.asarray(kinematics)[None, 0])[0]"
   ]
  },
  {
   "cell_type": "code",
   "execution_count": null,
   "metadata": {
    "id": "jzw5JCzrinV8"
   },
   "outputs": [],
   "source": [
    "Wsave = globalModel.get_weights()"
   ]
  },
  {
   "cell_type": "markdown",
   "metadata": {
    "id": "nX1XYDLirPMb"
   },
   "source": [
    "## Run Model"
   ]
  },
  {
   "cell_type": "code",
   "execution_count": 10,
   "metadata": {
    "colab": {
     "base_uri": "https://localhost:8080/"
    },
    "id": "fYiXMBSLK5M3",
    "outputId": "e66de12f-ed98-4f9f-9d8d-592b78951d84"
   },
   "outputs": [
    {
     "name": "stderr",
     "output_type": "stream",
     "text": [
      "  7%|▋         | 1/15 [07:06<1:39:27, 426.22s/it]"
     ]
    },
    {
     "name": "stdout",
     "output_type": "stream",
     "text": [
      "\n",
      "Set 0:\n",
      "             Fitted     Error      True\n",
      "ReH       12.556917  1.624691  13.05540\n",
      "ReE      -50.474592  8.280094 -53.05540\n",
      "ReHTilde   7.171093  0.779371   7.25302\n"
     ]
    },
    {
     "name": "stderr",
     "output_type": "stream",
     "text": [
      "\r",
      " 13%|█▎        | 2/15 [14:01<1:31:37, 422.90s/it]"
     ]
    },
    {
     "name": "stdout",
     "output_type": "stream",
     "text": [
      "\n",
      "Set 1:\n",
      "             Fitted      Error      True\n",
      "ReH        9.604149   2.499319  12.55490\n",
      "ReE      -36.881861  12.701774 -52.55490\n",
      "ReHTilde   8.892959   1.488075   6.97494\n"
     ]
    },
    {
     "name": "stderr",
     "output_type": "stream",
     "text": [
      "\r",
      " 20%|██        | 3/15 [20:46<1:23:29, 417.48s/it]"
     ]
    },
    {
     "name": "stdout",
     "output_type": "stream",
     "text": [
      "\n",
      "Set 2:\n",
      "             Fitted      Error      True\n",
      "ReH        3.840268   1.726206   7.22424\n",
      "ReE      -27.170567  10.151680 -47.22420\n",
      "ReHTilde   5.062822   0.924431   4.01347\n"
     ]
    },
    {
     "name": "stderr",
     "output_type": "stream",
     "text": [
      "\r",
      " 27%|██▋       | 4/15 [27:30<1:15:48, 413.52s/it]"
     ]
    },
    {
     "name": "stdout",
     "output_type": "stream",
     "text": [
      "\n",
      "Set 3:\n",
      "             Fitted      Error      True\n",
      "ReH       13.115834   2.607530   7.65272\n",
      "ReE      -74.700299  13.637099 -47.65270\n",
      "ReHTilde   5.966762   1.239736   4.25151\n"
     ]
    },
    {
     "name": "stderr",
     "output_type": "stream",
     "text": [
      "\r",
      " 33%|███▎      | 5/15 [34:17<1:08:34, 411.42s/it]"
     ]
    },
    {
     "name": "stdout",
     "output_type": "stream",
     "text": [
      "\n",
      "Set 4:\n",
      "             Fitted     Error      True\n",
      "ReH       12.216043  0.947590  12.55490\n",
      "ReE      -50.474827  5.304003 -52.55490\n",
      "ReHTilde   7.349620  0.691986   6.97494\n"
     ]
    },
    {
     "name": "stderr",
     "output_type": "stream",
     "text": [
      "\r",
      " 40%|████      | 6/15 [41:05<1:01:34, 410.53s/it]"
     ]
    },
    {
     "name": "stdout",
     "output_type": "stream",
     "text": [
      "\n",
      "Set 5:\n",
      "             Fitted     Error      True\n",
      "ReH        7.503503  0.804344   7.22424\n",
      "ReE      -48.670896  4.891344 -47.22420\n",
      "ReHTilde   4.395743  0.757668   4.01347\n"
     ]
    },
    {
     "name": "stderr",
     "output_type": "stream",
     "text": [
      "\r",
      " 47%|████▋     | 7/15 [47:50<54:30, 408.77s/it]  "
     ]
    },
    {
     "name": "stdout",
     "output_type": "stream",
     "text": [
      "\n",
      "Set 6:\n",
      "             Fitted     Error      True\n",
      "ReH        9.759917  0.804520  11.74110\n",
      "ReE      -40.397838  4.062221 -51.74110\n",
      "ReHTilde   7.104727  0.966677   6.52283\n"
     ]
    },
    {
     "name": "stderr",
     "output_type": "stream",
     "text": [
      "\r",
      " 53%|█████▎    | 8/15 [54:44<47:53, 410.47s/it]"
     ]
    },
    {
     "name": "stdout",
     "output_type": "stream",
     "text": [
      "\n",
      "Set 7:\n",
      "             Fitted     Error      True\n",
      "ReH       12.442470  1.547534   7.65272\n",
      "ReE      -71.539087  8.205759 -47.65270\n",
      "ReHTilde   7.585667  1.305077   4.25151\n"
     ]
    },
    {
     "name": "stderr",
     "output_type": "stream",
     "text": [
      "\r",
      " 60%|██████    | 9/15 [1:01:41<41:13, 412.26s/it]"
     ]
    },
    {
     "name": "stdout",
     "output_type": "stream",
     "text": [
      "\n",
      "Set 8:\n",
      "             Fitted     Error      True\n",
      "ReH       12.477056  0.837460  12.55490\n",
      "ReE      -51.685612  3.906506 -52.55490\n",
      "ReHTilde   7.587632  1.043673   6.97494\n"
     ]
    },
    {
     "name": "stderr",
     "output_type": "stream",
     "text": [
      "\r",
      " 67%|██████▋   | 10/15 [1:08:25<34:09, 409.88s/it]"
     ]
    },
    {
     "name": "stdout",
     "output_type": "stream",
     "text": [
      "\n",
      "Set 9:\n",
      "             Fitted     Error      True\n",
      "ReH        7.093969  1.185408   6.99014\n",
      "ReE      -47.412244  6.922181 -46.99010\n",
      "ReHTilde   3.029650  0.525625   3.88341\n"
     ]
    },
    {
     "name": "stderr",
     "output_type": "stream",
     "text": [
      "\r",
      " 73%|███████▎  | 11/15 [1:15:05<27:07, 406.86s/it]"
     ]
    },
    {
     "name": "stdout",
     "output_type": "stream",
     "text": [
      "\n",
      "Set 10:\n",
      "             Fitted     Error      True\n",
      "ReH        7.125901  0.775950   7.22424\n",
      "ReE      -46.655019  4.818342 -47.22420\n",
      "ReHTilde   4.381187  0.649505   4.01347\n"
     ]
    },
    {
     "name": "stderr",
     "output_type": "stream",
     "text": [
      "\r",
      " 80%|████████  | 12/15 [1:21:55<20:23, 407.89s/it]"
     ]
    },
    {
     "name": "stdout",
     "output_type": "stream",
     "text": [
      "\n",
      "Set 11:\n",
      "             Fitted     Error      True\n",
      "ReH        9.950391  1.589040  11.74110\n",
      "ReE      -41.530028  8.161775 -51.74110\n",
      "ReHTilde   7.215003  0.900912   6.52283\n"
     ]
    },
    {
     "name": "stderr",
     "output_type": "stream",
     "text": [
      "\r",
      " 87%|████████▋ | 13/15 [1:28:33<13:30, 405.05s/it]"
     ]
    },
    {
     "name": "stdout",
     "output_type": "stream",
     "text": [
      "\n",
      "Set 12:\n",
      "             Fitted     Error      True\n",
      "ReH        8.097586  0.987795   6.99014\n",
      "ReE      -53.845222  5.467987 -46.99010\n",
      "ReHTilde   3.476839  0.644366   3.88341\n"
     ]
    },
    {
     "name": "stderr",
     "output_type": "stream",
     "text": [
      "\r",
      " 93%|█████████▎| 14/15 [1:35:26<06:47, 407.20s/it]"
     ]
    },
    {
     "name": "stdout",
     "output_type": "stream",
     "text": [
      "\n",
      "Set 13:\n",
      "             Fitted     Error      True\n",
      "ReH        6.292965  1.038553   7.22424\n",
      "ReE      -42.307273  5.214243 -47.22420\n",
      "ReHTilde   4.340538  0.716626   4.01347\n"
     ]
    },
    {
     "name": "stderr",
     "output_type": "stream",
     "text": [
      "100%|██████████| 15/15 [1:42:13<00:00, 408.93s/it]"
     ]
    },
    {
     "name": "stdout",
     "output_type": "stream",
     "text": [
      "\n",
      "Set 14:\n",
      "             Fitted     Error      True\n",
      "ReH       10.911365  0.617493  11.74110\n",
      "ReE      -47.115012  3.566640 -51.74110\n",
      "ReHTilde   6.761602  0.806488   6.52283\n"
     ]
    },
    {
     "name": "stderr",
     "output_type": "stream",
     "text": [
      "\n"
     ]
    }
   ],
   "source": [
    "numSamples = 20\n",
    "\n",
    "list_results = []\n",
    "for i in tqdm(range(max(df['#Set'])+1)):\n",
    "\n",
    "    globalModel.set_weights(Wsave)\n",
    "\n",
    "    setI = data.getSet(i)\n",
    "    \n",
    "    results = pd.DataFrame({\n",
    "      \"ReH\": np.zeros(numSamples),\n",
    "      \"ReE\": np.zeros(numSamples),\n",
    "      \"ReHtilde\": np.zeros(numSamples)\n",
    "    })\n",
    "    \n",
    "    for sample in range(numSamples):\n",
    "\n",
    "        chkpt_path = 'best-network.hdf5'\n",
    "        model_checkpoint_callback = tf.keras.callbacks.ModelCheckpoint(\n",
    "            filepath=chkpt_path,\n",
    "            save_weights_only=True,\n",
    "            monitor='loss',\n",
    "            mode='min',\n",
    "            save_best_only=True)\n",
    "\n",
    "\n",
    "        globalModel.fit([setI.Kinematics, setI.XnoCFF], setI.sampleY(),\n",
    "                    epochs=2500, verbose=0,\n",
    "                    callbacks=[model_checkpoint_callback])\n",
    "\n",
    "        globalModel.load_weights(chkpt_path)\n",
    "\n",
    "        cffs = cffs_from_globalModel(globalModel, setI.Kinematics)\n",
    "\n",
    "        for num, cff in enumerate(['ReH', 'ReE', 'ReHtilde']):\n",
    "            results.loc[sample, cff] = cffs[num]\n",
    "        \n",
    "    list_results.append(results)\n",
    "        \n",
    "    print(\"\\nSet \" + str(i) + \":\")\n",
    "    print(pd.DataFrame({'Fitted': list(results.mean()),\n",
    "                'Error': list(results.std()),\n",
    "                'True': list(df.loc[36*i, ['ReH', 'ReE', 'ReHtilde']])},\n",
    "             ['ReH', 'ReE', 'ReHTilde']))"
   ]
  },
  {
   "cell_type": "markdown",
   "metadata": {
    "id": "R1p3gJ2tK5M9"
   },
   "source": [
    "# Evaluations Histograms"
   ]
  },
  {
   "cell_type": "code",
   "execution_count": 11,
   "metadata": {
    "id": "HVMOJYV3K5M9"
   },
   "outputs": [],
   "source": [
    "kin1 = list_results[0]"
   ]
  },
  {
   "cell_type": "markdown",
   "metadata": {
    "id": "K5BmMArlK5NA"
   },
   "source": [
    "## ReH"
   ]
  },
  {
   "cell_type": "code",
   "execution_count": 12,
   "metadata": {
    "colab": {
     "base_uri": "https://localhost:8080/",
     "height": 265
    },
    "id": "xSIKhfOIK5NA",
    "outputId": "c974dc5f-36c8-4b4a-b92b-00405c6333fd"
   },
   "outputs": [
    {
     "data": {
      "image/png": "[encoded data removed]",
      "text/plain": [
       "<Figure size 432x288 with 1 Axes>"
      ]
     },
     "metadata": {
      "needs_background": "light",
      "tags": []
     },
     "output_type": "display_data"
    }
   ],
   "source": [
    "density = stats.gaussian_kde(kin1[\"ReH\"])\n",
    "\n",
    "n, x, _ = plt.hist(kin1[\"ReH\"], \n",
    "                   histtype=u'step', density=True)  \n",
    "plt.plot(x, density(x))\n",
    "plt.show()"
   ]
  },
  {
   "cell_type": "markdown",
   "metadata": {
    "id": "rBxrY7W9K5ND"
   },
   "source": [
    "## ReE"
   ]
  },
  {
   "cell_type": "code",
   "execution_count": 13,
   "metadata": {
    "colab": {
     "base_uri": "https://localhost:8080/",
     "height": 265
    },
    "id": "KpskNKd9K5ND",
    "outputId": "ad62dbc8-9625-4b00-f387-449733c95983"
   },
   "outputs": [
    {
     "data": {
      "image/png": "[encoded data removed]",
      "text/plain": [
       "<Figure size 432x288 with 1 Axes>"
      ]
     },
     "metadata": {
      "needs_background": "light",
      "tags": []
     },
     "output_type": "display_data"
    }
   ],
   "source": [
    "density = stats.gaussian_kde(kin1[\"ReE\"])\n",
    "\n",
    "n, x, _ = plt.hist(kin1[\"ReE\"], \n",
    "                   histtype=u'step', density=True)  \n",
    "plt.plot(x, density(x))\n",
    "plt.show()"
   ]
  },
  {
   "cell_type": "markdown",
   "metadata": {
    "id": "3uBxvovAK5NG"
   },
   "source": [
    "## ReHtilde"
   ]
  },
  {
   "cell_type": "code",
   "execution_count": 14,
   "metadata": {
    "colab": {
     "base_uri": "https://localhost:8080/",
     "height": 265
    },
    "id": "8Ci5HB8cK5NH",
    "outputId": "55cbf000-d25b-4bb4-9cbd-f01a3ac9034c"
   },
   "outputs": [
    {
     "data": {
      "image/png": "[encoded data removed]",
      "text/plain": [
       "<Figure size 432x288 with 1 Axes>"
      ]
     },
     "metadata": {
      "needs_background": "light",
      "tags": []
     },
     "output_type": "display_data"
    }
   ],
   "source": [
    "density = stats.gaussian_kde(kin1[\"ReHtilde\"])\n",
    "\n",
    "n, x, _ = plt.hist(kin1[\"ReHtilde\"], \n",
    "                   histtype=u'step', density=True)  \n",
    "plt.plot(x, density(x))\n",
    "plt.show()"
   ]
  },
  {
   "cell_type": "markdown",
   "metadata": {
    "id": "1z80j9VQK5NK"
   },
   "source": [
    "## F at 180"
   ]
  },
  {
   "cell_type": "code",
   "execution_count": 15,
   "metadata": {
    "id": "qnP3klbhK5NK"
   },
   "outputs": [],
   "source": [
    "bhdvcs = BHDVCS()"
   ]
  },
  {
   "cell_type": "code",
   "execution_count": 16,
   "metadata": {
    "id": "B09VHrLSK5NN"
   },
   "outputs": [],
   "source": [
    "x = np.array(df.loc[[18], ['phi_x', 'k', 'QQ', 'x_b', 't', 'F1', 'F2', 'dvcs']])"
   ]
  },
  {
   "cell_type": "code",
   "execution_count": 17,
   "metadata": {
    "id": "M3bQh9teK5NS"
   },
   "outputs": [],
   "source": [
    "res = bhdvcs.TotalUUXS(x, kin1.loc[0, 'ReH'], kin1.loc[0, 'ReE'], kin1.loc[0, 'ReHtilde'])"
   ]
  },
  {
   "cell_type": "code",
   "execution_count": 18,
   "metadata": {
    "id": "e6k9pCMKK5NZ"
   },
   "outputs": [],
   "source": [
    "Fs = []\n",
    "for i in range(numSamples):\n",
    "    Fs.append(bhdvcs.TotalUUXS(x, kin1.loc[i, 'ReH'], kin1.loc[i, 'ReE'], kin1.loc[i, 'ReHtilde']).numpy()[0])"
   ]
  },
  {
   "cell_type": "code",
   "execution_count": 19,
   "metadata": {
    "id": "UgguRJvwK5Nb"
   },
   "outputs": [],
   "source": [
    "Fs = np.array(Fs)"
   ]
  },
  {
   "cell_type": "code",
   "execution_count": 20,
   "metadata": {
    "colab": {
     "base_uri": "https://localhost:8080/",
     "height": 265
    },
    "id": "1X3lO9HpK5Ne",
    "outputId": "b2728d22-b1d9-4b27-8a64-02c0dc1b11c1"
   },
   "outputs": [
    {
     "data": {
      "image/png": "[encoded data removed]",
      "text/plain": [
       "<Figure size 432x288 with 1 Axes>"
      ]
     },
     "metadata": {
      "needs_background": "light",
      "tags": []
     },
     "output_type": "display_data"
    }
   ],
   "source": [
    "density = stats.gaussian_kde(Fs)\n",
    "\n",
    "n, x, _ = plt.hist(Fs, \n",
    "                   histtype=u'step', density=True)  \n",
    "plt.plot(x, density(x))\n",
    "plt.show()"
   ]
  },
  {
   "cell_type": "code",
   "execution_count": 21,
   "metadata": {
    "colab": {
     "base_uri": "https://localhost:8080/"
    },
    "id": "I7F4nkYQZ3lO",
    "outputId": "29e974cd-175f-452a-9407-b0defa38c18b"
   },
   "outputs": [
    {
     "name": "stdout",
     "output_type": "stream",
     "text": [
      "Fhat Mean:\t0.05277219756267968\n",
      "Fhat Std:\t0.0014941722775491583\n",
      "F true:\t0.0563297\n"
     ]
    }
   ],
   "source": [
    "print(\"Fhat Mean:\\t\" + str(Fs.mean()))\n",
    "print(\"Fhat Std:\\t\" + str(Fs.std()))\n",
    "print(\"F true:\\t\" + str(df.loc[18, \"F\"]))"
   ]
  },
  {
   "cell_type": "code",
   "execution_count": null,
   "metadata": {
    "id": "0wFi2nkLaSBR"
   },
   "outputs": [],
   "source": []
  }
 ],
 "metadata": {
  "colab": {
   "collapsed_sections": [],
   "name": "Full_ML_fit evaluation.ipynb",
   "provenance": []
  },
  "kernelspec": {
   "display_name": "Py38Root",
   "language": "python",
   "name": "python3"
  },
  "language_info": {
   "codemirror_mode": {
    "name": "ipython",
    "version": 3
   },
   "file_extension": ".py",
   "mimetype": "text/x-python",
   "name": "python",
   "nbconvert_exporter": "python",
   "pygments_lexer": "ipython3",
   "version": "3.8.3"
  }
 },
 "nbformat": 4,
 "nbformat_minor": 1
}
