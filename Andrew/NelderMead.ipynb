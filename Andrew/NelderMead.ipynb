{
 "cells": [
  {
   "cell_type": "code",
   "execution_count": 5,
   "id": "35ddd9aa-eb5c-4614-9c4d-daea4c5e3081",
   "metadata": {},
   "outputs": [],
   "source": [
    "import numpy as np\n",
    "import utilities as uts\n",
    "from TVA1_UU import TVA1_UU as BHDVCS\n",
    "import pandas as pd\n",
    "data = pd.read_csv('dvcs_xs_May-2021_342_sets_with_trueCFFs.csv')\n",
    "bhdvcs = BHDVCS()\n",
    "dvcsdata = DvcsData(data)"
   ]
  },
  {
   "cell_type": "code",
   "execution_count": 4,
   "id": "a23a9c50-c30a-492e-9453-9c7cc8d3c40b",
   "metadata": {},
   "outputs": [],
   "source": [
    "class DvcsData(object):\n",
    "    def __init__(self, df):\n",
    "        self.df = df\n",
    "        self.X = df.loc[:, ['phi_x', 'k', 'QQ', 'x_b', 't', 'F1', 'F2', 'ReH', 'ReE', 'ReHTilde', 'dvcs']]\n",
    "        self.XnoCFF = df.loc[:, ['phi_x', 'k', 'QQ', 'x_b', 't', 'F1', 'F2', 'dvcs']]\n",
    "        #self.X = self.XnoCFF ReH,ReE and ReHtilde no longer in new data\n",
    "        self.CFFs = df.loc[:, ['ReH', 'ReE', 'ReHTilde']] # ReH,ReE and ReHtilde no longer in new data\n",
    "        self.y = df.loc[:, 'F']\n",
    "        self.Kinematics = df.loc[:, ['k', 'QQ', 'x_b', 't']]\n",
    "        self.erry = df.loc[:, 'sigmaF']\n",
    "        \n",
    "    def __len__(self):\n",
    "        return len(self.X)\n",
    "    \n",
    "    def getSet(self, setNum, itemsInSet=45):\n",
    "        pd.options.mode.chained_assignment = None\n",
    "        subX = self.X.loc[setNum*itemsInSet:(setNum+1)*itemsInSet-1, :]\n",
    "        subX['F'] = self.y.loc[setNum*itemsInSet:(setNum+1)*itemsInSet-1]\n",
    "        subX['sigmaF'] = self.erry.loc[setNum*itemsInSet:(setNum+1)*itemsInSet-1]\n",
    "        pd.options.mode.chained_assignment = 'warn'\n",
    "        return DvcsData(subX)\n",
    "    \n",
    "    def sampleY(self):\n",
    "        return np.random.normal(self.y, self.erry)\n",
    "    \n",
    "    def sampleWeights(self):\n",
    "        return 1/self.erry\n",
    "    \n",
    "    def getAllKins(self, itemsInSets=45):\n",
    "        return self.Kinematics.iloc[np.array(range(len(df)//itemsInSets))*itemsInSets, :]"
   ]
  },
  {
   "cell_type": "code",
   "execution_count": 6,
   "id": "397d1985-0904-4719-81d4-fd5b8ca7acbc",
   "metadata": {},
   "outputs": [],
   "source": [
    "def errFunc(data, cff):\n",
    "    cff = np.reshape(cff, (-1,3))\n",
    "    ReH = cff[:,0]\n",
    "    ReE = cff[:,1]\n",
    "    ReHT= cff[:,2]\n",
    "    \n",
    "    #print(np.shape(data.XnoCFF))\n",
    "    dats = data.X\n",
    "    k = np.array(dats['k'])\n",
    "    qq = np.array(dats['QQ'])\n",
    "    xb = np.array(dats['x_b'])\n",
    "    t = np.array(dats['t'])\n",
    "    phi = np.array(dats['phi_x'])\n",
    "    F1 = np.array(dats['F1'])\n",
    "    F2 = np.array(dats['F2'])\n",
    "    const = np.array(dats['dvcs'])\n",
    "    xdat = np.transpose(np.array([phi, k, qq, xb, t, F1, F2, const]))\n",
    "    #print(np.shape(xdat))\n",
    "    # idk why i need to use xdat instead of XnoCFF\n",
    "    err = np.array([])\n",
    "    for i in range(len(ReH)):\n",
    "        calcF = bhdvcs.TotalUUXS(xdat,ReH[i],ReE[i],ReHT[i])\n",
    "        err = np.append(err,np.mean(np.power(np.subtract(data.y,calcF),2)))\n",
    "    return err\n",
    "    \n",
    "\n",
    "def nm(sets, epochs):\n",
    "    alpha = 1\n",
    "    gamma = 2\n",
    "    p = .5\n",
    "    sigma = .5\n",
    "    #startCFFs = np.array([[1.,1,1],[1,1,2],[1,2,1],[2,2,2]])\n",
    "    startCFFs = np.random.random((4,3))*20-10\n",
    "    for epoch in range(epochs):\n",
    "        mse = errFunc(dvcsdata.getSet(sets),startCFFs)\n",
    "        sort = np.argsort(mse)\n",
    "        centroid = np.mean([startCFFs[i] for i in sort[0:-1]],axis = 0)\n",
    "        centroidmse = errFunc(dvcsdata.getSet(sets),centroid)\n",
    "        reflect = centroid - alpha * (centroid - startCFFs[sort[-1]])\n",
    "        reflectmse = errFunc(dvcsdata.getSet(sets),reflect)\n",
    "        if (mse[sort[0]] <= reflectmse) and (reflectmse < mse[sort[-2]]):\n",
    "            startCFFs[sort[-1]] = reflect\n",
    "            continue\n",
    "        if (reflectmse < mse[sort[0]]):\n",
    "            expand = centroid + gamma * (reflect - centroid)\n",
    "            expandmse = errFunc(dvcsdata.getSet(sets),expand)\n",
    "            if expandmse < reflectmse:\n",
    "                startCFFs[sort[-1]] = expand\n",
    "                continue\n",
    "            else:\n",
    "                startCFFs[sort[-1]] = reflect\n",
    "                continue\n",
    "        #if (reflectmse >= startCFFs[sort[-1]]):\n",
    "        contract = np.array(centroid + p * (startCFFs[sort[-1]] - centroid))\n",
    "        contractmse = errFunc(dvcsdata.getSet(sets),contract)\n",
    "        if contractmse < mse[sort[-1]]:\n",
    "            startCFFs[sort[-1]] = contract\n",
    "            continue\n",
    "        for i in sort[1:]:\n",
    "            startCFFs[i] = startCFFs[sort[0]] + sigma * (startCFFs[i] - startCFFs[sort[0]])\n",
    "    \n",
    "    return startCFFs"
   ]
  },
  {
   "cell_type": "code",
   "execution_count": 243,
   "id": "a6f4085a-8d97-47d9-bc7c-d68f291010a4",
   "metadata": {},
   "outputs": [
    {
     "name": "stdout",
     "output_type": "stream",
     "text": [
      "[[1.61979459 1.7148732  1.8462322 ]\n",
      " [1.61979631 1.71487456 1.8462329 ]\n",
      " [1.61979804 1.71487594 1.8462336 ]\n",
      " [1.61981984 1.71489327 1.84624248]]\n"
     ]
    }
   ],
   "source": [
    "print(nm(0, 100))"
   ]
  },
  {
   "cell_type": "code",
   "execution_count": 7,
   "id": "f532b793-b8db-4549-9311-2041a141554d",
   "metadata": {},
   "outputs": [
    {
     "name": "stdout",
     "output_type": "stream",
     "text": [
      "[[1.32129935 1.50893918 1.98490523]\n",
      " [1.26016363 1.43766551 1.97707869]\n",
      " [1.30728224 1.55756336 1.93309215]\n",
      " [1.56018519 1.67592593 2.34722222]]\n"
     ]
    }
   ],
   "source": [
    "print(nm(0,10))"
   ]
  },
  {
   "cell_type": "code",
   "execution_count": 14,
   "id": "86d886df-61b3-460f-9012-5b5b2cb9cb06",
   "metadata": {},
   "outputs": [
    {
     "name": "stdout",
     "output_type": "stream",
     "text": [
      "[[ 0.34844401 -1.47215502  3.94557499]\n",
      " [ 1.42947107 -1.39398157  4.17114468]\n",
      " [ 0.10504931 -2.92134516  3.5489718 ]\n",
      " [ 1.42282783 -2.77054299  4.81546245]]\n"
     ]
    }
   ],
   "source": [
    "print(nm(0,10))"
   ]
  },
  {
   "cell_type": "code",
   "execution_count": 15,
   "id": "76fcc1b0-4c8b-4365-8d9e-c6c48e4cadbb",
   "metadata": {},
   "outputs": [
    {
     "data": {
      "text/html": [
       "<div>\n",
       "<style scoped>\n",
       "    .dataframe tbody tr th:only-of-type {\n",
       "        vertical-align: middle;\n",
       "    }\n",
       "\n",
       "    .dataframe tbody tr th {\n",
       "        vertical-align: top;\n",
       "    }\n",
       "\n",
       "    .dataframe thead th {\n",
       "        text-align: right;\n",
       "    }\n",
       "</style>\n",
       "<table border=\"1\" class=\"dataframe\">\n",
       "  <thead>\n",
       "    <tr style=\"text-align: right;\">\n",
       "      <th></th>\n",
       "      <th>ReH</th>\n",
       "      <th>ReE</th>\n",
       "      <th>ReHT</th>\n",
       "      <th>index</th>\n",
       "      <th>replica</th>\n",
       "      <th>set</th>\n",
       "    </tr>\n",
       "  </thead>\n",
       "  <tbody>\n",
       "    <tr>\n",
       "      <th>0</th>\n",
       "      <td>7.688043</td>\n",
       "      <td>-1.251625</td>\n",
       "      <td>-1.489405</td>\n",
       "      <td>0</td>\n",
       "      <td>0</td>\n",
       "      <td>1</td>\n",
       "    </tr>\n",
       "    <tr>\n",
       "      <th>1</th>\n",
       "      <td>7.870272</td>\n",
       "      <td>-7.892925</td>\n",
       "      <td>-3.035874</td>\n",
       "      <td>1</td>\n",
       "      <td>0</td>\n",
       "      <td>1</td>\n",
       "    </tr>\n",
       "    <tr>\n",
       "      <th>2</th>\n",
       "      <td>-0.832857</td>\n",
       "      <td>1.774738</td>\n",
       "      <td>-3.148592</td>\n",
       "      <td>2</td>\n",
       "      <td>0</td>\n",
       "      <td>1</td>\n",
       "    </tr>\n",
       "    <tr>\n",
       "      <th>3</th>\n",
       "      <td>-2.458540</td>\n",
       "      <td>-2.564145</td>\n",
       "      <td>1.469822</td>\n",
       "      <td>3</td>\n",
       "      <td>0</td>\n",
       "      <td>1</td>\n",
       "    </tr>\n",
       "    <tr>\n",
       "      <th>0</th>\n",
       "      <td>9.200363</td>\n",
       "      <td>8.293007</td>\n",
       "      <td>-5.080872</td>\n",
       "      <td>0</td>\n",
       "      <td>0</td>\n",
       "      <td>0</td>\n",
       "    </tr>\n",
       "  </tbody>\n",
       "</table>\n",
       "</div>"
      ],
      "text/plain": [
       "        ReH       ReE      ReHT  index  replica  set\n",
       "0  7.688043 -1.251625 -1.489405      0        0    1\n",
       "1  7.870272 -7.892925 -3.035874      1        0    1\n",
       "2 -0.832857  1.774738 -3.148592      2        0    1\n",
       "3 -2.458540 -2.564145  1.469822      3        0    1\n",
       "0  9.200363  8.293007 -5.080872      0        0    0"
      ]
     },
     "execution_count": 15,
     "metadata": {},
     "output_type": "execute_result"
    }
   ],
   "source": [
    "test = nm(0,2)\n",
    "test1 = pd.DataFrame(test, columns=['ReH', 'ReE', 'ReHT'])\n",
    "test2 = pd.DataFrame(nm(1,2), columns=['ReH', 'ReE', 'ReHT'])\n",
    "test1['index'] = range(0, len(test1))\n",
    "test1['replica'] = 0\n",
    "test1['set'] = 0\n",
    "test2['index'] = range(0, len(test2))\n",
    "test2['replica'] = 0\n",
    "test2['set'] = 1\n",
    "#test1.head()\n",
    "test2.append(test1).head()"
   ]
  },
  {
   "cell_type": "code",
   "execution_count": null,
   "id": "04a908a8-df88-469c-8a96-376cc954e8bf",
   "metadata": {},
   "outputs": [],
   "source": [
    "pd"
   ]
  }
 ],
 "metadata": {
  "kernelspec": {
   "display_name": "Python 3",
   "language": "python",
   "name": "python3"
  },
  "language_info": {
   "codemirror_mode": {
    "name": "ipython",
    "version": 3
   },
   "file_extension": ".py",
   "mimetype": "text/x-python",
   "name": "python",
   "nbconvert_exporter": "python",
   "pygments_lexer": "ipython3",
   "version": "3.9.2"
  }
 },
 "nbformat": 4,
 "nbformat_minor": 5
}
