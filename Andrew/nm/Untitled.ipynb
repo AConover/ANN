{
 "cells": [
  {
   "cell_type": "code",
   "execution_count": 7,
   "id": "90a259e0-79f1-4130-96c5-64b13d9be71b",
   "metadata": {},
   "outputs": [],
   "source": [
    "from os import listdir\n",
    "from os.path import isfile, join\n",
    "import pandas as pd"
   ]
  },
  {
   "cell_type": "code",
   "execution_count": 10,
   "id": "d98849e0-5d38-4895-9365-11cc825cc70f",
   "metadata": {},
   "outputs": [],
   "source": [
    "def concat(setno, epoch):\n",
    "    path = \"Results\"+str(setno)+\"_\"+str(epoch)+\"/\"\n",
    "    onlyfiles = [f for f in listdir(path) if isfile(join(path, f))]\n",
    "    df = pd.DataFrame()\n",
    "    for file in onlyfiles:\n",
    "        cff = pd.read_csv(path+file)\n",
    "        df = df.append(cff)\n",
    "    return df"
   ]
  },
  {
   "cell_type": "code",
   "execution_count": 13,
   "id": "2a5fb6b0-16a9-434f-afb5-8fd375750781",
   "metadata": {},
   "outputs": [],
   "source": [
    "Results0_100 = concat(0,100)"
   ]
  },
  {
   "cell_type": "code",
   "execution_count": 20,
   "id": "0a2b09d0-ba9b-4b7d-bae1-5e5247b1550e",
   "metadata": {},
   "outputs": [
    {
     "name": "stdout",
     "output_type": "stream",
     "text": [
      "-0.31079159621708297\n",
      "3.8924805864078373\n"
     ]
    }
   ],
   "source": [
    "print(Results0_100[\"ReE\"].mean())\n",
    "print(Results0_100[\"ReE\"].std())"
   ]
  },
  {
   "cell_type": "code",
   "execution_count": 18,
   "id": "28220d3d-34d0-46c3-97be-82b1f028f639",
   "metadata": {},
   "outputs": [
    {
     "ename": "IndentationError",
     "evalue": "expected an indented block (<ipython-input-18-eddaea7b6bdd>, line 1)",
     "output_type": "error",
     "traceback": [
      "\u001b[0;36m  File \u001b[0;32m\"<ipython-input-18-eddaea7b6bdd>\"\u001b[0;36m, line \u001b[0;32m1\u001b[0m\n\u001b[0;31m    def plot(df):\u001b[0m\n\u001b[0m                 ^\u001b[0m\n\u001b[0;31mIndentationError\u001b[0m\u001b[0;31m:\u001b[0m expected an indented block\n"
     ]
    }
   ],
   "source": [
    "def cffplot(sets , epochslist = [100], itemsInSet = 45):\n",
    "    rehtfig = go.Figure()\n",
    "    reefig = go.Figure()\n",
    "    rehfig = go.Figure()\n",
    "    \n",
    "    \n",
    "    for epoch in epochslist:\n",
    "        data = pd.DataFrame(columns=['set','ReH','ReHe','ReE','ReEe','ReHT','ReHTe'])\n",
    "        for x in sets:\n",
    "            a = x*itemsInSet\n",
    "            b = (x+1)*x-1\n",
    "            \n",
    "            filename = \"100epoch/Results\"+str(x)+ \"_\" + str(epoch) + \".csv\"\n",
    "            if epoch == 1000:\n",
    "                filename = \"Results\"+str(x) + \".csv\"\n",
    "            cffs = pd.read_csv(filename)\n",
    "            \n",
    "            ReHfit = np.mean(cffs[\"ReH\"])\n",
    "            ReEfit = np.mean(cffs[\"ReE\"])\n",
    "            ReHTfit = np.mean(cffs[\"ReHtilde\"])\n",
    "            size = cffs[\"ReH\"].size\n",
    "            size = 1\n",
    "            ReHe = np.std(cffs[\"ReH\"])/math.sqrt(size)\n",
    "            ReEe = np.std(cffs[\"ReE\"])/math.sqrt(size)\n",
    "            ReHTe = np.std(cffs[\"ReHtilde\"])/math.sqrt(size)\n",
    "            cff = pd.DataFrame([[x+1, ReHfit, ReHe, ReEfit, ReEe, ReHTfit, ReHTe, trueReH[a], trueReE[a], trueReHT[a]]],columns=['set','ReH','ReHe','ReE','ReEe','ReHT','ReHTe', 'trueReH', 'trueReE', 'trueReHT'])\n",
    "            data=data.append(cff)\n",
    "        rehfig.add_trace(go.Scatter(x=np.array(data[\"set\"]), y=np.array(data[\"ReH\"]), error_y=dict(type='data', array=np.array(data[\"ReHe\"]), visible=True),mode='markers', name=str(epoch)))\n",
    "        rehfig.add_trace(go.Scatter(x=np.array(data[\"set\"]), y = np.array(data[\"trueReH\"]), mode='markers', name=\"True\"))\n",
    "        reefig.add_trace(go.Scatter(x=np.array(data[\"set\"]), y=np.array(data[\"ReE\"]), error_y=dict(type='data', array=np.array(data[\"ReEe\"]), visible=True),mode='markers', name=str(epoch)))    \n",
    "        reefig.add_trace(go.Scatter(x=np.array(data[\"set\"]), y = np.array(data[\"trueReE\"]), mode='markers', name=\"True\"))\n",
    "        rehtfig.add_trace(go.Scatter(x=np.array(data[\"set\"]), y=np.array(data[\"ReHT\"]), error_y=dict(type='data', array=np.array(data[\"ReHTe\"]), visible=True),mode='markers', name=str(epoch)))\n",
    "        rehtfig.add_trace(go.Scatter(x=np.array(data[\"set\"]), y = np.array(data[\"trueReHT\"]), mode='markers', name=\"True\"))\n",
    "        #print(data)\n",
    "    rehfig.update_layout(template=\"plotly_dark\",title_text=\"ReH\",showlegend=False)\n",
    "    rehfig.update_xaxes(tickvals=np.array(data[\"set\"]),showgrid=False)\n",
    "    rehfig.show()\n",
    "    reefig.update_layout(template=\"plotly_dark\",title_text=\"ReE\",showlegend=False)\n",
    "    reefig.update_xaxes(tickvals=np.array(data[\"set\"]),showgrid=False)\n",
    "    reefig.show()\n",
    "    rehtfig.update_layout(template=\"plotly_dark\",title_text=\"ReHT\",showlegend=False)\n",
    "    rehtfig.update_xaxes(tickvals=np.array(data[\"set\"]),showgrid=False)\n",
    "    rehtfig.show()"
   ]
  },
  {
   "cell_type": "code",
   "execution_count": null,
   "id": "927e3534-39d1-4778-8e96-e83f1b81271c",
   "metadata": {},
   "outputs": [],
   "source": []
  }
 ],
 "metadata": {
  "kernelspec": {
   "display_name": "Python 3",
   "language": "python",
   "name": "python3"
  },
  "language_info": {
   "codemirror_mode": {
    "name": "ipython",
    "version": 3
   },
   "file_extension": ".py",
   "mimetype": "text/x-python",
   "name": "python",
   "nbconvert_exporter": "python",
   "pygments_lexer": "ipython3",
   "version": "3.9.2"
  }
 },
 "nbformat": 4,
 "nbformat_minor": 5
}
