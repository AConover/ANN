{
 "cells": [
  {
   "cell_type": "code",
   "execution_count": 593,
   "metadata": {},
   "outputs": [],
   "source": [
    "import tensorflow as tf\n",
    "import BHDVCS \n",
    "import pandas as pd\n",
    "import numpy as np\n",
    "from sklearn.model_selection import train_test_split\n",
    "from scipy.optimize import curve_fit\n",
    "from tensorflow import keras\n",
    "from tensorflow.keras import layers\n",
    "import matplotlib.pyplot as plt"
   ]
  },
  {
   "cell_type": "code",
   "execution_count": 594,
   "metadata": {},
   "outputs": [],
   "source": [
    "def chi_fit(g):\n",
    "    data1 = pd.read_csv('data.csv')\n",
    "    constants = np.array(data['dvcs'])[g:g+36]\n",
    "\n",
    "    phi = np.array(data1['phi_x'])[g:g+36]\n",
    "    F1 = np.array(data1['F1'])[g:g+36]\n",
    "    F2 = np.array(data1['F2'])[g:g+36]\n",
    "\n",
    "    q2 = np.array(data1['QQ'])[g:g+36]\n",
    "    xb = np.array(data1['x_b'])[g:g+36]\n",
    "    k = np.array(data1['k'])[g:g+36]\n",
    "    t = np.array(data1['t'])[g:g+36]\n",
    "\n",
    "    F = np.array(data1['F'])[g:g+36]\n",
    "    errF = np.array(data1['errF'])[g:g+36]\n",
    "\n",
    "\n",
    "    func = BHDVCS.BHDVCS()\n",
    "\n",
    "    data1 = (phi, q2, xb, t, k, F1, F2, constants)\n",
    "\n",
    "    params_fit, pcov = curve_fit(func.TotalUUXS_curve_fit, data1, F, sigma=errF)\n",
    "    \n",
    "    return params_fit"
   ]
  },
  {
   "cell_type": "code",
   "execution_count": 595,
   "metadata": {},
   "outputs": [],
   "source": [
    "data = pd.read_csv('data.csv')\n",
    "\n",
    "reh = np.array(data['ReH']).transpose()\n",
    "ree = np.array(data['ReE']).transpose()\n",
    "reht = np.array(data['ReHtilde']).transpose()\n",
    "\n",
    "cff = np.concatenate((reh, ree, reht), axis=0)\n",
    "\n",
    "g = 14\n",
    "constants = np.array(data['dvcs'])[0:36*g+36]\n",
    "\n",
    "phi = np.array(data['phi_x'])[0:36*g+36]\n",
    "F1 = np.array(data['F1'])[0:36*g+36]\n",
    "F2 = np.array(data['F2'])[0:36*g+36]\n",
    "\n",
    "q2 = np.array(data['QQ'])[0:36*g+36]\n",
    "xb = np.array(data['x_b'])[0:36*g+36]\n",
    "k = np.array(data['k'])[0:36*g+36]\n",
    "t = np.array(data['t'])[0:36*g+36]\n",
    "\n",
    "tmean = np.mean(t)\n",
    "\n",
    "F = np.array(data['F'])[0:36*g+36]\n",
    "errF = np.array(data['errF'])[0:36*g+36]\n",
    "\n",
    "data = data.drop(columns=['#Set','index','F','errF','ReH','ReE','ReHtilde'])\n",
    "\n",
    "cols = ['phi_x', 'QQ', 'x_b', 't', 'k', 'F1', 'F2', 'dvcs']\n",
    "\n",
    "data = data.reindex(columns=cols)\n",
    "\n"
   ]
  },
  {
   "cell_type": "code",
   "execution_count": 596,
   "metadata": {},
   "outputs": [],
   "source": [
    "def los(y_true, y_pred):\n",
    "    try:\n",
    "        a = np.where(reh == y_true[0].numpy())\n",
    "        b = np.where(ree == y_true[1].numpy())\n",
    "        c = np.where(reht == y_true[2].numpy())\n",
    "        g = (a and b and c)[0][0]+1\n",
    "    except:\n",
    "        g = 0\n",
    "    \n",
    "    dat = data[g:g+1].to_numpy().transpose()    \n",
    "    \n",
    "    \n",
    "    j = 0\n",
    "    tot = 0\n",
    "    for i in range(0,360,10):\n",
    "        dat[0] = i\n",
    "        tot += abs(func.TotalUUXS_curve_fit(dat, y_true[0], y_true[1], y_true[2])-func.TotalUUXS_curve_fit(dat, y_pred[0], y_pred[1], y_pred[2]))/errF[g]\n",
    "        j+=1\n",
    "    \n",
    "    \n",
    "    \n",
    "    return (((pErr(y_pred[0], y_true[0]) + pErr(y_pred[1], y_true[1]) +pErr(y_pred[2], y_true[2]))/errF[g])**2)*((tot/errF[g])**2)"
   ]
  },
  {
   "cell_type": "code",
   "execution_count": 597,
   "metadata": {},
   "outputs": [],
   "source": [
    "x_data = pd.read_csv('data.csv')\n",
    "y_data = pd.read_csv('data.csv')\n",
    "#,'dvcs'\n",
    "#k,QQ,x_b,t,phi_x,F,errF,F1,F2,dvcs\n",
    "x_data = x_data.drop(columns=['#Set','index','F','errF','ReH','ReE','ReHtilde','phi_x', 'F1', 'F2', 'dvcs'])\n",
    "y_data = y_data.drop(columns=['#Set','index','k','QQ','x_b','phi_x','F','errF','F1','F2','dvcs'])\n",
    "\n",
    "\n",
    "x_group_1 = x_data[x_data['t'] < tmean]\n",
    "x_group_2 = x_data[x_data['t'] > tmean]\n",
    "\n",
    "\n",
    "y_group_1 = y_data[y_data['t'] < tmean]\n",
    "y_group_1 = y_group_1.drop(columns=['t'])\n",
    "\n",
    "y_group_2 = y_data[y_data['t'] > tmean]\n",
    "y_group_2 = y_group_2.drop(columns=['t'])\n",
    "\n",
    "\n",
    "\n",
    "x1 = pd.DataFrame(x_group_1.loc[0:36*g+36:36]).to_numpy()\n",
    "y1 = pd.DataFrame(y_group_1.loc[0:36*g+36:36]).to_numpy()\n",
    "x2 = pd.DataFrame(x_group_2.loc[0:36*g+36:36]).to_numpy()\n",
    "y2 = pd.DataFrame(y_group_2.loc[0:36*g+36:36]).to_numpy()\n",
    "\n",
    "\n",
    "\n",
    "x = pd.DataFrame(x_data.loc[0:36*g+36:36]).to_numpy()\n",
    "y = pd.DataFrame(y_data.loc[0:36*g+36:36]).to_numpy()\n",
    "\n",
    "x_train, x_test, y_train, y_test = train_test_split(x, y, test_size=0.1)\n",
    "\n",
    "iters = x_test.ndim\n",
    "\n",
    "x_train, x_test, y_train,y_test = x_train / 255.0, x_test / 255.0,y_train / 255.0, y_test / 255.0\n",
    "\n",
    "x = x/255.0\n",
    "y = y/255.0\n",
    "\n",
    "x1 = x1/255.0\n",
    "y1 = y1/255.0\n",
    "x2 = x2/255.0\n",
    "y2 = y2/255.0"
   ]
  },
  {
   "cell_type": "code",
   "execution_count": 598,
   "metadata": {},
   "outputs": [
    {
     "data": {
      "image/png": "[encoded data removed]",
      "text/plain": [
       "<Figure size 432x288 with 1 Axes>"
      ]
     },
     "metadata": {
      "needs_background": "light"
     },
     "output_type": "display_data"
    }
   ],
   "source": [
    "X = np.array((np.linspace(0,.09,15).transpose(),t[0: 36*g+36: 36].transpose())).T\n",
    "\n",
    "# gaussian mixture clustering\n",
    "from numpy import unique\n",
    "from numpy import where\n",
    "from sklearn.datasets import make_classification\n",
    "from sklearn.mixture import GaussianMixture\n",
    "from matplotlib import pyplot\n",
    "\n",
    "# define the model\n",
    "model = GaussianMixture(n_components=2)\n",
    "# fit the model\n",
    "model.fit(X)\n",
    "# assign a cluster to each example\n",
    "yhat = model.predict(X)\n",
    "# retrieve unique clusters\n",
    "clusters = unique(yhat)\n",
    "# create scatter plot for samples from each cluster\n",
    "for cluster in clusters:\n",
    "\t# get row indexes for samples with this cluster\n",
    "\trow_ix = where(yhat == cluster)\n",
    "\t# create scatter of these samples\n",
    "\tpyplot.scatter(X[row_ix, 0], X[row_ix, 1])\n",
    "# show the plot\n",
    "pyplot.show()"
   ]
  },
  {
   "cell_type": "code",
   "execution_count": 599,
   "metadata": {},
   "outputs": [
    {
     "name": "stdout",
     "output_type": "stream",
     "text": [
      "WARNING:tensorflow:11 out of the last 11 calls to <function Model.make_predict_function.<locals>.predict_function at 0x000001D76B761A68> triggered tf.function retracing. Tracing is expensive and the excessive number of tracings could be due to (1) creating @tf.function repeatedly in a loop, (2) passing tensors with different shapes, (3) passing Python objects instead of tensors. For (1), please define your @tf.function outside of the loop. For (2), @tf.function has experimental_relax_shapes=True option that relaxes argument shapes that can avoid unnecessary retracing. For (3), please refer to https://www.tensorflow.org/tutorials/customization/performance#python_or_tensor_args and https://www.tensorflow.org/api_docs/python/tf/function for  more details.\n"
     ]
    }
   ],
   "source": [
    "model = tf.keras.models.Sequential()\n",
    "model.add(tf.keras.Input(shape=(4,)))\n",
    "\n",
    "\n",
    "model.add(tf.keras.layers.Dense(128, activation='tanh'))\n",
    "model.add(tf.keras.layers.Dense(32, activation='tanh'))\n",
    "\n",
    "model.add(tf.keras.layers.Dense(100, activation='relu'))\n",
    "model.add(tf.keras.layers.Dense(500, activation='relu'))\n",
    "\n",
    "model.add(tf.keras.layers.Dense(3))\n",
    "\n",
    "model.compile(optimizer='adam', loss=los)\n",
    "\n",
    "model.fit(x1[:6], y1[:6], epochs=1000, verbose=0)\n",
    "\n",
    "arr1 = model.predict(x1[:6])*255.0"
   ]
  },
  {
   "cell_type": "code",
   "execution_count": 600,
   "metadata": {},
   "outputs": [
    {
     "name": "stdout",
     "output_type": "stream",
     "text": [
      "\n",
      "WARNING:tensorflow:11 out of the last 11 calls to <function Model.make_predict_function.<locals>.predict_function at 0x000001D775E8CC18> triggered tf.function retracing. Tracing is expensive and the excessive number of tracings could be due to (1) creating @tf.function repeatedly in a loop, (2) passing tensors with different shapes, (3) passing Python objects instead of tensors. For (1), please define your @tf.function outside of the loop. For (2), @tf.function has experimental_relax_shapes=True option that relaxes argument shapes that can avoid unnecessary retracing. For (3), please refer to https://www.tensorflow.org/tutorials/customization/performance#python_or_tensor_args and https://www.tensorflow.org/api_docs/python/tf/function for  more details.\n"
     ]
    }
   ],
   "source": [
    "model = tf.keras.models.Sequential()\n",
    "model.add(tf.keras.Input(shape=(4,)))\n",
    "\n",
    "\n",
    "model.add(tf.keras.layers.Dense(128, activation='tanh'))\n",
    "model.add(tf.keras.layers.Dense(32, activation='tanh'))\n",
    "\n",
    "model.add(tf.keras.layers.Dense(100, activation='relu'))\n",
    "model.add(tf.keras.layers.Dense(500, activation='relu'))\n",
    "\n",
    "model.add(tf.keras.layers.Dense(3))\n",
    "\n",
    "\n",
    "model.compile(optimizer='adam', loss=los)\n",
    "print()\n",
    "model.fit(x2[:5], y2[:5], epochs=1000, verbose=0)\n",
    "\n",
    "arr2 = model.predict(x2[5:])*255.0"
   ]
  },
  {
   "cell_type": "code",
   "execution_count": 601,
   "metadata": {},
   "outputs": [],
   "source": [
    "def graph_fit(reh, ree, reht, g):\n",
    "    curve_fit_points = []\n",
    "    data2 = pd.read_csv('data.csv')\n",
    "    dvcs = np.array(data['dvcs'])[g:g+36]\n",
    "\n",
    "    phi = np.array(data2['phi_x'])[g:g+36]\n",
    "    F1 = np.array(data2['F1'])[g:g+36]\n",
    "    F2 = np.array(data2['F2'])[g:g+36]\n",
    "\n",
    "    q2 = np.array(data2['QQ'])[g:g+36]\n",
    "    xb = np.array(data2['x_b'])[g:g+36]\n",
    "    k = np.array(data2['k'])[g:g+36]\n",
    "    t = np.array(data2['t'])[g:g+36]\n",
    "\n",
    "    F = np.array(data2['F'])[g:g+36]\n",
    "    errF = np.array(data2['errF'])[g:g+36]\n",
    "\n",
    "    for p in range(0, 36):\n",
    "                  \n",
    "        pars = [q2[p], xb[p], t[p], k[p], reh, ree, reh, ree, reht, dvcs[p]]\n",
    "        angle = [phi[p]]\n",
    "        curve_fit_points.append(func.TotalUUXS(angle, pars)) \n",
    "      \n",
    "    plt.plot(phi, curve_fit_points, 'r--', alpha=0.5, label='Curve Fit') # plot the raw data\n",
    "    plt.errorbar(phi, F, errF,  None, 'bo', label='t={0} x_b={1} Q={2}'.format(t[0],xb[0], q2[0]), alpha=0.8) # plot the raw data\n",
    "    plt.xlabel('X value')\n",
    "    plt.ylabel('Observables')\n",
    "    plt.legend()\n",
    "    plt.show()"
   ]
  },
  {
   "cell_type": "code",
   "execution_count": 602,
   "metadata": {},
   "outputs": [
    {
     "name": "stdout",
     "output_type": "stream",
     "text": [
      "Errors Set  0 :\n",
      "Set 1\n",
      "Real  ReH 13.0554 ReE -53.0554 ReHT 7.253019999999999\n",
      "Predicted ReH 12.459748 ReE -52.036304 ReHT 6.901975\n",
      " \n",
      "Chi  ReH 0.06306624460049916 ReE 0.08157402621155244 ReHT 0.062496882532626315\n",
      "ML  ReH 0.04562493158942347 ReE 0.019208139531942944 ReHT 0.04839981761022173\n",
      " \n"
     ]
    },
    {
     "data": {
      "image/png": "[encoded data removed]",
      "text/plain": [
       "<Figure size 432x288 with 1 Axes>"
      ]
     },
     "metadata": {
      "needs_background": "light"
     },
     "output_type": "display_data"
    },
    {
     "name": "stdout",
     "output_type": "stream",
     "text": [
      "Errors Set  1 :\n",
      "Set 1\n",
      "Real  ReH 12.5549 ReE -52.5549 ReHT 6.974939999999999\n",
      "Predicted ReH 12.474433 ReE -52.115124 ReHT 6.917629\n",
      " \n",
      "Chi  ReH 0.06651456236466628 ReE 0.09149851077187778 ReHT 0.07356328618281023\n",
      "ML  ReH 0.006409215107132283 ReE 0.00836794002501587 ReHT 0.008216735182495919\n",
      " \n"
     ]
    },
    {
     "data": {
      "image/png": "[encoded data removed]",
      "text/plain": [
       "<Figure size 432x288 with 1 Axes>"
      ]
     },
     "metadata": {
      "needs_background": "light"
     },
     "output_type": "display_data"
    },
    {
     "name": "stdout",
     "output_type": "stream",
     "text": [
      "Errors Set  2 :\n",
      "Set 1\n",
      "Real  ReH 12.5549 ReE -52.5549 ReHT 6.974939999999999\n",
      "Predicted ReH 12.500717 ReE -52.279346 ReHT 6.952165\n",
      " \n",
      "Chi  ReH 0.06651456236466628 ReE 0.09149851077187778 ReHT 0.07356328618281023\n",
      "ML  ReH 0.004315672519419705 ReE 0.005243155898604133 ReHT 0.0032652428837326407\n",
      " \n"
     ]
    },
    {
     "data": {
      "image/png": "[encoded data removed]",
      "text/plain": [
       "<Figure size 432x288 with 1 Axes>"
      ]
     },
     "metadata": {
      "needs_background": "light"
     },
     "output_type": "display_data"
    },
    {
     "name": "stdout",
     "output_type": "stream",
     "text": [
      "Errors Set  3 :\n",
      "Set 1\n",
      "Real  ReH 11.7411 ReE -51.7411 ReHT 6.52283\n",
      "Predicted ReH 12.556221 ReE -52.59533 ReHT 7.019737\n",
      " \n",
      "Chi  ReH 0.133712546061349 ReE 0.17175076477240778 ReHT 0.06574362138474582\n",
      "ML  ReH 0.06942458613765165 ReE 0.016509685427406176 ReHT 0.07617962859911812\n",
      " \n"
     ]
    },
    {
     "data": {
      "image/png": "[encoded data removed]",
      "text/plain": [
       "<Figure size 432x288 with 1 Axes>"
      ]
     },
     "metadata": {
      "needs_background": "light"
     },
     "output_type": "display_data"
    },
    {
     "name": "stdout",
     "output_type": "stream",
     "text": [
      "Errors Set  4 :\n",
      "Set 1\n",
      "Real  ReH 12.5549 ReE -52.5549 ReHT 6.974939999999999\n",
      "Predicted ReH 12.526997 ReE -52.443542 ReHT 6.9866996\n",
      " \n",
      "Chi  ReH 0.06651456236466628 ReE 0.09149851077187778 ReHT 0.07356328618281023\n",
      "ML  ReH 0.0022225097333448953 ReE 0.0021188798671723 ReHT 0.0016859759576771964\n",
      " \n"
     ]
    },
    {
     "data": {
      "image/png": "[encoded data removed]",
      "text/plain": [
       "<Figure size 432x288 with 1 Axes>"
      ]
     },
     "metadata": {
      "needs_background": "light"
     },
     "output_type": "display_data"
    },
    {
     "name": "stdout",
     "output_type": "stream",
     "text": [
      "Errors Set  5 :\n",
      "Set 1\n",
      "Real  ReH 11.7411 ReE -51.7411 ReHT 6.52283\n",
      "Predicted ReH 12.582498 ReE -52.759518 ReHT 7.0542684\n",
      " \n",
      "Chi  ReH 0.133712546061349 ReE 0.17175076477240778 ReHT 0.06574362138474582\n",
      "ML  ReH 0.07166258670318142 ReE 0.01968295358385754 ReHT 0.08147358740576399\n",
      " \n"
     ]
    },
    {
     "data": {
      "image/png": "[encoded data removed]",
      "text/plain": [
       "<Figure size 432x288 with 1 Axes>"
      ]
     },
     "metadata": {
      "needs_background": "light"
     },
     "output_type": "display_data"
    },
    {
     "name": "stdout",
     "output_type": "stream",
     "text": [
      "Errors Set  6 :\n",
      "Set 1\n",
      "Set 2\n",
      "Real  ReH 7.224239999999999 ReE -47.2242 ReHT 4.01347\n",
      "Predicted ReH 7.5451746 ReE -47.74951 ReHT 4.0343046\n",
      " \n",
      "Chi  ReH 0.09459516432642315 ReE 0.08530219227052974 ReHT 0.11741215571979306\n",
      "ML  ReH 0.0444246867066776 ReE 0.011123782271589496 ReHT 0.005191173432328969\n",
      " \n"
     ]
    },
    {
     "data": {
      "image/png": "[encoded data removed]",
      "text/plain": [
       "<Figure size 432x288 with 1 Axes>"
      ]
     },
     "metadata": {
      "needs_background": "light"
     },
     "output_type": "display_data"
    },
    {
     "name": "stdout",
     "output_type": "stream",
     "text": [
      "Errors Set  7 :\n",
      "Set 1\n",
      "Set 2\n",
      "Real  ReH 7.6527199999999995 ReE -47.6527 ReHT 4.25151\n",
      "Predicted ReH 7.641975 ReE -48.01407 ReHT 3.983557\n",
      " \n",
      "Chi  ReH 0.17371803363555113 ReE 0.14339344015608185 ReHT 0.06222013051317005\n",
      "ML  ReH 0.0014040856068334496 ReE 0.007583381498123339 ReHT 0.06302537548891973\n",
      " \n"
     ]
    },
    {
     "data": {
      "image/png": "[encoded data removed]",
      "text/plain": [
       "<Figure size 432x288 with 1 Axes>"
      ]
     },
     "metadata": {
      "needs_background": "light"
     },
     "output_type": "display_data"
    },
    {
     "name": "stdout",
     "output_type": "stream",
     "text": [
      "Errors Set  8 :\n",
      "Set 1\n",
      "Set 2\n",
      "Real  ReH 7.224239999999999 ReE -47.2242 ReHT 4.01347\n",
      "Predicted ReH 7.6451077 ReE -48.074303 ReHT 3.9843245\n",
      " \n",
      "Chi  ReH 0.09459516432642315 ReE 0.08530219227052974 ReHT 0.11741215571979306\n",
      "ML  ReH 0.058257719306704724 ReE 0.018001420317122162 ReHT 0.007261931629928566\n",
      " \n"
     ]
    },
    {
     "data": {
      "image/png": "[encoded data removed]",
      "text/plain": [
       "<Figure size 432x288 with 1 Axes>"
      ]
     },
     "metadata": {
      "needs_background": "light"
     },
     "output_type": "display_data"
    }
   ],
   "source": [
    "p, d = 0, 0\n",
    "for i in range(0, 9):#iters):\n",
    "    \n",
    "    print(\"Errors Set \", i,\":\" )\n",
    "    try:\n",
    "        print(\"Set 1\")\n",
    "        \n",
    "        a = np.where(reh == y1[p][0]*255)\n",
    "        b = np.where(ree == y1[p][1]*255)\n",
    "        c = np.where(reht == y1[p][2]*255)\n",
    "        g = (a and b and c)[0][0]\n",
    "        \n",
    "        params_fit = chi_fit(g)\n",
    "        \n",
    "        \n",
    "        reh_chi = (params_fit[0] - y1[p][0]*255)/ (y1[p][0]*255)\n",
    "        ree_chi = (params_fit[1] - y1[p][1]*255)/ (y1[p][1]*255)\n",
    "        reht_chi = (params_fit[2] - y1[p][2]*255)/ (y1[p][2]*255)\n",
    "        \n",
    "        reh_ml = (arr1[p][0] - y1[p][0]*255)/ (y1[p][0]*255)\n",
    "        ree_ml = (arr1[p][1] - y1[p][1]*255)/ (y1[p][1]*255)\n",
    "        reht_ml = (arr1[p][2] - y1[p][2]*255)/ (y1[p][2]*255)\n",
    "        \n",
    "        print(\"Real  ReH\", (y1[p][0]*255), \"ReE\", (y1[p][1]*255), \"ReHT\", (y1[p][2]*255))\n",
    "        print(\"Predicted ReH\", arr1[p][0], \"ReE\", arr1[p][1], \"ReHT\", arr1[p][2] )\n",
    "        \n",
    "        p = p+1\n",
    "        \n",
    "        \n",
    "    except:\n",
    "        print(\"Set 2\")\n",
    "        a = np.where(reh == y2[d][0]*255)\n",
    "        b = np.where(ree == y2[d][1]*255)\n",
    "        c = np.where(reht == y2[d][2]*255)\n",
    "        g = (a and b and c)[0][0]\n",
    "        \n",
    "        params_fit = chi_fit(g)\n",
    "        \n",
    "        reh_chi = (params_fit[0] - y2[d][0]*255)/ (y2[d][0]*255)\n",
    "        ree_chi = (params_fit[1] - y2[d][1]*255)/ (y2[d][1]*255)\n",
    "        reht_chi = (params_fit[2] - y2[d][2]*255)/ (y2[d][2]*255)\n",
    "        \n",
    "        reh_ml = (arr2[d][0] - y2[d][0]*255)/ (y2[d][0]*255)\n",
    "        ree_ml = (arr2[d][1] - y2[d][1]*255)/ (y2[d][1]*255)\n",
    "        reht_ml = (arr2[d][2] - y2[d][2]*255)/ (y2[d][2]*255)\n",
    "        \n",
    "        print(\"Real  ReH\", (y2[d][0]*255), \"ReE\", (y2[d][1]*255), \"ReHT\", (y2[d][2]*255))\n",
    "        print(\"Predicted ReH\", arr2[d][0], \"ReE\", arr2[d][1], \"ReHT\", arr2[d][2] )\n",
    "        \n",
    "        d=d+1\n",
    "        \n",
    "\n",
    "    print(\" \")\n",
    "    print(\"Chi  ReH\", abs(reh_chi), \"ReE\", abs(ree_chi), \"ReHT\", abs(reht_chi))\n",
    "    print(\"ML  ReH\", abs(reh_ml), \"ReE\", abs(ree_ml), \"ReHT\", abs(reht_ml))\n",
    "    print(\" \")\n",
    "        \n",
    "    if abs(reh_ml) > 0.1:\n",
    "        print(\"ERROR Greater than 10%\")\n",
    "    \n",
    "    data1 = pd.read_csv('data.csv')\n",
    "    phi = np.array(data1['phi_x'])[g:g+36]\n",
    "    F = np.array(data1['F'])[g:g+36]\n",
    "    errF = np.array(data1['errF'])[g:g+36]\n",
    "    \n",
    "    plt.scatter(phi, F)#, errF)\n",
    "    plt.show()"
   ]
  },
  {
   "cell_type": "code",
   "execution_count": null,
   "metadata": {},
   "outputs": [],
   "source": []
  }
 ],
 "metadata": {
  "kernelspec": {
   "display_name": "Python 3",
   "language": "python",
   "name": "python3"
  },
  "language_info": {
   "codemirror_mode": {
    "name": "ipython",
    "version": 3
   },
   "file_extension": ".py",
   "mimetype": "text/x-python",
   "name": "python",
   "nbconvert_exporter": "python",
   "pygments_lexer": "ipython3",
   "version": "3.7.6"
  }
 },
 "nbformat": 4,
 "nbformat_minor": 4
}
